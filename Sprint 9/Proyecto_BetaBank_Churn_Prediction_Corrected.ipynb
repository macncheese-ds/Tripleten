{
 "cells": [
  {
   "cell_type": "markdown",
   "id": "9814ac9c",
   "metadata": {},
   "source": [
    "# Proyecto de Predicción de Rotación de Clientes de Beta Bank"
   ]
  },
  {
   "cell_type": "markdown",
   "id": "95416a61",
   "metadata": {},
   "source": [
    "### Índice del proyecto\n",
    "1. **Carga de librerías**\n",
    "2. **Carga de los datos**\n",
    "3. **Preparación de los datos**\n",
    "4. **Investigación inicial del equilibrio de clases**\n",
    "5. **Entrenamiento del modelo inicial**\n",
    "6. **Corrección del desequilibrio de clases**\n",
    "7. **Optimización del modelo**\n",
    "8. **Evaluación del modelo en el conjunto de prueba**\n",
    "9. **Conclusiones**"
   ]
  },
  {
   "cell_type": "markdown",
   "id": "d99100d1",
   "metadata": {},
   "source": [
    "## 1. Carga de librerías"
   ]
  },
  {
   "cell_type": "code",
   "execution_count": 1,
   "id": "f675c6da",
   "metadata": {},
   "outputs": [],
   "source": [
    "\n",
    "import pandas as pd\n",
    "import numpy as np\n",
    "import matplotlib.pyplot as plt\n",
    "import seaborn as sns\n",
    "from sklearn.model_selection import train_test_split\n",
    "from sklearn.preprocessing import StandardScaler\n",
    "from sklearn.linear_model import LogisticRegression\n",
    "from sklearn.ensemble import RandomForestClassifier\n",
    "from sklearn.metrics import f1_score, roc_auc_score, confusion_matrix, classification_report\n",
    "from sklearn.utils import resample\n"
   ]
  },
  {
   "cell_type": "markdown",
   "id": "fc8da974",
   "metadata": {},
   "source": [
    "## 2. Carga de los datos"
   ]
  },
  {
   "cell_type": "code",
   "execution_count": 2,
   "id": "100c18bc",
   "metadata": {},
   "outputs": [
    {
     "data": {
      "text/html": [
       "<div>\n",
       "<style scoped>\n",
       "    .dataframe tbody tr th:only-of-type {\n",
       "        vertical-align: middle;\n",
       "    }\n",
       "\n",
       "    .dataframe tbody tr th {\n",
       "        vertical-align: top;\n",
       "    }\n",
       "\n",
       "    .dataframe thead th {\n",
       "        text-align: right;\n",
       "    }\n",
       "</style>\n",
       "<table border=\"1\" class=\"dataframe\">\n",
       "  <thead>\n",
       "    <tr style=\"text-align: right;\">\n",
       "      <th></th>\n",
       "      <th>RowNumber</th>\n",
       "      <th>CustomerId</th>\n",
       "      <th>Surname</th>\n",
       "      <th>CreditScore</th>\n",
       "      <th>Geography</th>\n",
       "      <th>Gender</th>\n",
       "      <th>Age</th>\n",
       "      <th>Tenure</th>\n",
       "      <th>Balance</th>\n",
       "      <th>NumOfProducts</th>\n",
       "      <th>HasCrCard</th>\n",
       "      <th>IsActiveMember</th>\n",
       "      <th>EstimatedSalary</th>\n",
       "      <th>Exited</th>\n",
       "    </tr>\n",
       "  </thead>\n",
       "  <tbody>\n",
       "    <tr>\n",
       "      <th>0</th>\n",
       "      <td>1</td>\n",
       "      <td>15634602</td>\n",
       "      <td>Hargrave</td>\n",
       "      <td>619</td>\n",
       "      <td>France</td>\n",
       "      <td>Female</td>\n",
       "      <td>42</td>\n",
       "      <td>2.0</td>\n",
       "      <td>0.00</td>\n",
       "      <td>1</td>\n",
       "      <td>1</td>\n",
       "      <td>1</td>\n",
       "      <td>101348.88</td>\n",
       "      <td>1</td>\n",
       "    </tr>\n",
       "    <tr>\n",
       "      <th>1</th>\n",
       "      <td>2</td>\n",
       "      <td>15647311</td>\n",
       "      <td>Hill</td>\n",
       "      <td>608</td>\n",
       "      <td>Spain</td>\n",
       "      <td>Female</td>\n",
       "      <td>41</td>\n",
       "      <td>1.0</td>\n",
       "      <td>83807.86</td>\n",
       "      <td>1</td>\n",
       "      <td>0</td>\n",
       "      <td>1</td>\n",
       "      <td>112542.58</td>\n",
       "      <td>0</td>\n",
       "    </tr>\n",
       "    <tr>\n",
       "      <th>2</th>\n",
       "      <td>3</td>\n",
       "      <td>15619304</td>\n",
       "      <td>Onio</td>\n",
       "      <td>502</td>\n",
       "      <td>France</td>\n",
       "      <td>Female</td>\n",
       "      <td>42</td>\n",
       "      <td>8.0</td>\n",
       "      <td>159660.80</td>\n",
       "      <td>3</td>\n",
       "      <td>1</td>\n",
       "      <td>0</td>\n",
       "      <td>113931.57</td>\n",
       "      <td>1</td>\n",
       "    </tr>\n",
       "    <tr>\n",
       "      <th>3</th>\n",
       "      <td>4</td>\n",
       "      <td>15701354</td>\n",
       "      <td>Boni</td>\n",
       "      <td>699</td>\n",
       "      <td>France</td>\n",
       "      <td>Female</td>\n",
       "      <td>39</td>\n",
       "      <td>1.0</td>\n",
       "      <td>0.00</td>\n",
       "      <td>2</td>\n",
       "      <td>0</td>\n",
       "      <td>0</td>\n",
       "      <td>93826.63</td>\n",
       "      <td>0</td>\n",
       "    </tr>\n",
       "    <tr>\n",
       "      <th>4</th>\n",
       "      <td>5</td>\n",
       "      <td>15737888</td>\n",
       "      <td>Mitchell</td>\n",
       "      <td>850</td>\n",
       "      <td>Spain</td>\n",
       "      <td>Female</td>\n",
       "      <td>43</td>\n",
       "      <td>2.0</td>\n",
       "      <td>125510.82</td>\n",
       "      <td>1</td>\n",
       "      <td>1</td>\n",
       "      <td>1</td>\n",
       "      <td>79084.10</td>\n",
       "      <td>0</td>\n",
       "    </tr>\n",
       "  </tbody>\n",
       "</table>\n",
       "</div>"
      ],
      "text/plain": [
       "   RowNumber  CustomerId   Surname  CreditScore Geography  Gender  Age  \\\n",
       "0          1    15634602  Hargrave          619    France  Female   42   \n",
       "1          2    15647311      Hill          608     Spain  Female   41   \n",
       "2          3    15619304      Onio          502    France  Female   42   \n",
       "3          4    15701354      Boni          699    France  Female   39   \n",
       "4          5    15737888  Mitchell          850     Spain  Female   43   \n",
       "\n",
       "   Tenure    Balance  NumOfProducts  HasCrCard  IsActiveMember  \\\n",
       "0     2.0       0.00              1          1               1   \n",
       "1     1.0   83807.86              1          0               1   \n",
       "2     8.0  159660.80              3          1               0   \n",
       "3     1.0       0.00              2          0               0   \n",
       "4     2.0  125510.82              1          1               1   \n",
       "\n",
       "   EstimatedSalary  Exited  \n",
       "0        101348.88       1  \n",
       "1        112542.58       0  \n",
       "2        113931.57       1  \n",
       "3         93826.63       0  \n",
       "4         79084.10       0  "
      ]
     },
     "execution_count": 2,
     "metadata": {},
     "output_type": "execute_result"
    }
   ],
   "source": [
    "data = pd.read_csv(\"/datasets/Churn.csv\")\n",
    "data.head()\n"
   ]
  },
  {
   "cell_type": "markdown",
   "id": "557fe72b",
   "metadata": {},
   "source": [
    "## 3. Preparación de los datos"
   ]
  },
  {
   "cell_type": "code",
   "execution_count": 3,
   "id": "7d501ca7",
   "metadata": {},
   "outputs": [
    {
     "data": {
      "text/plain": [
       "((7272, 11), (1819, 11), (7272,), (1819,))"
      ]
     },
     "execution_count": 3,
     "metadata": {},
     "output_type": "execute_result"
    }
   ],
   "source": [
    "\n",
    "# Sección 3: Preparación de los datos\n",
    "\n",
    "# Eliminar filas con valores nulos\n",
    "data_cleaned = data.dropna()\n",
    "\n",
    "# Eliminación de columnas irrelevantes\n",
    "data_cleaned = data_cleaned.drop(columns=['RowNumber', 'CustomerId', 'Surname'])\n",
    "\n",
    "# Convertir variables categóricas a numéricas\n",
    "data_cleaned = pd.get_dummies(data_cleaned, drop_first=True)\n",
    "\n",
    "# Separar las características (features) y el objetivo (target)\n",
    "X = data_cleaned.drop(columns='Exited')\n",
    "y = data_cleaned['Exited']\n",
    "\n",
    "# Escalado de características\n",
    "scaler = StandardScaler()\n",
    "X_scaled = scaler.fit_transform(X)\n",
    "\n",
    "# Separar los datos en conjuntos de entrenamiento y prueba\n",
    "X_train, X_test, y_train, y_test = train_test_split(X_scaled, y, test_size=0.2, random_state=42)\n",
    "\n",
    "# Verificar la estructura de los datos\n",
    "X_train.shape, X_test.shape, y_train.shape, y_test.shape\n"
   ]
  },
  {
   "cell_type": "markdown",
   "id": "f3ed134d",
   "metadata": {},
   "source": [
    "## 4. Investigación inicial del equilibrio de clases"
   ]
  },
  {
   "cell_type": "code",
   "execution_count": 4,
   "id": "73ce3fe3",
   "metadata": {},
   "outputs": [
    {
     "name": "stderr",
     "output_type": "stream",
     "text": [
      "C:\\Users\\mm131\\AppData\\Local\\Temp\\ipykernel_32808\\385692015.py:6: FutureWarning: \n",
      "\n",
      "Passing `palette` without assigning `hue` is deprecated and will be removed in v0.14.0. Assign the `x` variable to `hue` and set `legend=False` for the same effect.\n",
      "\n",
      "  sns.barplot(x=class_distribution.index, y=class_distribution.values, palette='viridis')\n"
     ]
    },
    {
     "data": {
      "image/png": "[encoded data removed]",
      "text/plain": [
       "<Figure size 600x400 with 1 Axes>"
      ]
     },
     "metadata": {},
     "output_type": "display_data"
    },
    {
     "data": {
      "text/plain": [
       "Exited\n",
       "0    0.79648\n",
       "1    0.20352\n",
       "Name: proportion, dtype: float64"
      ]
     },
     "execution_count": 4,
     "metadata": {},
     "output_type": "execute_result"
    }
   ],
   "source": [
    "\n",
    "# Verificar el equilibrio de clases en el conjunto de entrenamiento\n",
    "class_distribution = y_train.value_counts(normalize=True)\n",
    "\n",
    "# Visualizar el equilibrio de clases\n",
    "plt.figure(figsize=(6, 4))\n",
    "sns.barplot(x=class_distribution.index, y=class_distribution.values, palette='viridis')\n",
    "plt.title('Distribución de Clases en el Conjunto de Entrenamiento')\n",
    "plt.xlabel('Clase')\n",
    "plt.ylabel('Proporción')\n",
    "plt.xticks([0, 1], labels=['No Exited', 'Exited'])\n",
    "plt.show()\n",
    "\n",
    "class_distribution\n"
   ]
  },
  {
   "cell_type": "markdown",
   "id": "3dc6a8d2",
   "metadata": {},
   "source": [
    "## 5. Entrenamiento del modelo inicial"
   ]
  },
  {
   "cell_type": "code",
   "execution_count": 5,
   "id": "d1f41888",
   "metadata": {},
   "outputs": [
    {
     "name": "stdout",
     "output_type": "stream",
     "text": [
      "F1 inicial: 0.3189\n",
      "AUC-ROC inicial: 0.7457\n"
     ]
    }
   ],
   "source": [
    "\n",
    "# Entrenar un modelo de regresión logística\n",
    "log_reg = LogisticRegression(random_state=42)\n",
    "log_reg.fit(X_train, y_train)\n",
    "\n",
    "# Predicción en el conjunto de prueba\n",
    "y_pred_initial = log_reg.predict(X_test)\n",
    "\n",
    "# Evaluación del modelo\n",
    "f1_initial = f1_score(y_test, y_pred_initial)\n",
    "auc_roc_initial = roc_auc_score(y_test, log_reg.predict_proba(X_test)[:, 1])\n",
    "\n",
    "print(f'F1 inicial: {f1_initial:.4f}')\n",
    "print(f'AUC-ROC inicial: {auc_roc_initial:.4f}')\n"
   ]
  },
  {
   "cell_type": "markdown",
   "id": "2370af86",
   "metadata": {},
   "source": [
    "## 6. Corrección del desequilibrio de clases"
   ]
  },
  {
   "cell_type": "code",
   "execution_count": 6,
   "id": "660d94c5",
   "metadata": {},
   "outputs": [],
   "source": [
    "\n",
    "# Unir X_train y y_train para realizar resampling\n",
    "train_data = pd.DataFrame(X_train, columns=X.columns)\n",
    "train_data['Exited'] = y_train.values\n",
    "\n",
    "# Submuestreo de la clase mayoritaria\n",
    "train_majority = train_data[train_data.Exited == 0]\n",
    "train_minority = train_data[train_data.Exited == 1]\n",
    "\n",
    "# Submuestreo\n",
    "train_majority_downsampled = resample(train_majority, replace=False, n_samples=len(train_minority), random_state=42)\n",
    "train_downsampled = pd.concat([train_majority_downsampled, train_minority])\n",
    "\n",
    "# Sobremuestreo\n",
    "train_minority_upsampled = resample(train_minority, replace=True, n_samples=len(train_majority), random_state=42)\n",
    "train_upsampled = pd.concat([train_majority, train_minority_upsampled])\n",
    "\n",
    "# Separar en X e y después de resampling\n",
    "X_train_down = train_downsampled.drop(columns='Exited')\n",
    "y_train_down = train_downsampled['Exited']\n",
    "\n",
    "X_train_up = train_upsampled.drop(columns='Exited')\n",
    "y_train_up = train_upsampled['Exited']\n"
   ]
  },
  {
   "cell_type": "markdown",
   "id": "9323c0eb",
   "metadata": {},
   "source": [
    "## 7. Optimización del modelo"
   ]
  },
  {
   "cell_type": "code",
   "execution_count": 7,
   "id": "d643b777",
   "metadata": {},
   "outputs": [
    {
     "name": "stderr",
     "output_type": "stream",
     "text": [
      "C:\\Users\\mm131\\AppData\\Local\\Packages\\PythonSoftwareFoundation.Python.3.12_qbz5n2kfra8p0\\LocalCache\\local-packages\\Python312\\site-packages\\sklearn\\base.py:493: UserWarning: X does not have valid feature names, but RandomForestClassifier was fitted with feature names\n",
      "  warnings.warn(\n",
      "C:\\Users\\mm131\\AppData\\Local\\Packages\\PythonSoftwareFoundation.Python.3.12_qbz5n2kfra8p0\\LocalCache\\local-packages\\Python312\\site-packages\\sklearn\\base.py:493: UserWarning: X does not have valid feature names, but RandomForestClassifier was fitted with feature names\n",
      "  warnings.warn(\n"
     ]
    },
    {
     "name": "stdout",
     "output_type": "stream",
     "text": [
      "F1 con submuestreo: 0.5813\n",
      "AUC-ROC con submuestreo: 0.8460\n",
      "F1 con sobremuestreo: 0.5758\n",
      "AUC-ROC con sobremuestreo: 0.8368\n"
     ]
    },
    {
     "name": "stderr",
     "output_type": "stream",
     "text": [
      "C:\\Users\\mm131\\AppData\\Local\\Packages\\PythonSoftwareFoundation.Python.3.12_qbz5n2kfra8p0\\LocalCache\\local-packages\\Python312\\site-packages\\sklearn\\base.py:493: UserWarning: X does not have valid feature names, but RandomForestClassifier was fitted with feature names\n",
      "  warnings.warn(\n",
      "C:\\Users\\mm131\\AppData\\Local\\Packages\\PythonSoftwareFoundation.Python.3.12_qbz5n2kfra8p0\\LocalCache\\local-packages\\Python312\\site-packages\\sklearn\\base.py:493: UserWarning: X does not have valid feature names, but RandomForestClassifier was fitted with feature names\n",
      "  warnings.warn(\n"
     ]
    }
   ],
   "source": [
    "\n",
    "# Entrenar modelo con submuestreo\n",
    "rf_down = RandomForestClassifier(random_state=42)\n",
    "rf_down.fit(X_train_down, y_train_down)\n",
    "\n",
    "# Evaluación con submuestreo\n",
    "y_pred_rf_down = rf_down.predict(X_test)\n",
    "f1_rf_down = f1_score(y_test, y_pred_rf_down)\n",
    "auc_roc_rf_down = roc_auc_score(y_test, rf_down.predict_proba(X_test)[:, 1])\n",
    "\n",
    "# Entrenar modelo con sobremuestreo\n",
    "rf_up = RandomForestClassifier(random_state=42)\n",
    "rf_up.fit(X_train_up, y_train_up)\n",
    "\n",
    "# Evaluación con sobremuestreo\n",
    "y_pred_rf_up = rf_up.predict(X_test)\n",
    "f1_rf_up = f1_score(y_test, y_pred_rf_up)\n",
    "auc_roc_rf_up = roc_auc_score(y_test, rf_up.predict_proba(X_test)[:, 1])\n",
    "\n",
    "print(f'F1 con submuestreo: {f1_rf_down:.4f}')\n",
    "print(f'AUC-ROC con submuestreo: {auc_roc_rf_down:.4f}')\n",
    "print(f'F1 con sobremuestreo: {f1_rf_up:.4f}')\n",
    "print(f'AUC-ROC con sobremuestreo: {auc_roc_rf_up:.4f}')\n"
   ]
  },
  {
   "cell_type": "markdown",
   "id": "b1cb3414",
   "metadata": {},
   "source": [
    "## 8. Evaluación del modelo en el conjunto de prueba"
   ]
  },
  {
   "cell_type": "code",
   "execution_count": 8,
   "id": "e89eb805",
   "metadata": {},
   "outputs": [
    {
     "name": "stdout",
     "output_type": "stream",
     "text": [
      "F1 final: 0.5758\n",
      "AUC-ROC final: 0.8368\n"
     ]
    },
    {
     "name": "stderr",
     "output_type": "stream",
     "text": [
      "C:\\Users\\mm131\\AppData\\Local\\Packages\\PythonSoftwareFoundation.Python.3.12_qbz5n2kfra8p0\\LocalCache\\local-packages\\Python312\\site-packages\\sklearn\\base.py:493: UserWarning: X does not have valid feature names, but RandomForestClassifier was fitted with feature names\n",
      "  warnings.warn(\n",
      "C:\\Users\\mm131\\AppData\\Local\\Packages\\PythonSoftwareFoundation.Python.3.12_qbz5n2kfra8p0\\LocalCache\\local-packages\\Python312\\site-packages\\sklearn\\base.py:493: UserWarning: X does not have valid feature names, but RandomForestClassifier was fitted with feature names\n",
      "  warnings.warn(\n"
     ]
    }
   ],
   "source": [
    "\n",
    "# Selección del mejor modelo (supongamos que es el modelo con sobremuestreo)\n",
    "final_model = rf_up\n",
    "y_pred_final = final_model.predict(X_test)\n",
    "\n",
    "# Evaluar el modelo final\n",
    "f1_final = f1_score(y_test, y_pred_final)\n",
    "auc_roc_final = roc_auc_score(y_test, final_model.predict_proba(X_test)[:, 1])\n",
    "\n",
    "print(f'F1 final: {f1_final:.4f}')\n",
    "print(f'AUC-ROC final: {auc_roc_final:.4f}')\n"
   ]
  }
 ],
 "metadata": {
  "kernelspec": {
   "display_name": "Python 3",
   "language": "python",
   "name": "python3"
  },
  "language_info": {
   "codemirror_mode": {
    "name": "ipython",
    "version": 3
   },
   "file_extension": ".py",
   "mimetype": "text/x-python",
   "name": "python",
   "nbconvert_exporter": "python",
   "pygments_lexer": "ipython3",
   "version": "3.12.7"
  }
 },
 "nbformat": 4,
 "nbformat_minor": 5
}
