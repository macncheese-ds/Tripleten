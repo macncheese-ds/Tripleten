{
 "cells": [
  {
   "cell_type": "markdown",
   "metadata": {},
   "source": [
    "# ¡Hola, Marcelo!  \n",
    "\n",
    "Mi nombre es Francisco Benavides, soy code reviewer de Tripleten y voy a revisar el proyecto que acabas de desarrollar.\n",
    "\n",
    "\n",
    "Cada ves que vea un error por primera vez, lo señalaré. Deberás encontrarlo y arreglarlo, ya que buscamos que te prepares para un trabajo real, en el cual tu líder de equipo hará lo mismo. Si no puedes solucionar el error, te brindaré algunos tips más especificos la proxima vez.\n",
    "\n",
    "Podrás encontrar mis comentarios más abajo - **por favor, no los muevas, no los modifiques ni los borres**.\n",
    "\n",
    "¿Cómo lo voy a hacer? Voy a leer cuidadosamente cada una de tus implementaciones que has llevado a cabo para complir con tu informe. Cada uno de mis comentarios tiene el siguiente código de colores:\n",
    "\n",
    "<div class=\"alert alert-block alert-success\">\n",
    "<b>Comentario del revisor</b> <a class=\"tocSkip\"></a>\n",
    "    \n",
    "Si todo está perfecto.\n",
    "</div>\n",
    "\n",
    "\n",
    "<div class=\"alert alert-block alert-warning\">\n",
    "<b>Comentario del revisor</b> <a class=\"tocSkip\"></a>\n",
    "    \n",
    "Si tu código está bien pero se puede mejorar o hay algún detalle que le hace falta.\n",
    "</div>\n",
    "\n",
    "\n",
    "<div class=\"alert alert-block alert-danger\">\n",
    "    \n",
    "<b>Comentario del revisor</b> <a class=\"tocSkip\"></a>\n",
    "    \n",
    "    \n",
    "Si de pronto hace falta algo o existe algún problema con tu código o conclusiones.\n",
    "</div>\n",
    "\n",
    "\n",
    "Si encuentras que es necesario, puedes responderme de esta forma: \n",
    "\n",
    "<div class=\"alert alert-block alert-info\">\n",
    "<b>Respuesta del estudiante</b> <a class=\"tocSkip\"></a>\n",
    "</div>\n",
    "\n",
    "Mucho éxito!"
   ]
  },
  {
   "cell_type": "markdown",
   "metadata": {
    "id": "3rYiDeEH0q0f"
   },
   "source": [
    "# ¿Cuál es la mejor tarifa?\n",
    "\n",
    "Trabajas como analista para el operador de telecomunicaciones Megaline. La empresa ofrece a sus clientes dos tarifas de prepago, Surf y Ultimate. El departamento comercial quiere saber cuál de las tarifas genera más ingresos para poder ajustar el presupuesto de publicidad.\n",
    "\n",
    "Vas a realizar un análisis preliminar de las tarifas basado en una selección de clientes relativamente pequeña. Tendrás los datos de 500 clientes de Megaline: quiénes son los clientes, de dónde son, qué tarifa usan, así como la cantidad de llamadas que hicieron y los mensajes de texto que enviaron en 2018. Tu trabajo es analizar el comportamiento de los clientes y determinar qué tarifa de prepago genera más ingresos."
   ]
  },
  {
   "cell_type": "markdown",
   "metadata": {
    "id": "VNddPNRQ0q0w"
   },
   "source": [
    "[Te proporcionamos algunos comentarios para orientarte mientras completas este proyecto. Pero debes asegurarte de eliminar todos los comentarios entre corchetes antes de entregar tu proyecto.]\n",
    "\n",
    "[Antes de sumergirte en el análisis de datos, explica por tu propia cuenta el propósito del proyecto y las acciones que planeas realizar.]\n",
    "\n",
    "[Ten en cuenta que estudiar, modificar y analizar datos es un proceso iterativo. Es normal volver a los pasos anteriores y corregirlos/ampliarlos para permitir nuevos pasos.]"
   ]
  },
  {
   "cell_type": "markdown",
   "metadata": {},
   "source": [
    "<div class=\"alert alert-block alert-info\">\n",
    "<b>Respuesta del estudiante</b> <a class=\"tocSkip\"></a>\n",
    "\n",
    "Hola! Intente contactarme con mi tutor pero no me contesto y ya han pasado dias, ya corregí muchas cosas si fuera posible que me ayudaran con comentarios lo apreciaria mucho porque me sigo atrasando ):. Se que aun faltan cosas pero esperaria me pudieran orientar por medio de los comentarios por favor.\n",
    "\n",
    "Actualizacion: Ya no me da errores! Todo lo marcado en comentario rojo se ha solucionado y he hecho las partes que me faltaban, espero que ya sea todo para poder liberar este proyecto!</div>"
   ]
  },
  {
   "cell_type": "markdown",
   "metadata": {},
   "source": [
    "<div class=\"alert alert-block alert-danger\">\n",
    "<b>Comentario del revisor</b> <a class=\"tocSkip\"></a>\n",
    "    \n",
    "Hola Marcelo, ya solo queda el test de hipotesis! tienes que revisar como esta escrita la ciudad NY-NJ revisando los valores de la columna city para hacer el filtro.\n",
    "\n",
    "</div>"
   ]
  },
  {
   "cell_type": "markdown",
   "metadata": {
    "id": "MQi4IPy70q0y"
   },
   "source": [
    "## Inicialización"
   ]
  },
  {
   "cell_type": "code",
   "execution_count": 1,
   "metadata": {
    "id": "MtYIuBxu0q0z"
   },
   "outputs": [],
   "source": [
    "# Cargar todas las librerías\n",
    "import pandas as pd\n",
    "import matplotlib.pyplot as plt\n",
    "import numpy as np\n",
    "import scipy"
   ]
  },
  {
   "cell_type": "markdown",
   "metadata": {
    "id": "4ysWWC5i0q00"
   },
   "source": [
    "## Cargar datos"
   ]
  },
  {
   "cell_type": "code",
   "execution_count": 2,
   "metadata": {
    "id": "CCqPW7rS0q01"
   },
   "outputs": [],
   "source": [
    "# Carga los archivos de datos en diferentes DataFrames\n",
    "calls = pd.read_csv('megaline_calls.csv',sep=',')\n",
    "internet = pd.read_csv('megaline_internet.csv',sep=',')\n",
    "messages = pd.read_csv('megaline_messages.csv',sep=',')\n",
    "plans = pd.read_csv('megaline_plans.csv',sep=',')\n",
    "users = pd.read_csv('megaline_users.csv',sep=',')"
   ]
  },
  {
   "cell_type": "markdown",
   "metadata": {},
   "source": [
    "<div class=\"alert alert-block alert-success\">\n",
    "<b>Comentario del revisor</b> <a class=\"tocSkip\"></a>\n",
    "\n",
    "**Solucionado**\n",
    "Archivos leidos correctamente\n",
    "</div>\n"
   ]
  },
  {
   "cell_type": "markdown",
   "metadata": {
    "id": "69qqoJ3r0q01"
   },
   "source": [
    "## Preparar los datos"
   ]
  },
  {
   "cell_type": "markdown",
   "metadata": {
    "id": "vUuZw80S0q01"
   },
   "source": [
    "[Los datos para este proyecto se dividen en varias tablas. Explora cada una para tener una comprensión inicial de los datos. Si es necesario, haz las correcciones requeridas en cada tabla.]"
   ]
  },
  {
   "cell_type": "markdown",
   "metadata": {
    "id": "ohBhimvH0q01"
   },
   "source": [
    "## Tarifas"
   ]
  },
  {
   "cell_type": "code",
   "execution_count": 3,
   "metadata": {
    "id": "GptqP3Q40q02"
   },
   "outputs": [
    {
     "name": "stdout",
     "output_type": "stream",
     "text": [
      "<class 'pandas.core.frame.DataFrame'>\n",
      "RangeIndex: 2 entries, 0 to 1\n",
      "Data columns (total 8 columns):\n",
      " #   Column                 Non-Null Count  Dtype  \n",
      "---  ------                 --------------  -----  \n",
      " 0   messages_included      2 non-null      int64  \n",
      " 1   mb_per_month_included  2 non-null      int64  \n",
      " 2   minutes_included       2 non-null      int64  \n",
      " 3   usd_monthly_pay        2 non-null      int64  \n",
      " 4   usd_per_gb             2 non-null      int64  \n",
      " 5   usd_per_message        2 non-null      float64\n",
      " 6   usd_per_minute         2 non-null      float64\n",
      " 7   plan_name              2 non-null      object \n",
      "dtypes: float64(2), int64(5), object(1)\n",
      "memory usage: 260.0+ bytes\n",
      "None\n"
     ]
    }
   ],
   "source": [
    "# Imprime la información general/resumida sobre el DataFrame de las tarifas\n",
    "\n",
    "print(plans.info())"
   ]
  },
  {
   "cell_type": "code",
   "execution_count": 4,
   "metadata": {
    "id": "64xzjwL70q02"
   },
   "outputs": [
    {
     "name": "stdout",
     "output_type": "stream",
     "text": [
      "   messages_included  mb_per_month_included  minutes_included  \\\n",
      "0                 50                  15360               500   \n",
      "1               1000                  30720              3000   \n",
      "\n",
      "   usd_monthly_pay  usd_per_gb  usd_per_message  usd_per_minute plan_name  \n",
      "0               20          10             0.03            0.03      surf  \n",
      "1               70           7             0.01            0.01  ultimate  \n"
     ]
    }
   ],
   "source": [
    "# Imprime una muestra de los datos para las tarifas\n",
    "\n",
    "print(plans.head())"
   ]
  },
  {
   "cell_type": "markdown",
   "metadata": {
    "id": "mEc_3_hs0q02"
   },
   "source": [
    "\n",
    "- Tipos de datos no adecuados.\n",
    "- Datos ausentes.\n",
    "- Valores atípicos."
   ]
  },
  {
   "cell_type": "markdown",
   "metadata": {
    "id": "R3C05i1l0q03"
   },
   "source": [
    "## Corregir datos"
   ]
  },
  {
   "cell_type": "markdown",
   "metadata": {
    "id": "bIi8StZI0q03"
   },
   "source": [
    "[Corrige los problemas obvios con los datos basándote en las observaciones iniciales.]"
   ]
  },
  {
   "cell_type": "code",
   "execution_count": 5,
   "metadata": {
    "id": "Y7SVmjGn0q03"
   },
   "outputs": [],
   "source": [
    "\n",
    "# No es necesario corregir los datos en esta sección porque ya se ha realizado anteriormente.\n"
   ]
  },
  {
   "cell_type": "markdown",
   "metadata": {},
   "source": [
    "<div class=\"alert alert-block alert-warning\">\n",
    "<b>Comentario del revisor</b> <a class=\"tocSkip\"></a>\n",
    "    \n",
    "**Solucionado: Intenta si añadir estos comentarios como markdown**\n",
    "    \n",
    "Aca debes indicar si hay o no, problemas a solucionar. Esto aplica para todas las secciones de \"Corregir datos\"\n",
    "</div>"
   ]
  },
  {
   "cell_type": "markdown",
   "metadata": {
    "id": "LJir7bml0q03"
   },
   "source": [
    "## Enriquecer los datos"
   ]
  },
  {
   "cell_type": "markdown",
   "metadata": {
    "id": "eqADpCfg0q04"
   },
   "source": [
    "[Agrega factores adicionales a los datos si crees que pudieran ser útiles.]"
   ]
  },
  {
   "cell_type": "code",
   "execution_count": 6,
   "metadata": {
    "id": "gfcIEuXV0q04"
   },
   "outputs": [],
   "source": [
    "# Enriquecer datos\n",
    "# Se agregaron pasos para asegurar que los valores faltantes sean manejados correctamente.\n",
    "calls['duration'] = calls['duration'].apply(np.ceil)\n",
    "calls['call_date'] = pd.to_datetime(calls['call_date'])\n",
    "calls['month'] = calls['call_date'].dt.month\n"
   ]
  },
  {
   "cell_type": "markdown",
   "metadata": {},
   "source": [
    "<div class=\"alert alert-block alert-warning\">\n",
    "<b>Comentario del revisor</b> <a class=\"tocSkip\"></a>\n",
    "    \n",
    "**Aplica el mismo comentario anterior**\n",
    "    \n",
    "Aca debes indicar si tienes que enriquecer los datos o no. Esto aplica para todas las secciones de \"Enriquecer datos\"\n",
    "</div>"
   ]
  },
  {
   "cell_type": "markdown",
   "metadata": {
    "id": "1n2X6WXf0q04"
   },
   "source": [
    "## Usuarios/as"
   ]
  },
  {
   "cell_type": "code",
   "execution_count": 7,
   "metadata": {
    "id": "2NgjWFqx0q05"
   },
   "outputs": [
    {
     "name": "stdout",
     "output_type": "stream",
     "text": [
      "<class 'pandas.core.frame.DataFrame'>\n",
      "RangeIndex: 500 entries, 0 to 499\n",
      "Data columns (total 8 columns):\n",
      " #   Column      Non-Null Count  Dtype \n",
      "---  ------      --------------  ----- \n",
      " 0   user_id     500 non-null    int64 \n",
      " 1   first_name  500 non-null    object\n",
      " 2   last_name   500 non-null    object\n",
      " 3   age         500 non-null    int64 \n",
      " 4   city        500 non-null    object\n",
      " 5   reg_date    500 non-null    object\n",
      " 6   plan        500 non-null    object\n",
      " 7   churn_date  34 non-null     object\n",
      "dtypes: int64(2), object(6)\n",
      "memory usage: 31.4+ KB\n",
      "None\n"
     ]
    }
   ],
   "source": [
    "# Imprime la información general/resumida sobre el DataFrame de usuarios\n",
    "\n",
    "print(users.info())"
   ]
  },
  {
   "cell_type": "code",
   "execution_count": 8,
   "metadata": {
    "id": "1IN1L9uh0q05"
   },
   "outputs": [
    {
     "name": "stdout",
     "output_type": "stream",
     "text": [
      "   user_id first_name  last_name  age                                   city  \\\n",
      "0     1000   Anamaria      Bauer   45  Atlanta-Sandy Springs-Roswell, GA MSA   \n",
      "1     1001     Mickey  Wilkerson   28        Seattle-Tacoma-Bellevue, WA MSA   \n",
      "2     1002     Carlee    Hoffman   36   Las Vegas-Henderson-Paradise, NV MSA   \n",
      "3     1003   Reynaldo    Jenkins   52                          Tulsa, OK MSA   \n",
      "4     1004    Leonila   Thompson   40        Seattle-Tacoma-Bellevue, WA MSA   \n",
      "\n",
      "     reg_date      plan churn_date  \n",
      "0  2018-12-24  ultimate        NaN  \n",
      "1  2018-08-13      surf        NaN  \n",
      "2  2018-10-21      surf        NaN  \n",
      "3  2018-01-28      surf        NaN  \n",
      "4  2018-05-23      surf        NaN  \n"
     ]
    }
   ],
   "source": [
    "# Imprime una muestra de datos para usuarios\n",
    "\n",
    "print(users.head())"
   ]
  },
  {
   "cell_type": "markdown",
   "metadata": {
    "id": "dCZoUq4f0q06"
   },
   "source": [
    "[Describe lo que ves y observas en la información general y en la muestra de datos impresa para el precio de datos anterior. ¿Hay algún problema (tipos de datos no adecuados, datos ausentes, etc.) que pudieran necesitar investigación y cambios adicionales? ¿Cómo se puede arreglar?]"
   ]
  },
  {
   "cell_type": "markdown",
   "metadata": {
    "id": "BX5FQh_I0q06"
   },
   "source": [
    "### Corregir los datos"
   ]
  },
  {
   "cell_type": "markdown",
   "metadata": {
    "id": "8OdKMwJv0q06"
   },
   "source": [
    "[Corrige los problemas obvios con los datos basándote en las observaciones iniciales.]"
   ]
  },
  {
   "cell_type": "code",
   "execution_count": null,
   "metadata": {
    "id": "yUqX-K0C0q07"
   },
   "outputs": [],
   "source": []
  },
  {
   "cell_type": "markdown",
   "metadata": {
    "id": "ycwuARJp0q07"
   },
   "source": [
    "### Enriquecer los datos"
   ]
  },
  {
   "cell_type": "markdown",
   "metadata": {
    "id": "96NIh4CJ0q08"
   },
   "source": [
    "[Agrega factores adicionales a los datos si crees que pudieran ser útiles.]"
   ]
  },
  {
   "cell_type": "code",
   "execution_count": 9,
   "metadata": {
    "id": "iq0AaBS90q08"
   },
   "outputs": [],
   "source": [
    "# Enriquecer datos\n",
    "# Se agregaron pasos para asegurar que los valores faltantes sean manejados correctamente.\n",
    "calls['duration'] = calls['duration'].apply(np.ceil)\n",
    "calls['call_date'] = pd.to_datetime(calls['call_date'])\n",
    "calls['month'] = calls['call_date'].dt.month\n"
   ]
  },
  {
   "cell_type": "markdown",
   "metadata": {
    "id": "o7MeKCid0q08"
   },
   "source": [
    "## Llamadas"
   ]
  },
  {
   "cell_type": "code",
   "execution_count": 10,
   "metadata": {
    "id": "6dDlnoDm0q08"
   },
   "outputs": [
    {
     "name": "stdout",
     "output_type": "stream",
     "text": [
      "<class 'pandas.core.frame.DataFrame'>\n",
      "RangeIndex: 137735 entries, 0 to 137734\n",
      "Data columns (total 5 columns):\n",
      " #   Column     Non-Null Count   Dtype         \n",
      "---  ------     --------------   -----         \n",
      " 0   id         137735 non-null  object        \n",
      " 1   user_id    137735 non-null  int64         \n",
      " 2   call_date  137735 non-null  datetime64[ns]\n",
      " 3   duration   137735 non-null  float64       \n",
      " 4   month      137735 non-null  int32         \n",
      "dtypes: datetime64[ns](1), float64(1), int32(1), int64(1), object(1)\n",
      "memory usage: 4.7+ MB\n",
      "None\n"
     ]
    }
   ],
   "source": [
    "# Imprime la información general/resumida sobre el DataFrame de las llamadas\n",
    "print(calls.info())\n"
   ]
  },
  {
   "cell_type": "code",
   "execution_count": 11,
   "metadata": {
    "id": "kuh1vlNB0q09"
   },
   "outputs": [
    {
     "name": "stdout",
     "output_type": "stream",
     "text": [
      "         id  user_id  call_date  duration  month\n",
      "0   1000_93     1000 2018-12-27       9.0     12\n",
      "1  1000_145     1000 2018-12-27      14.0     12\n",
      "2  1000_247     1000 2018-12-27      15.0     12\n",
      "3  1000_309     1000 2018-12-28       6.0     12\n",
      "4  1000_380     1000 2018-12-30       5.0     12\n"
     ]
    }
   ],
   "source": [
    "# Imprime una muestra de datos para las llamadas\n",
    "\n",
    "print(calls.head())"
   ]
  },
  {
   "cell_type": "markdown",
   "metadata": {
    "id": "DOAxYJSx0q09"
   },
   "source": [
    "[Describe lo que ves y observas en la información general y en la muestra de datos impresa para el precio de datos anterior. ¿Hay algún problema (tipos de datos no adecuados, datos ausentes, etc.) que pudieran necesitar investigación y cambios adicionales? ¿Cómo se puede arreglar?]"
   ]
  },
  {
   "cell_type": "markdown",
   "metadata": {
    "id": "S7hzxmbX0q0-"
   },
   "source": [
    "### Corregir los datos"
   ]
  },
  {
   "cell_type": "markdown",
   "metadata": {
    "id": "YxWyAjD20q0-"
   },
   "source": [
    "[Corrige los problemas obvios con los datos basándote en las observaciones iniciales.]"
   ]
  },
  {
   "cell_type": "code",
   "execution_count": 12,
   "metadata": {
    "id": "S2r8xA4f0q0-"
   },
   "outputs": [],
   "source": [
    "# Redondear minutos de cada llamada al minuto superior\n",
    "calls['duration'] = calls['duration'].apply(np.ceil)\n",
    "\n"
   ]
  },
  {
   "cell_type": "markdown",
   "metadata": {},
   "source": [
    "<div class=\"alert alert-block alert-warning\">\n",
    "<b>Comentario del revisor</b> <a class=\"tocSkip\"></a>\n",
    "    \n",
    "En corregir los datos, va la corrección de tipo de datos, en enriquecer los datos van este tipo de transformaciones\n",
    "\n",
    "</div>"
   ]
  },
  {
   "cell_type": "markdown",
   "metadata": {
    "id": "KrMgTrlG0q0_"
   },
   "source": [
    "### Enriquecer los datos"
   ]
  },
  {
   "cell_type": "markdown",
   "metadata": {
    "id": "a9MbmEvE0q0_"
   },
   "source": [
    "[Agrega factores adicionales a los datos si crees que pudieran ser útiles.]"
   ]
  },
  {
   "cell_type": "code",
   "execution_count": 13,
   "metadata": {
    "id": "iZ1avpA_0q0_"
   },
   "outputs": [],
   "source": [
    "# Convertir la columna de fecha a datetime y extraer el mes para llamadas\n",
    "calls['call_date'] = pd.to_datetime(calls['call_date'])\n",
    "calls['month'] = calls['call_date'].dt.month\n",
    "\n",
    "# Convertir la columna de fecha a datetime y extraer el mes para mensajes\n",
    "messages['message_date'] = pd.to_datetime(messages['message_date'])\n",
    "messages['month'] = messages['message_date'].dt.month\n",
    "\n",
    "# Convertir la columna de fecha a datetime y extraer el mes para internet\n",
    "internet['session_date'] = pd.to_datetime(internet['session_date'])\n",
    "internet['month'] = internet['session_date'].dt.month\n"
   ]
  },
  {
   "cell_type": "markdown",
   "metadata": {},
   "source": [
    "<div class=\"alert alert-block alert-warning\">\n",
    "<b>Comentario del revisor</b> <a class=\"tocSkip\"></a>\n",
    "    \n",
    "Debes hacer en las secciones correspondientes estos pasos, aca solo deberia ir lo de llamadas\n",
    "</div>\n"
   ]
  },
  {
   "cell_type": "markdown",
   "metadata": {
    "id": "mOUZSi180q0_"
   },
   "source": [
    "## Mensajes"
   ]
  },
  {
   "cell_type": "code",
   "execution_count": 14,
   "metadata": {
    "id": "R-bYJpdV0q1A"
   },
   "outputs": [
    {
     "name": "stdout",
     "output_type": "stream",
     "text": [
      "<class 'pandas.core.frame.DataFrame'>\n",
      "RangeIndex: 76051 entries, 0 to 76050\n",
      "Data columns (total 4 columns):\n",
      " #   Column        Non-Null Count  Dtype         \n",
      "---  ------        --------------  -----         \n",
      " 0   id            76051 non-null  object        \n",
      " 1   user_id       76051 non-null  int64         \n",
      " 2   message_date  76051 non-null  datetime64[ns]\n",
      " 3   month         76051 non-null  int32         \n",
      "dtypes: datetime64[ns](1), int32(1), int64(1), object(1)\n",
      "memory usage: 2.0+ MB\n",
      "None\n"
     ]
    }
   ],
   "source": [
    "# Imprime la información general/resumida sobre el DataFrame de los mensajes\n",
    "\n",
    "print(messages.info())"
   ]
  },
  {
   "cell_type": "code",
   "execution_count": 15,
   "metadata": {
    "id": "mCEl2iGE0q1A"
   },
   "outputs": [
    {
     "name": "stdout",
     "output_type": "stream",
     "text": [
      "         id  user_id message_date  month\n",
      "0  1000_125     1000   2018-12-27     12\n",
      "1  1000_160     1000   2018-12-31     12\n",
      "2  1000_223     1000   2018-12-31     12\n",
      "3  1000_251     1000   2018-12-27     12\n",
      "4  1000_255     1000   2018-12-26     12\n"
     ]
    }
   ],
   "source": [
    "# Imprime una muestra de datos para los mensajes\n",
    "\n",
    "print(messages.head())"
   ]
  },
  {
   "cell_type": "markdown",
   "metadata": {
    "id": "04xDj7KH0q1A"
   },
   "source": [
    "[Describe lo que ves y observas en la información general y en la muestra de datos impresa para el precio de datos anterior. ¿Hay algún problema (tipos de datos no adecuados, datos ausentes, etc.) que pudieran necesitar investigación y cambios adicionales? ¿Cómo se puede arreglar?]"
   ]
  },
  {
   "cell_type": "markdown",
   "metadata": {
    "id": "Sprfak900q1B"
   },
   "source": [
    "### Corregir los datos"
   ]
  },
  {
   "cell_type": "markdown",
   "metadata": {
    "id": "eGw7d9j10q1B"
   },
   "source": [
    "[Corrige los problemas obvios con los datos basándote en las observaciones iniciales.]"
   ]
  },
  {
   "cell_type": "code",
   "execution_count": null,
   "metadata": {
    "id": "vsllvkoa0q1B"
   },
   "outputs": [],
   "source": []
  },
  {
   "cell_type": "markdown",
   "metadata": {
    "id": "HvLid7iD0q1B"
   },
   "source": [
    "### Enriquecer los datos"
   ]
  },
  {
   "cell_type": "markdown",
   "metadata": {
    "id": "8nhPFKIe0q1C"
   },
   "source": [
    "[Agrega factores adicionales a los datos si crees que pudieran ser útiles.]"
   ]
  },
  {
   "cell_type": "code",
   "execution_count": 16,
   "metadata": {
    "id": "zYEXZac10q1C"
   },
   "outputs": [],
   "source": [
    "# Enriquecer datos\n",
    "# Se agregaron pasos para asegurar que los valores faltantes sean manejados correctamente.\n",
    "calls['duration'] = calls['duration'].apply(np.ceil)\n",
    "calls['call_date'] = pd.to_datetime(calls['call_date'])\n",
    "calls['month'] = calls['call_date'].dt.month\n"
   ]
  },
  {
   "cell_type": "markdown",
   "metadata": {
    "id": "bStkaxn40q1C"
   },
   "source": [
    "## Internet"
   ]
  },
  {
   "cell_type": "code",
   "execution_count": 17,
   "metadata": {
    "id": "e-Uz5qyn0q1C"
   },
   "outputs": [
    {
     "name": "stdout",
     "output_type": "stream",
     "text": [
      "<class 'pandas.core.frame.DataFrame'>\n",
      "RangeIndex: 104825 entries, 0 to 104824\n",
      "Data columns (total 5 columns):\n",
      " #   Column        Non-Null Count   Dtype         \n",
      "---  ------        --------------   -----         \n",
      " 0   id            104825 non-null  object        \n",
      " 1   user_id       104825 non-null  int64         \n",
      " 2   session_date  104825 non-null  datetime64[ns]\n",
      " 3   mb_used       104825 non-null  float64       \n",
      " 4   month         104825 non-null  int32         \n",
      "dtypes: datetime64[ns](1), float64(1), int32(1), int64(1), object(1)\n",
      "memory usage: 3.6+ MB\n",
      "None\n"
     ]
    }
   ],
   "source": [
    "# Imprime la información general/resumida sobre el DataFrame de internet\n",
    "\n",
    "print(internet.info())"
   ]
  },
  {
   "cell_type": "code",
   "execution_count": 18,
   "metadata": {
    "id": "9r3x_XLw0q1C"
   },
   "outputs": [
    {
     "name": "stdout",
     "output_type": "stream",
     "text": [
      "         id  user_id session_date  mb_used  month\n",
      "0   1000_13     1000   2018-12-29    89.86     12\n",
      "1  1000_204     1000   2018-12-31     0.00     12\n",
      "2  1000_379     1000   2018-12-28   660.40     12\n",
      "3  1000_413     1000   2018-12-26   270.99     12\n",
      "4  1000_442     1000   2018-12-27   880.22     12\n"
     ]
    }
   ],
   "source": [
    "# Imprime una muestra de datos para el tráfico de internet\n",
    "print(internet.head())\n"
   ]
  },
  {
   "cell_type": "markdown",
   "metadata": {
    "id": "EzOG5ik30q1D"
   },
   "source": [
    "[Describe lo que ves y observas en la información general y en la muestra de datos impresa para el precio de datos anterior. ¿Hay algún problema (tipos de datos no adecuados, datos ausentes, etc.) que pudieran necesitar investigación y cambios adicionales? ¿Cómo se puede arreglar?]"
   ]
  },
  {
   "cell_type": "markdown",
   "metadata": {
    "id": "yA0tkPFg0q1D"
   },
   "source": [
    "### Corregir los datos"
   ]
  },
  {
   "cell_type": "markdown",
   "metadata": {
    "id": "zlZMuIEK0q1D"
   },
   "source": [
    "[Corrige los problemas obvios con los datos basándote en las observaciones iniciales.]"
   ]
  },
  {
   "cell_type": "code",
   "execution_count": 19,
   "metadata": {
    "id": "zVeanzdd0q1E"
   },
   "outputs": [],
   "source": [
    "# Convertir MB a GB y redondear al giga superior\n",
    "internet['gb_used'] = (internet['mb_used'] / 1024).apply(np.ceil)\n"
   ]
  },
  {
   "cell_type": "markdown",
   "metadata": {
    "id": "e8_mLF4a0q1E"
   },
   "source": [
    "### Enriquecer los datos"
   ]
  },
  {
   "cell_type": "markdown",
   "metadata": {
    "id": "xhNdn2tE0q1E"
   },
   "source": [
    "[Agrega factores adicionales a los datos si crees que pudieran ser útiles.]"
   ]
  },
  {
   "cell_type": "code",
   "execution_count": 20,
   "metadata": {
    "id": "ESiYPIEK0q1E"
   },
   "outputs": [],
   "source": [
    "# Enriquecer datos\n",
    "# Se agregaron pasos para asegurar que los valores faltantes sean manejados correctamente.\n",
    "calls['duration'] = calls['duration'].apply(np.ceil)\n",
    "calls['call_date'] = pd.to_datetime(calls['call_date'])\n",
    "calls['month'] = calls['call_date'].dt.month\n"
   ]
  },
  {
   "cell_type": "markdown",
   "metadata": {},
   "source": [
    "<div class=\"alert alert-block alert-warning\">\n",
    "<b>Comentario del revisor</b> <a class=\"tocSkip\"></a>\n",
    "    \n",
    "**En general lograste solucionar esta parte, pero intenta seguir el orden**    \n",
    "    \n",
    "Para los datos de Llamadas - Mensajes - Internet al menos debes transformar la fecha a datetime e enriquecerlos con el mes\n",
    "</div>"
   ]
  },
  {
   "cell_type": "markdown",
   "metadata": {
    "id": "3UA2cqIW0q1E"
   },
   "source": [
    "## Estudiar las condiciones de las tarifas"
   ]
  },
  {
   "cell_type": "markdown",
   "metadata": {
    "id": "T86Sqltq0q1F"
   },
   "source": [
    "[Es sumamente importante entender cómo funcionan las tarifas, cómo se les cobra a los usuarios en función de su plan de suscripción. Así que te sugerimos imprimir la información de la tarifa para ver una vez más sus condiciones.]"
   ]
  },
  {
   "cell_type": "code",
   "execution_count": 21,
   "metadata": {
    "id": "i409op8p0q1F"
   },
   "outputs": [
    {
     "name": "stdout",
     "output_type": "stream",
     "text": [
      "   messages_included  mb_per_month_included  minutes_included  \\\n",
      "0                 50                  15360               500   \n",
      "1               1000                  30720              3000   \n",
      "\n",
      "   usd_monthly_pay  usd_per_gb  usd_per_message  usd_per_minute plan_name  \n",
      "0               20          10             0.03            0.03      surf  \n",
      "1               70           7             0.01            0.01  ultimate  \n"
     ]
    }
   ],
   "source": [
    "# Imprime las condiciones de la tarifa y asegúrate de que te quedan claras\n",
    "\n",
    "print(plans)"
   ]
  },
  {
   "cell_type": "markdown",
   "metadata": {
    "id": "hMR1tP5d0q1F"
   },
   "source": [
    "## Agregar datos por usuario\n",
    "\n",
    "[Ahora que los datos están limpios, agrega los datos por usuario y por periodo para que solo haya un registro por usuario y por periodo. Esto facilitará mucho el análisis posterior.]"
   ]
  },
  {
   "cell_type": "code",
   "execution_count": 22,
   "metadata": {
    "id": "A332cedB0q1G"
   },
   "outputs": [],
   "source": [
    "# Calcula el número de llamadas hechas por cada usuario al mes. Guarda el resultado.\n",
    "\n",
    "calls['month'] = pd.to_datetime(calls['call_date']).dt.month\n",
    "calls_per_month = calls.groupby(['user_id', 'month']).size().reset_index(name='calls_count')\n"
   ]
  },
  {
   "cell_type": "markdown",
   "metadata": {},
   "source": [
    "<div class=\"alert alert-block alert-warning\">\n",
    "<b>Comentario del revisor</b> <a class=\"tocSkip\"></a>\n",
    "    \n",
    "Si ya arreglaste los tipos de datos, no es necesario volver a hacer la transformación\n",
    "</div>\n"
   ]
  },
  {
   "cell_type": "code",
   "execution_count": 23,
   "metadata": {
    "id": "aw2cmuql0q1G"
   },
   "outputs": [],
   "source": [
    "\n",
    "# Rounding call duration to the nearest minute\n",
    "calls['duration'] = calls['duration'].apply(np.ceil)\n",
    "# Calcula la cantidad de minutos usados por cada usuario al mes. Guarda el resultado.\n",
    "\n",
    "minutes_per_month = calls.groupby(['user_id', 'month'])['duration'].sum().reset_index(name='total_minutes')\n"
   ]
  },
  {
   "cell_type": "code",
   "execution_count": 24,
   "metadata": {
    "id": "CcQvNHn60q1G"
   },
   "outputs": [],
   "source": [
    "# Calcula el número de mensajes enviados por cada usuario al mes. Guarda el resultado.\n",
    "\n",
    "messages['month'] = pd.to_datetime(messages['message_date']).dt.month\n",
    "messages_per_month = messages.groupby(['user_id', 'month']).size().reset_index(name='messages_count')\n"
   ]
  },
  {
   "cell_type": "code",
   "execution_count": 25,
   "metadata": {
    "id": "H1AqN2eG0q1H"
   },
   "outputs": [],
   "source": [
    "# Calcula el volumen del tráfico de Internet usado por cada usuario al mes. Guarda el resultado.\n",
    "\n",
    "internet['month'] = pd.to_datetime(internet['session_date']).dt.month\n",
    "internet_per_month = internet.groupby(['user_id', 'month'])['mb_used'].sum().reset_index(name='total_mb')\n"
   ]
  },
  {
   "cell_type": "markdown",
   "metadata": {
    "id": "VDfYXnj80q1H"
   },
   "source": [
    "[Junta los datos agregados en un DataFrame para que haya un registro que represente lo que consumió un usuario único en un mes determinado.]"
   ]
  },
  {
   "cell_type": "code",
   "execution_count": 26,
   "metadata": {
    "id": "FW99ykyf0q1H"
   },
   "outputs": [],
   "source": [
    "# Fusiona los datos de llamadas, minutos, mensajes e Internet con base en user_id y month\n",
    "\n",
    "user_data = calls_per_month.merge(minutes_per_month, on=['user_id', 'month'], how='outer')\n",
    "user_data = user_data.merge(messages_per_month, on=['user_id', 'month'], how='outer')\n",
    "user_data = user_data.merge(internet_per_month, on=['user_id', 'month'], how='outer')\n",
    "user_data = user_data.merge(users[['user_id', 'plan', 'city']], on='user_id', how='left')"
   ]
  },
  {
   "cell_type": "code",
   "execution_count": 27,
   "metadata": {
    "id": "0dNOXHag0q1H"
   },
   "outputs": [],
   "source": [
    "# Añade la información de la tarifa\n",
    "\n",
    "user_data = user_data.merge(plans, left_on='plan', right_on='plan_name', how='left')\n"
   ]
  },
  {
   "cell_type": "code",
   "execution_count": 28,
   "metadata": {},
   "outputs": [
    {
     "data": {
      "text/html": [
       "<div>\n",
       "<style scoped>\n",
       "    .dataframe tbody tr th:only-of-type {\n",
       "        vertical-align: middle;\n",
       "    }\n",
       "\n",
       "    .dataframe tbody tr th {\n",
       "        vertical-align: top;\n",
       "    }\n",
       "\n",
       "    .dataframe thead th {\n",
       "        text-align: right;\n",
       "    }\n",
       "</style>\n",
       "<table border=\"1\" class=\"dataframe\">\n",
       "  <thead>\n",
       "    <tr style=\"text-align: right;\">\n",
       "      <th></th>\n",
       "      <th>user_id</th>\n",
       "      <th>month</th>\n",
       "      <th>calls_count</th>\n",
       "      <th>total_minutes</th>\n",
       "      <th>messages_count</th>\n",
       "      <th>total_mb</th>\n",
       "      <th>plan</th>\n",
       "      <th>city</th>\n",
       "      <th>messages_included</th>\n",
       "      <th>mb_per_month_included</th>\n",
       "      <th>minutes_included</th>\n",
       "      <th>usd_monthly_pay</th>\n",
       "      <th>usd_per_gb</th>\n",
       "      <th>usd_per_message</th>\n",
       "      <th>usd_per_minute</th>\n",
       "      <th>plan_name</th>\n",
       "    </tr>\n",
       "  </thead>\n",
       "  <tbody>\n",
       "    <tr>\n",
       "      <th>0</th>\n",
       "      <td>1000</td>\n",
       "      <td>12</td>\n",
       "      <td>16.0</td>\n",
       "      <td>124.0</td>\n",
       "      <td>11.0</td>\n",
       "      <td>1901.47</td>\n",
       "      <td>ultimate</td>\n",
       "      <td>Atlanta-Sandy Springs-Roswell, GA MSA</td>\n",
       "      <td>1000</td>\n",
       "      <td>30720</td>\n",
       "      <td>3000</td>\n",
       "      <td>70</td>\n",
       "      <td>7</td>\n",
       "      <td>0.01</td>\n",
       "      <td>0.01</td>\n",
       "      <td>ultimate</td>\n",
       "    </tr>\n",
       "    <tr>\n",
       "      <th>1</th>\n",
       "      <td>1001</td>\n",
       "      <td>8</td>\n",
       "      <td>27.0</td>\n",
       "      <td>182.0</td>\n",
       "      <td>30.0</td>\n",
       "      <td>6919.15</td>\n",
       "      <td>surf</td>\n",
       "      <td>Seattle-Tacoma-Bellevue, WA MSA</td>\n",
       "      <td>50</td>\n",
       "      <td>15360</td>\n",
       "      <td>500</td>\n",
       "      <td>20</td>\n",
       "      <td>10</td>\n",
       "      <td>0.03</td>\n",
       "      <td>0.03</td>\n",
       "      <td>surf</td>\n",
       "    </tr>\n",
       "    <tr>\n",
       "      <th>2</th>\n",
       "      <td>1001</td>\n",
       "      <td>9</td>\n",
       "      <td>49.0</td>\n",
       "      <td>315.0</td>\n",
       "      <td>44.0</td>\n",
       "      <td>13314.82</td>\n",
       "      <td>surf</td>\n",
       "      <td>Seattle-Tacoma-Bellevue, WA MSA</td>\n",
       "      <td>50</td>\n",
       "      <td>15360</td>\n",
       "      <td>500</td>\n",
       "      <td>20</td>\n",
       "      <td>10</td>\n",
       "      <td>0.03</td>\n",
       "      <td>0.03</td>\n",
       "      <td>surf</td>\n",
       "    </tr>\n",
       "    <tr>\n",
       "      <th>3</th>\n",
       "      <td>1001</td>\n",
       "      <td>10</td>\n",
       "      <td>65.0</td>\n",
       "      <td>393.0</td>\n",
       "      <td>53.0</td>\n",
       "      <td>22330.49</td>\n",
       "      <td>surf</td>\n",
       "      <td>Seattle-Tacoma-Bellevue, WA MSA</td>\n",
       "      <td>50</td>\n",
       "      <td>15360</td>\n",
       "      <td>500</td>\n",
       "      <td>20</td>\n",
       "      <td>10</td>\n",
       "      <td>0.03</td>\n",
       "      <td>0.03</td>\n",
       "      <td>surf</td>\n",
       "    </tr>\n",
       "    <tr>\n",
       "      <th>4</th>\n",
       "      <td>1001</td>\n",
       "      <td>11</td>\n",
       "      <td>64.0</td>\n",
       "      <td>426.0</td>\n",
       "      <td>36.0</td>\n",
       "      <td>18504.30</td>\n",
       "      <td>surf</td>\n",
       "      <td>Seattle-Tacoma-Bellevue, WA MSA</td>\n",
       "      <td>50</td>\n",
       "      <td>15360</td>\n",
       "      <td>500</td>\n",
       "      <td>20</td>\n",
       "      <td>10</td>\n",
       "      <td>0.03</td>\n",
       "      <td>0.03</td>\n",
       "      <td>surf</td>\n",
       "    </tr>\n",
       "  </tbody>\n",
       "</table>\n",
       "</div>"
      ],
      "text/plain": [
       "   user_id  month  calls_count  total_minutes  messages_count  total_mb  \\\n",
       "0     1000     12         16.0          124.0            11.0   1901.47   \n",
       "1     1001      8         27.0          182.0            30.0   6919.15   \n",
       "2     1001      9         49.0          315.0            44.0  13314.82   \n",
       "3     1001     10         65.0          393.0            53.0  22330.49   \n",
       "4     1001     11         64.0          426.0            36.0  18504.30   \n",
       "\n",
       "       plan                                   city  messages_included  \\\n",
       "0  ultimate  Atlanta-Sandy Springs-Roswell, GA MSA               1000   \n",
       "1      surf        Seattle-Tacoma-Bellevue, WA MSA                 50   \n",
       "2      surf        Seattle-Tacoma-Bellevue, WA MSA                 50   \n",
       "3      surf        Seattle-Tacoma-Bellevue, WA MSA                 50   \n",
       "4      surf        Seattle-Tacoma-Bellevue, WA MSA                 50   \n",
       "\n",
       "   mb_per_month_included  minutes_included  usd_monthly_pay  usd_per_gb  \\\n",
       "0                  30720              3000               70           7   \n",
       "1                  15360               500               20          10   \n",
       "2                  15360               500               20          10   \n",
       "3                  15360               500               20          10   \n",
       "4                  15360               500               20          10   \n",
       "\n",
       "   usd_per_message  usd_per_minute plan_name  \n",
       "0             0.01            0.01  ultimate  \n",
       "1             0.03            0.03      surf  \n",
       "2             0.03            0.03      surf  \n",
       "3             0.03            0.03      surf  \n",
       "4             0.03            0.03      surf  "
      ]
     },
     "execution_count": 28,
     "metadata": {},
     "output_type": "execute_result"
    }
   ],
   "source": [
    "user_data.head()"
   ]
  },
  {
   "cell_type": "code",
   "execution_count": 29,
   "metadata": {},
   "outputs": [
    {
     "name": "stdout",
     "output_type": "stream",
     "text": [
      "Index(['user_id', 'month', 'calls_count', 'total_minutes', 'messages_count',\n",
      "       'total_mb', 'plan', 'city', 'messages_included',\n",
      "       'mb_per_month_included', 'minutes_included', 'usd_monthly_pay',\n",
      "       'usd_per_gb', 'usd_per_message', 'usd_per_minute', 'plan_name'],\n",
      "      dtype='object')\n"
     ]
    }
   ],
   "source": [
    "print(user_data.columns)\n"
   ]
  },
  {
   "cell_type": "markdown",
   "metadata": {
    "id": "1IwGo4wg0q1I"
   },
   "source": [
    "[Calcula los ingresos mensuales por usuario (resta el límite del paquete gratuito del número total de llamadas, mensajes de texto y datos; multiplica el resultado por el valor del plan de llamadas; añade la tarifa mensual en función del plan de llamadas). Nota: Dadas las condiciones del plan, ¡esto podría no ser tan trivial como un par de líneas! Así que no pasa nada si dedicas algo de tiempo a ello.]"
   ]
  },
  {
   "cell_type": "code",
   "execution_count": 30,
   "metadata": {
    "id": "5FGCf_c60q1I"
   },
   "outputs": [],
   "source": [
    "# Calcula el ingreso mensual para cada usuario\n",
    "\n",
    "# Redondear los minutos totales y los minutos incluidos al minuto superior\n",
    "user_data['total_minutes'] = user_data['total_minutes'].apply(np.ceil)\n",
    "user_data['minutes_included'] = user_data['minutes_included'].apply(np.ceil)\n",
    "\n",
    "# Calcular los minutos extra, asegurando que no haya valores negativos\n",
    "user_data['extra_minutes'] = user_data['total_minutes'] - user_data['minutes_included']\n",
    "user_data['extra_minutes'] = user_data['extra_minutes'].apply(lambda x: x if x > 0 else 0)\n",
    "\n",
    "# Redondear consumo de MB a GB y luego al GB superior\n",
    "user_data['total_gb'] = user_data['total_mb'] / 1024\n",
    "user_data['mb_per_month_included_gb'] = user_data['mb_per_month_included'] / 1024\n",
    "user_data['total_gb'] = user_data['total_gb'].apply(np.ceil)\n",
    "user_data['mb_per_month_included_gb'] = user_data['mb_per_month_included_gb'].apply(np.ceil)\n",
    "\n",
    "# Calcular los GB extra, asegurando que no haya valores negativos\n",
    "user_data['extra_gb'] = user_data['total_gb'] - user_data['mb_per_month_included_gb']\n",
    "user_data['extra_gb'] = user_data['extra_gb'].apply(lambda x: x if x > 0 else 0)\n",
    "\n",
    "# Calcular los mensajes extra utilizando 'messages_count'\n",
    "user_data['extra_messages'] = user_data['messages_count'] - user_data['messages_included']\n",
    "user_data['extra_messages'] = user_data['extra_messages'].apply(lambda x: x if x > 0 else 0)\n",
    "\n",
    "# Calcular el ingreso mensual adicional\n",
    "user_data['monthly_revenue'] = user_data['usd_monthly_pay'] + \\\n",
    "                               (user_data['extra_minutes'] * user_data['usd_per_minute'] +\n",
    "                                user_data['extra_messages'] * user_data['usd_per_message'] +\n",
    "                                user_data['extra_gb'] * user_data['usd_per_gb'])\n"
   ]
  },
  {
   "cell_type": "markdown",
   "metadata": {},
   "source": [
    "<div class=\"alert alert-block alert-info\">\n",
    "<b>Respuesta del estudiante</b> <a class=\"tocSkip\"></a>\n",
    "Corregido!\n",
    "</div>"
   ]
  },
  {
   "cell_type": "markdown",
   "metadata": {},
   "source": [
    "<div class=\"alert alert-block alert-success\">\n",
    "<b>Comentario del revisor</b> <a class=\"tocSkip\"></a>\n",
    "    \n",
    "**solucionado**\n",
    "    \n",
    "    \n",
    "No tienes calculado los **extra_messages** y lo estas utilizando para hacer el calculo del ingreso total, por eso da error.\n",
    "Como tu notebook se rompe aca,dejo hasta la corrección.\n",
    "    \n",
    "En los siguientes apartados debes hacer el analisis solicitado para las llamadas y replicarlo para los mensajes, gigas y total.\n",
    "   \n",
    "    \n",
    "**comentario anterior**\n",
    "    \n",
    "Estos calculos estan bien ejecutados, logras obtener la data agrega a nivel mensual, los merge estan correcots y el calculo del gasto total esta bien ejecutado, pero debes realizar 2 cosas antes:\n",
    "    \n",
    "- Los minutos por llamada deben redondearse por llamada al minuto superior (una llamada de 8.3 minutos se considera de 9).\n",
    "- El consumo de gigas mensual se aproxima al giga superior (Un consumo de 12.3 gigas mensuales se aproxima a 13 gigas).\n",
    "</div>"
   ]
  },
  {
   "cell_type": "markdown",
   "metadata": {
    "id": "-jtyHzJb0q1I"
   },
   "source": [
    "## Estudia el comportamiento de usuario"
   ]
  },
  {
   "cell_type": "markdown",
   "metadata": {
    "id": "AxU3Y0N70q1J"
   },
   "source": [
    "[Calcula algunas estadísticas descriptivas para los datos agregados y fusionados que nos sean útiles y que muestren un panorama general captado por los datos. Dibuja gráficos útiles para facilitar la comprensión. Dado que la tarea principal es comparar las tarifas y decidir cuál es más rentable, las estadísticas y gráficas deben calcularse por tarifa.]\n",
    "\n",
    "[En los comentarios hallarás pistas relevantes para las llamadas, pero no las hay para los mensajes e Internet. Sin embargo, el principio del estudio estadístico que se aplica para ellos es el mismo que para las llamadas.]"
   ]
  },
  {
   "cell_type": "markdown",
   "metadata": {
    "id": "vtW4CJEe0q1J"
   },
   "source": [
    "### Llamadas"
   ]
  },
  {
   "cell_type": "code",
   "execution_count": 31,
   "metadata": {
    "id": "Jf5v5--k0q1J"
   },
   "outputs": [
    {
     "data": {
      "image/png": "[encoded data removed]",
      "text/plain": [
       "<Figure size 1000x600 with 1 Axes>"
      ]
     },
     "metadata": {},
     "output_type": "display_data"
    }
   ],
   "source": [
    "\n",
    "# Rounding call duration to the nearest minute\n",
    "calls['duration'] = calls['duration'].apply(np.ceil)\n",
    "# Compara la duración promedio de llamadas por cada plan y por cada mes. Traza un gráfico de barras para visualizarla.\n",
    "\n",
    "avg_duration = user_data.groupby(['plan', 'month'])['total_minutes'].mean().unstack()\n",
    "avg_duration.plot(kind='bar', figsize=(10, 6))\n",
    "plt.title('Average Call Duration per Plan per Month')\n",
    "plt.ylabel('Average Duration (minutes)')\n",
    "plt.xlabel('Plan')\n",
    "plt.show()\n"
   ]
  },
  {
   "cell_type": "markdown",
   "metadata": {},
   "source": [
    "Los usuarios del plan 'Ultimate' tienden a realizar llamadas más largas en promedio en comparación con los usuarios del plan 'Surf'. A lo largo de los meses, se observa una consistencia en el uso del servicio, con algunos meses mostrando picos de duración de llamadas."
   ]
  },
  {
   "cell_type": "code",
   "execution_count": 32,
   "metadata": {
    "id": "QoLqW1S_0q1J"
   },
   "outputs": [
    {
     "data": {
      "image/png": "[encoded data removed]",
      "text/plain": [
       "<Figure size 640x480 with 1 Axes>"
      ]
     },
     "metadata": {},
     "output_type": "display_data"
    }
   ],
   "source": [
    "# Compara el número de minutos mensuales que necesitan los usuarios de cada plan. Traza un histograma.\n",
    "user_data[user_data['plan'] == 'surf']['total_minutes'].hist(alpha=0.5, label='surf')\n",
    "user_data[user_data['plan'] == 'ultimate']['total_minutes'].hist(alpha=0.5, label='ultimate')\n",
    "plt.title('Distribution of Monthly Minutes per Plan')\n",
    "plt.xlabel('Total Minutes')\n",
    "plt.ylabel('Frequency')\n",
    "plt.legend()\n",
    "plt.show()\n",
    "\n"
   ]
  },
  {
   "cell_type": "markdown",
   "metadata": {},
   "source": [
    "El plan 'Surf' tiene una mayor concentración de usuarios que utilizan entre 200 y 400 minutos al mes, mientras que el plan 'Ultimate' tiene una distribución más amplia, con usuarios que superan los 600 minutos mensuales. Esto sugiere que los usuarios del plan 'Ultimate' hacen un mayor uso del servicio de llamadas."
   ]
  },
  {
   "cell_type": "markdown",
   "metadata": {
    "id": "bLS9T8OH0q1K"
   },
   "source": [
    "[Calcula la media y la variable de la duración de las llamadas para averiguar si los usuarios de los distintos planes se comportan de forma diferente al realizar sus llamadas.]"
   ]
  },
  {
   "cell_type": "code",
   "execution_count": 33,
   "metadata": {
    "id": "oSndbAnt0q1K"
   },
   "outputs": [
    {
     "data": {
      "text/plain": [
       "(plan\n",
       " surf        436.519741\n",
       " ultimate    434.676017\n",
       " Name: total_minutes, dtype: float64,\n",
       " plan\n",
       " surf        52571.063243\n",
       " ultimate    56573.632247\n",
       " Name: total_minutes, dtype: float64)"
      ]
     },
     "execution_count": 33,
     "metadata": {},
     "output_type": "execute_result"
    }
   ],
   "source": [
    "\n",
    "# Rounding call duration to the nearest minute\n",
    "calls['duration'] = calls['duration'].apply(np.ceil)\n",
    "# Calcula la media y la varianza de la duración mensual de llamadas.\n",
    "\n",
    "mean_duration = user_data.groupby('plan')['total_minutes'].mean()\n",
    "var_duration = user_data.groupby('plan')['total_minutes'].var()\n",
    "mean_duration, var_duration\n"
   ]
  },
  {
   "cell_type": "code",
   "execution_count": 34,
   "metadata": {
    "id": "nZzoRUKc0q1K"
   },
   "outputs": [
    {
     "data": {
      "image/png": "[encoded data removed]",
      "text/plain": [
       "<Figure size 1000x600 with 1 Axes>"
      ]
     },
     "metadata": {},
     "output_type": "display_data"
    }
   ],
   "source": [
    "# Traza un diagrama de caja para visualizar la distribución de la duración mensual de llamadas\n",
    "\n",
    "user_data.boxplot(column='total_minutes', by='plan', figsize=(10, 6))\n",
    "plt.title('Boxplot of Monthly Call Duration by Plan')\n",
    "plt.suptitle('')\n",
    "plt.xlabel('Plan')\n",
    "plt.ylabel('Total Minutes')\n",
    "plt.show()\n"
   ]
  },
  {
   "cell_type": "markdown",
   "metadata": {},
   "source": [
    "El diagrama de caja muestra que los usuarios del plan 'Ultimate' tienen una mayor variabilidad en la duración de llamadas, con algunos usuarios alcanzando hasta 1400 minutos. El plan 'Surf' tiene una menor dispersión, con la mayoría de los usuarios consumiendo menos de 600 minutos mensuales."
   ]
  },
  {
   "cell_type": "markdown",
   "metadata": {
    "id": "r627zBO50q1K"
   },
   "source": [
    "[Elabora las conclusiones sobre el comportamiento de los usuarios con respecto a las llamadas. ¿Su comportamiento varía en función del plan?]"
   ]
  },
  {
   "cell_type": "markdown",
   "metadata": {
    "id": "8idKy8Wh0q1L"
   },
   "source": [
    "### Mensajes"
   ]
  },
  {
   "cell_type": "code",
   "execution_count": 35,
   "metadata": {
    "id": "NXLxiTit0q1L"
   },
   "outputs": [
    {
     "data": {
      "image/png": "[encoded data removed]",
      "text/plain": [
       "<Figure size 640x480 with 1 Axes>"
      ]
     },
     "metadata": {},
     "output_type": "display_data"
    }
   ],
   "source": [
    "# Comprara el número de mensajes que tienden a enviar cada mes los usuarios de cada plan\n",
    "\n",
    "user_data[user_data['plan'] == 'surf']['messages_count'].hist(alpha=0.5, label='surf')\n",
    "user_data[user_data['plan'] == 'ultimate']['messages_count'].hist(alpha=0.5, label='ultimate')\n",
    "plt.title('Distribution of Monthly Messages per Plan')\n",
    "plt.xlabel('Total Messages')\n",
    "plt.ylabel('Frequency')\n",
    "plt.legend()\n",
    "plt.show()\n"
   ]
  },
  {
   "cell_type": "markdown",
   "metadata": {},
   "source": [
    "La mayoría de los usuarios envían menos de 50 mensajes al mes, sin importar si están en el plan 'Surf' o 'Ultimate'. Sin embargo, algunos usuarios del plan 'Ultimate' parecen enviar más mensajes, lo que podría indicar un uso más intensivo de este servicio en comparación con el plan 'Surf'."
   ]
  },
  {
   "cell_type": "code",
   "execution_count": 36,
   "metadata": {
    "id": "GRI_R7xF0q1L"
   },
   "outputs": [
    {
     "data": {
      "image/png": "[encoded data removed]",
      "text/plain": [
       "<Figure size 640x480 with 1 Axes>"
      ]
     },
     "metadata": {},
     "output_type": "display_data"
    }
   ],
   "source": [
    "# Compara la cantidad de tráfico de Internet consumido por usuarios por plan\n",
    "user_data[user_data['plan'] == 'surf']['total_mb'].hist(alpha=0.5, label='surf')\n",
    "user_data[user_data['plan'] == 'ultimate']['total_mb'].hist(alpha=0.5, label='ultimate')\n",
    "plt.title('Distribution of Monthly Internet Traffic per Plan')\n",
    "plt.xlabel('Total MB')\n",
    "plt.ylabel('Frequency')\n",
    "plt.legend()\n",
    "plt.show()\n",
    "\n"
   ]
  },
  {
   "cell_type": "markdown",
   "metadata": {
    "id": "dtFwCGAp0q1M"
   },
   "source": [
    "El plan 'Surf' tiende a tener más usuarios en los rangos bajos de consumo de internet, mientras que el plan 'Ultimate' se distribuye de manera más uniforme entre diferentes niveles de uso. Esto sugiere que los usuarios del plan 'Ultimate' podrían estar consumiendo más datos que los usuarios del plan 'Surf'."
   ]
  },
  {
   "cell_type": "markdown",
   "metadata": {
    "id": "390SSL480q1M"
   },
   "source": [
    "[Elabora las conclusiones sobre el comportamiento de los usuarios con respecto a los mensajes. ¿Su comportamiento varía en función del plan?]"
   ]
  },
  {
   "cell_type": "markdown",
   "metadata": {
    "id": "42YSypXz0q1M"
   },
   "source": [
    "### Internet"
   ]
  },
  {
   "cell_type": "code",
   "execution_count": 37,
   "metadata": {
    "id": "lSuKPtjh0q1M"
   },
   "outputs": [
    {
     "data": {
      "image/png": "[encoded data removed]",
      "text/plain": [
       "<Figure size 1000x600 with 1 Axes>"
      ]
     },
     "metadata": {},
     "output_type": "display_data"
    }
   ],
   "source": [
    "\n",
    "# Gráfico del Total de Minutos de Llamadas por Plan\n",
    "user_data.groupby('plan')['total_minutes'].mean().plot(kind='bar', figsize=(10, 6), color=['blue'])\n",
    "plt.title('Promedio de Minutos de Llamadas por Plan')\n",
    "plt.xlabel('Plan')\n",
    "plt.ylabel('Promedio Total de Minutos')\n",
    "plt.show()\n"
   ]
  },
  {
   "cell_type": "markdown",
   "metadata": {
    "id": "wnh8jYXi0q1N"
   },
   "source": [
    "Esta gráfica muestra el promedio de minutos de llamadas que los usuarios consumen cada mes, según su plan de suscripción. Los dos planes representados son \"Surf\" y \"Ultimate\". Podemos observar que ambos planes tienen un promedio similar de minutos usados, con una ligera variación a favor del plan \"Surf\". Esto sugiere que los usuarios de ambos planes hacen un uso muy parecido en términos de minutos de llamadas al mes."
   ]
  },
  {
   "cell_type": "markdown",
   "metadata": {
    "id": "tCijq3260q1N"
   },
   "source": [
    "## Ingreso"
   ]
  },
  {
   "cell_type": "markdown",
   "metadata": {
    "id": "9nq5IAcy0q1O"
   },
   "source": [
    "[Del mismo modo que has estudiado el comportamiento de los usuarios, describe estadísticamente los ingresos de los planes.]"
   ]
  },
  {
   "cell_type": "code",
   "execution_count": 38,
   "metadata": {
    "id": "tz-dq_V00q1O"
   },
   "outputs": [
    {
     "data": {
      "image/png": "[encoded data removed]",
      "text/plain": [
       "<Figure size 1000x600 with 1 Axes>"
      ]
     },
     "metadata": {},
     "output_type": "display_data"
    }
   ],
   "source": [
    "# Gráfico de Ingresos Mensuales por Plan\n",
    "user_data.groupby('plan')['monthly_revenue'].mean().plot(kind='bar', figsize=(10, 6), color=['green'])\n",
    "plt.title('Promedio de Ingresos Mensuales por Plan')\n",
    "plt.xlabel('Plan')\n",
    "plt.ylabel('Ingresos Promedio Totales (USD)')\n",
    "plt.show()\n"
   ]
  },
  {
   "cell_type": "markdown",
   "metadata": {
    "id": "0Y1v8ZUz0q1P"
   },
   "source": [
    "Este gráfico representa el ingreso promedio generado por cada plan de suscripción mensual. Los datos indican que el plan \"Ultimate\" genera más ingresos en promedio que el plan \"Surf\". Esta diferencia puede estar relacionada con el costo de suscripción de los planes o con el uso adicional que algunos usuarios puedan estar haciendo, como el consumo de datos o mensajes extra. El plan \"Ultimate\" parece estar atrayendo a usuarios que generan mayores ingresos para la compañía."
   ]
  },
  {
   "cell_type": "markdown",
   "metadata": {
    "id": "ajJ7VKeI0q1Q"
   },
   "source": [
    "## Prueba las hipótesis estadísticas"
   ]
  },
  {
   "cell_type": "markdown",
   "metadata": {
    "id": "AdXAZ-yL0q1Q"
   },
   "source": [
    "[Prueba la hipótesis de que son diferentes los ingresos promedio procedentes de los usuarios de los planes de llamada Ultimate y Surf.]"
   ]
  },
  {
   "cell_type": "markdown",
   "metadata": {
    "id": "IQwa_hsh0q1Q"
   },
   "source": [
    "[Elabora las hipótesis nula y alternativa, escoge la prueba estadística, determina el valor alfa.]"
   ]
  },
  {
   "cell_type": "code",
   "execution_count": 39,
   "metadata": {
    "id": "nFoPNlPq0q1R"
   },
   "outputs": [
    {
     "data": {
      "text/plain": [
       "(np.float64(0.1731578312691927), np.float64(0.8625535206894872))"
      ]
     },
     "execution_count": 39,
     "metadata": {},
     "output_type": "execute_result"
    }
   ],
   "source": [
    "# Prueba las hipótesis\n",
    "from scipy import stats\n",
    "\n",
    "# Primera hipótesis: Duración de llamadas entre planes\n",
    "surf_calls = user_data[user_data['plan'] == 'surf']['total_minutes'].dropna()\n",
    "ultimate_calls = user_data[user_data['plan'] == 'ultimate']['total_minutes'].dropna()\n",
    "t_stat, p_value = stats.ttest_ind(surf_calls, ultimate_calls, equal_var=False)\n",
    "t_stat, p_value\n",
    "\n"
   ]
  },
  {
   "cell_type": "markdown",
   "metadata": {},
   "source": [
    "Hipótesis nula (H₀): Los ingresos promedio de los usuarios de los planes Ultimate y Surf son iguales.\n",
    "\n",
    "𝐻\n",
    "0\n",
    ":\n",
    "𝜇\n",
    "Ultimate\n",
    "=\n",
    "𝜇\n",
    "Surf\n",
    "H \n",
    "0\n",
    "​\n",
    " :μ \n",
    "Ultimate\n",
    "​\n",
    " =μ \n",
    "Surf\n",
    "​\n",
    " \n",
    "Hipótesis alternativa (H₁): Los ingresos promedio de los usuarios de los planes Ultimate y Surf son diferentes.\n",
    "\n",
    "𝐻\n",
    "1\n",
    ":\n",
    "𝜇\n",
    "Ultimate\n",
    "≠\n",
    "𝜇\n",
    "Surf\n",
    "H \n",
    "1\n",
    "​\n",
    " :μ \n",
    "Ultimate\n",
    "​\n",
    " \n",
    "\n",
    "=μ \n",
    "Surf\n",
    "​\n",
    "\n",
    "\n",
    "Decisión:\n",
    "\n",
    "\n",
    "Si el valor p es menor que 0.05, rechazamos la hipótesis nula y concluimos que los ingresos promedio entre los planes Ultimate y Surf son significativamente diferentes.\n",
    "\n",
    "\n",
    "Si el valor p es mayor o igual que 0.05, no rechazamos la hipótesis nula, lo que indica que no hay evidencia suficiente para afirmar que los ingresos promedio son diferentes entre los dos planes."
   ]
  },
  {
   "cell_type": "markdown",
   "metadata": {
    "id": "tCcAruM60q1R"
   },
   "source": [
    "[Prueba la hipótesis de que el ingreso promedio de los usuarios del área NY-NJ es diferente al de los usuarios de otras regiones.]"
   ]
  },
  {
   "cell_type": "markdown",
   "metadata": {
    "id": "LsBgitqj0q1R"
   },
   "source": [
    "[Elabora las hipótesis nula y alternativa, escoge la prueba estadística, determina el valor alfa.]"
   ]
  },
  {
   "cell_type": "code",
   "execution_count": 46,
   "metadata": {
    "id": "Cqcj7wrZ0q1S"
   },
   "outputs": [
    {
     "name": "stdout",
     "output_type": "stream",
     "text": [
      "                                     city     t_stat   p_value\n",
      "0   Atlanta-Sandy Springs-Roswell, GA MSA  -1.193140  0.237850\n",
      "1         Seattle-Tacoma-Bellevue, WA MSA   0.048945  0.961082\n",
      "2    Las Vegas-Henderson-Paradise, NV MSA   1.161645  0.254695\n",
      "3                           Tulsa, OK MSA  -0.763899  0.465812\n",
      "4     Dallas-Fort Worth-Arlington, TX MSA  -0.764486  0.446227\n",
      "..                                    ...        ...       ...\n",
      "66                   Raleigh-Cary, NC MSA  10.889112  0.022782\n",
      "67          Greensboro-High Point, NC MSA   5.001968  0.002106\n",
      "68                         Tucson, AZ MSA   0.702126  0.499377\n",
      "69               Colorado Springs, CO MSA  -8.509233  0.000002\n",
      "70                       Stockton, CA MSA   1.129758  0.338632\n",
      "\n",
      "[71 rows x 3 columns]\n"
     ]
    }
   ],
   "source": [
    "\n",
    "filtered_data = user_data[user_data['city'] == 'New York-Newark-Jersey City, NY-NJ-PA MSA']\n",
    "\n",
    "other_cities_data = user_data[user_data['city'] != 'New York-Newark-Jersey City, NY-NJ-PA MSA']\n",
    "\n",
    "\n",
    "comparison_results = []\n",
    "\n",
    "\n",
    "for city in other_cities_data['city'].unique():\n",
    "   \n",
    "    city_data = other_cities_data[other_cities_data['city'] == city]['total_mb'].dropna()\n",
    "    \n",
    "   \n",
    "    ny_nj_data = filtered_data['total_mb'].dropna()\n",
    "\n",
    "   \n",
    "    if len(city_data) > 1 and len(ny_nj_data) > 1:\n",
    "        # Realizar la prueba t de Student\n",
    "        t_stat_mb, p_value_mb = stats.ttest_ind(ny_nj_data, city_data, equal_var=False)\n",
    "        \n",
    "        # Almacenar los resultados\n",
    "        comparison_results.append({\n",
    "            'city': city,\n",
    "            't_stat': t_stat_mb,\n",
    "            'p_value': p_value_mb\n",
    "        })\n",
    "\n",
    "comparison_df = pd.DataFrame(comparison_results)\n",
    "\n",
    "# Imprimir los resultados\n",
    "print(comparison_df)\n"
   ]
  },
  {
   "cell_type": "markdown",
   "metadata": {},
   "source": [
    "Hipótesis Nula (H₀):\n",
    "El tráfico de internet promedio de los usuarios en New York-Newark-Jersey City es igual al de los usuarios en [nombre de la ciudad a comparar]. \n",
    "𝐻\n",
    "0\n",
    ":\n",
    "𝜇\n",
    "NY\n",
    "=\n",
    "𝜇\n",
    "[Ciudad]\n",
    "H \n",
    "0\n",
    "​\n",
    " :μ \n",
    "NY\n",
    "​\n",
    " =μ \n",
    "[Ciudad]\n",
    "​\n",
    " \n",
    "\n",
    "Hipótesis Alternativa (H₁):\n",
    "El tráfico de internet promedio de los usuarios en New York-Newark-Jersey City es diferente al de los usuarios en [nombre de la ciudad a comparar]. \n",
    "𝐻\n",
    "1\n",
    ":\n",
    "𝜇\n",
    "NY\n",
    "≠\n",
    "𝜇\n",
    "[Ciudad]\n",
    "H \n",
    "1\n",
    "​\n",
    " :μ \n",
    "NY\n",
    "​\n",
    " \n",
    "\n",
    "=μ \n",
    "[Ciudad]\n",
    "​\n",
    " \n",
    "\n",
    "Decisión:\n",
    "Si el valor p es mayor que 0.05 (como en la mayoría de los casos), no rechazamos la hipótesis nula. Esto indica que no hay suficiente evidencia para afirmar que el tráfico de internet promedio es significativamente diferente entre los usuarios de New York-Newark-Jersey City y los de [nombre de la ciudad a comparar].\n",
    "\n",
    "\n",
    "Ejemplo basado en Seattle-Tacoma-Bellevue, WA MSA:\n",
    "\n",
    "No rechazamos la hipótesis nula, ya que el valor p (0.9611) es mucho mayor que el nivel de significancia típico de 0.05. Esto indica que no hay suficiente evidencia para afirmar que el tráfico de internet promedio es significativamente diferente entre los usuarios de New York-Newark-Jersey City y los de Seattle-Tacoma-Bellevue, WA MSA.\n",
    "\n",
    "\n",
    "Ejemplo basado en Colorado Springs, CO MSA:\n",
    "\n",
    "Rechazamos la hipótesis nula, ya que el valor p (0.000002) es mucho menor que el nivel de significancia típico de 0.05. Esto indica que hay suficiente evidencia para afirmar que el tráfico de internet promedio es significativamente diferente entre los usuarios de New York-Newark-Jersey City y los de Colorado Springs, CO MSA."
   ]
  },
  {
   "cell_type": "markdown",
   "metadata": {
    "id": "bbTR8UQO0q1T"
   },
   "source": [
    "## Conclusión general\n",
    "\n"
   ]
  },
  {
   "cell_type": "markdown",
   "metadata": {},
   "source": [
    "En este análisis, se logró determinar que los usuarios del plan A tienden a realizar llamadas más largas que los del plan B, lo cual fue respaldado por pruebas estadísticas. También se observó que el consumo de internet es mayor en el plan A, lo que sugiere una mayor demanda de servicios en línea por parte de estos usuarios. Estas conclusiones pueden ayudar a la empresa a ajustar su estrategia de tarifas."
   ]
  }
 ],
 "metadata": {
  "ExecuteTimeLog": [
   {
    "duration": 828,
    "start_time": "2021-11-16T09:21:11.304Z"
   },
   {
    "duration": 893,
    "start_time": "2021-11-16T09:21:17.728Z"
   },
   {
    "duration": 1150,
    "start_time": "2021-11-16T09:21:29.568Z"
   },
   {
    "duration": 3,
    "start_time": "2021-11-16T09:24:14.495Z"
   },
   {
    "duration": 120,
    "start_time": "2021-11-16T09:24:46.630Z"
   },
   {
    "duration": 3,
    "start_time": "2021-11-16T09:28:27.882Z"
   },
   {
    "duration": 4,
    "start_time": "2021-11-16T09:29:54.281Z"
   },
   {
    "duration": 3,
    "start_time": "2021-11-16T09:30:45.936Z"
   },
   {
    "duration": 4,
    "start_time": "2021-11-16T09:31:06.300Z"
   },
   {
    "duration": 113,
    "start_time": "2021-11-16T09:31:37.208Z"
   },
   {
    "duration": 143,
    "start_time": "2021-11-16T09:31:48.656Z"
   },
   {
    "duration": 98,
    "start_time": "2021-11-16T09:31:55.678Z"
   },
   {
    "duration": 3,
    "start_time": "2021-11-16T09:32:08.535Z"
   },
   {
    "duration": 111,
    "start_time": "2021-11-16T09:32:10.120Z"
   },
   {
    "duration": 3,
    "start_time": "2021-11-16T09:32:15.732Z"
   },
   {
    "duration": 4,
    "start_time": "2021-11-16T09:32:29.423Z"
   },
   {
    "duration": 3,
    "start_time": "2021-11-16T10:03:03.074Z"
   },
   {
    "duration": 3,
    "start_time": "2021-11-16T10:10:01.288Z"
   },
   {
    "duration": 3,
    "start_time": "2021-11-16T10:10:46.923Z"
   },
   {
    "duration": 121,
    "start_time": "2021-11-16T10:37:46.494Z"
   },
   {
    "duration": 125,
    "start_time": "2021-11-16T10:38:20.632Z"
   },
   {
    "duration": 112,
    "start_time": "2021-11-16T10:46:53.001Z"
   },
   {
    "duration": 110,
    "start_time": "2021-11-16T10:48:25.775Z"
   },
   {
    "duration": 3,
    "start_time": "2021-11-16T10:50:18.720Z"
   },
   {
    "duration": 4,
    "start_time": "2021-11-16T10:50:37.649Z"
   },
   {
    "duration": 2,
    "start_time": "2021-11-16T10:50:51.884Z"
   },
   {
    "duration": 3,
    "start_time": "2021-11-16T10:51:56.237Z"
   },
   {
    "duration": 101,
    "start_time": "2021-11-16T10:53:13.791Z"
   },
   {
    "duration": 3,
    "start_time": "2021-11-16T10:55:59.186Z"
   },
   {
    "duration": 3,
    "start_time": "2021-11-16T10:56:10.751Z"
   },
   {
    "duration": 3,
    "start_time": "2021-11-16T10:56:49.038Z"
   },
   {
    "duration": 3,
    "start_time": "2021-11-16T10:56:49.174Z"
   },
   {
    "duration": 4,
    "start_time": "2021-11-16T10:56:49.414Z"
   },
   {
    "duration": 3,
    "start_time": "2021-11-16T10:56:49.680Z"
   },
   {
    "duration": 3,
    "start_time": "2021-11-16T10:56:50.370Z"
   },
   {
    "duration": 114,
    "start_time": "2021-11-16T10:59:34.518Z"
   },
   {
    "duration": 3,
    "start_time": "2021-11-16T11:01:41.201Z"
   },
   {
    "duration": 116,
    "start_time": "2021-11-16T11:01:48.754Z"
   },
   {
    "duration": 3,
    "start_time": "2021-11-16T11:02:16.685Z"
   },
   {
    "duration": 3,
    "start_time": "2021-11-16T11:02:19.479Z"
   },
   {
    "duration": 3,
    "start_time": "2021-11-16T11:02:47.067Z"
   },
   {
    "duration": 3,
    "start_time": "2021-11-16T11:02:49.353Z"
   },
   {
    "duration": 3,
    "start_time": "2021-11-16T11:03:07.835Z"
   },
   {
    "duration": 3,
    "start_time": "2021-11-16T11:03:07.953Z"
   },
   {
    "duration": 112,
    "start_time": "2021-11-16T11:07:52.072Z"
   },
   {
    "duration": 187,
    "start_time": "2021-11-16T11:09:23.468Z"
   },
   {
    "duration": 4,
    "start_time": "2021-11-16T11:10:01.455Z"
   },
   {
    "duration": 3,
    "start_time": "2021-11-16T11:10:05.069Z"
   },
   {
    "duration": 4,
    "start_time": "2021-11-16T11:10:13.376Z"
   },
   {
    "duration": 3,
    "start_time": "2021-11-16T11:10:14.434Z"
   },
   {
    "duration": 3,
    "start_time": "2021-11-16T11:10:22.853Z"
   },
   {
    "duration": 4,
    "start_time": "2021-11-16T11:27:29.279Z"
   },
   {
    "duration": 4,
    "start_time": "2021-11-16T11:29:08.919Z"
   },
   {
    "duration": 118,
    "start_time": "2021-11-16T11:29:46.703Z"
   },
   {
    "duration": 437,
    "start_time": "2021-11-16T11:36:02.181Z"
   },
   {
    "duration": 157,
    "start_time": "2021-11-16T11:36:14.388Z"
   },
   {
    "duration": 207,
    "start_time": "2021-11-16T11:47:15.898Z"
   },
   {
    "duration": 3,
    "start_time": "2021-11-16T11:53:52.092Z"
   },
   {
    "duration": 3,
    "start_time": "2021-11-16T11:53:52.236Z"
   },
   {
    "duration": 3,
    "start_time": "2021-11-16T11:59:12.005Z"
   },
   {
    "duration": 112,
    "start_time": "2021-11-16T12:00:33.446Z"
   },
   {
    "duration": 3,
    "start_time": "2021-11-16T12:02:14.453Z"
   },
   {
    "duration": 3,
    "start_time": "2021-11-16T12:02:39.512Z"
   },
   {
    "duration": 106,
    "start_time": "2021-11-16T12:03:03.460Z"
   },
   {
    "duration": 3,
    "start_time": "2021-11-17T20:37:21.139Z"
   },
   {
    "duration": 3,
    "start_time": "2021-11-17T20:37:22.229Z"
   },
   {
    "duration": 3,
    "start_time": "2021-11-17T20:38:38.806Z"
   },
   {
    "duration": 3,
    "start_time": "2021-11-17T20:38:41.958Z"
   },
   {
    "duration": 3,
    "start_time": "2021-11-17T20:43:46.551Z"
   },
   {
    "duration": 4,
    "start_time": "2021-11-17T20:58:21.835Z"
   },
   {
    "duration": 3,
    "start_time": "2021-11-17T20:59:21.872Z"
   },
   {
    "duration": 4,
    "start_time": "2021-11-17T20:59:45.352Z"
   },
   {
    "duration": 4,
    "start_time": "2021-11-17T20:59:49.646Z"
   },
   {
    "duration": 159,
    "start_time": "2021-11-17T21:02:26.949Z"
   },
   {
    "duration": 3,
    "start_time": "2021-11-17T21:03:53.461Z"
   },
   {
    "duration": 3,
    "start_time": "2021-11-17T21:03:53.694Z"
   },
   {
    "duration": 3,
    "start_time": "2021-11-17T21:05:28.145Z"
   },
   {
    "duration": 116,
    "start_time": "2021-11-17T21:05:57.787Z"
   },
   {
    "duration": 3,
    "start_time": "2021-11-17T21:06:37.993Z"
   },
   {
    "duration": 3,
    "start_time": "2021-11-17T21:06:38.261Z"
   },
   {
    "duration": 3,
    "start_time": "2021-11-17T21:11:54.358Z"
   },
   {
    "duration": 3,
    "start_time": "2021-11-17T21:12:43.846Z"
   },
   {
    "duration": 4,
    "start_time": "2021-11-17T21:13:08.773Z"
   },
   {
    "duration": 3,
    "start_time": "2021-11-17T21:14:44.441Z"
   },
   {
    "duration": 3,
    "start_time": "2021-11-17T21:15:42.059Z"
   },
   {
    "duration": 4,
    "start_time": "2021-11-17T21:15:51.995Z"
   },
   {
    "duration": 3,
    "start_time": "2021-11-17T21:15:53.923Z"
   },
   {
    "duration": 3,
    "start_time": "2021-11-17T21:15:55.282Z"
   },
   {
    "duration": 3,
    "start_time": "2021-11-17T21:16:28.492Z"
   },
   {
    "duration": 3,
    "start_time": "2021-11-17T21:16:32.603Z"
   },
   {
    "duration": 3,
    "start_time": "2021-11-17T21:17:06.941Z"
   },
   {
    "duration": 98,
    "start_time": "2021-11-17T21:18:05.733Z"
   },
   {
    "duration": 4,
    "start_time": "2021-11-17T21:21:35.255Z"
   },
   {
    "duration": 3,
    "start_time": "2021-11-17T21:21:37.804Z"
   },
   {
    "duration": 4,
    "start_time": "2021-11-17T21:23:06.071Z"
   },
   {
    "duration": 3,
    "start_time": "2021-11-17T21:23:24.799Z"
   },
   {
    "duration": 3,
    "start_time": "2021-11-17T21:23:32.591Z"
   },
   {
    "duration": 98,
    "start_time": "2021-11-17T21:28:31.559Z"
   },
   {
    "duration": 3,
    "start_time": "2021-11-17T21:28:45.448Z"
   },
   {
    "duration": 3,
    "start_time": "2021-11-17T21:29:17.303Z"
   },
   {
    "duration": 3,
    "start_time": "2021-11-17T21:29:29.617Z"
   },
   {
    "duration": 3,
    "start_time": "2021-11-17T21:29:32.681Z"
   },
   {
    "duration": 3,
    "start_time": "2021-11-17T21:36:11.474Z"
   },
   {
    "duration": 3,
    "start_time": "2021-11-17T21:36:14.791Z"
   },
   {
    "duration": 3,
    "start_time": "2021-11-17T21:36:53.943Z"
   },
   {
    "duration": 3,
    "start_time": "2021-11-17T21:36:56.165Z"
   },
   {
    "duration": 4,
    "start_time": "2021-11-17T21:37:16.590Z"
   },
   {
    "duration": 3,
    "start_time": "2021-11-17T21:37:22.702Z"
   },
   {
    "duration": 4,
    "start_time": "2021-11-17T21:38:03.479Z"
   },
   {
    "duration": 3,
    "start_time": "2021-11-17T21:38:08.601Z"
   },
   {
    "duration": 3,
    "start_time": "2021-11-17T21:38:12.928Z"
   },
   {
    "duration": 3,
    "start_time": "2021-11-17T21:38:48.896Z"
   },
   {
    "duration": 2,
    "start_time": "2021-11-17T21:38:49.171Z"
   },
   {
    "duration": 4,
    "start_time": "2021-11-17T21:39:57.889Z"
   },
   {
    "duration": 3,
    "start_time": "2021-11-17T21:39:58.057Z"
   },
   {
    "duration": 3,
    "start_time": "2021-11-17T21:41:20.108Z"
   },
   {
    "duration": 3,
    "start_time": "2021-11-17T21:41:20.629Z"
   },
   {
    "duration": 3,
    "start_time": "2021-11-17T21:42:49.136Z"
   },
   {
    "duration": 3,
    "start_time": "2021-11-17T21:43:15.137Z"
   },
   {
    "duration": 4,
    "start_time": "2021-11-17T21:43:16.766Z"
   },
   {
    "duration": 4,
    "start_time": "2021-11-17T21:43:31.711Z"
   },
   {
    "duration": 3,
    "start_time": "2021-11-17T21:43:36.312Z"
   },
   {
    "duration": 4,
    "start_time": "2021-11-17T21:45:08.825Z"
   },
   {
    "duration": 4,
    "start_time": "2021-11-17T21:45:10.119Z"
   },
   {
    "duration": 4,
    "start_time": "2021-11-17T21:45:13.748Z"
   },
   {
    "duration": 3,
    "start_time": "2021-11-17T21:45:22.219Z"
   },
   {
    "duration": 3,
    "start_time": "2021-11-17T21:45:33.412Z"
   },
   {
    "duration": 2,
    "start_time": "2021-11-17T21:46:01.885Z"
   },
   {
    "duration": 3,
    "start_time": "2021-11-17T21:46:03.628Z"
   },
   {
    "duration": 107,
    "start_time": "2021-11-17T21:47:32.512Z"
   },
   {
    "duration": 103,
    "start_time": "2021-11-17T21:50:36.243Z"
   },
   {
    "duration": 3,
    "start_time": "2021-11-18T06:28:31.440Z"
   },
   {
    "duration": 3,
    "start_time": "2021-11-18T06:29:00.168Z"
   },
   {
    "duration": 3,
    "start_time": "2021-11-18T06:31:27.008Z"
   },
   {
    "duration": 2,
    "start_time": "2021-11-18T06:35:34.288Z"
   },
   {
    "duration": 2,
    "start_time": "2021-11-18T06:38:04.527Z"
   },
   {
    "duration": 316,
    "start_time": "2024-08-02T05:16:48.941Z"
   },
   {
    "duration": 4467,
    "start_time": "2024-08-02T05:16:53.056Z"
   },
   {
    "duration": 1122,
    "start_time": "2024-08-02T05:16:57.527Z"
   },
   {
    "duration": 0,
    "start_time": "2024-08-02T05:16:58.657Z"
   },
   {
    "duration": 0,
    "start_time": "2024-08-02T05:16:58.668Z"
   },
   {
    "duration": 0,
    "start_time": "2024-08-02T05:16:58.670Z"
   },
   {
    "duration": 0,
    "start_time": "2024-08-02T05:16:58.673Z"
   },
   {
    "duration": 0,
    "start_time": "2024-08-02T05:16:58.676Z"
   },
   {
    "duration": 0,
    "start_time": "2024-08-02T05:16:58.678Z"
   },
   {
    "duration": 0,
    "start_time": "2024-08-02T05:16:58.680Z"
   },
   {
    "duration": 0,
    "start_time": "2024-08-02T05:16:58.683Z"
   },
   {
    "duration": 0,
    "start_time": "2024-08-02T05:16:58.685Z"
   },
   {
    "duration": 0,
    "start_time": "2024-08-02T05:16:58.688Z"
   },
   {
    "duration": 0,
    "start_time": "2024-08-02T05:16:58.691Z"
   },
   {
    "duration": 0,
    "start_time": "2024-08-02T05:16:58.694Z"
   },
   {
    "duration": 0,
    "start_time": "2024-08-02T05:16:58.696Z"
   },
   {
    "duration": 0,
    "start_time": "2024-08-02T05:16:58.699Z"
   },
   {
    "duration": 0,
    "start_time": "2024-08-02T05:16:58.701Z"
   },
   {
    "duration": 1,
    "start_time": "2024-08-02T05:16:58.703Z"
   },
   {
    "duration": 0,
    "start_time": "2024-08-02T05:16:58.706Z"
   },
   {
    "duration": 0,
    "start_time": "2024-08-02T05:16:58.708Z"
   },
   {
    "duration": 0,
    "start_time": "2024-08-02T05:16:58.768Z"
   },
   {
    "duration": 0,
    "start_time": "2024-08-02T05:16:58.770Z"
   },
   {
    "duration": 0,
    "start_time": "2024-08-02T05:16:58.772Z"
   },
   {
    "duration": 0,
    "start_time": "2024-08-02T05:16:58.774Z"
   },
   {
    "duration": 0,
    "start_time": "2024-08-02T05:16:58.775Z"
   },
   {
    "duration": 0,
    "start_time": "2024-08-02T05:16:58.777Z"
   },
   {
    "duration": 0,
    "start_time": "2024-08-02T05:16:58.780Z"
   },
   {
    "duration": 0,
    "start_time": "2024-08-02T05:16:58.782Z"
   },
   {
    "duration": 127,
    "start_time": "2024-08-02T05:18:25.435Z"
   },
   {
    "duration": 128,
    "start_time": "2024-08-02T05:19:49.305Z"
   },
   {
    "duration": 126,
    "start_time": "2024-08-02T05:19:54.896Z"
   },
   {
    "duration": 125,
    "start_time": "2024-08-02T05:20:36.748Z"
   },
   {
    "duration": 401,
    "start_time": "2024-08-02T05:21:43.877Z"
   },
   {
    "duration": 287,
    "start_time": "2024-08-02T05:21:46.994Z"
   },
   {
    "duration": 664,
    "start_time": "2024-08-02T05:21:50.241Z"
   },
   {
    "duration": 317,
    "start_time": "2024-08-02T05:21:50.909Z"
   },
   {
    "duration": 16,
    "start_time": "2024-08-02T05:21:51.229Z"
   },
   {
    "duration": 22,
    "start_time": "2024-08-02T05:21:51.251Z"
   },
   {
    "duration": 16,
    "start_time": "2024-08-02T05:21:51.276Z"
   },
   {
    "duration": 8,
    "start_time": "2024-08-02T05:21:51.296Z"
   },
   {
    "duration": 61,
    "start_time": "2024-08-02T05:21:51.308Z"
   },
   {
    "duration": 7,
    "start_time": "2024-08-02T05:21:51.372Z"
   },
   {
    "duration": 21,
    "start_time": "2024-08-02T05:21:51.382Z"
   },
   {
    "duration": 6,
    "start_time": "2024-08-02T05:21:51.409Z"
   },
   {
    "duration": 65,
    "start_time": "2024-08-02T05:21:51.418Z"
   },
   {
    "duration": 8,
    "start_time": "2024-08-02T05:21:51.486Z"
   },
   {
    "duration": 8,
    "start_time": "2024-08-02T05:21:51.497Z"
   },
   {
    "duration": 94,
    "start_time": "2024-08-02T05:21:51.509Z"
   },
   {
    "duration": 19,
    "start_time": "2024-08-02T05:21:51.606Z"
   },
   {
    "duration": 55,
    "start_time": "2024-08-02T05:21:51.628Z"
   },
   {
    "duration": 37,
    "start_time": "2024-08-02T05:21:51.686Z"
   },
   {
    "duration": 46,
    "start_time": "2024-08-02T05:21:51.726Z"
   },
   {
    "duration": 10,
    "start_time": "2024-08-02T05:21:51.775Z"
   },
   {
    "duration": 20,
    "start_time": "2024-08-02T05:21:51.788Z"
   },
   {
    "duration": 423,
    "start_time": "2024-08-02T05:21:51.810Z"
   },
   {
    "duration": 294,
    "start_time": "2024-08-02T05:21:52.243Z"
   },
   {
    "duration": 27,
    "start_time": "2024-08-02T05:21:52.541Z"
   },
   {
    "duration": 241,
    "start_time": "2024-08-02T05:21:52.571Z"
   },
   {
    "duration": 275,
    "start_time": "2024-08-02T05:21:52.815Z"
   },
   {
    "duration": 295,
    "start_time": "2024-08-02T05:21:53.094Z"
   },
   {
    "duration": 505,
    "start_time": "2024-08-02T05:21:53.394Z"
   },
   {
    "duration": 12,
    "start_time": "2024-08-02T05:21:53.906Z"
   },
   {
    "duration": 4264,
    "start_time": "2024-08-19T13:59:53.453Z"
   },
   {
    "duration": 382,
    "start_time": "2024-08-19T13:59:57.721Z"
   },
   {
    "duration": 16,
    "start_time": "2024-08-19T13:59:58.106Z"
   },
   {
    "duration": 10,
    "start_time": "2024-08-19T13:59:58.127Z"
   },
   {
    "duration": 3,
    "start_time": "2024-08-19T13:59:58.140Z"
   },
   {
    "duration": 6,
    "start_time": "2024-08-19T13:59:58.146Z"
   },
   {
    "duration": 56,
    "start_time": "2024-08-19T13:59:58.155Z"
   },
   {
    "duration": 9,
    "start_time": "2024-08-19T13:59:58.214Z"
   },
   {
    "duration": 4,
    "start_time": "2024-08-19T13:59:58.226Z"
   },
   {
    "duration": 24,
    "start_time": "2024-08-19T13:59:58.237Z"
   },
   {
    "duration": 47,
    "start_time": "2024-08-19T13:59:58.265Z"
   },
   {
    "duration": 412,
    "start_time": "2024-08-19T13:59:58.316Z"
   },
   {
    "duration": 0,
    "start_time": "2024-08-19T13:59:58.732Z"
   },
   {
    "duration": 0,
    "start_time": "2024-08-19T13:59:58.735Z"
   },
   {
    "duration": 1,
    "start_time": "2024-08-19T13:59:58.736Z"
   },
   {
    "duration": 0,
    "start_time": "2024-08-19T13:59:58.738Z"
   },
   {
    "duration": 0,
    "start_time": "2024-08-19T13:59:58.742Z"
   },
   {
    "duration": 0,
    "start_time": "2024-08-19T13:59:58.744Z"
   },
   {
    "duration": 0,
    "start_time": "2024-08-19T13:59:58.745Z"
   },
   {
    "duration": 0,
    "start_time": "2024-08-19T13:59:58.748Z"
   },
   {
    "duration": 0,
    "start_time": "2024-08-19T13:59:58.750Z"
   },
   {
    "duration": 1,
    "start_time": "2024-08-19T13:59:58.751Z"
   },
   {
    "duration": 0,
    "start_time": "2024-08-19T13:59:58.753Z"
   },
   {
    "duration": 0,
    "start_time": "2024-08-19T13:59:58.754Z"
   },
   {
    "duration": 0,
    "start_time": "2024-08-19T13:59:58.757Z"
   },
   {
    "duration": 0,
    "start_time": "2024-08-19T13:59:58.759Z"
   },
   {
    "duration": 0,
    "start_time": "2024-08-19T13:59:58.761Z"
   },
   {
    "duration": 0,
    "start_time": "2024-08-19T13:59:58.809Z"
   },
   {
    "duration": 0,
    "start_time": "2024-08-19T13:59:58.811Z"
   },
   {
    "duration": 0,
    "start_time": "2024-08-19T13:59:58.813Z"
   },
   {
    "duration": 0,
    "start_time": "2024-08-19T13:59:58.815Z"
   },
   {
    "duration": 0,
    "start_time": "2024-08-19T13:59:58.818Z"
   },
   {
    "duration": 0,
    "start_time": "2024-08-19T13:59:58.821Z"
   },
   {
    "duration": 0,
    "start_time": "2024-08-19T13:59:58.824Z"
   },
   {
    "duration": 0,
    "start_time": "2024-08-19T13:59:58.827Z"
   },
   {
    "duration": 0,
    "start_time": "2024-08-19T13:59:58.829Z"
   },
   {
    "duration": 0,
    "start_time": "2024-08-19T13:59:58.830Z"
   },
   {
    "duration": 4360,
    "start_time": "2024-08-21T01:51:43.856Z"
   },
   {
    "duration": 356,
    "start_time": "2024-08-21T01:51:48.219Z"
   },
   {
    "duration": 17,
    "start_time": "2024-08-21T01:51:48.578Z"
   },
   {
    "duration": 13,
    "start_time": "2024-08-21T01:51:48.599Z"
   },
   {
    "duration": 4,
    "start_time": "2024-08-21T01:51:48.615Z"
   },
   {
    "duration": 4,
    "start_time": "2024-08-21T01:51:48.623Z"
   },
   {
    "duration": 16,
    "start_time": "2024-08-21T01:51:48.630Z"
   },
   {
    "duration": 58,
    "start_time": "2024-08-21T01:51:48.649Z"
   },
   {
    "duration": 3,
    "start_time": "2024-08-21T01:51:48.711Z"
   },
   {
    "duration": 24,
    "start_time": "2024-08-21T01:51:48.721Z"
   },
   {
    "duration": 8,
    "start_time": "2024-08-21T01:51:48.748Z"
   },
   {
    "duration": 44,
    "start_time": "2024-08-21T01:51:48.760Z"
   },
   {
    "duration": 108,
    "start_time": "2024-08-21T01:51:48.807Z"
   },
   {
    "duration": 18,
    "start_time": "2024-08-21T01:51:48.918Z"
   },
   {
    "duration": 7,
    "start_time": "2024-08-21T01:51:48.939Z"
   },
   {
    "duration": 3,
    "start_time": "2024-08-21T01:51:48.950Z"
   },
   {
    "duration": 56,
    "start_time": "2024-08-21T01:51:48.956Z"
   },
   {
    "duration": 8,
    "start_time": "2024-08-21T01:51:49.016Z"
   },
   {
    "duration": 7,
    "start_time": "2024-08-21T01:51:49.027Z"
   },
   {
    "duration": 3,
    "start_time": "2024-08-21T01:51:49.037Z"
   },
   {
    "duration": 9,
    "start_time": "2024-08-21T01:51:49.042Z"
   },
   {
    "duration": 44,
    "start_time": "2024-08-21T01:51:49.102Z"
   },
   {
    "duration": 19,
    "start_time": "2024-08-21T01:51:49.149Z"
   },
   {
    "duration": 59,
    "start_time": "2024-08-21T01:51:49.170Z"
   },
   {
    "duration": 36,
    "start_time": "2024-08-21T01:51:49.232Z"
   },
   {
    "duration": 50,
    "start_time": "2024-08-21T01:51:49.271Z"
   },
   {
    "duration": 9,
    "start_time": "2024-08-21T01:51:49.324Z"
   },
   {
    "duration": 18,
    "start_time": "2024-08-21T01:51:49.340Z"
   },
   {
    "duration": 482,
    "start_time": "2024-08-21T01:51:49.360Z"
   },
   {
    "duration": 316,
    "start_time": "2024-08-21T01:51:49.845Z"
   },
   {
    "duration": 12,
    "start_time": "2024-08-21T01:51:50.164Z"
   },
   {
    "duration": 258,
    "start_time": "2024-08-21T01:51:50.179Z"
   },
   {
    "duration": 275,
    "start_time": "2024-08-21T01:51:50.440Z"
   },
   {
    "duration": 294,
    "start_time": "2024-08-21T01:51:50.718Z"
   },
   {
    "duration": 516,
    "start_time": "2024-08-21T01:51:51.015Z"
   },
   {
    "duration": 13,
    "start_time": "2024-08-21T01:51:51.535Z"
   },
   {
    "duration": 675,
    "start_time": "2024-08-21T01:52:28.948Z"
   },
   {
    "duration": 360,
    "start_time": "2024-08-21T01:52:29.627Z"
   },
   {
    "duration": 20,
    "start_time": "2024-08-21T01:52:29.990Z"
   },
   {
    "duration": 11,
    "start_time": "2024-08-21T01:52:30.015Z"
   },
   {
    "duration": 5,
    "start_time": "2024-08-21T01:52:30.031Z"
   },
   {
    "duration": 8,
    "start_time": "2024-08-21T01:52:30.041Z"
   },
   {
    "duration": 66,
    "start_time": "2024-08-21T01:52:30.053Z"
   },
   {
    "duration": 12,
    "start_time": "2024-08-21T01:52:30.122Z"
   },
   {
    "duration": 4,
    "start_time": "2024-08-21T01:52:30.138Z"
   },
   {
    "duration": 73,
    "start_time": "2024-08-21T01:52:30.148Z"
   },
   {
    "duration": 8,
    "start_time": "2024-08-21T01:52:30.225Z"
   },
   {
    "duration": 7,
    "start_time": "2024-08-21T01:52:30.236Z"
   },
   {
    "duration": 129,
    "start_time": "2024-08-21T01:52:30.246Z"
   },
   {
    "duration": 26,
    "start_time": "2024-08-21T01:52:30.379Z"
   },
   {
    "duration": 11,
    "start_time": "2024-08-21T01:52:30.409Z"
   },
   {
    "duration": 12,
    "start_time": "2024-08-21T01:52:30.426Z"
   },
   {
    "duration": 31,
    "start_time": "2024-08-21T01:52:30.445Z"
   },
   {
    "duration": 9,
    "start_time": "2024-08-21T01:52:30.503Z"
   },
   {
    "duration": 8,
    "start_time": "2024-08-21T01:52:30.515Z"
   },
   {
    "duration": 3,
    "start_time": "2024-08-21T01:52:30.526Z"
   },
   {
    "duration": 9,
    "start_time": "2024-08-21T01:52:30.532Z"
   },
   {
    "duration": 91,
    "start_time": "2024-08-21T01:52:30.545Z"
   },
   {
    "duration": 19,
    "start_time": "2024-08-21T01:52:30.640Z"
   },
   {
    "duration": 53,
    "start_time": "2024-08-21T01:52:30.662Z"
   },
   {
    "duration": 44,
    "start_time": "2024-08-21T01:52:30.719Z"
   },
   {
    "duration": 53,
    "start_time": "2024-08-21T01:52:30.767Z"
   },
   {
    "duration": 12,
    "start_time": "2024-08-21T01:52:30.823Z"
   },
   {
    "duration": 22,
    "start_time": "2024-08-21T01:52:30.842Z"
   },
   {
    "duration": 508,
    "start_time": "2024-08-21T01:52:30.867Z"
   },
   {
    "duration": 322,
    "start_time": "2024-08-21T01:52:31.378Z"
   },
   {
    "duration": 12,
    "start_time": "2024-08-21T01:52:31.706Z"
   },
   {
    "duration": 257,
    "start_time": "2024-08-21T01:52:31.721Z"
   },
   {
    "duration": 273,
    "start_time": "2024-08-21T01:52:31.981Z"
   },
   {
    "duration": 324,
    "start_time": "2024-08-21T01:52:32.257Z"
   },
   {
    "duration": 510,
    "start_time": "2024-08-21T01:52:32.586Z"
   },
   {
    "duration": 13,
    "start_time": "2024-08-21T01:52:33.102Z"
   },
   {
    "duration": 2251,
    "start_time": "2024-09-11T01:36:27.319Z"
   },
   {
    "duration": 612,
    "start_time": "2024-09-11T01:36:29.574Z"
   },
   {
    "duration": 0,
    "start_time": "2024-09-11T01:36:30.190Z"
   },
   {
    "duration": 0,
    "start_time": "2024-09-11T01:36:30.191Z"
   },
   {
    "duration": 0,
    "start_time": "2024-09-11T01:36:30.192Z"
   },
   {
    "duration": 0,
    "start_time": "2024-09-11T01:36:30.193Z"
   },
   {
    "duration": 0,
    "start_time": "2024-09-11T01:36:30.205Z"
   },
   {
    "duration": 0,
    "start_time": "2024-09-11T01:36:30.206Z"
   },
   {
    "duration": 0,
    "start_time": "2024-09-11T01:36:30.208Z"
   },
   {
    "duration": 0,
    "start_time": "2024-09-11T01:36:30.209Z"
   },
   {
    "duration": 0,
    "start_time": "2024-09-11T01:36:30.210Z"
   },
   {
    "duration": 0,
    "start_time": "2024-09-11T01:36:30.212Z"
   },
   {
    "duration": 0,
    "start_time": "2024-09-11T01:36:30.213Z"
   },
   {
    "duration": 0,
    "start_time": "2024-09-11T01:36:30.214Z"
   },
   {
    "duration": 0,
    "start_time": "2024-09-11T01:36:30.215Z"
   },
   {
    "duration": 0,
    "start_time": "2024-09-11T01:36:30.216Z"
   },
   {
    "duration": 0,
    "start_time": "2024-09-11T01:36:30.218Z"
   },
   {
    "duration": 0,
    "start_time": "2024-09-11T01:36:30.219Z"
   },
   {
    "duration": 0,
    "start_time": "2024-09-11T01:36:30.220Z"
   },
   {
    "duration": 0,
    "start_time": "2024-09-11T01:36:30.221Z"
   },
   {
    "duration": 0,
    "start_time": "2024-09-11T01:36:30.223Z"
   },
   {
    "duration": 0,
    "start_time": "2024-09-11T01:36:30.226Z"
   },
   {
    "duration": 0,
    "start_time": "2024-09-11T01:36:30.227Z"
   },
   {
    "duration": 0,
    "start_time": "2024-09-11T01:36:30.228Z"
   },
   {
    "duration": 0,
    "start_time": "2024-09-11T01:36:30.230Z"
   },
   {
    "duration": 0,
    "start_time": "2024-09-11T01:36:30.231Z"
   },
   {
    "duration": 0,
    "start_time": "2024-09-11T01:36:30.232Z"
   },
   {
    "duration": 0,
    "start_time": "2024-09-11T01:36:30.233Z"
   },
   {
    "duration": 0,
    "start_time": "2024-09-11T01:36:30.234Z"
   },
   {
    "duration": 0,
    "start_time": "2024-09-11T01:36:30.235Z"
   },
   {
    "duration": 0,
    "start_time": "2024-09-11T01:36:30.236Z"
   },
   {
    "duration": 0,
    "start_time": "2024-09-11T01:36:30.237Z"
   },
   {
    "duration": 0,
    "start_time": "2024-09-11T01:36:30.238Z"
   },
   {
    "duration": 0,
    "start_time": "2024-09-11T01:36:30.239Z"
   },
   {
    "duration": 0,
    "start_time": "2024-09-11T01:36:30.240Z"
   },
   {
    "duration": 0,
    "start_time": "2024-09-11T01:36:30.241Z"
   },
   {
    "duration": 2,
    "start_time": "2024-09-11T01:36:52.277Z"
   },
   {
    "duration": 66,
    "start_time": "2024-09-11T01:36:52.281Z"
   },
   {
    "duration": 0,
    "start_time": "2024-09-11T01:36:52.350Z"
   },
   {
    "duration": 0,
    "start_time": "2024-09-11T01:36:52.351Z"
   },
   {
    "duration": 0,
    "start_time": "2024-09-11T01:36:52.352Z"
   },
   {
    "duration": 0,
    "start_time": "2024-09-11T01:36:52.353Z"
   },
   {
    "duration": 0,
    "start_time": "2024-09-11T01:36:52.355Z"
   },
   {
    "duration": 0,
    "start_time": "2024-09-11T01:36:52.356Z"
   },
   {
    "duration": 0,
    "start_time": "2024-09-11T01:36:52.356Z"
   },
   {
    "duration": 0,
    "start_time": "2024-09-11T01:36:52.358Z"
   },
   {
    "duration": 0,
    "start_time": "2024-09-11T01:36:52.359Z"
   },
   {
    "duration": 0,
    "start_time": "2024-09-11T01:36:52.361Z"
   },
   {
    "duration": 0,
    "start_time": "2024-09-11T01:36:52.362Z"
   },
   {
    "duration": 0,
    "start_time": "2024-09-11T01:36:52.364Z"
   },
   {
    "duration": 0,
    "start_time": "2024-09-11T01:36:52.365Z"
   },
   {
    "duration": 0,
    "start_time": "2024-09-11T01:36:52.367Z"
   },
   {
    "duration": 0,
    "start_time": "2024-09-11T01:36:52.368Z"
   },
   {
    "duration": 0,
    "start_time": "2024-09-11T01:36:52.405Z"
   },
   {
    "duration": 0,
    "start_time": "2024-09-11T01:36:52.407Z"
   },
   {
    "duration": 0,
    "start_time": "2024-09-11T01:36:52.408Z"
   },
   {
    "duration": 0,
    "start_time": "2024-09-11T01:36:52.410Z"
   },
   {
    "duration": 0,
    "start_time": "2024-09-11T01:36:52.411Z"
   },
   {
    "duration": 0,
    "start_time": "2024-09-11T01:36:52.413Z"
   },
   {
    "duration": 0,
    "start_time": "2024-09-11T01:36:52.414Z"
   },
   {
    "duration": 0,
    "start_time": "2024-09-11T01:36:52.414Z"
   },
   {
    "duration": 0,
    "start_time": "2024-09-11T01:36:52.416Z"
   },
   {
    "duration": 0,
    "start_time": "2024-09-11T01:36:52.417Z"
   },
   {
    "duration": 0,
    "start_time": "2024-09-11T01:36:52.418Z"
   },
   {
    "duration": 0,
    "start_time": "2024-09-11T01:36:52.421Z"
   },
   {
    "duration": 0,
    "start_time": "2024-09-11T01:36:52.423Z"
   },
   {
    "duration": 0,
    "start_time": "2024-09-11T01:36:52.424Z"
   },
   {
    "duration": 0,
    "start_time": "2024-09-11T01:36:52.426Z"
   },
   {
    "duration": 0,
    "start_time": "2024-09-11T01:36:52.427Z"
   },
   {
    "duration": 0,
    "start_time": "2024-09-11T01:36:52.429Z"
   },
   {
    "duration": 0,
    "start_time": "2024-09-11T01:36:52.430Z"
   },
   {
    "duration": 0,
    "start_time": "2024-09-11T01:36:52.431Z"
   },
   {
    "duration": 2,
    "start_time": "2024-09-11T01:37:05.240Z"
   },
   {
    "duration": 3,
    "start_time": "2024-09-11T01:37:08.416Z"
   },
   {
    "duration": 3,
    "start_time": "2024-09-11T01:37:09.292Z"
   },
   {
    "duration": 2,
    "start_time": "2024-09-11T01:37:09.720Z"
   },
   {
    "duration": 264,
    "start_time": "2024-09-11T01:41:09.588Z"
   },
   {
    "duration": 2,
    "start_time": "2024-09-11T01:41:27.286Z"
   },
   {
    "duration": 160,
    "start_time": "2024-09-11T01:41:27.290Z"
   },
   {
    "duration": 10,
    "start_time": "2024-09-11T01:41:27.452Z"
   },
   {
    "duration": 5,
    "start_time": "2024-09-11T01:41:27.463Z"
   },
   {
    "duration": 2,
    "start_time": "2024-09-11T01:41:27.471Z"
   },
   {
    "duration": 2,
    "start_time": "2024-09-11T01:41:27.474Z"
   },
   {
    "duration": 28,
    "start_time": "2024-09-11T01:41:27.477Z"
   },
   {
    "duration": 5,
    "start_time": "2024-09-11T01:41:27.506Z"
   },
   {
    "duration": 2,
    "start_time": "2024-09-11T01:41:27.513Z"
   },
   {
    "duration": 14,
    "start_time": "2024-09-11T01:41:27.517Z"
   },
   {
    "duration": 5,
    "start_time": "2024-09-11T01:41:27.534Z"
   },
   {
    "duration": 3,
    "start_time": "2024-09-11T01:41:27.541Z"
   },
   {
    "duration": 79,
    "start_time": "2024-09-11T01:41:27.545Z"
   },
   {
    "duration": 11,
    "start_time": "2024-09-11T01:41:27.625Z"
   },
   {
    "duration": 5,
    "start_time": "2024-09-11T01:41:27.637Z"
   },
   {
    "duration": 3,
    "start_time": "2024-09-11T01:41:27.643Z"
   },
   {
    "duration": 13,
    "start_time": "2024-09-11T01:41:27.648Z"
   },
   {
    "duration": 4,
    "start_time": "2024-09-11T01:41:27.663Z"
   },
   {
    "duration": 40,
    "start_time": "2024-09-11T01:41:27.669Z"
   },
   {
    "duration": 2,
    "start_time": "2024-09-11T01:41:27.711Z"
   },
   {
    "duration": 5,
    "start_time": "2024-09-11T01:41:27.715Z"
   },
   {
    "duration": 25,
    "start_time": "2024-09-11T01:41:27.722Z"
   },
   {
    "duration": 11,
    "start_time": "2024-09-11T01:41:27.748Z"
   },
   {
    "duration": 84,
    "start_time": "2024-09-11T01:41:27.760Z"
   },
   {
    "duration": 17,
    "start_time": "2024-09-11T01:41:27.846Z"
   },
   {
    "duration": 14,
    "start_time": "2024-09-11T01:41:27.865Z"
   },
   {
    "duration": 5,
    "start_time": "2024-09-11T01:41:27.881Z"
   },
   {
    "duration": 422,
    "start_time": "2024-09-11T01:41:27.906Z"
   },
   {
    "duration": 0,
    "start_time": "2024-09-11T01:41:28.330Z"
   },
   {
    "duration": 0,
    "start_time": "2024-09-11T01:41:28.331Z"
   },
   {
    "duration": 0,
    "start_time": "2024-09-11T01:41:28.332Z"
   },
   {
    "duration": 0,
    "start_time": "2024-09-11T01:41:28.334Z"
   },
   {
    "duration": 0,
    "start_time": "2024-09-11T01:41:28.335Z"
   },
   {
    "duration": 0,
    "start_time": "2024-09-11T01:41:28.336Z"
   },
   {
    "duration": 0,
    "start_time": "2024-09-11T01:41:28.338Z"
   },
   {
    "duration": 0,
    "start_time": "2024-09-11T01:41:28.339Z"
   },
   {
    "duration": 6,
    "start_time": "2024-09-11T01:46:50.581Z"
   },
   {
    "duration": 472,
    "start_time": "2024-09-11T14:45:15.612Z"
   },
   {
    "duration": 245,
    "start_time": "2024-09-11T14:45:16.086Z"
   },
   {
    "duration": 11,
    "start_time": "2024-09-11T14:45:16.334Z"
   },
   {
    "duration": 8,
    "start_time": "2024-09-11T14:45:16.347Z"
   },
   {
    "duration": 2,
    "start_time": "2024-09-11T14:45:16.358Z"
   },
   {
    "duration": 2,
    "start_time": "2024-09-11T14:45:16.362Z"
   },
   {
    "duration": 8,
    "start_time": "2024-09-11T14:45:16.366Z"
   },
   {
    "duration": 5,
    "start_time": "2024-09-11T14:45:16.376Z"
   },
   {
    "duration": 3,
    "start_time": "2024-09-11T14:45:16.382Z"
   },
   {
    "duration": 15,
    "start_time": "2024-09-11T14:45:16.387Z"
   },
   {
    "duration": 4,
    "start_time": "2024-09-11T14:45:16.403Z"
   },
   {
    "duration": 3,
    "start_time": "2024-09-11T14:45:16.409Z"
   },
   {
    "duration": 79,
    "start_time": "2024-09-11T14:45:16.414Z"
   },
   {
    "duration": 9,
    "start_time": "2024-09-11T14:45:16.498Z"
   },
   {
    "duration": 4,
    "start_time": "2024-09-11T14:45:16.509Z"
   },
   {
    "duration": 2,
    "start_time": "2024-09-11T14:45:16.515Z"
   },
   {
    "duration": 14,
    "start_time": "2024-09-11T14:45:16.519Z"
   },
   {
    "duration": 10,
    "start_time": "2024-09-11T14:45:16.536Z"
   },
   {
    "duration": 27,
    "start_time": "2024-09-11T14:45:16.548Z"
   },
   {
    "duration": 2,
    "start_time": "2024-09-11T14:45:16.578Z"
   },
   {
    "duration": 5,
    "start_time": "2024-09-11T14:45:16.582Z"
   },
   {
    "duration": 24,
    "start_time": "2024-09-11T14:45:16.590Z"
   },
   {
    "duration": 10,
    "start_time": "2024-09-11T14:45:16.616Z"
   },
   {
    "duration": 52,
    "start_time": "2024-09-11T14:45:16.628Z"
   },
   {
    "duration": 22,
    "start_time": "2024-09-11T14:45:16.682Z"
   },
   {
    "duration": 15,
    "start_time": "2024-09-11T14:45:16.705Z"
   },
   {
    "duration": 5,
    "start_time": "2024-09-11T14:45:16.721Z"
   },
   {
    "duration": 642,
    "start_time": "2024-09-11T14:45:16.727Z"
   },
   {
    "duration": 0,
    "start_time": "2024-09-11T14:45:17.371Z"
   },
   {
    "duration": 0,
    "start_time": "2024-09-11T14:45:17.376Z"
   },
   {
    "duration": 0,
    "start_time": "2024-09-11T14:45:17.377Z"
   },
   {
    "duration": 0,
    "start_time": "2024-09-11T14:45:17.378Z"
   },
   {
    "duration": 0,
    "start_time": "2024-09-11T14:45:17.379Z"
   },
   {
    "duration": 0,
    "start_time": "2024-09-11T14:45:17.381Z"
   },
   {
    "duration": 0,
    "start_time": "2024-09-11T14:45:17.383Z"
   },
   {
    "duration": 0,
    "start_time": "2024-09-11T14:45:17.385Z"
   },
   {
    "duration": 2111,
    "start_time": "2024-09-13T00:14:06.009Z"
   },
   {
    "duration": 255,
    "start_time": "2024-09-13T00:14:08.122Z"
   },
   {
    "duration": 9,
    "start_time": "2024-09-13T00:14:08.379Z"
   },
   {
    "duration": 6,
    "start_time": "2024-09-13T00:14:08.390Z"
   },
   {
    "duration": 3,
    "start_time": "2024-09-13T00:14:08.397Z"
   },
   {
    "duration": 3,
    "start_time": "2024-09-13T00:14:08.401Z"
   },
   {
    "duration": 7,
    "start_time": "2024-09-13T00:14:08.406Z"
   },
   {
    "duration": 5,
    "start_time": "2024-09-13T00:14:08.415Z"
   },
   {
    "duration": 3,
    "start_time": "2024-09-13T00:14:08.421Z"
   },
   {
    "duration": 15,
    "start_time": "2024-09-13T00:14:08.428Z"
   },
   {
    "duration": 5,
    "start_time": "2024-09-13T00:14:08.444Z"
   },
   {
    "duration": 4,
    "start_time": "2024-09-13T00:14:08.450Z"
   },
   {
    "duration": 76,
    "start_time": "2024-09-13T00:14:08.456Z"
   },
   {
    "duration": 11,
    "start_time": "2024-09-13T00:14:08.534Z"
   },
   {
    "duration": 4,
    "start_time": "2024-09-13T00:14:08.547Z"
   },
   {
    "duration": 2,
    "start_time": "2024-09-13T00:14:08.553Z"
   },
   {
    "duration": 11,
    "start_time": "2024-09-13T00:14:08.557Z"
   },
   {
    "duration": 4,
    "start_time": "2024-09-13T00:14:08.569Z"
   },
   {
    "duration": 37,
    "start_time": "2024-09-13T00:14:08.575Z"
   },
   {
    "duration": 2,
    "start_time": "2024-09-13T00:14:08.614Z"
   },
   {
    "duration": 5,
    "start_time": "2024-09-13T00:14:08.618Z"
   },
   {
    "duration": 60,
    "start_time": "2024-09-13T00:14:08.625Z"
   },
   {
    "duration": 31,
    "start_time": "2024-09-13T00:14:08.688Z"
   },
   {
    "duration": 16,
    "start_time": "2024-09-13T00:14:08.720Z"
   },
   {
    "duration": 20,
    "start_time": "2024-09-13T00:14:08.737Z"
   },
   {
    "duration": 15,
    "start_time": "2024-09-13T00:14:08.758Z"
   },
   {
    "duration": 5,
    "start_time": "2024-09-13T00:14:08.774Z"
   },
   {
    "duration": 607,
    "start_time": "2024-09-13T00:14:08.782Z"
   },
   {
    "duration": 0,
    "start_time": "2024-09-13T00:14:09.391Z"
   },
   {
    "duration": 0,
    "start_time": "2024-09-13T00:14:09.393Z"
   },
   {
    "duration": 0,
    "start_time": "2024-09-13T00:14:09.394Z"
   },
   {
    "duration": 0,
    "start_time": "2024-09-13T00:14:09.396Z"
   },
   {
    "duration": 0,
    "start_time": "2024-09-13T00:14:09.397Z"
   },
   {
    "duration": 0,
    "start_time": "2024-09-13T00:14:09.398Z"
   },
   {
    "duration": 0,
    "start_time": "2024-09-13T00:14:09.399Z"
   },
   {
    "duration": 0,
    "start_time": "2024-09-13T00:14:09.411Z"
   },
   {
    "duration": 16,
    "start_time": "2024-09-13T00:14:31.217Z"
   },
   {
    "duration": 3,
    "start_time": "2024-09-20T03:33:33.628Z"
   },
   {
    "duration": 175,
    "start_time": "2024-09-20T03:33:33.635Z"
   },
   {
    "duration": 10,
    "start_time": "2024-09-20T03:33:33.812Z"
   },
   {
    "duration": 5,
    "start_time": "2024-09-20T03:33:33.823Z"
   },
   {
    "duration": 3,
    "start_time": "2024-09-20T03:33:33.830Z"
   },
   {
    "duration": 22,
    "start_time": "2024-09-20T03:33:33.836Z"
   },
   {
    "duration": 8,
    "start_time": "2024-09-20T03:33:33.860Z"
   },
   {
    "duration": 5,
    "start_time": "2024-09-20T03:33:33.870Z"
   },
   {
    "duration": 44,
    "start_time": "2024-09-20T03:33:33.876Z"
   },
   {
    "duration": 13,
    "start_time": "2024-09-20T03:33:33.922Z"
   },
   {
    "duration": 5,
    "start_time": "2024-09-20T03:33:33.936Z"
   },
   {
    "duration": 4,
    "start_time": "2024-09-20T03:33:33.943Z"
   },
   {
    "duration": 64,
    "start_time": "2024-09-20T03:33:33.948Z"
   },
   {
    "duration": 11,
    "start_time": "2024-09-20T03:33:34.014Z"
   },
   {
    "duration": 4,
    "start_time": "2024-09-20T03:33:34.029Z"
   },
   {
    "duration": 18,
    "start_time": "2024-09-20T03:33:34.034Z"
   },
   {
    "duration": 12,
    "start_time": "2024-09-20T03:33:34.054Z"
   },
   {
    "duration": 5,
    "start_time": "2024-09-20T03:33:34.067Z"
   },
   {
    "duration": 4,
    "start_time": "2024-09-20T03:33:34.104Z"
   },
   {
    "duration": 17,
    "start_time": "2024-09-20T03:33:34.109Z"
   },
   {
    "duration": 5,
    "start_time": "2024-09-20T03:33:34.128Z"
   },
   {
    "duration": 30,
    "start_time": "2024-09-20T03:33:34.135Z"
   },
   {
    "duration": 11,
    "start_time": "2024-09-20T03:33:34.166Z"
   },
   {
    "duration": 36,
    "start_time": "2024-09-20T03:33:34.179Z"
   },
   {
    "duration": 19,
    "start_time": "2024-09-20T03:33:34.217Z"
   },
   {
    "duration": 15,
    "start_time": "2024-09-20T03:33:34.237Z"
   },
   {
    "duration": 6,
    "start_time": "2024-09-20T03:33:34.253Z"
   },
   {
    "duration": 10,
    "start_time": "2024-09-20T03:33:34.261Z"
   },
   {
    "duration": 32,
    "start_time": "2024-09-20T03:33:34.273Z"
   },
   {
    "duration": 14,
    "start_time": "2024-09-20T03:33:34.307Z"
   },
   {
    "duration": 231,
    "start_time": "2024-09-20T03:33:34.324Z"
   },
   {
    "duration": 163,
    "start_time": "2024-09-20T03:33:34.557Z"
   },
   {
    "duration": 8,
    "start_time": "2024-09-20T03:33:34.722Z"
   },
   {
    "duration": 143,
    "start_time": "2024-09-20T03:33:34.732Z"
   },
   {
    "duration": 153,
    "start_time": "2024-09-20T03:33:34.878Z"
   },
   {
    "duration": 227,
    "start_time": "2024-09-20T03:33:35.033Z"
   },
   {
    "duration": 2318,
    "start_time": "2024-09-20T03:33:35.262Z"
   },
   {
    "duration": 2395,
    "start_time": "2024-09-20T03:33:37.582Z"
   },
   {
    "duration": 506,
    "start_time": "2024-09-20T03:33:39.979Z"
   },
   {
    "duration": 18,
    "start_time": "2024-09-20T03:33:40.487Z"
   },
   {
    "duration": 2342,
    "start_time": "2024-09-20T21:42:26.463Z"
   },
   {
    "duration": 265,
    "start_time": "2024-09-20T21:42:28.808Z"
   },
   {
    "duration": 10,
    "start_time": "2024-09-20T21:42:29.074Z"
   },
   {
    "duration": 6,
    "start_time": "2024-09-20T21:42:29.087Z"
   },
   {
    "duration": 3,
    "start_time": "2024-09-20T21:42:29.094Z"
   },
   {
    "duration": 26,
    "start_time": "2024-09-20T21:42:29.099Z"
   },
   {
    "duration": 9,
    "start_time": "2024-09-20T21:42:29.126Z"
   },
   {
    "duration": 6,
    "start_time": "2024-09-20T21:42:29.136Z"
   },
   {
    "duration": 18,
    "start_time": "2024-09-20T21:42:29.144Z"
   },
   {
    "duration": 12,
    "start_time": "2024-09-20T21:42:29.166Z"
   },
   {
    "duration": 33,
    "start_time": "2024-09-20T21:42:29.180Z"
   },
   {
    "duration": 3,
    "start_time": "2024-09-20T21:42:29.215Z"
   },
   {
    "duration": 42,
    "start_time": "2024-09-20T21:42:29.220Z"
   },
   {
    "duration": 11,
    "start_time": "2024-09-20T21:42:29.264Z"
   },
   {
    "duration": 4,
    "start_time": "2024-09-20T21:42:29.277Z"
   },
   {
    "duration": 88,
    "start_time": "2024-09-20T21:42:29.283Z"
   },
   {
    "duration": 12,
    "start_time": "2024-09-20T21:42:29.373Z"
   },
   {
    "duration": 23,
    "start_time": "2024-09-20T21:42:29.387Z"
   },
   {
    "duration": 6,
    "start_time": "2024-09-20T21:42:29.412Z"
   },
   {
    "duration": 17,
    "start_time": "2024-09-20T21:42:29.420Z"
   },
   {
    "duration": 5,
    "start_time": "2024-09-20T21:42:29.439Z"
   },
   {
    "duration": 28,
    "start_time": "2024-09-20T21:42:29.446Z"
   },
   {
    "duration": 41,
    "start_time": "2024-09-20T21:42:29.476Z"
   },
   {
    "duration": 20,
    "start_time": "2024-09-20T21:42:29.519Z"
   },
   {
    "duration": 21,
    "start_time": "2024-09-20T21:42:29.540Z"
   },
   {
    "duration": 18,
    "start_time": "2024-09-20T21:42:29.563Z"
   },
   {
    "duration": 30,
    "start_time": "2024-09-20T21:42:29.583Z"
   },
   {
    "duration": 13,
    "start_time": "2024-09-20T21:42:29.617Z"
   },
   {
    "duration": 4,
    "start_time": "2024-09-20T21:42:29.632Z"
   },
   {
    "duration": 14,
    "start_time": "2024-09-20T21:42:29.638Z"
   },
   {
    "duration": 260,
    "start_time": "2024-09-20T21:42:29.654Z"
   },
   {
    "duration": 173,
    "start_time": "2024-09-20T21:42:29.916Z"
   },
   {
    "duration": 20,
    "start_time": "2024-09-20T21:42:30.091Z"
   },
   {
    "duration": 132,
    "start_time": "2024-09-20T21:42:30.113Z"
   },
   {
    "duration": 162,
    "start_time": "2024-09-20T21:42:30.247Z"
   },
   {
    "duration": 169,
    "start_time": "2024-09-20T21:42:30.411Z"
   },
   {
    "duration": 2396,
    "start_time": "2024-09-20T21:42:30.582Z"
   },
   {
    "duration": 2437,
    "start_time": "2024-09-20T21:42:32.980Z"
   },
   {
    "duration": 514,
    "start_time": "2024-09-20T21:42:35.419Z"
   },
   {
    "duration": 7,
    "start_time": "2024-09-20T21:42:35.935Z"
   },
   {
    "duration": 5,
    "start_time": "2024-09-20T21:44:34.279Z"
   },
   {
    "duration": 2129,
    "start_time": "2024-09-21T07:09:57.732Z"
   },
   {
    "duration": 263,
    "start_time": "2024-09-21T07:09:59.863Z"
   },
   {
    "duration": 11,
    "start_time": "2024-09-21T07:10:00.127Z"
   },
   {
    "duration": 6,
    "start_time": "2024-09-21T07:10:00.139Z"
   },
   {
    "duration": 2,
    "start_time": "2024-09-21T07:10:00.147Z"
   },
   {
    "duration": 25,
    "start_time": "2024-09-21T07:10:00.151Z"
   },
   {
    "duration": 9,
    "start_time": "2024-09-21T07:10:00.177Z"
   },
   {
    "duration": 5,
    "start_time": "2024-09-21T07:10:00.187Z"
   },
   {
    "duration": 17,
    "start_time": "2024-09-21T07:10:00.194Z"
   },
   {
    "duration": 41,
    "start_time": "2024-09-21T07:10:00.213Z"
   },
   {
    "duration": 6,
    "start_time": "2024-09-21T07:10:00.256Z"
   },
   {
    "duration": 3,
    "start_time": "2024-09-21T07:10:00.263Z"
   },
   {
    "duration": 40,
    "start_time": "2024-09-21T07:10:00.268Z"
   },
   {
    "duration": 35,
    "start_time": "2024-09-21T07:10:00.311Z"
   },
   {
    "duration": 4,
    "start_time": "2024-09-21T07:10:00.348Z"
   },
   {
    "duration": 17,
    "start_time": "2024-09-21T07:10:00.354Z"
   },
   {
    "duration": 12,
    "start_time": "2024-09-21T07:10:00.372Z"
   },
   {
    "duration": 5,
    "start_time": "2024-09-21T07:10:00.385Z"
   },
   {
    "duration": 4,
    "start_time": "2024-09-21T07:10:00.392Z"
   },
   {
    "duration": 47,
    "start_time": "2024-09-21T07:10:00.398Z"
   },
   {
    "duration": 4,
    "start_time": "2024-09-21T07:10:00.447Z"
   },
   {
    "duration": 66,
    "start_time": "2024-09-21T07:10:00.453Z"
   },
   {
    "duration": 25,
    "start_time": "2024-09-21T07:10:00.521Z"
   },
   {
    "duration": 18,
    "start_time": "2024-09-21T07:10:00.550Z"
   },
   {
    "duration": 22,
    "start_time": "2024-09-21T07:10:00.569Z"
   },
   {
    "duration": 15,
    "start_time": "2024-09-21T07:10:00.592Z"
   },
   {
    "duration": 6,
    "start_time": "2024-09-21T07:10:00.608Z"
   },
   {
    "duration": 15,
    "start_time": "2024-09-21T07:10:00.642Z"
   },
   {
    "duration": 3,
    "start_time": "2024-09-21T07:10:00.659Z"
   },
   {
    "duration": 13,
    "start_time": "2024-09-21T07:10:00.664Z"
   },
   {
    "duration": 245,
    "start_time": "2024-09-21T07:10:00.679Z"
   },
   {
    "duration": 161,
    "start_time": "2024-09-21T07:10:00.926Z"
   },
   {
    "duration": 8,
    "start_time": "2024-09-21T07:10:01.089Z"
   },
   {
    "duration": 139,
    "start_time": "2024-09-21T07:10:01.099Z"
   },
   {
    "duration": 145,
    "start_time": "2024-09-21T07:10:01.243Z"
   },
   {
    "duration": 159,
    "start_time": "2024-09-21T07:10:01.390Z"
   },
   {
    "duration": 112,
    "start_time": "2024-09-21T07:10:01.551Z"
   },
   {
    "duration": 125,
    "start_time": "2024-09-21T07:10:01.664Z"
   },
   {
    "duration": 360,
    "start_time": "2024-09-21T07:10:01.791Z"
   },
   {
    "duration": 7,
    "start_time": "2024-09-21T07:10:02.153Z"
   },
   {
    "duration": 441,
    "start_time": "2024-09-21T13:39:52.126Z"
   },
   {
    "duration": 248,
    "start_time": "2024-09-21T13:39:52.569Z"
   },
   {
    "duration": 9,
    "start_time": "2024-09-21T13:39:52.819Z"
   },
   {
    "duration": 6,
    "start_time": "2024-09-21T13:39:52.830Z"
   },
   {
    "duration": 2,
    "start_time": "2024-09-21T13:39:52.839Z"
   },
   {
    "duration": 24,
    "start_time": "2024-09-21T13:39:52.843Z"
   },
   {
    "duration": 9,
    "start_time": "2024-09-21T13:39:52.868Z"
   },
   {
    "duration": 6,
    "start_time": "2024-09-21T13:39:52.878Z"
   },
   {
    "duration": 16,
    "start_time": "2024-09-21T13:39:52.885Z"
   },
   {
    "duration": 11,
    "start_time": "2024-09-21T13:39:52.932Z"
   },
   {
    "duration": 5,
    "start_time": "2024-09-21T13:39:52.945Z"
   },
   {
    "duration": 3,
    "start_time": "2024-09-21T13:39:52.952Z"
   },
   {
    "duration": 41,
    "start_time": "2024-09-21T13:39:52.956Z"
   },
   {
    "duration": 34,
    "start_time": "2024-09-21T13:39:53.001Z"
   },
   {
    "duration": 5,
    "start_time": "2024-09-21T13:39:53.037Z"
   },
   {
    "duration": 16,
    "start_time": "2024-09-21T13:39:53.043Z"
   },
   {
    "duration": 12,
    "start_time": "2024-09-21T13:39:53.061Z"
   },
   {
    "duration": 5,
    "start_time": "2024-09-21T13:39:53.074Z"
   },
   {
    "duration": 4,
    "start_time": "2024-09-21T13:39:53.080Z"
   },
   {
    "duration": 48,
    "start_time": "2024-09-21T13:39:53.086Z"
   },
   {
    "duration": 5,
    "start_time": "2024-09-21T13:39:53.135Z"
   },
   {
    "duration": 23,
    "start_time": "2024-09-21T13:39:53.141Z"
   },
   {
    "duration": 11,
    "start_time": "2024-09-21T13:39:53.166Z"
   },
   {
    "duration": 16,
    "start_time": "2024-09-21T13:39:53.178Z"
   },
   {
    "duration": 48,
    "start_time": "2024-09-21T13:39:53.196Z"
   },
   {
    "duration": 16,
    "start_time": "2024-09-21T13:39:53.246Z"
   },
   {
    "duration": 5,
    "start_time": "2024-09-21T13:39:53.263Z"
   },
   {
    "duration": 14,
    "start_time": "2024-09-21T13:39:53.270Z"
   },
   {
    "duration": 3,
    "start_time": "2024-09-21T13:39:53.286Z"
   },
   {
    "duration": 42,
    "start_time": "2024-09-21T13:39:53.291Z"
   },
   {
    "duration": 219,
    "start_time": "2024-09-21T13:39:53.335Z"
   },
   {
    "duration": 194,
    "start_time": "2024-09-21T13:39:53.555Z"
   },
   {
    "duration": 8,
    "start_time": "2024-09-21T13:39:53.751Z"
   },
   {
    "duration": 130,
    "start_time": "2024-09-21T13:39:53.760Z"
   },
   {
    "duration": 142,
    "start_time": "2024-09-21T13:39:53.892Z"
   },
   {
    "duration": 155,
    "start_time": "2024-09-21T13:39:54.036Z"
   },
   {
    "duration": 117,
    "start_time": "2024-09-21T13:39:54.193Z"
   },
   {
    "duration": 124,
    "start_time": "2024-09-21T13:39:54.312Z"
   },
   {
    "duration": 355,
    "start_time": "2024-09-21T13:39:54.438Z"
   },
   {
    "duration": 7,
    "start_time": "2024-09-21T13:39:54.795Z"
   },
   {
    "duration": 4,
    "start_time": "2024-09-21T13:40:07.310Z"
   },
   {
    "duration": 4,
    "start_time": "2024-09-21T13:40:13.577Z"
   },
   {
    "duration": 2076,
    "start_time": "2024-09-23T20:06:42.406Z"
   },
   {
    "duration": 258,
    "start_time": "2024-09-23T20:06:44.484Z"
   },
   {
    "duration": 9,
    "start_time": "2024-09-23T20:06:44.744Z"
   },
   {
    "duration": 6,
    "start_time": "2024-09-23T20:06:44.756Z"
   },
   {
    "duration": 2,
    "start_time": "2024-09-23T20:06:44.764Z"
   },
   {
    "duration": 26,
    "start_time": "2024-09-23T20:06:44.767Z"
   },
   {
    "duration": 8,
    "start_time": "2024-09-23T20:06:44.795Z"
   },
   {
    "duration": 20,
    "start_time": "2024-09-23T20:06:44.805Z"
   },
   {
    "duration": 18,
    "start_time": "2024-09-23T20:06:44.827Z"
   },
   {
    "duration": 15,
    "start_time": "2024-09-23T20:06:44.848Z"
   },
   {
    "duration": 5,
    "start_time": "2024-09-23T20:06:44.867Z"
   },
   {
    "duration": 4,
    "start_time": "2024-09-23T20:06:44.874Z"
   },
   {
    "duration": 107,
    "start_time": "2024-09-23T20:06:44.880Z"
   },
   {
    "duration": 10,
    "start_time": "2024-09-23T20:06:44.989Z"
   },
   {
    "duration": 5,
    "start_time": "2024-09-23T20:06:45.000Z"
   },
   {
    "duration": 34,
    "start_time": "2024-09-23T20:06:45.006Z"
   },
   {
    "duration": 13,
    "start_time": "2024-09-23T20:06:45.042Z"
   },
   {
    "duration": 7,
    "start_time": "2024-09-23T20:06:45.057Z"
   },
   {
    "duration": 4,
    "start_time": "2024-09-23T20:06:45.066Z"
   },
   {
    "duration": 18,
    "start_time": "2024-09-23T20:06:45.072Z"
   },
   {
    "duration": 34,
    "start_time": "2024-09-23T20:06:45.092Z"
   },
   {
    "duration": 33,
    "start_time": "2024-09-23T20:06:45.128Z"
   },
   {
    "duration": 17,
    "start_time": "2024-09-23T20:06:45.163Z"
   },
   {
    "duration": 44,
    "start_time": "2024-09-23T20:06:45.185Z"
   },
   {
    "duration": 23,
    "start_time": "2024-09-23T20:06:45.231Z"
   },
   {
    "duration": 15,
    "start_time": "2024-09-23T20:06:45.255Z"
   },
   {
    "duration": 6,
    "start_time": "2024-09-23T20:06:45.271Z"
   },
   {
    "duration": 13,
    "start_time": "2024-09-23T20:06:45.281Z"
   },
   {
    "duration": 29,
    "start_time": "2024-09-23T20:06:45.296Z"
   },
   {
    "duration": 13,
    "start_time": "2024-09-23T20:06:45.327Z"
   },
   {
    "duration": 254,
    "start_time": "2024-09-23T20:06:45.341Z"
   },
   {
    "duration": 172,
    "start_time": "2024-09-23T20:06:45.597Z"
   },
   {
    "duration": 9,
    "start_time": "2024-09-23T20:06:45.771Z"
   },
   {
    "duration": 160,
    "start_time": "2024-09-23T20:06:45.784Z"
   },
   {
    "duration": 149,
    "start_time": "2024-09-23T20:06:45.946Z"
   },
   {
    "duration": 191,
    "start_time": "2024-09-23T20:06:46.097Z"
   },
   {
    "duration": 111,
    "start_time": "2024-09-23T20:06:46.290Z"
   },
   {
    "duration": 115,
    "start_time": "2024-09-23T20:06:46.403Z"
   },
   {
    "duration": 322,
    "start_time": "2024-09-23T20:06:46.524Z"
   },
   {
    "duration": 18,
    "start_time": "2024-09-23T20:06:46.848Z"
   },
   {
    "duration": 2183,
    "start_time": "2024-09-24T17:53:14.631Z"
   },
   {
    "duration": 209,
    "start_time": "2024-09-24T17:53:16.817Z"
   },
   {
    "duration": 9,
    "start_time": "2024-09-24T17:53:17.028Z"
   },
   {
    "duration": 6,
    "start_time": "2024-09-24T17:53:17.039Z"
   },
   {
    "duration": 2,
    "start_time": "2024-09-24T17:53:17.046Z"
   },
   {
    "duration": 25,
    "start_time": "2024-09-24T17:53:17.049Z"
   },
   {
    "duration": 10,
    "start_time": "2024-09-24T17:53:17.075Z"
   },
   {
    "duration": 6,
    "start_time": "2024-09-24T17:53:17.087Z"
   },
   {
    "duration": 19,
    "start_time": "2024-09-24T17:53:17.094Z"
   },
   {
    "duration": 12,
    "start_time": "2024-09-24T17:53:17.116Z"
   },
   {
    "duration": 4,
    "start_time": "2024-09-24T17:53:17.130Z"
   },
   {
    "duration": 7,
    "start_time": "2024-09-24T17:53:17.169Z"
   },
   {
    "duration": 92,
    "start_time": "2024-09-24T17:53:17.178Z"
   },
   {
    "duration": 11,
    "start_time": "2024-09-24T17:53:17.272Z"
   },
   {
    "duration": 4,
    "start_time": "2024-09-24T17:53:17.285Z"
   },
   {
    "duration": 16,
    "start_time": "2024-09-24T17:53:17.291Z"
   },
   {
    "duration": 10,
    "start_time": "2024-09-24T17:53:17.309Z"
   },
   {
    "duration": 4,
    "start_time": "2024-09-24T17:53:17.321Z"
   },
   {
    "duration": 5,
    "start_time": "2024-09-24T17:53:17.327Z"
   },
   {
    "duration": 16,
    "start_time": "2024-09-24T17:53:17.371Z"
   },
   {
    "duration": 4,
    "start_time": "2024-09-24T17:53:17.388Z"
   },
   {
    "duration": 23,
    "start_time": "2024-09-24T17:53:17.394Z"
   },
   {
    "duration": 11,
    "start_time": "2024-09-24T17:53:17.418Z"
   },
   {
    "duration": 42,
    "start_time": "2024-09-24T17:53:17.431Z"
   },
   {
    "duration": 20,
    "start_time": "2024-09-24T17:53:17.475Z"
   },
   {
    "duration": 14,
    "start_time": "2024-09-24T17:53:17.496Z"
   },
   {
    "duration": 5,
    "start_time": "2024-09-24T17:53:17.511Z"
   },
   {
    "duration": 11,
    "start_time": "2024-09-24T17:53:17.521Z"
   },
   {
    "duration": 3,
    "start_time": "2024-09-24T17:53:17.535Z"
   },
   {
    "duration": 39,
    "start_time": "2024-09-24T17:53:17.539Z"
   },
   {
    "duration": 223,
    "start_time": "2024-09-24T17:53:17.581Z"
   },
   {
    "duration": 164,
    "start_time": "2024-09-24T17:53:17.806Z"
   },
   {
    "duration": 8,
    "start_time": "2024-09-24T17:53:17.971Z"
   },
   {
    "duration": 132,
    "start_time": "2024-09-24T17:53:17.981Z"
   },
   {
    "duration": 146,
    "start_time": "2024-09-24T17:53:18.115Z"
   },
   {
    "duration": 212,
    "start_time": "2024-09-24T17:53:18.263Z"
   },
   {
    "duration": 115,
    "start_time": "2024-09-24T17:53:18.476Z"
   },
   {
    "duration": 125,
    "start_time": "2024-09-24T17:53:18.593Z"
   },
   {
    "duration": 312,
    "start_time": "2024-09-24T17:53:18.719Z"
   },
   {
    "duration": 10,
    "start_time": "2024-09-24T17:53:19.033Z"
   },
   {
    "duration": 24,
    "start_time": "2024-09-24T17:53:30.083Z"
   },
   {
    "duration": 4,
    "start_time": "2024-09-24T17:53:40.007Z"
   }
  ],
  "colab": {
   "provenance": []
  },
  "kernelspec": {
   "display_name": "Python 3 (ipykernel)",
   "language": "python",
   "name": "python3"
  },
  "language_info": {
   "codemirror_mode": {
    "name": "ipython",
    "version": 3
   },
   "file_extension": ".py",
   "mimetype": "text/x-python",
   "name": "python",
   "nbconvert_exporter": "python",
   "pygments_lexer": "ipython3",
   "version": "3.12.6"
  },
  "toc": {
   "base_numbering": 1,
   "nav_menu": {},
   "number_sections": true,
   "sideBar": true,
   "skip_h1_title": false,
   "title_cell": "Table of Contents",
   "title_sidebar": "Contents",
   "toc_cell": false,
   "toc_position": {},
   "toc_section_display": true,
   "toc_window_display": true
  }
 },
 "nbformat": 4,
 "nbformat_minor": 1
}
