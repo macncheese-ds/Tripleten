{
 "cells": [
  {
   "cell_type": "markdown",
   "id": "203648fc",
   "metadata": {},
   "source": [
    "\n",
    "# Entrenamiento de Red Neuronal Convolucional con ResNet50\n",
    "\n",
    "Este notebook contiene el código necesario para cargar datos, construir, entrenar y evaluar una red neuronal convolucional para la tarea de regresión de edad utilizando ResNet50.\n",
    "\n",
    "## Pasos incluidos:\n",
    "1. **Cargar los datos:** Usaremos un generador de imágenes para manejar los conjuntos de datos.\n",
    "2. **Crear el modelo:** Utilizaremos ResNet50 con pesos preentrenados en ImageNet.\n",
    "3. **Entrenar el modelo:** Entrenaremos el modelo y evaluaremos su desempeño con la métrica MAE.\n"
   ]
  },
  {
   "cell_type": "code",
   "execution_count": null,
   "id": "09fcf720",
   "metadata": {},
   "outputs": [],
   "source": [
    "\n",
    "import pandas as pd\n",
    "from tensorflow.keras.preprocessing.image import ImageDataGenerator\n",
    "from tensorflow.keras.applications.resnet import ResNet50\n",
    "from tensorflow.keras.layers import GlobalAveragePooling2D, Dense, Dropout\n",
    "from tensorflow.keras.models import Sequential\n",
    "from tensorflow.keras.optimizers import Adam\n"
   ]
  },
  {
   "cell_type": "code",
   "execution_count": null,
   "id": "63441f2f",
   "metadata": {},
   "outputs": [],
   "source": [
    "\n",
    "def load_data(path, subset='training'):\n",
    "    labels = pd.read_csv(path + 'labels.csv')\n",
    "    \n",
    "    # Preprocesamiento de imágenes\n",
    "    data_datagen = ImageDataGenerator(\n",
    "        rescale=1./255,         # Normalizar los valores de píxeles\n",
    "        validation_split=0.2    # División en conjunto de validación\n",
    "    )\n",
    "    \n",
    "    data_gen_flow = data_datagen.flow_from_dataframe(\n",
    "        dataframe=labels,\n",
    "        directory=path + 'final_files/',  # Directorio de imágenes\n",
    "        x_col='file_name',\n",
    "        y_col='real_age',\n",
    "        target_size=(224, 224),           # Tamaño esperado por ResNet50\n",
    "        batch_size=16,\n",
    "        class_mode='raw',                 # Tarea de regresión\n",
    "        subset=subset,                    # Subconjunto de entrenamiento o validación\n",
    "        seed=12345                        # Reproducibilidad\n",
    "    )\n",
    "\n",
    "    return data_gen_flow\n"
   ]
  },
  {
   "cell_type": "code",
   "execution_count": null,
   "id": "4283317a",
   "metadata": {},
   "outputs": [],
   "source": [
    "\n",
    "def create_model(input_shape):\n",
    "    # Base de ResNet50 con pesos preentrenados\n",
    "    backbone = ResNet50(weights='imagenet', \n",
    "                        input_shape=input_shape, \n",
    "                        include_top=False)\n",
    "\n",
    "    # Crear el modelo completo\n",
    "    model = Sequential()\n",
    "    model.add(backbone)  # Modelo base\n",
    "    model.add(GlobalAveragePooling2D())  # Reducción de dimensionalidad\n",
    "    model.add(Dense(128, activation='relu'))  # Capa intermedia\n",
    "    model.add(Dropout(0.5))  # Regularización\n",
    "    model.add(Dense(1, activation='relu'))  # Salida para la regresión\n",
    "\n",
    "    # Compilación del modelo\n",
    "    optimizer = Adam(learning_rate=0.0005)\n",
    "    model.compile(optimizer=optimizer, loss='mse', metrics=['mae'])\n",
    "\n",
    "    return model\n"
   ]
  },
  {
   "cell_type": "code",
   "execution_count": null,
   "id": "ef17ced9",
   "metadata": {},
   "outputs": [],
   "source": [
    "\n",
    "def train_model(model, train_data, test_data, batch_size=None, epochs=3):\n",
    "    # Entrenamiento del modelo\n",
    "    model.fit(\n",
    "        train_data, \n",
    "        validation_data=test_data, \n",
    "        batch_size=batch_size, \n",
    "        epochs=epochs,\n",
    "        verbose=2\n",
    "    )\n",
    "    return model\n"
   ]
  },
  {
   "cell_type": "code",
   "execution_count": null,
   "id": "89021209",
   "metadata": {},
   "outputs": [],
   "source": [
    "\n",
    "# Configuración inicial\n",
    "input_shape = (224, 224, 3)  # Formato de las imágenes\n",
    "train = load_data('/datasets/train/')  # Cargar datos de entrenamiento\n",
    "test = load_data('/datasets/test/', subset='validation')  # Cargar datos de validación\n",
    "\n",
    "# Crear y entrenar el modelo\n",
    "model = create_model(input_shape)\n",
    "model = train_model(model, train, test, batch_size=16, epochs=3)\n",
    "\n",
    "# Guardar el modelo entrenado\n",
    "model.save('age_prediction_model.h5')\n"
   ]
  }
 ],
 "metadata": {},
 "nbformat": 4,
 "nbformat_minor": 5
}
