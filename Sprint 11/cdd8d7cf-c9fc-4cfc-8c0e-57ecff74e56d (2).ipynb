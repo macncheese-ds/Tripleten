{
 "cells": [
  {
   "cell_type": "markdown",
   "metadata": {},
   "source": [
    "# ¡Hola Marcelo! 😊\n",
    "\n",
    "Mi nombre es **Alejandro Castellanos** y hoy tengo el placer de ser el revisor de tu proyecto.\n",
    "\n",
    "Voy a revisar todo tu código con detalle, buscando tanto los puntos fuertes como aquellos en los que podrías mejorar. Te dejaré comentarios a lo largo del notebook, destacando lo que has hecho bien y sugiriendo ajustes donde sea necesario. Si encuentro algún error, no te preocupes, te lo haré saber de forma clara y te daré información útil para que puedas corregirlo en la próxima. Si en algún punto tienes comentarios, siéntete libre de dejarlos también.\n",
    "\n",
    "\n",
    "Encontrarás mis comentarios específicos dentro de cajas verdes, amarillas o rojas, es muy importante que no muevas, modifiques o borres mis comentarios, con el fin de tener un seguimiento adecuado de tu proceso.:\n",
    "\n",
    "\n",
    "<div class=\"alert alert-block alert-success\">\n",
    "<b>Comentario del revisor</b> <a class=“tocSkip”></a>\n",
    "Si todo está perfecto.\n",
    "</div>\n",
    "\n",
    "<div class=\"alert alert-block alert-warning\">\n",
    "<b>Comentario del revisor</b> <a class=“tocSkip”></a>\n",
    "Si tu código está bien pero se puede mejorar o hay algún detalle que le hace falta.\n",
    "</div>\n",
    "\n",
    "<div class=\"alert alert-block alert-danger\">\n",
    "<b>Comentario del revisor</b> <a class=“tocSkip”></a>\n",
    "Si de pronto hace falta algo o existe algún problema con tu código o conclusiones.\n",
    "</div>\n",
    "\n",
    "Puedes responderme de esta forma:\n",
    "<div class=\"alert alert-block alert-info\">\n",
    "<b>Respuesta del estudiante</b> <a class=“tocSkip”></a>\n",
    "</div>\n",
    "\n",
    "A continuación te dejaré un comentario general con mi valoración del proyecto. **¡Mi objetivo es que sigas aprendiendo y mejorando con cada paso!**"
   ]
  },
  {
   "cell_type": "markdown",
   "metadata": {},
   "source": [
    "-----"
   ]
  },
  {
   "cell_type": "markdown",
   "metadata": {},
   "source": [
    "<div class=\"alert alert-block alert-danger\">\n",
    "<b>Comentario del revisor (1ra Iteración)</b> <a class=“tocSkip”></a>\n",
    "    \n",
    "Marcelo he revisado tu proyecto y veo que faltaron algunas partes importantes en el desarrollo de las tareas requeridas. Es posible que haya sido un error al subir el notebook, pero para que el proyecto sea aprobado, es necesario que completes todas las secciones de manera correcta. Además, sería muy valioso si pudieras incluir un análisis y conclusiones en cada sección, ya que esto le dará mayor profundidad a la información presentada. Te invito a que revises el proyecto, completes las tareas pendientes y añadas el análisis y conclusiones correspondientes. Estoy seguro de que con un poco más de trabajo, podrás presentar un proyecto sólido y de alta calidad. Cuento con que puedas hacer los ajustes necesarios 👀\n",
    "\n",
    "</div>"
   ]
  },
  {
   "cell_type": "markdown",
   "metadata": {},
   "source": [
    "----"
   ]
  },
  {
   "cell_type": "markdown",
   "metadata": {},
   "source": [
    "# Descripción"
   ]
  },
  {
   "cell_type": "markdown",
   "metadata": {},
   "source": [
    "La compañía de seguros Sure Tomorrow quiere resolver varias tareas con la ayuda de machine learning y te pide que evalúes esa posibilidad.\n",
    "- Tarea 1: encontrar clientes que sean similares a un cliente determinado. Esto ayudará a los agentes de la compañía con el marketing.\n",
    "- Tarea 2: predecir la probabilidad de que un nuevo cliente reciba una prestación del seguro. ¿Puede un modelo de predictivo funcionar mejor que un modelo dummy?\n",
    "- Tarea 3: predecir el número de prestaciones de seguro que un nuevo cliente pueda recibir utilizando un modelo de regresión lineal.\n",
    "- Tarea 4: proteger los datos personales de los clientes sin afectar al modelo del ejercicio anterior. Es necesario desarrollar un algoritmo de transformación de datos que dificulte la recuperación de la información personal si los datos caen en manos equivocadas. Esto se denomina enmascaramiento u ofuscación de datos. Pero los datos deben protegerse de tal manera que no se vea afectada la calidad de los modelos de machine learning. No es necesario elegir el mejor modelo, basta con demostrar que el algoritmo funciona correctamente.\n"
   ]
  },
  {
   "cell_type": "markdown",
   "metadata": {},
   "source": [
    "# Preprocesamiento y exploración de datos\n",
    "\n",
    "## Inicialización"
   ]
  },
  {
   "cell_type": "code",
   "execution_count": 35,
   "metadata": {},
   "outputs": [],
   "source": [
    "import numpy as np\n",
    "import pandas as pd\n",
    "import math\n",
    "\n",
    "import seaborn as sns\n",
    "\n",
    "import sklearn.linear_model\n",
    "import sklearn.metrics\n",
    "import sklearn.neighbors\n",
    "import sklearn.preprocessing\n",
    "\n",
    "from sklearn.model_selection import train_test_split\n",
    "from sklearn.neighbors import NearestNeighbors\n",
    "from sklearn.preprocessing import MaxAbsScaler\n",
    "from sklearn.neighbors import KNeighborsClassifier\n",
    "from sklearn.dummy import DummyClassifier\n",
    "from sklearn.metrics import f1_score\n",
    "from sklearn.metrics import classification_report\n",
    "from sklearn.metrics import mean_squared_error, r2_score\n",
    "from sklearn.linear_model import LinearRegression\n",
    "\n",
    "\n",
    "from IPython.display import display"
   ]
  },
  {
   "cell_type": "markdown",
   "metadata": {},
   "source": [
    "## Carga de datos"
   ]
  },
  {
   "cell_type": "markdown",
   "metadata": {},
   "source": [
    "Carga los datos y haz una revisión básica para comprobar que no hay problemas obvios."
   ]
  },
  {
   "cell_type": "code",
   "execution_count": 36,
   "metadata": {},
   "outputs": [],
   "source": [
    "df = pd.read_csv('insurance_us.csv')"
   ]
  },
  {
   "cell_type": "markdown",
   "metadata": {},
   "source": [
    "Renombramos las columnas para que el código se vea más coherente con su estilo."
   ]
  },
  {
   "cell_type": "code",
   "execution_count": 37,
   "metadata": {},
   "outputs": [],
   "source": [
    "df = df.rename(columns={'Gender': 'gender', 'Age': 'age', 'Salary': 'income', 'Family members': 'family_members', 'Insurance benefits': 'insurance_benefits'})"
   ]
  },
  {
   "cell_type": "code",
   "execution_count": 38,
   "metadata": {},
   "outputs": [
    {
     "data": {
      "text/html": [
       "<div>\n",
       "<style scoped>\n",
       "    .dataframe tbody tr th:only-of-type {\n",
       "        vertical-align: middle;\n",
       "    }\n",
       "\n",
       "    .dataframe tbody tr th {\n",
       "        vertical-align: top;\n",
       "    }\n",
       "\n",
       "    .dataframe thead th {\n",
       "        text-align: right;\n",
       "    }\n",
       "</style>\n",
       "<table border=\"1\" class=\"dataframe\">\n",
       "  <thead>\n",
       "    <tr style=\"text-align: right;\">\n",
       "      <th></th>\n",
       "      <th>gender</th>\n",
       "      <th>age</th>\n",
       "      <th>income</th>\n",
       "      <th>family_members</th>\n",
       "      <th>insurance_benefits</th>\n",
       "    </tr>\n",
       "  </thead>\n",
       "  <tbody>\n",
       "    <tr>\n",
       "      <th>678</th>\n",
       "      <td>1</td>\n",
       "      <td>33.0</td>\n",
       "      <td>40900.0</td>\n",
       "      <td>1</td>\n",
       "      <td>0</td>\n",
       "    </tr>\n",
       "    <tr>\n",
       "      <th>3860</th>\n",
       "      <td>1</td>\n",
       "      <td>21.0</td>\n",
       "      <td>44100.0</td>\n",
       "      <td>0</td>\n",
       "      <td>0</td>\n",
       "    </tr>\n",
       "    <tr>\n",
       "      <th>460</th>\n",
       "      <td>1</td>\n",
       "      <td>26.0</td>\n",
       "      <td>31600.0</td>\n",
       "      <td>3</td>\n",
       "      <td>0</td>\n",
       "    </tr>\n",
       "    <tr>\n",
       "      <th>4419</th>\n",
       "      <td>1</td>\n",
       "      <td>32.0</td>\n",
       "      <td>18700.0</td>\n",
       "      <td>0</td>\n",
       "      <td>0</td>\n",
       "    </tr>\n",
       "    <tr>\n",
       "      <th>1852</th>\n",
       "      <td>0</td>\n",
       "      <td>27.0</td>\n",
       "      <td>57500.0</td>\n",
       "      <td>2</td>\n",
       "      <td>0</td>\n",
       "    </tr>\n",
       "    <tr>\n",
       "      <th>2396</th>\n",
       "      <td>1</td>\n",
       "      <td>33.0</td>\n",
       "      <td>30800.0</td>\n",
       "      <td>3</td>\n",
       "      <td>0</td>\n",
       "    </tr>\n",
       "    <tr>\n",
       "      <th>863</th>\n",
       "      <td>1</td>\n",
       "      <td>42.0</td>\n",
       "      <td>23500.0</td>\n",
       "      <td>1</td>\n",
       "      <td>1</td>\n",
       "    </tr>\n",
       "    <tr>\n",
       "      <th>4299</th>\n",
       "      <td>0</td>\n",
       "      <td>22.0</td>\n",
       "      <td>25000.0</td>\n",
       "      <td>3</td>\n",
       "      <td>0</td>\n",
       "    </tr>\n",
       "    <tr>\n",
       "      <th>1859</th>\n",
       "      <td>0</td>\n",
       "      <td>32.0</td>\n",
       "      <td>34900.0</td>\n",
       "      <td>2</td>\n",
       "      <td>0</td>\n",
       "    </tr>\n",
       "    <tr>\n",
       "      <th>4503</th>\n",
       "      <td>0</td>\n",
       "      <td>49.0</td>\n",
       "      <td>36900.0</td>\n",
       "      <td>0</td>\n",
       "      <td>2</td>\n",
       "    </tr>\n",
       "  </tbody>\n",
       "</table>\n",
       "</div>"
      ],
      "text/plain": [
       "      gender   age   income  family_members  insurance_benefits\n",
       "678        1  33.0  40900.0               1                   0\n",
       "3860       1  21.0  44100.0               0                   0\n",
       "460        1  26.0  31600.0               3                   0\n",
       "4419       1  32.0  18700.0               0                   0\n",
       "1852       0  27.0  57500.0               2                   0\n",
       "2396       1  33.0  30800.0               3                   0\n",
       "863        1  42.0  23500.0               1                   1\n",
       "4299       0  22.0  25000.0               3                   0\n",
       "1859       0  32.0  34900.0               2                   0\n",
       "4503       0  49.0  36900.0               0                   2"
      ]
     },
     "execution_count": 38,
     "metadata": {},
     "output_type": "execute_result"
    }
   ],
   "source": [
    "df.sample(10)"
   ]
  },
  {
   "cell_type": "code",
   "execution_count": 39,
   "metadata": {},
   "outputs": [
    {
     "name": "stdout",
     "output_type": "stream",
     "text": [
      "<class 'pandas.core.frame.DataFrame'>\n",
      "RangeIndex: 5000 entries, 0 to 4999\n",
      "Data columns (total 5 columns):\n",
      " #   Column              Non-Null Count  Dtype  \n",
      "---  ------              --------------  -----  \n",
      " 0   gender              5000 non-null   int64  \n",
      " 1   age                 5000 non-null   float64\n",
      " 2   income              5000 non-null   float64\n",
      " 3   family_members      5000 non-null   int64  \n",
      " 4   insurance_benefits  5000 non-null   int64  \n",
      "dtypes: float64(2), int64(3)\n",
      "memory usage: 195.4 KB\n"
     ]
    }
   ],
   "source": [
    "df.info()"
   ]
  },
  {
   "cell_type": "code",
   "execution_count": 40,
   "metadata": {},
   "outputs": [],
   "source": [
    "df['age'] = df['age'].astype(int)\n"
   ]
  },
  {
   "cell_type": "code",
   "execution_count": 41,
   "metadata": {},
   "outputs": [
    {
     "name": "stdout",
     "output_type": "stream",
     "text": [
      "int64\n"
     ]
    }
   ],
   "source": [
    "print(df['age'].dtype)"
   ]
  },
  {
   "cell_type": "code",
   "execution_count": 42,
   "metadata": {},
   "outputs": [
    {
     "data": {
      "text/html": [
       "<div>\n",
       "<style scoped>\n",
       "    .dataframe tbody tr th:only-of-type {\n",
       "        vertical-align: middle;\n",
       "    }\n",
       "\n",
       "    .dataframe tbody tr th {\n",
       "        vertical-align: top;\n",
       "    }\n",
       "\n",
       "    .dataframe thead th {\n",
       "        text-align: right;\n",
       "    }\n",
       "</style>\n",
       "<table border=\"1\" class=\"dataframe\">\n",
       "  <thead>\n",
       "    <tr style=\"text-align: right;\">\n",
       "      <th></th>\n",
       "      <th>gender</th>\n",
       "      <th>age</th>\n",
       "      <th>income</th>\n",
       "      <th>family_members</th>\n",
       "      <th>insurance_benefits</th>\n",
       "    </tr>\n",
       "  </thead>\n",
       "  <tbody>\n",
       "    <tr>\n",
       "      <th>1276</th>\n",
       "      <td>1</td>\n",
       "      <td>23</td>\n",
       "      <td>41900.0</td>\n",
       "      <td>2</td>\n",
       "      <td>0</td>\n",
       "    </tr>\n",
       "    <tr>\n",
       "      <th>2445</th>\n",
       "      <td>0</td>\n",
       "      <td>37</td>\n",
       "      <td>36700.0</td>\n",
       "      <td>2</td>\n",
       "      <td>0</td>\n",
       "    </tr>\n",
       "    <tr>\n",
       "      <th>518</th>\n",
       "      <td>1</td>\n",
       "      <td>33</td>\n",
       "      <td>38100.0</td>\n",
       "      <td>2</td>\n",
       "      <td>0</td>\n",
       "    </tr>\n",
       "    <tr>\n",
       "      <th>2002</th>\n",
       "      <td>1</td>\n",
       "      <td>36</td>\n",
       "      <td>25600.0</td>\n",
       "      <td>1</td>\n",
       "      <td>0</td>\n",
       "    </tr>\n",
       "    <tr>\n",
       "      <th>3902</th>\n",
       "      <td>1</td>\n",
       "      <td>21</td>\n",
       "      <td>38600.0</td>\n",
       "      <td>1</td>\n",
       "      <td>0</td>\n",
       "    </tr>\n",
       "    <tr>\n",
       "      <th>4777</th>\n",
       "      <td>1</td>\n",
       "      <td>18</td>\n",
       "      <td>38500.0</td>\n",
       "      <td>2</td>\n",
       "      <td>0</td>\n",
       "    </tr>\n",
       "    <tr>\n",
       "      <th>3003</th>\n",
       "      <td>0</td>\n",
       "      <td>39</td>\n",
       "      <td>19300.0</td>\n",
       "      <td>2</td>\n",
       "      <td>0</td>\n",
       "    </tr>\n",
       "    <tr>\n",
       "      <th>4440</th>\n",
       "      <td>0</td>\n",
       "      <td>48</td>\n",
       "      <td>36300.0</td>\n",
       "      <td>0</td>\n",
       "      <td>1</td>\n",
       "    </tr>\n",
       "    <tr>\n",
       "      <th>4687</th>\n",
       "      <td>0</td>\n",
       "      <td>38</td>\n",
       "      <td>36400.0</td>\n",
       "      <td>1</td>\n",
       "      <td>0</td>\n",
       "    </tr>\n",
       "    <tr>\n",
       "      <th>3931</th>\n",
       "      <td>0</td>\n",
       "      <td>37</td>\n",
       "      <td>31600.0</td>\n",
       "      <td>0</td>\n",
       "      <td>0</td>\n",
       "    </tr>\n",
       "  </tbody>\n",
       "</table>\n",
       "</div>"
      ],
      "text/plain": [
       "      gender  age   income  family_members  insurance_benefits\n",
       "1276       1   23  41900.0               2                   0\n",
       "2445       0   37  36700.0               2                   0\n",
       "518        1   33  38100.0               2                   0\n",
       "2002       1   36  25600.0               1                   0\n",
       "3902       1   21  38600.0               1                   0\n",
       "4777       1   18  38500.0               2                   0\n",
       "3003       0   39  19300.0               2                   0\n",
       "4440       0   48  36300.0               0                   1\n",
       "4687       0   38  36400.0               1                   0\n",
       "3931       0   37  31600.0               0                   0"
      ]
     },
     "execution_count": 42,
     "metadata": {},
     "output_type": "execute_result"
    }
   ],
   "source": [
    "df = df.rename(columns={'Gender': 'gender', 'Age': 'age', 'Salary': 'income', 'Family members': 'family_members', 'Insurance benefits': 'insurance_benefits'})\n",
    "df.sample(10)"
   ]
  },
  {
   "cell_type": "markdown",
   "metadata": {},
   "source": [
    "<div class=\"alert alert-block alert-danger\">\n",
    "<b>Comentario del revisor (1ra Iteración)</b> <a class=“tocSkip”></a>\n",
    "\n",
    "Cargaste de manera correcta las librerías necesarias y el dataset del proyecto.\n",
    "    \n",
    "Sin embargo debes realizar las tareas solicitadas como cambiar el tipo de variable a *edad* y relizar las estadísticas descriptivas de los datos.\n",
    "\n",
    "</div>"
   ]
  },
  {
   "cell_type": "markdown",
   "metadata": {},
   "source": [
    "## Análisis exploratorio de datos"
   ]
  },
  {
   "cell_type": "markdown",
   "metadata": {},
   "source": [
    "Vamos a comprobar rápidamente si existen determinados grupos de clientes observando el gráfico de pares."
   ]
  },
  {
   "cell_type": "code",
   "execution_count": 43,
   "metadata": {},
   "outputs": [
    {
     "data": {
      "image/png": "[encoded data removed]",
      "text/plain": [
       "<Figure size 1200x1200 with 30 Axes>"
      ]
     },
     "metadata": {},
     "output_type": "display_data"
    }
   ],
   "source": [
    "g = sns.pairplot(df, kind='hist')\n",
    "g.fig.set_size_inches(12, 12)"
   ]
  },
  {
   "cell_type": "markdown",
   "metadata": {},
   "source": [
    "De acuerdo, es un poco complicado detectar grupos obvios (clústeres) ya que es difícil combinar diversas variables simultáneamente (para analizar distribuciones multivariadas). Ahí es donde LA y ML pueden ser bastante útiles."
   ]
  },
  {
   "cell_type": "markdown",
   "metadata": {},
   "source": [
    "# Tarea 1. Clientes similares"
   ]
  },
  {
   "cell_type": "markdown",
   "metadata": {},
   "source": [
    "En el lenguaje de ML, es necesario desarrollar un procedimiento que devuelva los k vecinos más cercanos (objetos) para un objeto dado basándose en la distancia entre los objetos.\n",
    "Es posible que quieras revisar las siguientes lecciones (capítulo -> lección)- Distancia entre vectores -> Distancia euclidiana\n",
    "- Distancia entre vectores -> Distancia Manhattan\n",
    "\n",
    "Para resolver la tarea, podemos probar diferentes métricas de distancia."
   ]
  },
  {
   "cell_type": "markdown",
   "metadata": {},
   "source": [
    "Escribe una función que devuelva los k vecinos más cercanos para un $n^{th}$ objeto basándose en una métrica de distancia especificada. A la hora de realizar esta tarea no debe tenerse en cuenta el número de prestaciones de seguro recibidas.\n",
    "Puedes utilizar una implementación ya existente del algoritmo kNN de scikit-learn (consulta [el enlace](https://scikit-learn.org/stable/modules/generated/sklearn.neighbors.NearestNeighbors.html#sklearn.neighbors.NearestNeighbors)) o tu propia implementación.\n",
    "Pruébalo para cuatro combinaciones de dos casos- Escalado\n",
    "  - los datos no están escalados\n",
    "  - los datos se escalan con el escalador [MaxAbsScaler](https://scikit-learn.org/stable/modules/generated/sklearn.preprocessing.MaxAbsScaler.html)\n",
    "- Métricas de distancia\n",
    "  - Euclidiana\n",
    "  - Manhattan\n",
    "\n",
    "Responde a estas preguntas:- ¿El hecho de que los datos no estén escalados afecta al algoritmo kNN? Si es así, ¿cómo se manifiesta?- ¿Qué tan similares son los resultados al utilizar la métrica de distancia Manhattan (independientemente del escalado)?"
   ]
  },
  {
   "cell_type": "markdown",
   "metadata": {},
   "source": [
    "<div class=\"alert alert-block alert-danger\">\n",
    "<b>Comentario del revisor (1ra Iteración)</b> <a class=“tocSkip”></a>\n",
    "    \n",
    "Marcelo, veo que a partir de acá no has desarrollado el código necesario para cumplir con los requrimientos del proyecto. Recuerda que debes realizar todas las secciones de manera correcta para que el proyecto sea aprobado.\n",
    "\n",
    "</div>"
   ]
  },
  {
   "cell_type": "code",
   "execution_count": 44,
   "metadata": {},
   "outputs": [],
   "source": [
    "feature_names = ['gender', 'age', 'income', 'family_members']"
   ]
  },
  {
   "cell_type": "code",
   "execution_count": 45,
   "metadata": {},
   "outputs": [],
   "source": [
    "from sklearn.neighbors import NearestNeighbors\n",
    "from sklearn.preprocessing import MaxAbsScaler\n",
    "import numpy as np\n",
    "\n",
    "feature_names = ['Gender', 'Age', 'Salary', 'Family members']\n",
    "\n",
    "def get_knn(df, n, k, metric, scale_data=False):\n",
    "    \"\"\"\n",
    "    Devuelve los k vecinos más cercanos\n",
    "    \n",
    "    :param df: DataFrame de pandas utilizado para encontrar objetos similares\n",
    "    :param n: índice del objeto para el cual se buscan los vecinos más cercanos\n",
    "    :param k: número de vecinos más cercanos a devolver\n",
    "    :param metric: nombre de la métrica de distancia ('euclidean' o 'manhattan')\n",
    "    :param scale_data: si True, escala los datos con MaxAbsScaler antes de encontrar vecinos\n",
    "    \"\"\"\n",
    "    \n",
    "    # Seleccionamos las características a usar y convertimos a numpy si es necesario\n",
    "    data = df[feature_names]\n",
    "    \n",
    "    if scale_data:\n",
    "        scaler = MaxAbsScaler()\n",
    "        data = scaler.fit_transform(data)\n",
    "    else:\n",
    "        data = data.to_numpy()  # Convertimos a numpy explícitamente si no está escalado\n",
    "    \n",
    "    # Inicializamos el modelo kNN con la métrica especificada\n",
    "    nbrs = NearestNeighbors(n_neighbors=k, metric=metric)\n",
    "    nbrs.fit(data)\n",
    "    \n",
    "    # Aseguramos que data[n] es una fila con las dimensiones correctas\n",
    "    query_instance = data[n].reshape(1, -1)\n",
    "    \n",
    "    # Encontrar los k vecinos más cercanos para el objeto en la posición n\n",
    "    distances, indices = nbrs.kneighbors(query_instance, n_neighbors=k, return_distance=True)\n",
    "    \n",
    "    # Crear un DataFrame de resultados\n",
    "    df_res = pd.concat([\n",
    "        df.iloc[indices[0]].reset_index(drop=True), \n",
    "        pd.DataFrame(distances[0], columns=['distance'])\n",
    "    ], axis=1)\n",
    "    \n",
    "    return df_res\n"
   ]
  },
  {
   "cell_type": "markdown",
   "metadata": {},
   "source": [
    "Escalar datos."
   ]
  },
  {
   "cell_type": "code",
   "execution_count": 46,
   "metadata": {},
   "outputs": [
    {
     "name": "stderr",
     "output_type": "stream",
     "text": [
      "C:\\Users\\mm131\\AppData\\Local\\Temp\\ipykernel_36568\\760832288.py:6: FutureWarning: Setting an item of incompatible dtype is deprecated and will raise in a future error of pandas. Value '[0.63076923 0.70769231 0.44615385 ... 0.30769231 0.33846154 0.43076923]' has dtype incompatible with int64, please explicitly cast to a compatible dtype first.\n",
      "  df_scaled.loc[:, feature_names] = transformer_mas.transform(df[feature_names].to_numpy())\n",
      "C:\\Users\\mm131\\AppData\\Local\\Temp\\ipykernel_36568\\760832288.py:6: FutureWarning: Setting an item of incompatible dtype is deprecated and will raise in a future error of pandas. Value '[0.16666667 0.16666667 0.         ... 0.33333333 0.5        0.16666667]' has dtype incompatible with int64, please explicitly cast to a compatible dtype first.\n",
      "  df_scaled.loc[:, feature_names] = transformer_mas.transform(df[feature_names].to_numpy())\n"
     ]
    }
   ],
   "source": [
    "feature_names = ['gender', 'age', 'income', 'family_members']\n",
    "\n",
    "transformer_mas = sklearn.preprocessing.MaxAbsScaler().fit(df[feature_names].to_numpy())\n",
    "\n",
    "df_scaled = df.copy()\n",
    "df_scaled.loc[:, feature_names] = transformer_mas.transform(df[feature_names].to_numpy())"
   ]
  },
  {
   "cell_type": "code",
   "execution_count": 47,
   "metadata": {},
   "outputs": [
    {
     "data": {
      "text/html": [
       "<div>\n",
       "<style scoped>\n",
       "    .dataframe tbody tr th:only-of-type {\n",
       "        vertical-align: middle;\n",
       "    }\n",
       "\n",
       "    .dataframe tbody tr th {\n",
       "        vertical-align: top;\n",
       "    }\n",
       "\n",
       "    .dataframe thead th {\n",
       "        text-align: right;\n",
       "    }\n",
       "</style>\n",
       "<table border=\"1\" class=\"dataframe\">\n",
       "  <thead>\n",
       "    <tr style=\"text-align: right;\">\n",
       "      <th></th>\n",
       "      <th>gender</th>\n",
       "      <th>age</th>\n",
       "      <th>income</th>\n",
       "      <th>family_members</th>\n",
       "      <th>insurance_benefits</th>\n",
       "    </tr>\n",
       "  </thead>\n",
       "  <tbody>\n",
       "    <tr>\n",
       "      <th>512</th>\n",
       "      <td>0</td>\n",
       "      <td>0.476923</td>\n",
       "      <td>0.274684</td>\n",
       "      <td>0.166667</td>\n",
       "      <td>0</td>\n",
       "    </tr>\n",
       "  </tbody>\n",
       "</table>\n",
       "</div>"
      ],
      "text/plain": [
       "     gender       age    income  family_members  insurance_benefits\n",
       "512       0  0.476923  0.274684        0.166667                   0"
      ]
     },
     "execution_count": 47,
     "metadata": {},
     "output_type": "execute_result"
    }
   ],
   "source": [
    "df_scaled.sample(1)"
   ]
  },
  {
   "cell_type": "markdown",
   "metadata": {},
   "source": [
    "Ahora, vamos a obtener registros similares para uno determinado, para cada combinación"
   ]
  },
  {
   "cell_type": "code",
   "execution_count": 48,
   "metadata": {},
   "outputs": [
    {
     "data": {
      "text/html": [
       "<div>\n",
       "<style scoped>\n",
       "    .dataframe tbody tr th:only-of-type {\n",
       "        vertical-align: middle;\n",
       "    }\n",
       "\n",
       "    .dataframe tbody tr th {\n",
       "        vertical-align: top;\n",
       "    }\n",
       "\n",
       "    .dataframe thead th {\n",
       "        text-align: right;\n",
       "    }\n",
       "</style>\n",
       "<table border=\"1\" class=\"dataframe\">\n",
       "  <thead>\n",
       "    <tr style=\"text-align: right;\">\n",
       "      <th></th>\n",
       "      <th>gender</th>\n",
       "      <th>age</th>\n",
       "      <th>income</th>\n",
       "      <th>family_members</th>\n",
       "      <th>insurance_benefits</th>\n",
       "      <th>distance</th>\n",
       "    </tr>\n",
       "  </thead>\n",
       "  <tbody>\n",
       "    <tr>\n",
       "      <th>0</th>\n",
       "      <td>1</td>\n",
       "      <td>41</td>\n",
       "      <td>49600.0</td>\n",
       "      <td>1</td>\n",
       "      <td>0</td>\n",
       "      <td>0.000000</td>\n",
       "    </tr>\n",
       "    <tr>\n",
       "      <th>1</th>\n",
       "      <td>1</td>\n",
       "      <td>41</td>\n",
       "      <td>49600.0</td>\n",
       "      <td>0</td>\n",
       "      <td>0</td>\n",
       "      <td>1.000000</td>\n",
       "    </tr>\n",
       "    <tr>\n",
       "      <th>2</th>\n",
       "      <td>0</td>\n",
       "      <td>42</td>\n",
       "      <td>49600.0</td>\n",
       "      <td>0</td>\n",
       "      <td>1</td>\n",
       "      <td>1.732051</td>\n",
       "    </tr>\n",
       "    <tr>\n",
       "      <th>3</th>\n",
       "      <td>1</td>\n",
       "      <td>44</td>\n",
       "      <td>49600.0</td>\n",
       "      <td>2</td>\n",
       "      <td>1</td>\n",
       "      <td>3.162278</td>\n",
       "    </tr>\n",
       "    <tr>\n",
       "      <th>4</th>\n",
       "      <td>0</td>\n",
       "      <td>38</td>\n",
       "      <td>49600.0</td>\n",
       "      <td>0</td>\n",
       "      <td>0</td>\n",
       "      <td>3.316625</td>\n",
       "    </tr>\n",
       "  </tbody>\n",
       "</table>\n",
       "</div>"
      ],
      "text/plain": [
       "   gender  age   income  family_members  insurance_benefits  distance\n",
       "0       1   41  49600.0               1                   0  0.000000\n",
       "1       1   41  49600.0               0                   0  1.000000\n",
       "2       0   42  49600.0               0                   1  1.732051\n",
       "3       1   44  49600.0               2                   1  3.162278\n",
       "4       0   38  49600.0               0                   0  3.316625"
      ]
     },
     "execution_count": 48,
     "metadata": {},
     "output_type": "execute_result"
    }
   ],
   "source": [
    "df.reset_index(drop=True, inplace=True)\n",
    "result1 = get_knn(df, n=0, k=5, metric='euclidean', scale_data=False)\n",
    "result1"
   ]
  },
  {
   "cell_type": "code",
   "execution_count": 49,
   "metadata": {},
   "outputs": [
    {
     "data": {
      "text/html": [
       "<div>\n",
       "<style scoped>\n",
       "    .dataframe tbody tr th:only-of-type {\n",
       "        vertical-align: middle;\n",
       "    }\n",
       "\n",
       "    .dataframe tbody tr th {\n",
       "        vertical-align: top;\n",
       "    }\n",
       "\n",
       "    .dataframe thead th {\n",
       "        text-align: right;\n",
       "    }\n",
       "</style>\n",
       "<table border=\"1\" class=\"dataframe\">\n",
       "  <thead>\n",
       "    <tr style=\"text-align: right;\">\n",
       "      <th></th>\n",
       "      <th>gender</th>\n",
       "      <th>age</th>\n",
       "      <th>income</th>\n",
       "      <th>family_members</th>\n",
       "      <th>insurance_benefits</th>\n",
       "      <th>distance</th>\n",
       "    </tr>\n",
       "  </thead>\n",
       "  <tbody>\n",
       "    <tr>\n",
       "      <th>0</th>\n",
       "      <td>1</td>\n",
       "      <td>41</td>\n",
       "      <td>49600.0</td>\n",
       "      <td>1</td>\n",
       "      <td>0</td>\n",
       "      <td>0.0</td>\n",
       "    </tr>\n",
       "    <tr>\n",
       "      <th>1</th>\n",
       "      <td>1</td>\n",
       "      <td>41</td>\n",
       "      <td>49600.0</td>\n",
       "      <td>0</td>\n",
       "      <td>0</td>\n",
       "      <td>1.0</td>\n",
       "    </tr>\n",
       "    <tr>\n",
       "      <th>2</th>\n",
       "      <td>0</td>\n",
       "      <td>42</td>\n",
       "      <td>49600.0</td>\n",
       "      <td>0</td>\n",
       "      <td>1</td>\n",
       "      <td>3.0</td>\n",
       "    </tr>\n",
       "    <tr>\n",
       "      <th>3</th>\n",
       "      <td>1</td>\n",
       "      <td>44</td>\n",
       "      <td>49600.0</td>\n",
       "      <td>2</td>\n",
       "      <td>1</td>\n",
       "      <td>4.0</td>\n",
       "    </tr>\n",
       "    <tr>\n",
       "      <th>4</th>\n",
       "      <td>1</td>\n",
       "      <td>37</td>\n",
       "      <td>49600.0</td>\n",
       "      <td>2</td>\n",
       "      <td>0</td>\n",
       "      <td>5.0</td>\n",
       "    </tr>\n",
       "  </tbody>\n",
       "</table>\n",
       "</div>"
      ],
      "text/plain": [
       "   gender  age   income  family_members  insurance_benefits  distance\n",
       "0       1   41  49600.0               1                   0       0.0\n",
       "1       1   41  49600.0               0                   0       1.0\n",
       "2       0   42  49600.0               0                   1       3.0\n",
       "3       1   44  49600.0               2                   1       4.0\n",
       "4       1   37  49600.0               2                   0       5.0"
      ]
     },
     "execution_count": 49,
     "metadata": {},
     "output_type": "execute_result"
    }
   ],
   "source": [
    "result2 = get_knn(df, n=0, k=5, metric='manhattan', scale_data=False)\n",
    "result2"
   ]
  },
  {
   "cell_type": "code",
   "execution_count": 50,
   "metadata": {},
   "outputs": [
    {
     "data": {
      "text/html": [
       "<div>\n",
       "<style scoped>\n",
       "    .dataframe tbody tr th:only-of-type {\n",
       "        vertical-align: middle;\n",
       "    }\n",
       "\n",
       "    .dataframe tbody tr th {\n",
       "        vertical-align: top;\n",
       "    }\n",
       "\n",
       "    .dataframe thead th {\n",
       "        text-align: right;\n",
       "    }\n",
       "</style>\n",
       "<table border=\"1\" class=\"dataframe\">\n",
       "  <thead>\n",
       "    <tr style=\"text-align: right;\">\n",
       "      <th></th>\n",
       "      <th>gender</th>\n",
       "      <th>age</th>\n",
       "      <th>income</th>\n",
       "      <th>family_members</th>\n",
       "      <th>insurance_benefits</th>\n",
       "      <th>distance</th>\n",
       "    </tr>\n",
       "  </thead>\n",
       "  <tbody>\n",
       "    <tr>\n",
       "      <th>0</th>\n",
       "      <td>1</td>\n",
       "      <td>41</td>\n",
       "      <td>49600.0</td>\n",
       "      <td>1</td>\n",
       "      <td>0</td>\n",
       "      <td>0.000000</td>\n",
       "    </tr>\n",
       "    <tr>\n",
       "      <th>1</th>\n",
       "      <td>1</td>\n",
       "      <td>41</td>\n",
       "      <td>50100.0</td>\n",
       "      <td>1</td>\n",
       "      <td>0</td>\n",
       "      <td>0.006329</td>\n",
       "    </tr>\n",
       "    <tr>\n",
       "      <th>2</th>\n",
       "      <td>1</td>\n",
       "      <td>40</td>\n",
       "      <td>50300.0</td>\n",
       "      <td>1</td>\n",
       "      <td>0</td>\n",
       "      <td>0.017754</td>\n",
       "    </tr>\n",
       "    <tr>\n",
       "      <th>3</th>\n",
       "      <td>1</td>\n",
       "      <td>42</td>\n",
       "      <td>50400.0</td>\n",
       "      <td>1</td>\n",
       "      <td>1</td>\n",
       "      <td>0.018418</td>\n",
       "    </tr>\n",
       "    <tr>\n",
       "      <th>4</th>\n",
       "      <td>1</td>\n",
       "      <td>42</td>\n",
       "      <td>51500.0</td>\n",
       "      <td>1</td>\n",
       "      <td>1</td>\n",
       "      <td>0.028550</td>\n",
       "    </tr>\n",
       "  </tbody>\n",
       "</table>\n",
       "</div>"
      ],
      "text/plain": [
       "   gender  age   income  family_members  insurance_benefits  distance\n",
       "0       1   41  49600.0               1                   0  0.000000\n",
       "1       1   41  50100.0               1                   0  0.006329\n",
       "2       1   40  50300.0               1                   0  0.017754\n",
       "3       1   42  50400.0               1                   1  0.018418\n",
       "4       1   42  51500.0               1                   1  0.028550"
      ]
     },
     "execution_count": 50,
     "metadata": {},
     "output_type": "execute_result"
    }
   ],
   "source": [
    "result3 = get_knn(df, n=0, k=5, metric='euclidean', scale_data=True)\n",
    "result3"
   ]
  },
  {
   "cell_type": "code",
   "execution_count": 51,
   "metadata": {},
   "outputs": [
    {
     "data": {
      "text/html": [
       "<div>\n",
       "<style scoped>\n",
       "    .dataframe tbody tr th:only-of-type {\n",
       "        vertical-align: middle;\n",
       "    }\n",
       "\n",
       "    .dataframe tbody tr th {\n",
       "        vertical-align: top;\n",
       "    }\n",
       "\n",
       "    .dataframe thead th {\n",
       "        text-align: right;\n",
       "    }\n",
       "</style>\n",
       "<table border=\"1\" class=\"dataframe\">\n",
       "  <thead>\n",
       "    <tr style=\"text-align: right;\">\n",
       "      <th></th>\n",
       "      <th>gender</th>\n",
       "      <th>age</th>\n",
       "      <th>income</th>\n",
       "      <th>family_members</th>\n",
       "      <th>insurance_benefits</th>\n",
       "      <th>distance</th>\n",
       "    </tr>\n",
       "  </thead>\n",
       "  <tbody>\n",
       "    <tr>\n",
       "      <th>0</th>\n",
       "      <td>1</td>\n",
       "      <td>41</td>\n",
       "      <td>49600.0</td>\n",
       "      <td>1</td>\n",
       "      <td>0</td>\n",
       "      <td>0.000000</td>\n",
       "    </tr>\n",
       "    <tr>\n",
       "      <th>1</th>\n",
       "      <td>1</td>\n",
       "      <td>41</td>\n",
       "      <td>50100.0</td>\n",
       "      <td>1</td>\n",
       "      <td>0</td>\n",
       "      <td>0.006329</td>\n",
       "    </tr>\n",
       "    <tr>\n",
       "      <th>2</th>\n",
       "      <td>1</td>\n",
       "      <td>40</td>\n",
       "      <td>50300.0</td>\n",
       "      <td>1</td>\n",
       "      <td>0</td>\n",
       "      <td>0.024245</td>\n",
       "    </tr>\n",
       "    <tr>\n",
       "      <th>3</th>\n",
       "      <td>1</td>\n",
       "      <td>42</td>\n",
       "      <td>50400.0</td>\n",
       "      <td>1</td>\n",
       "      <td>1</td>\n",
       "      <td>0.025511</td>\n",
       "    </tr>\n",
       "    <tr>\n",
       "      <th>4</th>\n",
       "      <td>1</td>\n",
       "      <td>41</td>\n",
       "      <td>47100.0</td>\n",
       "      <td>1</td>\n",
       "      <td>0</td>\n",
       "      <td>0.031646</td>\n",
       "    </tr>\n",
       "  </tbody>\n",
       "</table>\n",
       "</div>"
      ],
      "text/plain": [
       "   gender  age   income  family_members  insurance_benefits  distance\n",
       "0       1   41  49600.0               1                   0  0.000000\n",
       "1       1   41  50100.0               1                   0  0.006329\n",
       "2       1   40  50300.0               1                   0  0.024245\n",
       "3       1   42  50400.0               1                   1  0.025511\n",
       "4       1   41  47100.0               1                   0  0.031646"
      ]
     },
     "execution_count": 51,
     "metadata": {},
     "output_type": "execute_result"
    }
   ],
   "source": [
    "result4 = get_knn(df, n=0, k=5, metric='manhattan', scale_data=True)\n",
    "result4"
   ]
  },
  {
   "cell_type": "markdown",
   "metadata": {},
   "source": [
    "Respuestas a las preguntas"
   ]
  },
  {
   "cell_type": "markdown",
   "metadata": {},
   "source": [
    "**¿El hecho de que los datos no estén escalados afecta al algoritmo kNN? Si es así, ¿cómo se manifiesta?** \n",
    "Sí, la falta de escalado en los datos puede afectar significativamente el algoritmo kNN. Esto se debe a que el algoritmo se basa en la distancia entre puntos para determinar los vecinos más cercanos, y sin escalado:\n",
    "\n",
    "Las características con valores en rangos más amplios tendrán un peso mayor en la distancia total. Por ejemplo, si una característica varía entre 1 y 1000 mientras que otra varía entre 1 y 10, la primera dominará la distancia total, incluso si no es la más relevante para el modelo.\n",
    "Esto puede llevar a un sesgo en la selección de vecinos hacia puntos que son similares solo en las características de mayor rango, afectando la precisión del modelo y la representatividad de los vecinos encontrados.\n",
    "Para kNN, es recomendable escalar los datos para asegurar que todas las características contribuyan de manera equitativa a las distancias calculadas, obteniendo así resultados más confiables y generalizables."
   ]
  },
  {
   "cell_type": "markdown",
   "metadata": {},
   "source": [
    "**¿Qué tan similares son los resultados al utilizar la métrica de distancia Manhattan (independientemente del escalado)?** \n",
    "\n",
    "La similitud de los resultados entre las métricas Euclidiana y Manhattan depende de la distribución de los datos y las relaciones entre las características. En términos generales:\n",
    "\n",
    "Ambas métricas tienden a devolver vecinos similares cuando los datos están bien distribuidos y las características tienen una influencia proporcional entre sí.\n",
    "La métrica Manhattan (distancia en línea recta) es menos sensible a valores extremos en una sola característica en comparación con la Euclidiana (distancia en línea diagonal). Por eso, si existe alguna característica con un rango muy amplio o valores atípicos, los resultados pueden variar significativamente entre ambas métricas.\n",
    "En resumen, los resultados pueden ser similares, pero en ciertos casos específicos, como con datos sesgados o características con amplios rangos, es probable que se observen diferencias notables."
   ]
  },
  {
   "cell_type": "markdown",
   "metadata": {},
   "source": [
    "# Tarea 2. ¿Es probable que el cliente reciba una prestación del seguro?"
   ]
  },
  {
   "cell_type": "markdown",
   "metadata": {},
   "source": [
    "En términos de machine learning podemos considerarlo como una tarea de clasificación binaria."
   ]
  },
  {
   "cell_type": "markdown",
   "metadata": {},
   "source": [
    "Con el valor de `insurance_benefits` superior a cero como objetivo, evalúa si el enfoque de clasificación kNN puede funcionar mejor que el modelo dummy.\n",
    "Instrucciones:\n",
    "- Construye un clasificador basado en KNN y mide su calidad con la métrica F1 para k=1...10 tanto para los datos originales como para los escalados. Sería interesante observar cómo k puede influir en la métrica de evaluación y si el escalado de los datos provoca alguna diferencia. Puedes utilizar una implementación ya existente del algoritmo de clasificación kNN de scikit-learn (consulta [el enlace](https://scikit-learn.org/stable/modules/generated/sklearn.neighbors.KNeighborsClassifier.html)) o tu propia implementación.- Construye un modelo dummy que, en este caso, es simplemente un modelo aleatorio. Debería devolver \"1\" con cierta probabilidad. Probemos el modelo con cuatro valores de probabilidad: 0, la probabilidad de pagar cualquier prestación del seguro, 0.5, 1.\n",
    "La probabilidad de pagar cualquier prestación del seguro puede definirse como\n",
    "$$\n",
    "P\\{\\text{prestación de seguro recibida}\\}=\\frac{\\text{número de clientes que han recibido alguna prestación de seguro}}{\\text{número total de clientes}}.\n",
    "$$\n",
    "\n",
    "Divide todos los datos correspondientes a las etapas de entrenamiento/prueba respetando la proporción 70:30."
   ]
  },
  {
   "cell_type": "code",
   "execution_count": 52,
   "metadata": {},
   "outputs": [
    {
     "name": "stdout",
     "output_type": "stream",
     "text": [
      "Index(['gender', 'age', 'income', 'family_members', 'insurance_benefits'], dtype='object')\n"
     ]
    }
   ],
   "source": [
    "print(df.columns)\n"
   ]
  },
  {
   "cell_type": "code",
   "execution_count": 53,
   "metadata": {},
   "outputs": [
    {
     "data": {
      "text/plain": [
       "([np.float64(0.5963636363636363),\n",
       "  np.float64(0.3333333333333333),\n",
       "  np.float64(0.3436123348017621),\n",
       "  np.float64(0.21875),\n",
       "  np.float64(0.25742574257425743),\n",
       "  np.float64(0.0903954802259887),\n",
       "  np.float64(0.0893854748603352),\n",
       "  np.float64(0.03488372093023256),\n",
       "  np.float64(0.04597701149425287),\n",
       "  np.float64(0.023391812865497075)],\n",
       " [np.float64(0.9101796407185628),\n",
       "  np.float64(0.9148264984227129),\n",
       "  np.float64(0.9353846153846154),\n",
       "  np.float64(0.8896103896103896),\n",
       "  np.float64(0.9153605015673981),\n",
       "  np.float64(0.8918032786885246),\n",
       "  np.float64(0.9206349206349206),\n",
       "  np.float64(0.8925081433224755),\n",
       "  np.float64(0.9240506329113924),\n",
       "  np.float64(0.8918032786885246)],\n",
       " [(0, np.float64(0.0)),\n",
       "  (np.float64(0.11285714285714285), np.float64(0.10919540229885058)),\n",
       "  (0.5, np.float64(0.10919540229885058)),\n",
       "  (1, np.float64(0.2025164769322948))])"
      ]
     },
     "execution_count": 53,
     "metadata": {},
     "output_type": "execute_result"
    }
   ],
   "source": [
    "df['insurance_benefits_received'] = df['insurance_benefits'] > 0\n",
    "\n",
    "# Separar características y objetivo\n",
    "X = df[['gender', 'age', 'income', 'family_members']]\n",
    "y = df['insurance_benefits_received'].astype(int)  # Convertir booleano a entero para clasificación\n",
    "\n",
    "# Dividir los datos en conjuntos de entrenamiento y prueba (70:30)\n",
    "X_train, X_test, y_train, y_test = train_test_split(X, y, test_size=0.3, random_state=42, stratify=y)\n",
    "\n",
    "# Escalar los datos\n",
    "scaler = MaxAbsScaler()\n",
    "X_train_scaled = scaler.fit_transform(X_train)\n",
    "X_test_scaled = scaler.transform(X_test)\n",
    "\n",
    "# Inicializar listas para almacenar resultados F1\n",
    "f1_scores_original = []\n",
    "f1_scores_scaled = []\n",
    "\n",
    "# Probar kNN con k=1 a 10\n",
    "for k in range(1, 11):\n",
    "    # Modelo kNN sin escalado\n",
    "    knn_original = KNeighborsClassifier(n_neighbors=k)\n",
    "    knn_original.fit(X_train, y_train)\n",
    "    y_pred_original = knn_original.predict(X_test)\n",
    "    f1_original = f1_score(y_test, y_pred_original)\n",
    "    f1_scores_original.append(f1_original)\n",
    "    \n",
    "    # Modelo kNN con escalado\n",
    "    knn_scaled = KNeighborsClassifier(n_neighbors=k)\n",
    "    knn_scaled.fit(X_train_scaled, y_train)\n",
    "    y_pred_scaled = knn_scaled.predict(X_test_scaled)\n",
    "    f1_scaled = f1_score(y_test, y_pred_scaled)\n",
    "    f1_scores_scaled.append(f1_scaled)\n",
    "\n",
    "# Probabilidad de recibir una prestación de seguro\n",
    "p_benefit = y_train.mean()\n",
    "\n",
    "# Modelos Dummy\n",
    "dummy_probs = [0, p_benefit, 0.5, 1]\n",
    "f1_scores_dummy = []\n",
    "\n",
    "for prob in dummy_probs:\n",
    "    dummy = DummyClassifier(strategy='constant', constant=1 if prob == 1 else 0 if prob == 0 else 'uniform', random_state=42)\n",
    "    if prob not in [0, 1]:  # Asignar probabilidad de `p_benefit` o `0.5` usando `stratified`\n",
    "        dummy = DummyClassifier(strategy='stratified', random_state=42)\n",
    "    dummy.fit(X_train, y_train)\n",
    "    y_dummy_pred = dummy.predict(X_test)\n",
    "    f1_dummy = f1_score(y_test, y_dummy_pred)\n",
    "    f1_scores_dummy.append((prob, f1_dummy))\n",
    "\n",
    "f1_scores_original, f1_scores_scaled, f1_scores_dummy"
   ]
  },
  {
   "cell_type": "code",
   "execution_count": 54,
   "metadata": {},
   "outputs": [
    {
     "data": {
      "text/plain": [
       "insurance_benefits_received\n",
       "0    0.8872\n",
       "1    0.1128\n",
       "Name: proportion, dtype: float64"
      ]
     },
     "execution_count": 54,
     "metadata": {},
     "output_type": "execute_result"
    }
   ],
   "source": [
    "# Comprobar el desequilibrio de clases en la variable objetivo\n",
    "class_balance = y.value_counts(normalize=True)\n",
    "class_balance\n"
   ]
  },
  {
   "cell_type": "code",
   "execution_count": 55,
   "metadata": {},
   "outputs": [],
   "source": [
    "def eval_classifier(y_true, y_pred):\n",
    "    \n",
    "    f1_score = sklearn.metrics.f1_score(y_true, y_pred)\n",
    "    print(f'F1: {f1_score:.2f}')\n",
    "    \n",
    "# si tienes algún problema con la siguiente línea, reinicia el kernel y ejecuta el cuaderno de nuevo    cm = sklearn.metrics.confusion_matrix(y_true, y_pred, normalize='all')\n",
    "    print('Matriz de confusión')\n",
    "    print(cm)"
   ]
  },
  {
   "cell_type": "code",
   "execution_count": 56,
   "metadata": {},
   "outputs": [],
   "source": [
    "# generar la salida de un modelo aleatorio\n",
    "\n",
    "def rnd_model_predict(P, size, seed=42):\n",
    "\n",
    "    rng = np.random.default_rng(seed=seed)\n",
    "    return rng.binomial(n=1, p=P, size=size)"
   ]
  },
  {
   "cell_type": "code",
   "execution_count": 57,
   "metadata": {},
   "outputs": [
    {
     "name": "stdout",
     "output_type": "stream",
     "text": [
      "La probabilidad: 0.00\n",
      "              precision    recall  f1-score   support\n",
      "\n",
      "           0       0.89      1.00      0.94      1331\n",
      "           1       0.00      0.00      0.00       169\n",
      "\n",
      "    accuracy                           0.89      1500\n",
      "   macro avg       0.44      0.50      0.47      1500\n",
      "weighted avg       0.79      0.89      0.83      1500\n",
      "\n",
      "\n",
      "La probabilidad: 0.11\n",
      "              precision    recall  f1-score   support\n",
      "\n",
      "           0       0.89      0.89      0.89      1331\n",
      "           1       0.10      0.09      0.09       169\n",
      "\n",
      "    accuracy                           0.80      1500\n",
      "   macro avg       0.49      0.49      0.49      1500\n",
      "weighted avg       0.80      0.80      0.80      1500\n",
      "\n",
      "\n",
      "La probabilidad: 0.50\n",
      "              precision    recall  f1-score   support\n",
      "\n",
      "           0       0.88      0.89      0.89      1331\n",
      "           1       0.09      0.08      0.08       169\n",
      "\n",
      "    accuracy                           0.80      1500\n",
      "   macro avg       0.49      0.49      0.49      1500\n",
      "weighted avg       0.79      0.80      0.80      1500\n",
      "\n",
      "\n",
      "La probabilidad: 1.00\n",
      "              precision    recall  f1-score   support\n",
      "\n",
      "           0       0.00      0.00      0.00      1331\n",
      "           1       0.11      1.00      0.20       169\n",
      "\n",
      "    accuracy                           0.11      1500\n",
      "   macro avg       0.06      0.50      0.10      1500\n",
      "weighted avg       0.01      0.11      0.02      1500\n",
      "\n",
      "\n"
     ]
    },
    {
     "name": "stderr",
     "output_type": "stream",
     "text": [
      "C:\\Users\\mm131\\AppData\\Local\\Packages\\PythonSoftwareFoundation.Python.3.12_qbz5n2kfra8p0\\LocalCache\\local-packages\\Python312\\site-packages\\sklearn\\metrics\\_classification.py:1531: UndefinedMetricWarning: Precision is ill-defined and being set to 0.0 in labels with no predicted samples. Use `zero_division` parameter to control this behavior.\n",
      "  _warn_prf(average, modifier, f\"{metric.capitalize()} is\", len(result))\n",
      "C:\\Users\\mm131\\AppData\\Local\\Packages\\PythonSoftwareFoundation.Python.3.12_qbz5n2kfra8p0\\LocalCache\\local-packages\\Python312\\site-packages\\sklearn\\metrics\\_classification.py:1531: UndefinedMetricWarning: Precision is ill-defined and being set to 0.0 in labels with no predicted samples. Use `zero_division` parameter to control this behavior.\n",
      "  _warn_prf(average, modifier, f\"{metric.capitalize()} is\", len(result))\n",
      "C:\\Users\\mm131\\AppData\\Local\\Packages\\PythonSoftwareFoundation.Python.3.12_qbz5n2kfra8p0\\LocalCache\\local-packages\\Python312\\site-packages\\sklearn\\metrics\\_classification.py:1531: UndefinedMetricWarning: Precision is ill-defined and being set to 0.0 in labels with no predicted samples. Use `zero_division` parameter to control this behavior.\n",
      "  _warn_prf(average, modifier, f\"{metric.capitalize()} is\", len(result))\n",
      "C:\\Users\\mm131\\AppData\\Local\\Packages\\PythonSoftwareFoundation.Python.3.12_qbz5n2kfra8p0\\LocalCache\\local-packages\\Python312\\site-packages\\sklearn\\metrics\\_classification.py:1531: UndefinedMetricWarning: Precision is ill-defined and being set to 0.0 in labels with no predicted samples. Use `zero_division` parameter to control this behavior.\n",
      "  _warn_prf(average, modifier, f\"{metric.capitalize()} is\", len(result))\n",
      "C:\\Users\\mm131\\AppData\\Local\\Packages\\PythonSoftwareFoundation.Python.3.12_qbz5n2kfra8p0\\LocalCache\\local-packages\\Python312\\site-packages\\sklearn\\metrics\\_classification.py:1531: UndefinedMetricWarning: Precision is ill-defined and being set to 0.0 in labels with no predicted samples. Use `zero_division` parameter to control this behavior.\n",
      "  _warn_prf(average, modifier, f\"{metric.capitalize()} is\", len(result))\n",
      "C:\\Users\\mm131\\AppData\\Local\\Packages\\PythonSoftwareFoundation.Python.3.12_qbz5n2kfra8p0\\LocalCache\\local-packages\\Python312\\site-packages\\sklearn\\metrics\\_classification.py:1531: UndefinedMetricWarning: Precision is ill-defined and being set to 0.0 in labels with no predicted samples. Use `zero_division` parameter to control this behavior.\n",
      "  _warn_prf(average, modifier, f\"{metric.capitalize()} is\", len(result))\n"
     ]
    }
   ],
   "source": [
    "# Función para evaluar el clasificador usando métricas detalladas\n",
    "def eval_classifier(y_true, y_pred):\n",
    "    print(classification_report(y_true, y_pred))\n",
    "\n",
    "# Completar el bucle para probar con diferentes probabilidades P\n",
    "for P in [0, df['insurance_benefits_received'].mean(), 0.5, 1]:\n",
    "    print(f'La probabilidad: {P:.2f}')\n",
    "    \n",
    "    # Configurar DummyClassifier según el valor de P\n",
    "    if P == 0:\n",
    "        y_pred_rnd = DummyClassifier(strategy='constant', constant=0).fit(X_train, y_train).predict(X_test)\n",
    "    elif P == 1:\n",
    "        y_pred_rnd = DummyClassifier(strategy='constant', constant=1).fit(X_train, y_train).predict(X_test)\n",
    "    else:\n",
    "        y_pred_rnd = DummyClassifier(strategy='stratified').fit(X_train, y_train).predict(X_test)\n",
    "    \n",
    "    # Evaluar el clasificador con el conjunto de prueba\n",
    "    eval_classifier(y_test, y_pred_rnd)\n",
    "    print()\n"
   ]
  },
  {
   "cell_type": "markdown",
   "metadata": {},
   "source": [
    "# Tarea 3. Regresión (con regresión lineal)"
   ]
  },
  {
   "cell_type": "markdown",
   "metadata": {},
   "source": [
    "Con `insurance_benefits` como objetivo, evalúa cuál sería la RECM de un modelo de regresión lineal."
   ]
  },
  {
   "cell_type": "markdown",
   "metadata": {},
   "source": [
    "Construye tu propia implementación de regresión lineal. Para ello, recuerda cómo está formulada la solución de la tarea de regresión lineal en términos de LA. Comprueba la RECM tanto para los datos originales como para los escalados. ¿Puedes ver alguna diferencia en la RECM con respecto a estos dos casos?\n",
    "\n",
    "Denotemos- $X$: matriz de características; cada fila es un caso, cada columna es una característica, la primera columna está formada por unidades- $y$ — objetivo (un vector)- $\\hat{y}$ — objetivo estimado (un vector)- $w$ — vector de pesos\n",
    "La tarea de regresión lineal en el lenguaje de las matrices puede formularse así:\n",
    "$$\n",
    "y = Xw\n",
    "$$\n",
    "\n",
    "El objetivo de entrenamiento es entonces encontrar esa $w$ w que minimice la distancia L2 (ECM) entre $Xw$ y $y$:\n",
    "\n",
    "$$\n",
    "\\min_w d_2(Xw, y) \\quad \\text{or} \\quad \\min_w \\text{MSE}(Xw, y)\n",
    "$$\n",
    "\n",
    "Parece que hay una solución analítica para lo anteriormente expuesto:\n",
    "$$\n",
    "w = (X^T X)^{-1} X^T y\n",
    "$$\n",
    "\n",
    "La fórmula anterior puede servir para encontrar los pesos $w$ y estos últimos pueden utilizarse para calcular los valores predichos\n",
    "$$\n",
    "\\hat{y} = X_{val}w\n",
    "$$"
   ]
  },
  {
   "cell_type": "markdown",
   "metadata": {},
   "source": [
    "Divide todos los datos correspondientes a las etapas de entrenamiento/prueba respetando la proporción 70:30. Utiliza la métrica RECM para evaluar el modelo."
   ]
  },
  {
   "cell_type": "code",
   "execution_count": 58,
   "metadata": {},
   "outputs": [
    {
     "data": {
      "text/plain": [
       "(np.float64(0.3512077581960692), np.float64(0.3512077581960692))"
      ]
     },
     "execution_count": 58,
     "metadata": {},
     "output_type": "execute_result"
    }
   ],
   "source": [
    "\n",
    "class MyLinearRegression:\n",
    "    \n",
    "    def __init__(self):\n",
    "        self.weights = None\n",
    "    \n",
    "    def fit(self, X, y):\n",
    "        # Añadir la columna de unidades\n",
    "        X2 = np.append(np.ones([len(X), 1]), X, axis=1)\n",
    "        # Calcular los pesos usando la solución analítica\n",
    "        self.weights = np.linalg.inv(X2.T @ X2) @ X2.T @ y\n",
    "\n",
    "    def predict(self, X):\n",
    "        # Añadir la columna de unidades\n",
    "        X2 = np.append(np.ones([len(X), 1]), X, axis=1)\n",
    "        # Calcular las predicciones\n",
    "        y_pred = X2 @ self.weights\n",
    "        return y_pred\n",
    "\n",
    "# Función para calcular la raíz del error cuadrático medio (RECM)\n",
    "def rmse(y_true, y_pred):\n",
    "    return np.sqrt(np.mean((y_true - y_pred) ** 2))\n",
    "\n",
    "# Separar las características y el objetivo en el conjunto de datos\n",
    "X = df[['gender', 'age', 'income', 'family_members']].values\n",
    "y = df['insurance_benefits'].values\n",
    "\n",
    "# Escalado de las características\n",
    "scaler = MaxAbsScaler()\n",
    "X_scaled = scaler.fit_transform(X)\n",
    "\n",
    "# Crear una instancia del modelo de regresión lineal personalizado\n",
    "model = MyLinearRegression()\n",
    "\n",
    "# Ajustar y predecir en datos originales\n",
    "model.fit(X, y)\n",
    "y_pred_original = model.predict(X)\n",
    "rmse_original = rmse(y, y_pred_original)\n",
    "\n",
    "# Ajustar y predecir en datos escalados\n",
    "model.fit(X_scaled, y)\n",
    "y_pred_scaled = model.predict(X_scaled)\n",
    "rmse_scaled = rmse(y, y_pred_scaled)\n",
    "\n",
    "rmse_original, rmse_scaled\n"
   ]
  },
  {
   "cell_type": "code",
   "execution_count": 59,
   "metadata": {},
   "outputs": [],
   "source": [
    "def eval_regressor(y_true, y_pred):\n",
    "    \n",
    "    rmse = math.sqrt(sklearn.metrics.mean_squared_error(y_true, y_pred))\n",
    "    print(f'RMSE: {rmse:.2f}')\n",
    "    \n",
    "    r2_score = math.sqrt(sklearn.metrics.r2_score(y_true, y_pred))\n",
    "    print(f'R2: {r2_score:.2f}')    "
   ]
  },
  {
   "cell_type": "code",
   "execution_count": null,
   "metadata": {},
   "outputs": [],
   "source": []
  },
  {
   "cell_type": "code",
   "execution_count": 60,
   "metadata": {},
   "outputs": [
    {
     "name": "stdout",
     "output_type": "stream",
     "text": [
      "[-9.43539012e-01  3.57495491e-02  1.64272726e-02 -2.60743659e-07\n",
      " -1.16902127e-02]\n",
      "RMSE: 0.34\n",
      "R2: 0.66\n"
     ]
    }
   ],
   "source": [
    "X = df[['age', 'gender', 'income', 'family_members']].to_numpy()\n",
    "y = df['insurance_benefits'].to_numpy()\n",
    "\n",
    "X_train, X_test, y_train, y_test = train_test_split(X, y, test_size=0.3, random_state=12345)\n",
    "\n",
    "lr = MyLinearRegression()\n",
    "\n",
    "lr.fit(X_train, y_train)\n",
    "print(lr.weights)\n",
    "\n",
    "y_test_pred = lr.predict(X_test)\n",
    "eval_regressor(y_test, y_test_pred)"
   ]
  },
  {
   "cell_type": "markdown",
   "metadata": {},
   "source": [
    "# Tarea 4. Ofuscar datos"
   ]
  },
  {
   "cell_type": "markdown",
   "metadata": {},
   "source": [
    "Lo mejor es ofuscar los datos multiplicando las características numéricas (recuerda que se pueden ver como la matriz $X$) por una matriz invertible $P$. \n",
    "\n",
    "$$\n",
    "X' = X \\times P\n",
    "$$\n",
    "\n",
    "Trata de hacerlo y comprueba cómo quedarán los valores de las características después de la transformación. Por cierto, la propiedad de invertibilidad es importante aquí, así que asegúrate de que $P$ sea realmente invertible.\n",
    "\n",
    "Puedes revisar la lección 'Matrices y operaciones matriciales -> Multiplicación de matrices' para recordar la regla de multiplicación de matrices y su implementación con NumPy."
   ]
  },
  {
   "cell_type": "code",
   "execution_count": 61,
   "metadata": {},
   "outputs": [],
   "source": [
    "personal_info_column_list = ['gender', 'age', 'income', 'family_members']\n",
    "df_pn = df[personal_info_column_list]"
   ]
  },
  {
   "cell_type": "code",
   "execution_count": 62,
   "metadata": {},
   "outputs": [],
   "source": [
    "X = df_pn.to_numpy()"
   ]
  },
  {
   "cell_type": "markdown",
   "metadata": {},
   "source": [
    "Generar una matriz aleatoria $P$."
   ]
  },
  {
   "cell_type": "code",
   "execution_count": 63,
   "metadata": {},
   "outputs": [],
   "source": [
    "rng = np.random.default_rng(seed=42)\n",
    "P = rng.random(size=(X.shape[1], X.shape[1]))"
   ]
  },
  {
   "cell_type": "markdown",
   "metadata": {},
   "source": [
    "Comprobar que la matriz P sea invertible"
   ]
  },
  {
   "cell_type": "code",
   "execution_count": 64,
   "metadata": {},
   "outputs": [
    {
     "name": "stdout",
     "output_type": "stream",
     "text": [
      "Determinante de P: 0.24339135998015463\n",
      "Es invertible: True\n"
     ]
    }
   ],
   "source": [
    "\n",
    "\n",
    "# Calcular el determinante de la matriz P para verificar si es invertible\n",
    "det_P = np.linalg.det(P)\n",
    "print(\"Determinante de P:\", det_P)\n",
    "print(\"Es invertible:\", det_P != 0)\n"
   ]
  },
  {
   "cell_type": "markdown",
   "metadata": {},
   "source": [
    "¿Puedes adivinar la edad o los ingresos de los clientes después de la transformación?"
   ]
  },
  {
   "cell_type": "code",
   "execution_count": 65,
   "metadata": {},
   "outputs": [
    {
     "name": "stdout",
     "output_type": "stream",
     "text": [
      "Edad recuperada (aproximada): [41. 46. 29. ... 20. 22. 28.]\n",
      "Ingresos recuperados (aproximados): [49600. 38000. 21000. ... 33900. 32700. 40600.]\n"
     ]
    }
   ],
   "source": [
    "\n",
    "# Supongamos que X es la matriz original con columnas como edad e ingresos\n",
    "personal_info_column_list = ['gender', 'age', 'income', 'family_members']\n",
    "X = df[personal_info_column_list].to_numpy()\n",
    "\n",
    "# Generar la matriz de transformación P\n",
    "rng = np.random.default_rng(seed=42)\n",
    "P = rng.random(size=(X.shape[1], X.shape[1]))\n",
    "\n",
    "# Comprobar si la matriz P es invertible\n",
    "if np.linalg.det(P) != 0:\n",
    "    # Aplicar la transformación\n",
    "    X_transformed = X @ P\n",
    "\n",
    "    # Intentar revertir la transformación para recuperar los valores originales\n",
    "    P_inv = np.linalg.inv(P)\n",
    "    X_recovered = X_transformed @ P_inv\n",
    "\n",
    "    # Mostrar las columnas recuperadas para edad e ingresos\n",
    "    recovered_age = X_recovered[:, personal_info_column_list.index('age')]\n",
    "    recovered_income = X_recovered[:, personal_info_column_list.index('income')]\n",
    "\n",
    "    print(\"Edad recuperada (aproximada):\", recovered_age)\n",
    "    print(\"Ingresos recuperados (aproximados):\", recovered_income)\n",
    "else:\n",
    "    print(\"La matriz P no es invertible, no se pueden recuperar los datos originales.\")\n"
   ]
  },
  {
   "cell_type": "markdown",
   "metadata": {},
   "source": [
    "¿Puedes recuperar los datos originales de $X'$ si conoces $P$? Intenta comprobarlo a través de los cálculos moviendo $P$ del lado derecho de la fórmula anterior al izquierdo. En este caso las reglas de la multiplicación matricial son realmente útiles"
   ]
  },
  {
   "cell_type": "code",
   "execution_count": 66,
   "metadata": {},
   "outputs": [
    {
     "name": "stdout",
     "output_type": "stream",
     "text": [
      "Diferencia entre los datos originales y recuperados:\n",
      " [[ 7.23954230e-12  5.13011855e-12  0.00000000e+00 -4.13646895e-12]\n",
      " [ 4.47363596e-12 -1.08002496e-12  7.27595761e-12 -3.91575661e-12]\n",
      " [ 2.51586878e-12  1.91491267e-12  0.00000000e+00 -9.52452315e-13]\n",
      " ...\n",
      " [ 1.92837871e-12  1.85451654e-12  0.00000000e+00  7.72715225e-14]\n",
      " [ 6.16573459e-12  3.78719278e-12  3.63797881e-12 -1.97220018e-12]\n",
      " [ 4.84912110e-12  1.33582034e-12  7.27595761e-12 -3.57780472e-12]]\n"
     ]
    }
   ],
   "source": [
    "import numpy as np\n",
    "\n",
    "# Supongamos que X es la matriz original\n",
    "personal_info_column_list = ['gender', 'age', 'income', 'family_members']\n",
    "X = df[personal_info_column_list].to_numpy()\n",
    "\n",
    "# Generar la matriz de transformación P\n",
    "rng = np.random.default_rng(seed=42)\n",
    "P = rng.random(size=(X.shape[1], X.shape[1]))\n",
    "\n",
    "# Transformar X para obtener X'\n",
    "X_transformed = X @ P\n",
    "\n",
    "# Intentar recuperar X usando la inversa de P\n",
    "if np.linalg.det(P) != 0:  # Verificar si P es invertible\n",
    "    P_inv = np.linalg.inv(P)\n",
    "    X_recovered = X_transformed @ P_inv\n",
    "    \n",
    "    # Comparar X original con X recuperado\n",
    "    print(\"Diferencia entre los datos originales y recuperados:\\n\", X - X_recovered)\n",
    "else:\n",
    "    print(\"La matriz P no es invertible, no se pueden recuperar los datos originales.\")\n"
   ]
  },
  {
   "cell_type": "markdown",
   "metadata": {},
   "source": [
    "Muestra los tres casos para algunos clientes- Datos originales\n",
    "- El que está transformado- El que está invertido (recuperado)"
   ]
  },
  {
   "cell_type": "code",
   "execution_count": null,
   "metadata": {},
   "outputs": [],
   "source": []
  },
  {
   "cell_type": "markdown",
   "metadata": {},
   "source": [
    "Seguramente puedes ver que algunos valores no son exactamente iguales a los de los datos originales. ¿Cuál podría ser la razón de ello?"
   ]
  },
  {
   "cell_type": "code",
   "execution_count": null,
   "metadata": {},
   "outputs": [],
   "source": []
  },
  {
   "cell_type": "markdown",
   "metadata": {},
   "source": [
    "## Prueba de que la ofuscación de datos puede funcionar con regresión lineal"
   ]
  },
  {
   "cell_type": "markdown",
   "metadata": {},
   "source": [
    "En este proyecto la tarea de regresión se ha resuelto con la regresión lineal. Tu siguiente tarea es demostrar _analytically_ que el método de ofuscación no afectará a la regresión lineal en términos de valores predichos, es decir, que sus valores seguirán siendo los mismos. ¿Lo puedes creer? Pues no hace falta que lo creas, ¡tienes que que demostrarlo!"
   ]
  },
  {
   "cell_type": "markdown",
   "metadata": {},
   "source": [
    "Entonces, los datos están ofuscados y ahora tenemos $X \\times P$ en lugar de tener solo $X$. En consecuencia, hay otros pesos $w_P$ como\n",
    "$$\n",
    "w = (X^T X)^{-1} X^T y \\quad \\Rightarrow \\quad w_P = [(XP)^T XP]^{-1} (XP)^T y\n",
    "$$\n",
    "\n",
    "¿Cómo se relacionarían $w$ y $w_P$ si simplificáramos la fórmula de $w_P$ anterior? \n",
    "\n",
    "¿Cuáles serían los valores predichos con $w_P$? \n",
    "\n",
    "¿Qué significa esto para la calidad de la regresión lineal si esta se mide mediante la RECM?\n",
    "Revisa el Apéndice B Propiedades de las matrices al final del cuaderno. ¡Allí encontrarás fórmulas muy útiles!\n",
    "\n",
    "No es necesario escribir código en esta sección, basta con una explicación analítica."
   ]
  },
  {
   "cell_type": "markdown",
   "metadata": {},
   "source": [
    "**Respuesta**"
   ]
  },
  {
   "cell_type": "markdown",
   "metadata": {},
   "source": [
    "Para demostrar que el método de ofuscación no afecta los valores predichos de la regresión lineal, vamos a simplificar y analizar la expresión de los pesos ofuscados \\( w_P \\) en términos de los pesos originales \\( w \\). La clave de esta demostración está en el análisis algebraico de las propiedades de las matrices.\n",
    "\n",
    "### 1. Expresión original de los pesos \\( w \\)\n",
    "En regresión lineal, los pesos \\( w \\) se calculan como:\n",
    "\\[\n",
    "w = (X^T X)^{-1} X^T y\n",
    "\\]\n",
    "\n",
    "donde:\n",
    "- \\( X \\) es la matriz de características,\n",
    "- \\( y \\) es el vector de valores objetivo.\n",
    "\n",
    "### 2. Expresión de los pesos ofuscados \\( w_P \\)\n",
    "Cuando los datos están ofuscados, trabajamos con \\( XP \\) en lugar de \\( X \\), donde \\( P \\) es una matriz invertible de transformación. Los pesos ofuscados \\( w_P \\) se calculan entonces como:\n",
    "\\[\n",
    "w_P = [(XP)^T (XP)]^{-1} (XP)^T y\n",
    "\\]\n",
    "\n",
    "#### Expandiendo \\( w_P \\):\n",
    "1. Expandimos la expresión de \\( w_P \\):\n",
    "   \\[\n",
    "   w_P = [(P^T X^T) (XP)]^{-1} (P^T X^T) y\n",
    "   \\]\n",
    "\n",
    "2. Simplificamos usando la propiedad asociativa de la multiplicación matricial:\n",
    "   \\[\n",
    "   w_P = [P^T (X^T X) P]^{-1} P^T X^T y\n",
    "   \\]\n",
    "\n",
    "3. Utilizamos la identidad de la inversa del producto \\((AB)^{-1} = B^{-1} A^{-1}\\):\n",
    "   \\[\n",
    "   w_P = P^{-1} (X^T X)^{-1} (P^T)^{-1} P^T X^T y\n",
    "   \\]\n",
    "\n",
    "4. Observamos que \\((P^T)^{-1} P^T = I\\), donde \\( I \\) es la matriz identidad:\n",
    "   \\[\n",
    "   w_P = P^{-1} (X^T X)^{-1} X^T y\n",
    "   \\]\n",
    "\n",
    "5. Finalmente, usando la definición de \\( w = (X^T X)^{-1} X^T y \\):\n",
    "   \\[\n",
    "   w_P = P^{-1} w\n",
    "   \\]\n",
    "\n",
    "### 3. Valores predichos con \\( w_P \\)\n",
    "Los valores predichos para un nuevo conjunto de características \\( X \\) usando los pesos \\( w_P \\) son:\n",
    "\\[\n",
    "\\hat{y} = (XP) w_P\n",
    "\\]\n",
    "\n",
    "Sustituyendo \\( w_P = P^{-1} w \\) en esta expresión, obtenemos:\n",
    "\\[\n",
    "\\hat{y} = (XP) (P^{-1} w)\n",
    "\\]\n",
    "\n",
    "Aplicando la propiedad de cancelación de \\( P \\) y \\( P^{-1} \\):\n",
    "\\[\n",
    "\\hat{y} = X (w)\n",
    "\\]\n",
    "\n",
    "### 4. Conclusión\n",
    "Este resultado muestra que los valores predichos \\( \\hat{y} \\) con los datos ofuscados (usando \\( XP \\)) son idénticos a los valores predichos originales. \n",
    "\n",
    "### Implicación para la calidad de la regresión lineal (RECM)\n",
    "Dado que los valores predichos son los mismos, el error cuadrático medio (ECM) y, por ende, la raíz del error cuadrático medio (RECM), también serán los mismos. Esto significa que la calidad de la regresión lineal en términos de precisión (medida mediante la RECM) no se ve afectada por la ofuscación.\n",
    "\n",
    "En resumen, la ofuscación de los datos usando una transformación lineal invertible \\( P \\) no cambia los valores predichos ni la calidad de la regresión lineal."
   ]
  },
  {
   "cell_type": "code",
   "execution_count": null,
   "metadata": {},
   "outputs": [],
   "source": []
  },
  {
   "cell_type": "markdown",
   "metadata": {},
   "source": [
    "**Prueba analítica**"
   ]
  },
  {
   "cell_type": "markdown",
   "metadata": {},
   "source": []
  },
  {
   "cell_type": "markdown",
   "metadata": {},
   "source": [
    "## Prueba de regresión lineal con ofuscación de datos"
   ]
  },
  {
   "cell_type": "markdown",
   "metadata": {},
   "source": [
    "Ahora, probemos que la regresión lineal pueda funcionar, en términos computacionales, con la transformación de ofuscación elegida.\n",
    "Construye un procedimiento o una clase que ejecute la regresión lineal opcionalmente con la ofuscación. Puedes usar una implementación de regresión lineal de scikit-learn o tu propia implementación.\n",
    "Ejecuta la regresión lineal para los datos originales y los ofuscados, compara los valores predichos y los valores de las métricas RMSE y $R^2$. ¿Hay alguna diferencia?"
   ]
  },
  {
   "cell_type": "markdown",
   "metadata": {},
   "source": [
    "**Procedimiento**\n",
    "\n",
    "- Crea una matriz cuadrada $P$ de números aleatorios.- Comprueba que sea invertible. Si no lo es, repite el primer paso hasta obtener una matriz invertible.- <¡ tu comentario aquí !>\n",
    "- Utiliza $XP$ como la nueva matriz de características"
   ]
  },
  {
   "cell_type": "code",
   "execution_count": 67,
   "metadata": {},
   "outputs": [
    {
     "data": {
      "text/plain": [
       "(array([[0.77395605, 0.43887844, 0.85859792, 0.69736803],\n",
       "        [0.09417735, 0.97562235, 0.7611397 , 0.78606431],\n",
       "        [0.12811363, 0.45038594, 0.37079802, 0.92676499],\n",
       "        [0.64386512, 0.82276161, 0.4434142 , 0.22723872]]),\n",
       " array([[ 6386.90642117, 22358.93491961, 18427.98907055, 45997.14883911],\n",
       "        [ 4904.56388502, 17135.67680987, 14130.26383935, 35249.37574431],\n",
       "        [ 2712.83101159,  9470.83217056,  7811.65784856, 19482.28843866],\n",
       "        [ 5359.87928983, 18791.95558071, 15481.19499521, 38661.19924104],\n",
       "        [ 3365.53075954, 11768.33719774,  9702.63031393, 24208.87857807]]))"
      ]
     },
     "execution_count": 67,
     "metadata": {},
     "output_type": "execute_result"
    }
   ],
   "source": [
    "\n",
    "\n",
    "# Crear una matriz cuadrada aleatoria P y verificar que sea invertible\n",
    "def generate_invertible_matrix(size, seed=42):\n",
    "    rng = np.random.default_rng(seed=seed)\n",
    "    while True:\n",
    "        P = rng.random((size, size))\n",
    "        # Comprobar si el determinante es distinto de cero (invertible)\n",
    "        if np.linalg.det(P) != 0:\n",
    "            return P\n",
    "\n",
    "# Define la matriz de características X con los nombres de columnas correctos\n",
    "X = df[['age', 'gender', 'income', 'family_members']].to_numpy()\n",
    "\n",
    "# Generar una matriz P invertible\n",
    "P = generate_invertible_matrix(X.shape[1])\n",
    "\n",
    "# Calcular la nueva matriz de características ofuscada XP\n",
    "X_obfuscated = X @ P\n",
    "\n",
    "# Mostrar la matriz P y la matriz de características ofuscada XP\n",
    "P, X_obfuscated[:5]  # Muestra P y las primeras 5 filas de XP para inspección\n"
   ]
  },
  {
   "cell_type": "code",
   "execution_count": 68,
   "metadata": {},
   "outputs": [
    {
     "name": "stdout",
     "output_type": "stream",
     "text": [
      "RMSE con datos originales: 0.36371899761192644\n",
      "RMSE con datos ofuscados: 0.36371899761188936\n"
     ]
    }
   ],
   "source": [
    "\n",
    "# Paso 1: Preparar los datos originales ya cargados y preprocesados en el notebook\n",
    "# (Asegúrate de que `df` esté cargado y tenga las columnas 'age', 'gender', 'income', 'family_members' y 'insurance_benefits')\n",
    "\n",
    "# Separar características y objetivo\n",
    "X = df[['age', 'gender', 'income', 'family_members']].to_numpy()\n",
    "y = df['insurance_benefits'].to_numpy()\n",
    "\n",
    "# Dividir en conjunto de entrenamiento y prueba\n",
    "from sklearn.model_selection import train_test_split\n",
    "X_train, X_test, y_train, y_test = train_test_split(X, y, test_size=0.3, random_state=42)\n",
    "\n",
    "# Paso 2: Entrenar el modelo de regresión lineal con datos originales\n",
    "model_original = LinearRegression()\n",
    "model_original.fit(X_train, y_train)\n",
    "y_pred_original = model_original.predict(X_test)\n",
    "rmse_original = math.sqrt(mean_squared_error(y_test, y_pred_original))\n",
    "\n",
    "# Paso 3: Ofuscar los datos usando una matriz invertible P\n",
    "# Generar una matriz P invertible del tamaño de las características de entrada\n",
    "rng = np.random.default_rng(seed=42)\n",
    "while True:\n",
    "    P = rng.random((X_train.shape[1], X_train.shape[1]))\n",
    "    if np.linalg.det(P) != 0:  # Verificar que sea invertible\n",
    "        break\n",
    "\n",
    "# Aplicar la ofuscación: multiplicar los datos de entrada por la matriz P\n",
    "X_train_obfuscated = X_train @ P\n",
    "X_test_obfuscated = X_test @ P\n",
    "\n",
    "# Paso 4: Entrenar el modelo de regresión lineal con los datos ofuscados\n",
    "model_obfuscated = LinearRegression()\n",
    "model_obfuscated.fit(X_train_obfuscated, y_train)\n",
    "y_pred_obfuscated = model_obfuscated.predict(X_test_obfuscated)\n",
    "rmse_obfuscated = math.sqrt(mean_squared_error(y_test, y_pred_obfuscated))\n",
    "\n",
    "# Mostrar resultados de comparación\n",
    "print(\"RMSE con datos originales:\", rmse_original)\n",
    "print(\"RMSE con datos ofuscados:\", rmse_obfuscated)\n"
   ]
  },
  {
   "cell_type": "markdown",
   "metadata": {},
   "source": [
    "# Conclusiones"
   ]
  },
  {
   "cell_type": "markdown",
   "metadata": {},
   "source": [
    "En este proyecto de análisis para la compañía de seguros Sure Tomorrow, se abordan tareas clave en machine learning con objetivos de marketing, predicción de prestaciones de seguro, estimación de prestaciones futuras y ofuscación de datos personales. A continuación, algunas conclusiones generales:\n",
    "\n",
    "### Conclusiones\n",
    "\n",
    "1. **Similitud de Clientes para Marketing**: La identificación de clientes similares mediante métricas de distancia como la Euclidiana y Manhattan permite mejorar estrategias de marketing dirigidas. Se observó que el escalado de datos influye en los resultados de los algoritmos de vecinos más cercanos, siendo más preciso con datos escalados.\n",
    "\n",
    "2. **Predicción de Prestaciones con Modelos de Clasificación**: La comparación entre un modelo dummy y kNN reveló que el modelo kNN escalado logra una mejor precisión en la predicción de prestaciones de seguro, demostrando su validez frente a modelos más básicos.\n",
    "\n",
    "3. **Estimación de Prestaciones con Regresión Lineal**: La ofuscación de datos no afecta la precisión de los valores predichos por el modelo de regresión lineal. Este resultado garantiza que la calidad de las predicciones permanece inalterada aun cuando los datos son ofuscados mediante una transformación lineal invertible, asegurando tanto precisión como privacidad.\n",
    "\n",
    "4. **Ofuscación de Datos Personales**: La implementación de matrices de transformación invertibles garantiza la protección de los datos personales sin comprometer la integridad del modelo. Los valores originales pueden ser recuperados teóricamente si se conoce la matriz de transformación, manteniendo el balance entre seguridad y efectividad del modelo.\n",
    "\n",
    "Estas conclusiones demuestran que es posible utilizar técnicas de machine learning efectivas en entornos donde la privacidad de los datos es crucial, logrando precisión en las predicciones sin comprometer la confidencialidad de la información."
   ]
  },
  {
   "cell_type": "markdown",
   "metadata": {},
   "source": [
    "# Lista de control"
   ]
  },
  {
   "cell_type": "markdown",
   "metadata": {},
   "source": [
    "Escribe 'x' para verificar. Luego presiona Shift+Enter."
   ]
  },
  {
   "cell_type": "markdown",
   "metadata": {},
   "source": [
    "- [x]  Jupyter Notebook está abierto\n",
    "- [ ]  El código no tiene errores- [ ]  Las celdas están ordenadas de acuerdo con la lógica y el orden de ejecución\n",
    "- [ ]  Se ha realizado la tarea 1\n",
    "    - [ ]  Está presente el procedimiento que puede devolver k clientes similares para un cliente determinado\n",
    "    - [ ]  Se probó el procedimiento para las cuatro combinaciones propuestas    - [ ]  Se respondieron las preguntas sobre la escala/distancia- [ ]  Se ha realizado la tarea 2\n",
    "    - [ ]  Se construyó y probó el modelo de clasificación aleatoria para todos los niveles de probabilidad    - [ ]  Se construyó y probó el modelo de clasificación kNN tanto para los datos originales como para los escalados. Se calculó la métrica F1.- [ ]  Se ha realizado la tarea 3\n",
    "    - [ ]  Se implementó la solución de regresión lineal mediante operaciones matriciales    - [ ]  Se calculó la RECM para la solución implementada- [ ]  Se ha realizado la tarea 4\n",
    "    - [ ]  Se ofuscaron los datos mediante una matriz aleatoria e invertible P    - [ ]  Se recuperaron los datos ofuscados y se han mostrado algunos ejemplos    - [ ]  Se proporcionó la prueba analítica de que la transformación no afecta a la RECM    - [ ]  Se proporcionó la prueba computacional de que la transformación no afecta a la RECM- [ ]  Se han sacado conclusiones"
   ]
  },
  {
   "cell_type": "markdown",
   "metadata": {},
   "source": [
    "# Apéndices\n",
    "\n",
    "## Apéndice A: Escribir fórmulas en los cuadernos de Jupyter"
   ]
  },
  {
   "cell_type": "markdown",
   "metadata": {},
   "source": [
    "Puedes escribir fórmulas en tu Jupyter Notebook utilizando un lenguaje de marcado proporcionado por un sistema de publicación de alta calidad llamado $\\LaTeX$ (se pronuncia como \"Lah-tech\"). Las fórmulas se verán como las de los libros de texto.\n",
    "\n",
    "Para incorporar una fórmula a un texto, pon el signo de dólar (\\\\$) antes y después del texto de la fórmula, por ejemplo: $\\frac{1}{2} \\times \\frac{3}{2} = \\frac{3}{4}$ or $y = x^2, x \\ge 1$.\n",
    "\n",
    "Si una fórmula debe estar en el mismo párrafo, pon el doble signo de dólar (\\\\$\\\\$) antes y después del texto de la fórmula, por ejemplo:\n",
    "$$\n",
    "\\bar{x} = \\frac{1}{n}\\sum_{i=1}^{n} x_i.\n",
    "$$\n",
    "\n",
    "El lenguaje de marcado de [LaTeX](https://es.wikipedia.org/wiki/LaTeX) es muy popular entre las personas que utilizan fórmulas en sus artículos, libros y textos. Puede resultar complicado, pero sus fundamentos son sencillos. Consulta esta [ficha de ayuda](http://tug.ctan.org/info/undergradmath/undergradmath.pdf) (materiales en inglés) de dos páginas para aprender a componer las fórmulas más comunes."
   ]
  },
  {
   "cell_type": "markdown",
   "metadata": {},
   "source": [
    "## Apéndice B: Propiedades de las matrices"
   ]
  },
  {
   "cell_type": "markdown",
   "metadata": {},
   "source": [
    "Las matrices tienen muchas propiedades en cuanto al álgebra lineal. Aquí se enumeran algunas de ellas que pueden ayudarte a la hora de realizar la prueba analítica de este proyecto."
   ]
  },
  {
   "cell_type": "markdown",
   "metadata": {},
   "source": [
    "<table>\n",
    "<tr>\n",
    "<td>Distributividad</td><td>$A(B+C)=AB+AC$</td>\n",
    "</tr>\n",
    "<tr>\n",
    "<td>No conmutatividad</td><td>$AB \\neq BA$</td>\n",
    "</tr>\n",
    "<tr>\n",
    "<td>Propiedad asociativa de la multiplicación</td><td>$(AB)C = A(BC)$</td>\n",
    "</tr>\n",
    "<tr>\n",
    "<td>Propiedad de identidad multiplicativa</td><td>$IA = AI = A$</td>\n",
    "</tr>\n",
    "<tr>\n",
    "<td></td><td>$A^{-1}A = AA^{-1} = I$\n",
    "</td>\n",
    "</tr>    \n",
    "<tr>\n",
    "<td></td><td>$(AB)^{-1} = B^{-1}A^{-1}$</td>\n",
    "</tr>    \n",
    "<tr>\n",
    "<td>Reversibilidad de la transposición de un producto de matrices,</td><td>$(AB)^T = B^TA^T$</td>\n",
    "</tr>    \n",
    "</table>"
   ]
  },
  {
   "cell_type": "code",
   "execution_count": null,
   "metadata": {},
   "outputs": [],
   "source": []
  }
 ],
 "metadata": {
  "ExecuteTimeLog": [
   {
    "duration": 2323,
    "start_time": "2024-10-29T15:19:52.178Z"
   },
   {
    "duration": 996,
    "start_time": "2024-10-29T15:19:54.503Z"
   },
   {
    "duration": 7,
    "start_time": "2024-10-29T15:19:55.501Z"
   },
   {
    "duration": 3,
    "start_time": "2024-10-29T15:19:55.510Z"
   },
   {
    "duration": 10,
    "start_time": "2024-10-29T15:19:55.516Z"
   },
   {
    "duration": 8,
    "start_time": "2024-10-29T15:19:55.528Z"
   },
   {
    "duration": 3,
    "start_time": "2024-10-29T15:19:55.538Z"
   },
   {
    "duration": 2,
    "start_time": "2024-10-29T15:19:55.569Z"
   },
   {
    "duration": 2,
    "start_time": "2024-10-29T15:19:55.573Z"
   },
   {
    "duration": 2611,
    "start_time": "2024-10-29T15:19:55.577Z"
   },
   {
    "duration": 2,
    "start_time": "2024-10-29T15:19:58.190Z"
   },
   {
    "duration": 4,
    "start_time": "2024-10-29T15:19:58.194Z"
   },
   {
    "duration": 0,
    "start_time": "2024-10-29T15:19:58.200Z"
   },
   {
    "duration": 0,
    "start_time": "2024-10-29T15:19:58.202Z"
   },
   {
    "duration": 0,
    "start_time": "2024-10-29T15:19:58.203Z"
   },
   {
    "duration": 0,
    "start_time": "2024-10-29T15:19:58.204Z"
   },
   {
    "duration": 0,
    "start_time": "2024-10-29T15:19:58.206Z"
   },
   {
    "duration": 0,
    "start_time": "2024-10-29T15:19:58.208Z"
   },
   {
    "duration": 0,
    "start_time": "2024-10-29T15:19:58.210Z"
   },
   {
    "duration": 0,
    "start_time": "2024-10-29T15:19:58.211Z"
   },
   {
    "duration": 0,
    "start_time": "2024-10-29T15:19:58.212Z"
   },
   {
    "duration": 0,
    "start_time": "2024-10-29T15:19:58.213Z"
   },
   {
    "duration": 0,
    "start_time": "2024-10-29T15:19:58.214Z"
   },
   {
    "duration": 0,
    "start_time": "2024-10-29T15:19:58.216Z"
   },
   {
    "duration": 0,
    "start_time": "2024-10-29T15:19:58.217Z"
   },
   {
    "duration": 161,
    "start_time": "2024-11-10T19:04:51.130Z"
   },
   {
    "duration": 2405,
    "start_time": "2024-11-10T19:05:03.097Z"
   },
   {
    "duration": 2746,
    "start_time": "2024-11-10T19:05:05.504Z"
   },
   {
    "duration": 12,
    "start_time": "2024-11-10T19:05:08.253Z"
   },
   {
    "duration": 3,
    "start_time": "2024-11-10T19:05:08.267Z"
   },
   {
    "duration": 10,
    "start_time": "2024-11-10T19:05:08.272Z"
   },
   {
    "duration": 8,
    "start_time": "2024-11-10T19:05:08.284Z"
   },
   {
    "duration": 3,
    "start_time": "2024-11-10T19:05:08.294Z"
   },
   {
    "duration": 3,
    "start_time": "2024-11-10T19:05:08.298Z"
   },
   {
    "duration": 39,
    "start_time": "2024-11-10T19:05:08.303Z"
   },
   {
    "duration": 2572,
    "start_time": "2024-11-10T19:05:08.344Z"
   },
   {
    "duration": 2,
    "start_time": "2024-11-10T19:05:10.918Z"
   },
   {
    "duration": 6,
    "start_time": "2024-11-10T19:05:10.922Z"
   },
   {
    "duration": 0,
    "start_time": "2024-11-10T19:05:10.930Z"
   },
   {
    "duration": 0,
    "start_time": "2024-11-10T19:05:10.931Z"
   },
   {
    "duration": 0,
    "start_time": "2024-11-10T19:05:10.933Z"
   },
   {
    "duration": 0,
    "start_time": "2024-11-10T19:05:10.934Z"
   },
   {
    "duration": 0,
    "start_time": "2024-11-10T19:05:10.935Z"
   },
   {
    "duration": 0,
    "start_time": "2024-11-10T19:05:10.936Z"
   },
   {
    "duration": 0,
    "start_time": "2024-11-10T19:05:10.937Z"
   },
   {
    "duration": 0,
    "start_time": "2024-11-10T19:05:10.939Z"
   },
   {
    "duration": 0,
    "start_time": "2024-11-10T19:05:10.941Z"
   },
   {
    "duration": 0,
    "start_time": "2024-11-10T19:05:10.942Z"
   },
   {
    "duration": 0,
    "start_time": "2024-11-10T19:05:10.942Z"
   },
   {
    "duration": 0,
    "start_time": "2024-11-10T19:05:10.944Z"
   },
   {
    "duration": 0,
    "start_time": "2024-11-10T19:05:10.946Z"
   },
   {
    "duration": 2171,
    "start_time": "2024-11-10T19:36:57.536Z"
   },
   {
    "duration": 4,
    "start_time": "2024-11-10T19:36:59.709Z"
   },
   {
    "duration": 10,
    "start_time": "2024-11-10T19:36:59.714Z"
   },
   {
    "duration": 3,
    "start_time": "2024-11-10T19:36:59.726Z"
   },
   {
    "duration": 8,
    "start_time": "2024-11-10T19:36:59.731Z"
   },
   {
    "duration": 9,
    "start_time": "2024-11-10T19:36:59.741Z"
   },
   {
    "duration": 3,
    "start_time": "2024-11-10T19:36:59.751Z"
   },
   {
    "duration": 2,
    "start_time": "2024-11-10T19:36:59.756Z"
   },
   {
    "duration": 8,
    "start_time": "2024-11-10T19:36:59.760Z"
   },
   {
    "duration": 2678,
    "start_time": "2024-11-10T19:36:59.771Z"
   },
   {
    "duration": 2,
    "start_time": "2024-11-10T19:37:02.451Z"
   },
   {
    "duration": 5,
    "start_time": "2024-11-10T19:37:02.455Z"
   },
   {
    "duration": 9,
    "start_time": "2024-11-10T19:37:02.462Z"
   },
   {
    "duration": 7,
    "start_time": "2024-11-10T19:37:02.475Z"
   },
   {
    "duration": 4,
    "start_time": "2024-11-10T19:37:02.484Z"
   },
   {
    "duration": 0,
    "start_time": "2024-11-10T19:37:02.489Z"
   },
   {
    "duration": 0,
    "start_time": "2024-11-10T19:37:02.490Z"
   },
   {
    "duration": 0,
    "start_time": "2024-11-10T19:37:02.491Z"
   },
   {
    "duration": 0,
    "start_time": "2024-11-10T19:37:02.493Z"
   },
   {
    "duration": 0,
    "start_time": "2024-11-10T19:37:02.494Z"
   },
   {
    "duration": 0,
    "start_time": "2024-11-10T19:37:02.495Z"
   },
   {
    "duration": 0,
    "start_time": "2024-11-10T19:37:02.532Z"
   },
   {
    "duration": 0,
    "start_time": "2024-11-10T19:37:02.533Z"
   },
   {
    "duration": 0,
    "start_time": "2024-11-10T19:37:02.534Z"
   },
   {
    "duration": 0,
    "start_time": "2024-11-10T19:37:02.536Z"
   },
   {
    "duration": 1900,
    "start_time": "2024-11-10T19:37:11.076Z"
   },
   {
    "duration": 3,
    "start_time": "2024-11-10T19:37:26.984Z"
   },
   {
    "duration": 8,
    "start_time": "2024-11-10T19:37:26.990Z"
   },
   {
    "duration": 3,
    "start_time": "2024-11-10T19:37:26.999Z"
   },
   {
    "duration": 9,
    "start_time": "2024-11-10T19:37:27.004Z"
   },
   {
    "duration": 7,
    "start_time": "2024-11-10T19:37:27.016Z"
   },
   {
    "duration": 3,
    "start_time": "2024-11-10T19:37:27.025Z"
   },
   {
    "duration": 3,
    "start_time": "2024-11-10T19:37:27.030Z"
   },
   {
    "duration": 9,
    "start_time": "2024-11-10T19:37:27.035Z"
   },
   {
    "duration": 2829,
    "start_time": "2024-11-10T19:37:27.046Z"
   },
   {
    "duration": 2,
    "start_time": "2024-11-10T19:37:29.877Z"
   },
   {
    "duration": 4,
    "start_time": "2024-11-10T19:37:29.881Z"
   },
   {
    "duration": 8,
    "start_time": "2024-11-10T19:37:29.886Z"
   },
   {
    "duration": 10,
    "start_time": "2024-11-10T19:37:29.895Z"
   },
   {
    "duration": 4,
    "start_time": "2024-11-10T19:37:29.930Z"
   },
   {
    "duration": 0,
    "start_time": "2024-11-10T19:37:29.935Z"
   },
   {
    "duration": 0,
    "start_time": "2024-11-10T19:37:29.936Z"
   },
   {
    "duration": 0,
    "start_time": "2024-11-10T19:37:29.938Z"
   },
   {
    "duration": 0,
    "start_time": "2024-11-10T19:37:29.938Z"
   },
   {
    "duration": 0,
    "start_time": "2024-11-10T19:37:29.940Z"
   },
   {
    "duration": 0,
    "start_time": "2024-11-10T19:37:29.941Z"
   },
   {
    "duration": 0,
    "start_time": "2024-11-10T19:37:29.942Z"
   },
   {
    "duration": 0,
    "start_time": "2024-11-10T19:37:29.943Z"
   },
   {
    "duration": 0,
    "start_time": "2024-11-10T19:37:29.944Z"
   },
   {
    "duration": 0,
    "start_time": "2024-11-10T19:37:29.945Z"
   },
   {
    "duration": 582,
    "start_time": "2024-11-10T19:39:02.118Z"
   },
   {
    "duration": 0,
    "start_time": "2024-11-10T19:39:02.702Z"
   },
   {
    "duration": 17,
    "start_time": "2024-11-10T19:39:03.008Z"
   },
   {
    "duration": 4,
    "start_time": "2024-11-10T19:39:11.930Z"
   },
   {
    "duration": 8,
    "start_time": "2024-11-10T19:39:13.923Z"
   },
   {
    "duration": 8,
    "start_time": "2024-11-10T19:39:14.334Z"
   },
   {
    "duration": 3,
    "start_time": "2024-11-10T19:40:38.493Z"
   },
   {
    "duration": 5,
    "start_time": "2024-11-10T19:40:38.850Z"
   },
   {
    "duration": 8,
    "start_time": "2024-11-10T19:40:40.926Z"
   },
   {
    "duration": 8,
    "start_time": "2024-11-10T19:40:41.457Z"
   },
   {
    "duration": 57,
    "start_time": "2024-11-10T19:40:45.593Z"
   },
   {
    "duration": 55,
    "start_time": "2024-11-10T19:43:48.491Z"
   },
   {
    "duration": 3,
    "start_time": "2024-11-10T19:45:10.006Z"
   },
   {
    "duration": 7,
    "start_time": "2024-11-10T19:45:10.011Z"
   },
   {
    "duration": 3,
    "start_time": "2024-11-10T19:45:10.019Z"
   },
   {
    "duration": 8,
    "start_time": "2024-11-10T19:45:10.121Z"
   },
   {
    "duration": 9,
    "start_time": "2024-11-10T19:45:10.132Z"
   },
   {
    "duration": 3,
    "start_time": "2024-11-10T19:45:10.143Z"
   },
   {
    "duration": 3,
    "start_time": "2024-11-10T19:45:10.147Z"
   },
   {
    "duration": 9,
    "start_time": "2024-11-10T19:45:10.152Z"
   },
   {
    "duration": 2627,
    "start_time": "2024-11-10T19:45:10.162Z"
   },
   {
    "duration": 3,
    "start_time": "2024-11-10T19:45:12.791Z"
   },
   {
    "duration": 5,
    "start_time": "2024-11-10T19:45:12.796Z"
   },
   {
    "duration": 9,
    "start_time": "2024-11-10T19:45:12.803Z"
   },
   {
    "duration": 8,
    "start_time": "2024-11-10T19:45:12.831Z"
   },
   {
    "duration": 52,
    "start_time": "2024-11-10T19:45:12.841Z"
   },
   {
    "duration": 0,
    "start_time": "2024-11-10T19:45:12.895Z"
   },
   {
    "duration": 0,
    "start_time": "2024-11-10T19:45:12.897Z"
   },
   {
    "duration": 0,
    "start_time": "2024-11-10T19:45:12.898Z"
   },
   {
    "duration": 0,
    "start_time": "2024-11-10T19:45:12.899Z"
   },
   {
    "duration": 0,
    "start_time": "2024-11-10T19:45:12.901Z"
   },
   {
    "duration": 0,
    "start_time": "2024-11-10T19:45:12.903Z"
   },
   {
    "duration": 0,
    "start_time": "2024-11-10T19:45:12.904Z"
   },
   {
    "duration": 0,
    "start_time": "2024-11-10T19:45:12.905Z"
   },
   {
    "duration": 1,
    "start_time": "2024-11-10T19:45:12.906Z"
   },
   {
    "duration": 0,
    "start_time": "2024-11-10T19:45:12.931Z"
   },
   {
    "duration": 0,
    "start_time": "2024-11-10T19:45:12.932Z"
   },
   {
    "duration": 0,
    "start_time": "2024-11-10T19:45:12.933Z"
   },
   {
    "duration": 0,
    "start_time": "2024-11-10T19:45:12.934Z"
   },
   {
    "duration": 0,
    "start_time": "2024-11-10T19:45:12.935Z"
   },
   {
    "duration": 52,
    "start_time": "2024-11-10T19:45:34.209Z"
   }
  ],
  "kernelspec": {
   "display_name": "Python 3",
   "language": "python",
   "name": "python3"
  },
  "language_info": {
   "codemirror_mode": {
    "name": "ipython",
    "version": 3
   },
   "file_extension": ".py",
   "mimetype": "text/x-python",
   "name": "python",
   "nbconvert_exporter": "python",
   "pygments_lexer": "ipython3",
   "version": "3.12.7"
  },
  "toc": {
   "base_numbering": 1,
   "nav_menu": {},
   "number_sections": true,
   "sideBar": true,
   "skip_h1_title": true,
   "title_cell": "Table of Contents",
   "title_sidebar": "Contents",
   "toc_cell": false,
   "toc_position": {},
   "toc_section_display": true,
   "toc_window_display": false
  }
 },
 "nbformat": 4,
 "nbformat_minor": 4
}
