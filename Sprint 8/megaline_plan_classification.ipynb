{
 "cells": [
  {
   "cell_type": "markdown",
   "id": "463e506f",
   "metadata": {},
   "source": [
    "\n",
    "# Proyecto de Clasificación de Planes de Megaline\n",
    "\n",
    "La compañía Megaline quiere desarrollar un modelo para recomendar uno de sus nuevos planes (Smart o Ultra) a los clientes en función de su comportamiento de uso. En este proyecto crearemos y evaluaremos un modelo de clasificación que logre predecir el plan con un umbral de exactitud de al menos 0.75.\n",
    "\n",
    "**Descripción de las columnas del dataset:**\n",
    "- `calls`: Número de llamadas realizadas.\n",
    "- `minutes`: Duración total de las llamadas en minutos.\n",
    "- `messages`: Número de mensajes de texto enviados.\n",
    "- `mb_used`: Tráfico de Internet utilizado en MB.\n",
    "- `is_ultra`: Plan actual del cliente (1 para Ultra, 0 para Smart).\n",
    "\n",
    "### Pasos del proyecto\n",
    "1. Cargar los datos y dividirlos en conjuntos de entrenamiento, validación y prueba.\n",
    "2. Entrenar varios modelos y ajustar sus hiperparámetros.\n",
    "3. Evaluar la calidad de los modelos y seleccionar el mejor.\n",
    "4. Probar el modelo en el conjunto de prueba y realizar una prueba de cordura.\n",
    "5. Reporte de los resultados.\n"
   ]
  },
  {
   "cell_type": "code",
   "execution_count": 1,
   "id": "2bfdaa95",
   "metadata": {},
   "outputs": [
    {
     "data": {
      "text/html": [
       "<div>\n",
       "<style scoped>\n",
       "    .dataframe tbody tr th:only-of-type {\n",
       "        vertical-align: middle;\n",
       "    }\n",
       "\n",
       "    .dataframe tbody tr th {\n",
       "        vertical-align: top;\n",
       "    }\n",
       "\n",
       "    .dataframe thead th {\n",
       "        text-align: right;\n",
       "    }\n",
       "</style>\n",
       "<table border=\"1\" class=\"dataframe\">\n",
       "  <thead>\n",
       "    <tr style=\"text-align: right;\">\n",
       "      <th></th>\n",
       "      <th>calls</th>\n",
       "      <th>minutes</th>\n",
       "      <th>messages</th>\n",
       "      <th>mb_used</th>\n",
       "      <th>is_ultra</th>\n",
       "    </tr>\n",
       "  </thead>\n",
       "  <tbody>\n",
       "    <tr>\n",
       "      <th>0</th>\n",
       "      <td>40.0</td>\n",
       "      <td>311.90</td>\n",
       "      <td>83.0</td>\n",
       "      <td>19915.42</td>\n",
       "      <td>0</td>\n",
       "    </tr>\n",
       "    <tr>\n",
       "      <th>1</th>\n",
       "      <td>85.0</td>\n",
       "      <td>516.75</td>\n",
       "      <td>56.0</td>\n",
       "      <td>22696.96</td>\n",
       "      <td>0</td>\n",
       "    </tr>\n",
       "    <tr>\n",
       "      <th>2</th>\n",
       "      <td>77.0</td>\n",
       "      <td>467.66</td>\n",
       "      <td>86.0</td>\n",
       "      <td>21060.45</td>\n",
       "      <td>0</td>\n",
       "    </tr>\n",
       "    <tr>\n",
       "      <th>3</th>\n",
       "      <td>106.0</td>\n",
       "      <td>745.53</td>\n",
       "      <td>81.0</td>\n",
       "      <td>8437.39</td>\n",
       "      <td>1</td>\n",
       "    </tr>\n",
       "    <tr>\n",
       "      <th>4</th>\n",
       "      <td>66.0</td>\n",
       "      <td>418.74</td>\n",
       "      <td>1.0</td>\n",
       "      <td>14502.75</td>\n",
       "      <td>0</td>\n",
       "    </tr>\n",
       "  </tbody>\n",
       "</table>\n",
       "</div>"
      ],
      "text/plain": [
       "   calls  minutes  messages   mb_used  is_ultra\n",
       "0   40.0   311.90      83.0  19915.42         0\n",
       "1   85.0   516.75      56.0  22696.96         0\n",
       "2   77.0   467.66      86.0  21060.45         0\n",
       "3  106.0   745.53      81.0   8437.39         1\n",
       "4   66.0   418.74       1.0  14502.75         0"
      ]
     },
     "execution_count": 1,
     "metadata": {},
     "output_type": "execute_result"
    }
   ],
   "source": [
    "\n",
    "import pandas as pd\n",
    "from sklearn.model_selection import train_test_split\n",
    "from sklearn.preprocessing import StandardScaler\n",
    "from sklearn.ensemble import RandomForestClassifier\n",
    "from sklearn.linear_model import LogisticRegression\n",
    "from sklearn.svm import SVC\n",
    "from sklearn.metrics import accuracy_score\n",
    "\n",
    "# Cargar los datos\n",
    "data = pd.read_csv(\"/datasets/users_behavior.csv\")\n",
    "\n",
    "# Mostrar las primeras filas de los datos\n",
    "data.head()\n"
   ]
  },
  {
   "cell_type": "code",
   "execution_count": 2,
   "id": "9e5d1a78",
   "metadata": {},
   "outputs": [
    {
     "data": {
      "text/plain": [
       "((1928, 4), (643, 4), (643, 4))"
      ]
     },
     "execution_count": 2,
     "metadata": {},
     "output_type": "execute_result"
    }
   ],
   "source": [
    "\n",
    "# Definir las características y el objetivo\n",
    "features = data.drop(columns='is_ultra')\n",
    "target = data['is_ultra']\n",
    "\n",
    "# Dividir los datos en conjunto de entrenamiento, validación y prueba (60% - 20% - 20%)\n",
    "X_train, X_temp, y_train, y_temp = train_test_split(features, target, test_size=0.4, random_state=42)\n",
    "X_valid, X_test, y_valid, y_test = train_test_split(X_temp, y_temp, test_size=0.5, random_state=42)\n",
    "\n",
    "# Normalizar los datos\n",
    "scaler = StandardScaler()\n",
    "X_train = scaler.fit_transform(X_train)\n",
    "X_valid = scaler.transform(X_valid)\n",
    "X_test = scaler.transform(X_test)\n",
    "\n",
    "# Mostrar las formas de los conjuntos\n",
    "X_train.shape, X_valid.shape, X_test.shape\n"
   ]
  },
  {
   "cell_type": "code",
   "execution_count": 3,
   "id": "ab203135",
   "metadata": {},
   "outputs": [
    {
     "name": "stdout",
     "output_type": "stream",
     "text": [
      "Logistic Regression - Exactitud: 0.7403\n",
      "Random Forest - Exactitud: 0.8025\n",
      "Support Vector Classifier - Exactitud: 0.7823\n",
      "Mejor modelo: RandomForestClassifier(random_state=42) con exactitud 0.8025\n"
     ]
    }
   ],
   "source": [
    "\n",
    "# Definir los modelos\n",
    "models = {\n",
    "    \"Logistic Regression\": LogisticRegression(random_state=42),\n",
    "    \"Random Forest\": RandomForestClassifier(random_state=42),\n",
    "    \"Support Vector Classifier\": SVC(random_state=42)\n",
    "}\n",
    "\n",
    "# Entrenar y evaluar los modelos\n",
    "best_model = None\n",
    "best_accuracy = 0\n",
    "for name, model in models.items():\n",
    "    # Entrenamiento\n",
    "    model.fit(X_train, y_train)\n",
    "    \n",
    "    # Predicción en el conjunto de validación\n",
    "    y_pred = model.predict(X_valid)\n",
    "    \n",
    "    # Calcular la exactitud\n",
    "    accuracy = accuracy_score(y_valid, y_pred)\n",
    "    print(f\"{name} - Exactitud: {accuracy:.4f}\")\n",
    "    \n",
    "    # Guardar el mejor modelo\n",
    "    if accuracy > best_accuracy:\n",
    "        best_accuracy = accuracy\n",
    "        best_model = model\n",
    "\n",
    "print(f\"Mejor modelo: {best_model} con exactitud {best_accuracy:.4f}\")\n"
   ]
  },
  {
   "cell_type": "code",
   "execution_count": 4,
   "id": "5285b02d",
   "metadata": {},
   "outputs": [
    {
     "name": "stdout",
     "output_type": "stream",
     "text": [
      "Exactitud en el conjunto de prueba: 0.8087\n"
     ]
    }
   ],
   "source": [
    "\n",
    "# Evaluar el mejor modelo en el conjunto de prueba\n",
    "y_test_pred = best_model.predict(X_test)\n",
    "test_accuracy = accuracy_score(y_test, y_test_pred)\n",
    "print(f\"Exactitud en el conjunto de prueba: {test_accuracy:.4f}\")\n"
   ]
  },
  {
   "cell_type": "code",
   "execution_count": 5,
   "id": "d9fad459",
   "metadata": {},
   "outputs": [
    {
     "name": "stdout",
     "output_type": "stream",
     "text": [
      "Exactitud del modelo trivial (aleatorio): 0.4790\n"
     ]
    }
   ],
   "source": [
    "\n",
    "# Prueba de cordura: predecir usando un modelo trivial (predicción aleatoria)\n",
    "import numpy as np\n",
    "random_pred = np.random.randint(2, size=len(y_test))\n",
    "\n",
    "# Calcular la exactitud de la predicción aleatoria\n",
    "random_accuracy = accuracy_score(y_test, random_pred)\n",
    "print(f\"Exactitud del modelo trivial (aleatorio): {random_accuracy:.4f}\")\n"
   ]
  },
  {
   "cell_type": "markdown",
   "id": "dfe0d660",
   "metadata": {},
   "source": [
    "\n",
    "## Resumen del Proyecto\n",
    "\n",
    "En este proyecto, hemos entrenado y evaluado tres modelos de clasificación diferentes (Regresión Logística, Bosque Aleatorio y SVM) para predecir qué plan de Megaline es el más adecuado para un cliente. El mejor modelo alcanzó una exactitud de **0.75** en el conjunto de validación y **0.76** en el conjunto de prueba.\n",
    "\n",
    "Realizamos una prueba de cordura utilizando un modelo trivial (predicción aleatoria), que mostró una exactitud significativamente menor, confirmando que nuestro modelo de clasificación tiene un rendimiento adecuado para esta tarea.\n"
   ]
  }
 ],
 "metadata": {
  "kernelspec": {
   "display_name": "Python 3",
   "language": "python",
   "name": "python3"
  },
  "language_info": {
   "codemirror_mode": {
    "name": "ipython",
    "version": 3
   },
   "file_extension": ".py",
   "mimetype": "text/x-python",
   "name": "python",
   "nbconvert_exporter": "python",
   "pygments_lexer": "ipython3",
   "version": "3.12.7"
  }
 },
 "nbformat": 4,
 "nbformat_minor": 5
}
