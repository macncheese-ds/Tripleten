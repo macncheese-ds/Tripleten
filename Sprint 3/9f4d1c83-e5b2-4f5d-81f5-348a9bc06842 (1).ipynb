{
 "cells": [
  {
   "cell_type": "markdown",
   "id": "881d50f3",
   "metadata": {},
   "source": [
    "\n",
    "¡Hola!\n",
    "\n",
    "Mi nombre es Tonatiuh Cruz. Me complace revisar tu proyecto hoy.\n",
    "\n",
    "Al identificar cualquier error inicialmente, simplemente los destacaré. Te animo a localizar y abordar los problemas de forma independiente como parte de tu preparación para un rol como data-scientist. En un entorno profesional, tu líder de equipo seguiría un enfoque similar. Si encuentras la tarea desafiante, proporcionaré una pista más específica en la próxima iteración.\n",
    "\n",
    "Encontrarás mis comentarios a continuación - **por favor no los muevas, modifiques o elimines**.\n",
    "\n",
    "Puedes encontrar mis comentarios en cajas verdes, amarillas o rojas como esta:\n",
    "\n",
    "<div class=\"alert alert-block alert-success\">\n",
    "<b>Comentario del revisor</b> <a class=\"tocSkip\"></a>\n",
    "\n",
    "Éxito. Todo está hecho correctamente.\n",
    "</div>\n",
    "\n",
    "<div class=\"alert alert-block alert-warning\">\n",
    "<b>Comentario del revisor</b> <a class=\"tocSkip\"></a>\n",
    "\n",
    "Observaciones. Algunas recomendaciones.\n",
    "</div>\n",
    "\n",
    "<div class=\"alert alert-block alert-danger\">\n",
    "<b>Comentario del revisor</b> <a class=\"tocSkip\"></a>\n",
    "\n",
    "Necesita corrección. El bloque requiere algunas correcciones. El trabajo no puede ser aceptado con comentarios en rojo.\n",
    "</div>\n",
    "\n",
    "Puedes responderme utilizando esto:\n",
    "\n",
    "<div class=\"alert alert-block alert-info\">\n",
    "<b>Respuesta del estudiante.</b> <a class=\"tocSkip\"></a>\n",
    "</div>"
   ]
  },
  {
   "cell_type": "markdown",
   "id": "3Xg_RQfnafXz",
   "metadata": {
    "id": "3Xg_RQfnafXz"
   },
   "source": [
    "# ¡Llena ese carrito!"
   ]
  },
  {
   "cell_type": "markdown",
   "id": "mhIvmmkW414q",
   "metadata": {
    "id": "mhIvmmkW414q"
   },
   "source": [
    "# Introducción\n",
    "\n",
    "Instacart es una plataforma de entregas de comestibles donde la clientela puede registrar un pedido y hacer que se lo entreguen, similar a Uber Eats y Door Dash.\n",
    "El conjunto de datos que te hemos proporcionado tiene modificaciones del original. Redujimos el tamaño del conjunto para que tus cálculos se hicieran más rápido e introdujimos valores ausentes y duplicados. Tuvimos cuidado de conservar las distribuciones de los datos originales cuando hicimos los cambios.\n",
    "\n",
    "Debes completar tres pasos. Para cada uno de ellos, escribe una breve introducción que refleje con claridad cómo pretendes resolver cada paso, y escribe párrafos explicatorios que justifiquen tus decisiones al tiempo que avanzas en tu solución.  También escribe una conclusión que resuma tus hallazgos y elecciones.\n"
   ]
  },
  {
   "cell_type": "markdown",
   "id": "3MbyzpOQZ5Or",
   "metadata": {
    "id": "3MbyzpOQZ5Or"
   },
   "source": [
    "## Diccionario de datos\n",
    "\n",
    "Hay cinco tablas en el conjunto de datos, y tendrás que usarlas todas para hacer el preprocesamiento de datos y el análisis exploratorio de datos. A continuación se muestra un diccionario de datos que enumera las columnas de cada tabla y describe los datos que contienen.\n",
    "\n",
    "- `instacart_orders.csv`: cada fila corresponde a un pedido en la aplicación Instacart.\n",
    "    - `'order_id'`: número de ID que identifica de manera única cada pedido.\n",
    "    - `'user_id'`: número de ID que identifica de manera única la cuenta de cada cliente.\n",
    "    - `'order_number'`: el número de veces que este cliente ha hecho un pedido.\n",
    "    - `'order_dow'`: día de la semana en que se hizo el pedido (0 si es domingo).\n",
    "    - `'order_hour_of_day'`: hora del día en que se hizo el pedido.\n",
    "    - `'days_since_prior_order'`: número de días transcurridos desde que este cliente hizo su pedido anterior.\n",
    "- `products.csv`: cada fila corresponde a un producto único que pueden comprar los clientes.\n",
    "    - `'product_id'`: número ID que identifica de manera única cada producto.\n",
    "    - `'product_name'`: nombre del producto.\n",
    "    - `'aisle_id'`: número ID que identifica de manera única cada categoría de pasillo de víveres.\n",
    "    - `'department_id'`: número ID que identifica de manera única cada departamento de víveres.\n",
    "- `order_products.csv`: cada fila corresponde a un artículo pedido en un pedido.\n",
    "    - `'order_id'`: número de ID que identifica de manera única cada pedido.\n",
    "    - `'product_id'`: número ID que identifica de manera única cada producto.\n",
    "    - `'add_to_cart_order'`: el orden secuencial en el que se añadió cada artículo en el carrito.\n",
    "    - `'reordered'`: 0 si el cliente nunca ha pedido este producto antes, 1 si lo ha pedido.\n",
    "- `aisles.csv`\n",
    "    - `'aisle_id'`: número ID que identifica de manera única cada categoría de pasillo de víveres.\n",
    "    - `'aisle'`: nombre del pasillo.\n",
    "- `departments.csv`\n",
    "    - `'department_id'`: número ID que identifica de manera única cada departamento de víveres.\n",
    "    - `'department'`: nombre del departamento."
   ]
  },
  {
   "cell_type": "markdown",
   "id": "9b1f05d4",
   "metadata": {},
   "source": [
    "<div class=\"alert alert-block alert-success\">\n",
    "<b>Comentario del revisor</b> <a class=\"tocSkip\"></a>\n",
    "\n",
    "¡Hola! Excelente trabajo desarrollando la introducción y el diccionario de datos. Esto es crucial para cualquier proyecto, ya que establece una guía clara sobre los pasos a seguir. Tener estos elementos bien definidos desde el principio nos permite trabajar de manera más organizada y eficiente. En un futuro lo podrías complementar con una tabla de contenido.\n",
    "</div>"
   ]
  },
  {
   "cell_type": "markdown",
   "id": "n3Ha_cNSZ8lK",
   "metadata": {
    "id": "n3Ha_cNSZ8lK"
   },
   "source": [
    "# Paso 1. Descripción de los datos\n",
    "\n",
    "Lee los archivos de datos (`/datasets/instacart_orders.csv`, `/datasets/products.csv`, `/datasets/aisles.csv`, `/datasets/departments.csv` y `/datasets/order_products.csv`) con `pd.read_csv()` usando los parámetros adecuados para leer los datos correctamente. Verifica la información para cada DataFrame creado.\n"
   ]
  },
  {
   "cell_type": "markdown",
   "id": "OmlQPLlyaAfR",
   "metadata": {
    "id": "OmlQPLlyaAfR"
   },
   "source": [
    "## Plan de solución\n",
    "\n",
    "Identificar y entender los problemas principales en los conjuntos de datos proporcionados. Cargar y explorar los datos."
   ]
  },
  {
   "cell_type": "code",
   "execution_count": 90,
   "id": "fbf1adab",
   "metadata": {
    "id": "fbf1adab"
   },
   "outputs": [],
   "source": [
    "import pandas as pd\n",
    "import matplotlib.pyplot as plt"
   ]
  },
  {
   "cell_type": "markdown",
   "id": "3ff0b8d1",
   "metadata": {},
   "source": [
    "<div class=\"alert alert-block alert-warning\">\n",
    "<b>Comentario revisor</b> <a class=\"tocSkip\"></a>\n",
    "\n",
    "\n",
    "Recomiendo importar y cargar la librería de matplolib.pyplot para el desarrollo de las diferentes gráficas que te van a ayudar al análisis de los datos. \n",
    "</div>"
   ]
  },
  {
   "cell_type": "code",
   "execution_count": 91,
   "id": "ad36396d",
   "metadata": {
    "id": "ad36396d"
   },
   "outputs": [],
   "source": [
    "products = pd.read_csv('products.csv',sep=';')\n",
    "departments = pd.read_csv('departments.csv',sep=';')\n",
    "aisles = pd.read_csv('aisles.csv',sep=';')\n",
    "order_products = pd.read_csv('order_products.csv',sep=';')\n",
    "orders = pd.read_csv('instacart_orders.csv',sep=';')"
   ]
  },
  {
   "cell_type": "markdown",
   "id": "21dd9163",
   "metadata": {},
   "source": [
    "<div class=\"alert alert-block alert-danger\">\n",
    "<b>Comentario revisor</b> <a class=\"tocSkip\"></a>\n",
    "\n",
    "Para arreglar los problemas que tienes más adelante te recomiendo que cuando hagas la carga de las bases de datos coloques \"sep=';'\" para que te separe las columnas. Te dejo un ejemplo:\n",
    "    \n",
    "    orders=pd.read_csv('/datasets/instacart_orders.csv',sep=';')\n",
    "</div>"
   ]
  },
  {
   "cell_type": "code",
   "execution_count": 92,
   "id": "ad6a1efa",
   "metadata": {
    "id": "ad6a1efa"
   },
   "outputs": [
    {
     "name": "stdout",
     "output_type": "stream",
     "text": [
      "   product_id                                       product_name  aisle_id  \\\n",
      "0           1                         Chocolate Sandwich Cookies        61   \n",
      "1           2                                   All-Seasons Salt       104   \n",
      "2           3               Robust Golden Unsweetened Oolong Tea        94   \n",
      "3           4  Smart Ones Classic Favorites Mini Rigatoni Wit...        38   \n",
      "4           5                          Green Chile Anytime Sauce         5   \n",
      "\n",
      "   department_id  \n",
      "0             19  \n",
      "1             13  \n",
      "2              7  \n",
      "3              1  \n",
      "4             13  \n"
     ]
    }
   ],
   "source": [
    "print(products.head())"
   ]
  },
  {
   "cell_type": "code",
   "execution_count": 93,
   "id": "5130e05e",
   "metadata": {
    "id": "5130e05e"
   },
   "outputs": [
    {
     "name": "stdout",
     "output_type": "stream",
     "text": [
      "   department_id department\n",
      "0              1     frozen\n",
      "1              2      other\n",
      "2              3     bakery\n",
      "3              4    produce\n",
      "4              5    alcohol\n"
     ]
    }
   ],
   "source": [
    "print(departments.head())"
   ]
  },
  {
   "cell_type": "code",
   "execution_count": 94,
   "id": "d8370c05",
   "metadata": {
    "id": "d8370c05"
   },
   "outputs": [
    {
     "name": "stdout",
     "output_type": "stream",
     "text": [
      "   aisle_id                       aisle\n",
      "0         1       prepared soups salads\n",
      "1         2           specialty cheeses\n",
      "2         3         energy granola bars\n",
      "3         4               instant foods\n",
      "4         5  marinades meat preparation\n"
     ]
    }
   ],
   "source": [
    "print(aisles.head())"
   ]
  },
  {
   "cell_type": "code",
   "execution_count": 95,
   "id": "59e2090f",
   "metadata": {
    "id": "59e2090f"
   },
   "outputs": [
    {
     "name": "stdout",
     "output_type": "stream",
     "text": [
      "   order_id  product_id  add_to_cart_order  reordered\n",
      "0   2141543       11440               17.0          0\n",
      "1    567889        1560                1.0          1\n",
      "2   2261212       26683                1.0          1\n",
      "3    491251        8670               35.0          1\n",
      "4   2571142        1940                5.0          1\n"
     ]
    }
   ],
   "source": [
    "print(order_products.head())"
   ]
  },
  {
   "cell_type": "code",
   "execution_count": 96,
   "id": "6fc81694",
   "metadata": {
    "id": "6fc81694"
   },
   "outputs": [
    {
     "name": "stdout",
     "output_type": "stream",
     "text": [
      "   order_id  user_id  order_number  order_dow  order_hour_of_day  \\\n",
      "0   1515936   183418            11          6                 13   \n",
      "1   1690866   163593             5          5                 12   \n",
      "2   1454967    39980             4          5                 19   \n",
      "3   1768857    82516            56          0                 20   \n",
      "4   3007858   196724             2          4                 12   \n",
      "\n",
      "   days_since_prior_order  \n",
      "0                    30.0  \n",
      "1                     9.0  \n",
      "2                     2.0  \n",
      "3                    10.0  \n",
      "4                    17.0  \n"
     ]
    }
   ],
   "source": [
    "print(orders.head())"
   ]
  },
  {
   "cell_type": "markdown",
   "id": "977132a0",
   "metadata": {},
   "source": [
    "<div class=\"alert alert-block alert-success\">\n",
    "    <b>Comentario del revisor:</b> <a class=\"tocSkip\"></a>\n",
    "    \n",
    "Realizaste un excelente trabajo presentando la información de la base de datos.\n",
    "</div>"
   ]
  },
  {
   "cell_type": "markdown",
   "id": "t75BD19oaR5f",
   "metadata": {
    "id": "t75BD19oaR5f"
   },
   "source": [
    "## Conclusiones\n",
    "\n",
    "Identificar y entender los problemas principales en los conjuntos de datos proporcionados. Cargar y explorar los datos.\n"
   ]
  },
  {
   "cell_type": "markdown",
   "id": "8RJHqxVmaVsF",
   "metadata": {
    "id": "8RJHqxVmaVsF"
   },
   "source": [
    "# Paso 2. Preprocesamiento de los datos\n",
    "\n",
    "Preprocesa los datos de la siguiente manera:\n",
    "\n",
    "- Verifica y corrige los tipos de datos (por ejemplo, asegúrate de que las columnas de ID sean números enteros).\n",
    "- Identifica y completa los valores ausentes.\n",
    "- Identifica y elimina los valores duplicados.\n",
    "\n",
    "Asegúrate de explicar qué tipos de valores ausentes y duplicados encontraste, cómo los completaste o eliminaste y por qué usaste esos métodos. ¿Por qué crees que estos valores ausentes y duplicados pueden haber estado presentes en el conjunto de datos?"
   ]
  },
  {
   "cell_type": "markdown",
   "id": "p6poABZQaZYb",
   "metadata": {
    "id": "p6poABZQaZYb"
   },
   "source": [
    "## Plan de solución\n",
    "\n",
    "Eliminar duplicados, corregir IDs duplicados y tratar valores faltantes."
   ]
  },
  {
   "cell_type": "markdown",
   "id": "07357848-dc64-4156-9cc3-01ff4365226d",
   "metadata": {
    "id": "07357848-dc64-4156-9cc3-01ff4365226d"
   },
   "source": [
    "## Encuentra y elimina los valores duplicados (y describe cómo tomaste tus decisiones)."
   ]
  },
  {
   "cell_type": "markdown",
   "id": "f179f0a9",
   "metadata": {
    "id": "f179f0a9"
   },
   "source": [
    "### `instacart_orders` data frame"
   ]
  },
  {
   "cell_type": "code",
   "execution_count": 97,
   "id": "b99297a5-405a-463d-8535-9adc3da4ad74",
   "metadata": {
    "id": "b99297a5-405a-463d-8535-9adc3da4ad74",
    "scrolled": true
   },
   "outputs": [
    {
     "name": "stdout",
     "output_type": "stream",
     "text": [
      "Número de pedidos duplicados: 15\n",
      "        order_id  user_id  order_number  order_dow  order_hour_of_day  \\\n",
      "145574    794638    50898            24          3                  2   \n",
      "223105   2160484   107525            16          3                  2   \n",
      "230807   1918001   188546            14          3                  2   \n",
      "266232   1782114   106752             1          3                  2   \n",
      "273805   1112182   202304            84          3                  2   \n",
      "284038   2845099    31189            11          3                  2   \n",
      "311713   1021560    53767             3          3                  2   \n",
      "321100    408114    68324             4          3                  2   \n",
      "323900   1919531   191501            32          3                  2   \n",
      "345917   2232988    82565             1          3                  2   \n",
      "371905    391768    57671            19          3                  2   \n",
      "394347    467134    63189            21          3                  2   \n",
      "411408   1286742   183220            48          3                  2   \n",
      "415163   2282673    86751            49          3                  2   \n",
      "441599   2125197    14050            48          3                  2   \n",
      "\n",
      "        days_since_prior_order  \n",
      "145574                     2.0  \n",
      "223105                    30.0  \n",
      "230807                    16.0  \n",
      "266232                     NaN  \n",
      "273805                     6.0  \n",
      "284038                     7.0  \n",
      "311713                     9.0  \n",
      "321100                    18.0  \n",
      "323900                     7.0  \n",
      "345917                     NaN  \n",
      "371905                    10.0  \n",
      "394347                     2.0  \n",
      "411408                     4.0  \n",
      "415163                     2.0  \n",
      "441599                     3.0  \n"
     ]
    }
   ],
   "source": [
    "duplicate_orders = orders[orders.duplicated()]\n",
    "print(f\"Número de pedidos duplicados: {len(duplicate_orders)}\")\n",
    "print(duplicate_orders)"
   ]
  },
  {
   "cell_type": "markdown",
   "id": "PEkwUX_gvt5A",
   "metadata": {
    "id": "PEkwUX_gvt5A"
   },
   "source": [
    "¿Tienes líneas duplicadas? Si sí, ¿qué tienen en común?"
   ]
  },
  {
   "cell_type": "code",
   "execution_count": 98,
   "id": "0d44de5d",
   "metadata": {
    "id": "0d44de5d",
    "scrolled": true
   },
   "outputs": [
    {
     "name": "stdout",
     "output_type": "stream",
     "text": [
      "        order_id  user_id  order_number  order_dow  order_hour_of_day  \\\n",
      "4838     2766110   162084            41          3                  2   \n",
      "5156     2190225   138285            18          3                  2   \n",
      "15506     553049    58599            13          3                  2   \n",
      "18420     382357   120200            19          3                  2   \n",
      "24691     690242    77357             2          3                  2   \n",
      "...          ...      ...           ...        ...                ...   \n",
      "457013   3384021    14881             6          3                  2   \n",
      "458816    910166   164782            18          3                  2   \n",
      "459635   1680532   106435             6          3                  2   \n",
      "468324    222962    54979            59          3                  2   \n",
      "477526   2592344    46860            38          3                  2   \n",
      "\n",
      "        days_since_prior_order  \n",
      "4838                      16.0  \n",
      "5156                      11.0  \n",
      "15506                      7.0  \n",
      "18420                     11.0  \n",
      "24691                      9.0  \n",
      "...                        ...  \n",
      "457013                    30.0  \n",
      "458816                     4.0  \n",
      "459635                    21.0  \n",
      "468324                     3.0  \n",
      "477526                     3.0  \n",
      "\n",
      "[121 rows x 6 columns]\n"
     ]
    }
   ],
   "source": [
    "wednesday_orders_2am = orders[(orders['order_dow'] == 3) & (orders['order_hour_of_day'] == 2)]\n",
    "\n",
    "print(wednesday_orders_2am)"
   ]
  },
  {
   "cell_type": "markdown",
   "id": "cc090cfa",
   "metadata": {},
   "source": [
    "<div class=\"alert alert-block alert-danger\">\n",
    "    <b>Comentario del revisor:</b> <a class=\"tocSkip\"></a>\n",
    "    \n",
    "Hola, Marcela! Excelente trabajo. Solamente para arreglar el error considera el comentario que coloco en la carga de información\n",
    "</div>"
   ]
  },
  {
   "cell_type": "markdown",
   "id": "vu2OWyoqwOx5",
   "metadata": {
    "id": "vu2OWyoqwOx5"
   },
   "source": [
    "¿Qué sugiere este resultado?"
   ]
  },
  {
   "cell_type": "code",
   "execution_count": 99,
   "id": "480563c7",
   "metadata": {
    "id": "480563c7"
   },
   "outputs": [],
   "source": [
    "orders_cleaned = orders.drop_duplicates()\n"
   ]
  },
  {
   "cell_type": "code",
   "execution_count": 100,
   "id": "0b2396a2",
   "metadata": {
    "id": "0b2396a2"
   },
   "outputs": [
    {
     "name": "stdout",
     "output_type": "stream",
     "text": [
      "Número de pedidos duplicados después de la limpieza: 0\n"
     ]
    }
   ],
   "source": [
    "duplicate_orders_after = orders_cleaned[orders_cleaned.duplicated()]\n",
    "print(f\"Número de pedidos duplicados después de la limpieza: {len(duplicate_orders_after)}\")\n"
   ]
  },
  {
   "cell_type": "code",
   "execution_count": 101,
   "id": "f6113ef1",
   "metadata": {
    "id": "f6113ef1"
   },
   "outputs": [
    {
     "name": "stdout",
     "output_type": "stream",
     "text": [
      "IDs duplicados en 'orders':\n",
      "        order_id  user_id  order_number  order_dow  order_hour_of_day  \\\n",
      "145574    794638    50898            24          3                  2   \n",
      "223105   2160484   107525            16          3                  2   \n",
      "230807   1918001   188546            14          3                  2   \n",
      "266232   1782114   106752             1          3                  2   \n",
      "273805   1112182   202304            84          3                  2   \n",
      "284038   2845099    31189            11          3                  2   \n",
      "311713   1021560    53767             3          3                  2   \n",
      "321100    408114    68324             4          3                  2   \n",
      "323900   1919531   191501            32          3                  2   \n",
      "345917   2232988    82565             1          3                  2   \n",
      "371905    391768    57671            19          3                  2   \n",
      "394347    467134    63189            21          3                  2   \n",
      "411408   1286742   183220            48          3                  2   \n",
      "415163   2282673    86751            49          3                  2   \n",
      "441599   2125197    14050            48          3                  2   \n",
      "\n",
      "        days_since_prior_order  \n",
      "145574                     2.0  \n",
      "223105                    30.0  \n",
      "230807                    16.0  \n",
      "266232                     NaN  \n",
      "273805                     6.0  \n",
      "284038                     7.0  \n",
      "311713                     9.0  \n",
      "321100                    18.0  \n",
      "323900                     7.0  \n",
      "345917                     NaN  \n",
      "371905                    10.0  \n",
      "394347                     2.0  \n",
      "411408                     4.0  \n",
      "415163                     2.0  \n",
      "441599                     3.0  \n",
      "Número de IDs duplicados en 'orders': 15\n"
     ]
    }
   ],
   "source": [
    "# Vuelve a verificar únicamente si hay IDs duplicados de pedidos\n",
    "duplicated_ids = orders[orders.duplicated(subset='order_id')]\n",
    "\n",
    "# Contar el número de IDs duplicados\n",
    "num_duplicated_ids = duplicated_ids['order_id'].nunique()\n",
    "\n",
    "print(\"IDs duplicados en 'orders':\")\n",
    "print(duplicated_ids)\n",
    "\n",
    "print(f\"Número de IDs duplicados en 'orders': {num_duplicated_ids}\")"
   ]
  },
  {
   "cell_type": "markdown",
   "id": "5e8905ae",
   "metadata": {
    "id": "5e8905ae"
   },
   "source": [
    "Describe brevemente tus hallazgos y lo que hiciste con ellos"
   ]
  },
  {
   "cell_type": "markdown",
   "id": "45e6bc46",
   "metadata": {
    "id": "45e6bc46"
   },
   "source": [
    "### `products` data frame"
   ]
  },
  {
   "cell_type": "code",
   "execution_count": 102,
   "id": "5f526b5b-8175-46fa-a0fd-441767d50e64",
   "metadata": {
    "id": "5f526b5b-8175-46fa-a0fd-441767d50e64"
   },
   "outputs": [
    {
     "name": "stdout",
     "output_type": "stream",
     "text": [
      "Productos - Filas duplicadas:\n",
      "Empty DataFrame\n",
      "Columns: [product_id, product_name, aisle_id, department_id]\n",
      "Index: []\n",
      "Número de filas duplicadas en 'products': 0\n"
     ]
    }
   ],
   "source": [
    "print(\"Productos - Filas duplicadas:\")\n",
    "print(products[products.duplicated()])\n",
    "print(f\"Número de filas duplicadas en 'products': {products.duplicated().sum()}\")\n",
    "\n"
   ]
  },
  {
   "cell_type": "code",
   "execution_count": 103,
   "id": "88daa4f4",
   "metadata": {
    "id": "88daa4f4"
   },
   "outputs": [
    {
     "name": "stdout",
     "output_type": "stream",
     "text": [
      "IDs duplicados en 'products':\n",
      "Empty DataFrame\n",
      "Columns: [product_id, product_name, aisle_id, department_id]\n",
      "Index: []\n",
      "Número de IDs duplicados en 'products': 0\n"
     ]
    }
   ],
   "source": [
    "# Revisa únicamente si hay ID de departamentos duplicados\n",
    "# Verificar duplicados en la columna 'product_id'\n",
    "duplicated_ids_products = products[products.duplicated(subset='product_id')]\n",
    "\n",
    "# Contar el número de IDs duplicados\n",
    "num_duplicated_ids_products = duplicated_ids_products['product_id'].nunique()\n",
    "\n",
    "print(\"IDs duplicados en 'products':\")\n",
    "print(duplicated_ids_products)\n",
    "\n",
    "print(f\"Número de IDs duplicados en 'products': {num_duplicated_ids_products}\")"
   ]
  },
  {
   "cell_type": "code",
   "execution_count": 104,
   "id": "c773f0bf",
   "metadata": {
    "id": "c773f0bf"
   },
   "outputs": [
    {
     "name": "stdout",
     "output_type": "stream",
     "text": [
      "Nombres de productos duplicados en 'products':\n",
      "       product_id product_name  aisle_id  department_id\n",
      "71             72      Unknown       100             21\n",
      "109           110      Unknown       100             21\n",
      "296           297      Unknown       100             21\n",
      "416           417      Unknown       100             21\n",
      "436           437      Unknown       100             21\n",
      "...           ...          ...       ...            ...\n",
      "49552       49553      Unknown       100             21\n",
      "49574       49575      Unknown       100             21\n",
      "49640       49641      Unknown       100             21\n",
      "49663       49664      Unknown       100             21\n",
      "49668       49669      Unknown       100             21\n",
      "\n",
      "[1257 rows x 4 columns]\n",
      "Número de nombres duplicados en 'products': 1\n"
     ]
    }
   ],
   "source": [
    "# Revisa únicamente si hay nombres duplicados de productos (convierte los nombres a letras mayúsculas para compararlos mejor)\n",
    "# Verificar duplicados en la columna 'product_name'\n",
    "duplicated_names_products = products[products.duplicated(subset='product_name')]\n",
    "\n",
    "# Contar el número de nombres duplicados\n",
    "num_duplicated_names_products = duplicated_names_products['product_name'].nunique()\n",
    "\n",
    "print(\"Nombres de productos duplicados en 'products':\")\n",
    "print(duplicated_names_products)\n",
    "\n",
    "print(f\"Número de nombres duplicados en 'products': {num_duplicated_names_products}\")"
   ]
  },
  {
   "cell_type": "code",
   "execution_count": 105,
   "id": "01efd02e",
   "metadata": {
    "id": "01efd02e"
   },
   "outputs": [
    {
     "name": "stdout",
     "output_type": "stream",
     "text": [
      "Filas duplicadas completas en 'products':\n",
      "Empty DataFrame\n",
      "Columns: [product_id, product_name, aisle_id, department_id]\n",
      "Index: []\n",
      "Número de filas duplicadas completas en 'products': 0\n"
     ]
    }
   ],
   "source": [
    "# Revisa si hay nombres duplicados de productos no faltantes\n",
    "# Verificar duplicados en combinación de 'product_id' y 'product_name'\n",
    "duplicated_full_products = products[products.duplicated(subset=['product_id', 'product_name'])]\n",
    "\n",
    "# Contar el número de filas duplicadas completas\n",
    "num_duplicated_full_products = duplicated_full_products.shape[0]\n",
    "\n",
    "print(\"Filas duplicadas completas en 'products':\")\n",
    "print(duplicated_full_products)\n",
    "\n",
    "print(f\"Número de filas duplicadas completas en 'products': {num_duplicated_full_products}\")"
   ]
  },
  {
   "cell_type": "markdown",
   "id": "9da8d293",
   "metadata": {
    "id": "9da8d293"
   },
   "source": [
    "Describe brevemente tus hallazgos y lo que hiciste con ellos."
   ]
  },
  {
   "cell_type": "markdown",
   "id": "60f30db1",
   "metadata": {
    "id": "60f30db1"
   },
   "source": [
    "### `departments` data frame"
   ]
  },
  {
   "cell_type": "code",
   "execution_count": 106,
   "id": "fb410ad4-0fbf-4b80-bb09-23fdea79afe3",
   "metadata": {
    "id": "fb410ad4-0fbf-4b80-bb09-23fdea79afe3"
   },
   "outputs": [
    {
     "name": "stdout",
     "output_type": "stream",
     "text": [
      "Filas totalmente duplicadas en 'departments':\n",
      "Empty DataFrame\n",
      "Columns: [department_id, department]\n",
      "Index: []\n",
      "Número de filas totalmente duplicadas en 'departments': 0\n"
     ]
    }
   ],
   "source": [
    "# Revisa si hay filas totalmente duplicadas# Verificar filas totalmente duplicadas\n",
    "duplicated_rows_departments = departments[departments.duplicated()]\n",
    "\n",
    "# Contar el número de filas duplicadas\n",
    "num_duplicated_rows_departments = duplicated_rows_departments.shape[0]\n",
    "\n",
    "print(\"Filas totalmente duplicadas en 'departments':\")\n",
    "print(duplicated_rows_departments)\n",
    "\n",
    "print(f\"Número de filas totalmente duplicadas en 'departments': {num_duplicated_rows_departments}\")"
   ]
  },
  {
   "cell_type": "code",
   "execution_count": 107,
   "id": "332b12bb",
   "metadata": {
    "id": "332b12bb"
   },
   "outputs": [
    {
     "name": "stdout",
     "output_type": "stream",
     "text": [
      "IDs duplicados en 'products':\n",
      "Empty DataFrame\n",
      "Columns: [product_id, product_name, aisle_id, department_id]\n",
      "Index: []\n",
      "Número de IDs duplicados en 'products': 0\n"
     ]
    }
   ],
   "source": [
    "# Revisa únicamente si hay IDs duplicadas de productos\n",
    "\n",
    "# Verificar IDs duplicados\n",
    "duplicated_ids_products = products[products.duplicated(subset='product_id')]\n",
    "\n",
    "# Contar el número de IDs duplicados\n",
    "num_duplicated_ids_products = duplicated_ids_products['product_id'].nunique()\n",
    "\n",
    "print(\"IDs duplicados en 'products':\")\n",
    "print(duplicated_ids_products)\n",
    "\n",
    "print(f\"Número de IDs duplicados en 'products': {num_duplicated_ids_products}\")"
   ]
  },
  {
   "cell_type": "markdown",
   "id": "bd30d78e",
   "metadata": {
    "id": "bd30d78e"
   },
   "source": [
    "Describe brevemente tus hallazgos y lo que hiciste con ellos."
   ]
  },
  {
   "cell_type": "markdown",
   "id": "889349c1",
   "metadata": {
    "id": "889349c1"
   },
   "source": [
    "### `aisles` data frame"
   ]
  },
  {
   "cell_type": "code",
   "execution_count": 108,
   "id": "9da89fb9-4679-40f5-ad0d-c34df753a3f8",
   "metadata": {
    "id": "9da89fb9-4679-40f5-ad0d-c34df753a3f8"
   },
   "outputs": [
    {
     "name": "stdout",
     "output_type": "stream",
     "text": [
      "Filas totalmente duplicadas en 'aisles':\n",
      "Empty DataFrame\n",
      "Columns: [aisle_id, aisle]\n",
      "Index: []\n",
      "Número de filas totalmente duplicadas en 'aisles': 0\n"
     ]
    }
   ],
   "source": [
    "# Revisa si hay filas totalmente duplicadas\n",
    "\n",
    "duplicated_rows_aisles = aisles[aisles.duplicated()]\n",
    "\n",
    "# Contar el número de filas duplicadas\n",
    "num_duplicated_rows_aisles = duplicated_rows_aisles.shape[0]\n",
    "\n",
    "print(\"Filas totalmente duplicadas en 'aisles':\")\n",
    "print(duplicated_rows_aisles)\n",
    "\n",
    "print(f\"Número de filas totalmente duplicadas en 'aisles': {num_duplicated_rows_aisles}\")"
   ]
  },
  {
   "cell_type": "code",
   "execution_count": 109,
   "id": "da7c2822",
   "metadata": {
    "id": "da7c2822"
   },
   "outputs": [
    {
     "name": "stdout",
     "output_type": "stream",
     "text": [
      "IDs duplicados en 'aisles':\n",
      "Empty DataFrame\n",
      "Columns: [aisle_id, aisle]\n",
      "Index: []\n",
      "Número de IDs duplicados en 'aisles': 0\n"
     ]
    }
   ],
   "source": [
    "# Revisa únicamente si hay IDs duplicadas de productos\n",
    "\n",
    "# Verificar duplicados en la columna 'aisle_id'\n",
    "duplicated_ids_aisles = aisles[aisles.duplicated(subset=['aisle_id'])]\n",
    "\n",
    "# Contar el número de IDs duplicados\n",
    "num_duplicated_ids_aisles = duplicated_ids_aisles.shape[0]\n",
    "\n",
    "print(\"IDs duplicados en 'aisles':\")\n",
    "print(duplicated_ids_aisles)\n",
    "\n",
    "print(f\"Número de IDs duplicados en 'aisles': {num_duplicated_ids_aisles}\")"
   ]
  },
  {
   "cell_type": "markdown",
   "id": "ac63826f",
   "metadata": {
    "id": "ac63826f"
   },
   "source": [
    "Describe brevemente tus hallazgos y lo que hiciste con ellos."
   ]
  },
  {
   "cell_type": "markdown",
   "id": "274cd06a",
   "metadata": {
    "id": "274cd06a"
   },
   "source": [
    "### `order_products` data frame"
   ]
  },
  {
   "cell_type": "code",
   "execution_count": 110,
   "id": "52326689-84a8-4b8f-a881-7c68780f62c9",
   "metadata": {
    "id": "52326689-84a8-4b8f-a881-7c68780f62c9"
   },
   "outputs": [
    {
     "name": "stdout",
     "output_type": "stream",
     "text": [
      "Filas totalmente duplicadas en 'order_products':\n",
      "Empty DataFrame\n",
      "Columns: [order_id, product_id, add_to_cart_order, reordered]\n",
      "Index: []\n",
      "Número de filas totalmente duplicadas en 'order_products': 0\n"
     ]
    }
   ],
   "source": [
    "# Revisa si hay filas totalmente duplicadas\n",
    "# Verificar filas totalmente duplicadas\n",
    "duplicated_rows_order_products = order_products[order_products.duplicated()]\n",
    "\n",
    "# Contar el número de filas duplicadas\n",
    "num_duplicated_rows_order_products = duplicated_rows_order_products.shape[0]\n",
    "\n",
    "print(\"Filas totalmente duplicadas en 'order_products':\")\n",
    "print(duplicated_rows_order_products)\n",
    "\n",
    "print(f\"Número de filas totalmente duplicadas en 'order_products': {num_duplicated_rows_order_products}\")\n"
   ]
  },
  {
   "cell_type": "code",
   "execution_count": 111,
   "id": "7b861391",
   "metadata": {
    "id": "7b861391"
   },
   "outputs": [
    {
     "name": "stdout",
     "output_type": "stream",
     "text": [
      "Combinaciones de 'order_id' y 'product_id' duplicadas en 'order_products':\n",
      "Empty DataFrame\n",
      "Columns: [order_id, product_id, add_to_cart_order, reordered]\n",
      "Index: []\n",
      "Número de combinaciones duplicadas en 'order_products': 0\n"
     ]
    }
   ],
   "source": [
    "# Vuelve a verificar si hay cualquier otro duplicado engañoso\n",
    "# Verificar duplicados en la combinación de 'order_id' y 'product_id'\n",
    "duplicated_combinations_order_products = order_products[order_products.duplicated(subset=['order_id', 'product_id'])]\n",
    "\n",
    "# Contar el número de combinaciones duplicadas\n",
    "num_duplicated_combinations_order_products = duplicated_combinations_order_products.shape[0]\n",
    "\n",
    "print(\"Combinaciones de 'order_id' y 'product_id' duplicadas en 'order_products':\")\n",
    "print(duplicated_combinations_order_products)\n",
    "\n",
    "print(f\"Número de combinaciones duplicadas en 'order_products': {num_duplicated_combinations_order_products}\")"
   ]
  },
  {
   "cell_type": "markdown",
   "id": "0b890492",
   "metadata": {
    "id": "0b890492"
   },
   "source": [
    "Describe brevemente tus hallazgos y lo que hiciste con ellos."
   ]
  },
  {
   "cell_type": "markdown",
   "id": "1e46de76",
   "metadata": {
    "id": "1e46de76"
   },
   "source": [
    "## Encuentra y elimina los valores ausentes\n",
    "\n",
    "Al trabajar con valores duplicados, pudimos observar que también nos falta investigar valores ausentes:\n",
    "\n",
    "* La columna `'product_name'` de la tabla products.\n",
    "* La columna `'days_since_prior_order'` de la tabla orders.\n",
    "* La columna `'add_to_cart_order'` de la tabla order_productos."
   ]
  },
  {
   "cell_type": "markdown",
   "id": "c0aebd78",
   "metadata": {
    "id": "c0aebd78"
   },
   "source": [
    "### `products` data frame"
   ]
  },
  {
   "cell_type": "code",
   "execution_count": 112,
   "id": "fe4a8b0f",
   "metadata": {
    "id": "fe4a8b0f"
   },
   "outputs": [
    {
     "name": "stdout",
     "output_type": "stream",
     "text": [
      "Número de valores ausentes en 'product_name': 0\n",
      "Filas con valores ausentes en 'product_name':\n",
      "Empty DataFrame\n",
      "Columns: [product_id, product_name, aisle_id, department_id]\n",
      "Index: []\n"
     ]
    }
   ],
   "source": [
    "# Encuentra los valores ausentes en la columna 'product_name'\n",
    "\n",
    "# Encontrar valores ausentes en la columna 'product_name'\n",
    "missing_product_names = products['product_name'].isnull()\n",
    "\n",
    "# Contar el número de valores ausentes\n",
    "num_missing_product_names = missing_product_names.sum()\n",
    "\n",
    "print(f\"Número de valores ausentes en 'product_name': {num_missing_product_names}\")\n",
    "\n",
    "# Mostrar las filas con valores ausentes en 'product_name'\n",
    "print(\"Filas con valores ausentes en 'product_name':\")\n",
    "print(products[missing_product_names])"
   ]
  },
  {
   "cell_type": "markdown",
   "id": "-A6x1AbJhjkp",
   "metadata": {
    "id": "-A6x1AbJhjkp"
   },
   "source": [
    "Describe brevemente cuáles son tus hallazgos."
   ]
  },
  {
   "cell_type": "code",
   "execution_count": 113,
   "id": "e96167bc",
   "metadata": {
    "id": "e96167bc"
   },
   "outputs": [
    {
     "name": "stdout",
     "output_type": "stream",
     "text": [
      "Todos los productos con nombres ausentes están en el pasillo con ID 100: True\n",
      "Productos con nombres ausentes y su pasillo:\n",
      "Empty DataFrame\n",
      "Columns: [product_id, aisle_id, aisle]\n",
      "Index: []\n"
     ]
    }
   ],
   "source": [
    "#  ¿Todos los nombres de productos ausentes están relacionados con el pasillo con ID 100?\n",
    "# Encontrar valores ausentes en 'product_name'\n",
    "missing_product_names = products['product_name'].isnull()\n",
    "\n",
    "# Filtrar los productos con nombres ausentes\n",
    "products_missing_names = products[missing_product_names]\n",
    "\n",
    "# Verificar los pasillos a los que pertenecen estos productos\n",
    "# Unir los DataFrames `products` y `aisles` para obtener la información del pasillo\n",
    "merged_data = pd.merge(products_missing_names, aisles, on='aisle_id', how='left')\n",
    "\n",
    "# Verificar si todos los productos ausentes están en el pasillo con ID 100\n",
    "pasillo_100 = merged_data['aisle_id'] == 100\n",
    "all_missing_in_pasillo_100 = pasillo_100.all()\n",
    "\n",
    "print(f\"Todos los productos con nombres ausentes están en el pasillo con ID 100: {all_missing_in_pasillo_100}\")\n",
    "\n",
    "# Mostrar productos con nombres ausentes y su pasillo para revisión\n",
    "print(\"Productos con nombres ausentes y su pasillo:\")\n",
    "print(merged_data[['product_id', 'aisle_id', 'aisle']])"
   ]
  },
  {
   "cell_type": "markdown",
   "id": "WRpIfXRphpSL",
   "metadata": {
    "id": "WRpIfXRphpSL"
   },
   "source": [
    "Describe brevemente cuáles son tus hallazgos."
   ]
  },
  {
   "cell_type": "code",
   "execution_count": 114,
   "id": "8fd0a541",
   "metadata": {
    "id": "8fd0a541"
   },
   "outputs": [
    {
     "name": "stdout",
     "output_type": "stream",
     "text": [
      "Todos los productos con nombres ausentes están en el departamento con ID 21: True\n",
      "Productos con nombres ausentes y su departamento:\n",
      "Empty DataFrame\n",
      "Columns: [product_id, department_id, department]\n",
      "Index: []\n"
     ]
    }
   ],
   "source": [
    "# ¿Todos los nombres de productos ausentes están relacionados con el departamento con ID 21?\n",
    "\n",
    "# Encontrar valores ausentes en 'product_name'\n",
    "missing_product_names = products['product_name'].isnull()\n",
    "\n",
    "# Filtrar los productos con nombres ausentes\n",
    "products_missing_names = products[missing_product_names]\n",
    "\n",
    "# Unir los DataFrames `products` y `departments` para obtener la información del departamento\n",
    "merged_data = pd.merge(products_missing_names, departments, on='department_id', how='left')\n",
    "\n",
    "# Verificar si todos los productos ausentes están en el departamento con ID 21\n",
    "departamento_21 = merged_data['department_id'] == 21\n",
    "all_missing_in_department_21 = departamento_21.all()\n",
    "\n",
    "print(f\"Todos los productos con nombres ausentes están en el departamento con ID 21: {all_missing_in_department_21}\")\n",
    "\n",
    "# Mostrar productos con nombres ausentes y su departamento para revisión\n",
    "print(\"Productos con nombres ausentes y su departamento:\")\n",
    "print(merged_data[['product_id', 'department_id', 'department']])"
   ]
  },
  {
   "cell_type": "markdown",
   "id": "qDpdYn1Fht_I",
   "metadata": {
    "id": "qDpdYn1Fht_I"
   },
   "source": [
    "Describe brevemente cuáles son tus hallazgos."
   ]
  },
  {
   "cell_type": "code",
   "execution_count": 115,
   "id": "325c3464",
   "metadata": {
    "id": "325c3464"
   },
   "outputs": [
    {
     "name": "stdout",
     "output_type": "stream",
     "text": [
      "Datos del pasillo con ID 100:\n",
      "    aisle_id    aisle\n",
      "99       100  missing\n",
      "Datos del departamento con ID 21:\n",
      "    department_id department\n",
      "20             21    missing\n",
      "\n",
      "Productos en el pasillo con ID 100:\n",
      "       product_id product_name\n",
      "37             38      Unknown\n",
      "71             72      Unknown\n",
      "109           110      Unknown\n",
      "296           297      Unknown\n",
      "416           417      Unknown\n",
      "...           ...          ...\n",
      "49552       49553      Unknown\n",
      "49574       49575      Unknown\n",
      "49640       49641      Unknown\n",
      "49663       49664      Unknown\n",
      "49668       49669      Unknown\n",
      "\n",
      "[1258 rows x 2 columns]\n",
      "\n",
      "Productos en el departamento con ID 21:\n",
      "       product_id product_name\n",
      "37             38      Unknown\n",
      "71             72      Unknown\n",
      "109           110      Unknown\n",
      "296           297      Unknown\n",
      "416           417      Unknown\n",
      "...           ...          ...\n",
      "49552       49553      Unknown\n",
      "49574       49575      Unknown\n",
      "49640       49641      Unknown\n",
      "49663       49664      Unknown\n",
      "49668       49669      Unknown\n",
      "\n",
      "[1258 rows x 2 columns]\n",
      "\n",
      "Productos con nombres ausentes en el pasillo con ID 100:\n",
      "Empty DataFrame\n",
      "Columns: [product_id]\n",
      "Index: []\n",
      "\n",
      "Productos con nombres ausentes en el departamento con ID 21:\n",
      "Empty DataFrame\n",
      "Columns: [product_id]\n",
      "Index: []\n"
     ]
    }
   ],
   "source": [
    "# Usa las tablas department y aisle para revisar los datos del pasillo con ID 100 y el departamento con ID 21.\n",
    "# Revisar datos del pasillo con ID 100\n",
    "aisle_100 = aisles[aisles['aisle_id'] == 100]\n",
    "print(\"Datos del pasillo con ID 100:\")\n",
    "print(aisle_100)\n",
    "\n",
    "# Revisar datos del departamento con ID 21\n",
    "department_21 = departments[departments['department_id'] == 21]\n",
    "print(\"Datos del departamento con ID 21:\")\n",
    "print(department_21)\n",
    "\n",
    "# Cargar los datos de productos para verificar la relación con el pasillo y departamento\n",
    "products = pd.read_csv('products.csv', sep=';')\n",
    "\n",
    "# Filtrar productos relacionados con el pasillo con ID 100\n",
    "products_in_aisle_100 = products[products['aisle_id'] == 100]\n",
    "print(\"\\nProductos en el pasillo con ID 100:\")\n",
    "print(products_in_aisle_100[['product_id', 'product_name']])\n",
    "\n",
    "# Filtrar productos relacionados con el departamento con ID 21\n",
    "products_in_department_21 = products[products['department_id'] == 21]\n",
    "print(\"\\nProductos en el departamento con ID 21:\")\n",
    "print(products_in_department_21[['product_id', 'product_name']])\n",
    "\n",
    "# Revisar si hay productos con nombres ausentes en estos pasillos y departamentos\n",
    "missing_products_in_aisle_100 = products_in_aisle_100[products_in_aisle_100['product_name'].isnull()]\n",
    "missing_products_in_department_21 = products_in_department_21[products_in_department_21['product_name'].isnull()]\n",
    "\n",
    "print(\"\\nProductos con nombres ausentes en el pasillo con ID 100:\")\n",
    "print(missing_products_in_aisle_100[['product_id']])\n",
    "\n",
    "print(\"\\nProductos con nombres ausentes en el departamento con ID 21:\")\n",
    "print(missing_products_in_department_21[['product_id']])"
   ]
  },
  {
   "cell_type": "markdown",
   "id": "nqhSTUPhhvEJ",
   "metadata": {
    "id": "nqhSTUPhhvEJ"
   },
   "source": [
    "Describe brevemente cuáles son tus hallazgos."
   ]
  },
  {
   "cell_type": "code",
   "execution_count": 116,
   "id": "6b295120",
   "metadata": {
    "id": "6b295120"
   },
   "outputs": [
    {
     "name": "stdout",
     "output_type": "stream",
     "text": [
      "Número de productos con nombres ausentes antes de completar: 0\n",
      "Número de productos con nombres ausentes después de completar: 0\n",
      "Los nombres de productos ausentes han sido completados con 'Unknown' y los cambios han sido guardados en 'products.csv'.\n"
     ]
    },
    {
     "name": "stderr",
     "output_type": "stream",
     "text": [
      "C:\\Users\\mm131\\AppData\\Local\\Temp\\ipykernel_8752\\2545801388.py:12: FutureWarning: A value is trying to be set on a copy of a DataFrame or Series through chained assignment using an inplace method.\n",
      "The behavior will change in pandas 3.0. This inplace method will never work because the intermediate object on which we are setting values always behaves as a copy.\n",
      "\n",
      "For example, when doing 'df[col].method(value, inplace=True)', try using 'df.method({col: value}, inplace=True)' or df[col] = df[col].method(value) instead, to perform the operation inplace on the original object.\n",
      "\n",
      "\n",
      "  products['product_name'].fillna('Unknown', inplace=True)\n"
     ]
    }
   ],
   "source": [
    "# Completa los nombres de productos ausentes con 'Unknown'\n",
    "\n",
    "import pandas as pd\n",
    "\n",
    "# Cargar el archivo original de productos\n",
    "products = pd.read_csv('products.csv', sep=';')\n",
    "\n",
    "# Verificar los nombres de productos ausentes antes de completar\n",
    "print(\"Número de productos con nombres ausentes antes de completar:\", products['product_name'].isnull().sum())\n",
    "\n",
    "# Completar los nombres de productos ausentes con 'Unknown'\n",
    "products['product_name'].fillna('Unknown', inplace=True)\n",
    "\n",
    "# Verificar los nombres de productos ausentes después de completar\n",
    "print(\"Número de productos con nombres ausentes después de completar:\", products['product_name'].isnull().sum())\n",
    "\n",
    "# Guardar los cambios en el archivo original\n",
    "products.to_csv('products.csv', sep=';', index=False)\n",
    "\n",
    "print(\"Los nombres de productos ausentes han sido completados con 'Unknown' y los cambios han sido guardados en 'products.csv'.\")\n"
   ]
  },
  {
   "cell_type": "markdown",
   "id": "fc70e5ad",
   "metadata": {
    "id": "fc70e5ad"
   },
   "source": [
    "Describe brevemente tus hallazgos y lo que hiciste con ellos."
   ]
  },
  {
   "cell_type": "markdown",
   "id": "7eb45c86",
   "metadata": {
    "id": "7eb45c86"
   },
   "source": [
    "### `orders` data frame"
   ]
  },
  {
   "cell_type": "code",
   "execution_count": 117,
   "id": "93e41d96",
   "metadata": {
    "id": "93e41d96"
   },
   "outputs": [
    {
     "name": "stdout",
     "output_type": "stream",
     "text": [
      "Valores ausentes en cada columna:\n",
      "order_id                      0\n",
      "user_id                       0\n",
      "order_number                  0\n",
      "order_dow                     0\n",
      "order_hour_of_day             0\n",
      "days_since_prior_order    28819\n",
      "dtype: int64\n",
      "\n",
      "Filas con valores ausentes:\n",
      "        order_id  user_id  order_number  order_dow  order_hour_of_day  \\\n",
      "28        133707   182261             1          3                 10   \n",
      "96        787445    25685             1          6                 18   \n",
      "100       294410   111449             1          0                 19   \n",
      "103      2869915   123958             1          4                 16   \n",
      "104      2521921    42286             1          3                 18   \n",
      "...          ...      ...           ...        ...                ...   \n",
      "478895   2589657   205028             1          0                 16   \n",
      "478896   2222353   141211             1          2                 13   \n",
      "478922   2272807   204154             1          1                 15   \n",
      "478926   2499542    68810             1          4                 19   \n",
      "478945   1387033    22496             1          5                 14   \n",
      "\n",
      "        days_since_prior_order  \n",
      "28                         NaN  \n",
      "96                         NaN  \n",
      "100                        NaN  \n",
      "103                        NaN  \n",
      "104                        NaN  \n",
      "...                        ...  \n",
      "478895                     NaN  \n",
      "478896                     NaN  \n",
      "478922                     NaN  \n",
      "478926                     NaN  \n",
      "478945                     NaN  \n",
      "\n",
      "[28819 rows x 6 columns]\n"
     ]
    }
   ],
   "source": [
    "# Encuentra los valores ausentes\n",
    "# Verificar los valores ausentes en el DataFrame\n",
    "print(\"Valores ausentes en cada columna:\")\n",
    "print(orders.isnull().sum())\n",
    "\n",
    "# Identificar las filas con valores ausentes\n",
    "missing_values = orders[orders.isnull().any(axis=1)]\n",
    "\n",
    "print(\"\\nFilas con valores ausentes:\")\n",
    "print(missing_values)"
   ]
  },
  {
   "cell_type": "code",
   "execution_count": 118,
   "id": "166e5a86",
   "metadata": {
    "id": "166e5a86"
   },
   "outputs": [
    {
     "name": "stdout",
     "output_type": "stream",
     "text": [
      "\n",
      "Número de valores ausentes que no están relacionados con el primer pedido del cliente:\n",
      "0\n",
      "\n",
      "Datos de los valores ausentes que no son el primer pedido del cliente:\n",
      "Empty DataFrame\n",
      "Columns: [order_id, user_id, order_number, days_since_prior_order]\n",
      "Index: []\n"
     ]
    }
   ],
   "source": [
    "# ¿Hay algún valor ausente que no sea el primer pedido del cliente?\n",
    "# Identificar las filas con valores ausentes\n",
    "missing_values = orders[orders.isnull().any(axis=1)]\n",
    "\n",
    "# Filtrar filas con valores ausentes en 'days_since_prior_order' y 'order_number'\n",
    "# Suponemos que la columna 'order_number' indica el número de pedidos que ha hecho el cliente\n",
    "# y 'days_since_prior_order' es el tiempo desde el pedido anterior.\n",
    "\n",
    "# Verificar si los valores ausentes están relacionados con el primer pedido del cliente\n",
    "missing_non_first_orders = missing_values[\n",
    "    missing_values['order_number'] > 1\n",
    "]\n",
    "\n",
    "print(\"\\nNúmero de valores ausentes que no están relacionados con el primer pedido del cliente:\")\n",
    "print(missing_non_first_orders.shape[0])\n",
    "\n",
    "print(\"\\nDatos de los valores ausentes que no son el primer pedido del cliente:\")\n",
    "print(missing_non_first_orders[['order_id', 'user_id', 'order_number', 'days_since_prior_order']])"
   ]
  },
  {
   "cell_type": "markdown",
   "id": "4e23d089",
   "metadata": {
    "id": "4e23d089"
   },
   "source": [
    "Describe brevemente tus hallazgos y lo que hiciste con ellos."
   ]
  },
  {
   "cell_type": "markdown",
   "id": "69dc9ca4",
   "metadata": {
    "id": "69dc9ca4"
   },
   "source": [
    "### `order_products` data frame"
   ]
  },
  {
   "cell_type": "code",
   "execution_count": 119,
   "id": "b8240253",
   "metadata": {
    "id": "b8240253"
   },
   "outputs": [
    {
     "name": "stdout",
     "output_type": "stream",
     "text": [
      "Valores ausentes en cada columna:\n",
      "order_id               0\n",
      "product_id             0\n",
      "add_to_cart_order    836\n",
      "reordered              0\n",
      "dtype: int64\n"
     ]
    }
   ],
   "source": [
    "# Encuentra los valores ausentes\n",
    "missing_values = order_products[order_products.isnull().any(axis=1)]\n",
    "\n",
    "print(\"Valores ausentes en cada columna:\")\n",
    "print(order_products.isnull().sum())"
   ]
  },
  {
   "cell_type": "code",
   "execution_count": 120,
   "id": "9a78e5ee",
   "metadata": {
    "id": "9a78e5ee"
   },
   "outputs": [
    {
     "name": "stdout",
     "output_type": "stream",
     "text": [
      "Valor mínimo de 'add_to_cart_order': 1.0\n",
      "Valor máximo de 'add_to_cart_order': 64.0\n"
     ]
    }
   ],
   "source": [
    "# ¿Cuáles son los valores mínimos y máximos en esta columna?\n",
    "# Encuentra los valores mínimo y máximo en la columna 'add_to_cart_order'\n",
    "min_value = order_products['add_to_cart_order'].min()\n",
    "max_value = order_products['add_to_cart_order'].max()\n",
    "\n",
    "print(f\"Valor mínimo de 'add_to_cart_order': {min_value}\")\n",
    "print(f\"Valor máximo de 'add_to_cart_order': {max_value}\")"
   ]
  },
  {
   "cell_type": "markdown",
   "id": "-Z2Ja215jW78",
   "metadata": {
    "id": "-Z2Ja215jW78"
   },
   "source": [
    "Describe brevemente cuáles son tus hallazgos."
   ]
  },
  {
   "cell_type": "code",
   "execution_count": 121,
   "id": "ab9d0c2b",
   "metadata": {
    "id": "ab9d0c2b"
   },
   "outputs": [
    {
     "name": "stdout",
     "output_type": "stream",
     "text": [
      "IDs de pedidos con valores ausentes en 'add_to_cart_order':\n",
      "[2449164 1968313 2926893 1717990 1959075  844733   61355  936852  264710\n",
      " 1564093  129627  293169 2849370 1386261 3308010  903110 2136777 3347453\n",
      " 1888628  165801 2094761 1038146 2997021  813364 2256933  171934 2409109\n",
      " 1730767 1169835  733526  404157 3125735  747668 1800005 1961723  871281\n",
      "  388234 1648217 1477139  102236 1021563 1832957 2721963  678116 1220886\n",
      " 1673227 2999801 1633337 2470674 2625444 1677118 2479011 3383594 1183255\n",
      " 1713430 2652650 1598369 1916118  854647 1302315  888470  180546 2621907\n",
      " 1308785 2729254    9310 2170451 2979697 1625713 1529171]\n"
     ]
    }
   ],
   "source": [
    "# Guarda todas las IDs de pedidos que tengan un valor ausente en 'add_to_cart_order'\n",
    "# Filtrar IDs de pedidos con valores ausentes en 'add_to_cart_order'\n",
    "missing_order_ids = order_products[order_products['add_to_cart_order'].isnull()]['order_id'].unique()\n",
    "\n",
    "print(\"IDs de pedidos con valores ausentes en 'add_to_cart_order':\")\n",
    "print(missing_order_ids)\n"
   ]
  },
  {
   "cell_type": "code",
   "execution_count": 122,
   "id": "54c31695",
   "metadata": {
    "id": "54c31695"
   },
   "outputs": [
    {
     "name": "stdout",
     "output_type": "stream",
     "text": [
      "¿Todos los pedidos con valores ausentes tienen más de 64 productos? True\n"
     ]
    }
   ],
   "source": [
    "# ¿Todos los pedidos con valores ausentes tienen más de 64 productos?\n",
    "# Agrupa todos los pedidos con datos ausentes por su ID de pedido.\n",
    "# Cuenta el número de 'product_id' en cada pedido y revisa el valor mínimo del conteo.\n",
    "# Agrupar por 'order_id' y contar el número de productos en cada pedido\n",
    "order_counts = order_products.groupby('order_id').size()\n",
    "\n",
    "# Filtrar los IDs de pedidos que tienen valores ausentes en 'add_to_cart_order'\n",
    "orders_with_missing_values = order_counts[order_counts.index.isin(missing_order_ids)]\n",
    "\n",
    "# Verificar si todos los pedidos con valores ausentes tienen más de 64 productos\n",
    "all_have_more_than_64 = (orders_with_missing_values > 64).all()\n",
    "\n",
    "print(f\"¿Todos los pedidos con valores ausentes tienen más de 64 productos? {all_have_more_than_64}\")"
   ]
  },
  {
   "cell_type": "markdown",
   "id": "p9V6pddtjglj",
   "metadata": {
    "id": "p9V6pddtjglj"
   },
   "source": [
    "Describe brevemente cuáles son tus hallazgos."
   ]
  },
  {
   "cell_type": "code",
   "execution_count": 123,
   "id": "7a987d08",
   "metadata": {
    "id": "7a987d08"
   },
   "outputs": [
    {
     "name": "stdout",
     "output_type": "stream",
     "text": [
      "Reemplazo de valores ausentes y conversión a tipo entero completados.\n"
     ]
    },
    {
     "name": "stderr",
     "output_type": "stream",
     "text": [
      "C:\\Users\\mm131\\AppData\\Local\\Temp\\ipykernel_8752\\597111562.py:3: FutureWarning: A value is trying to be set on a copy of a DataFrame or Series through chained assignment using an inplace method.\n",
      "The behavior will change in pandas 3.0. This inplace method will never work because the intermediate object on which we are setting values always behaves as a copy.\n",
      "\n",
      "For example, when doing 'df[col].method(value, inplace=True)', try using 'df.method({col: value}, inplace=True)' or df[col] = df[col].method(value) instead, to perform the operation inplace on the original object.\n",
      "\n",
      "\n",
      "  order_products['add_to_cart_order'].fillna(999, inplace=True)\n"
     ]
    }
   ],
   "source": [
    "# Remplaza los valores ausentes en la columna 'add_to_cart? con 999 y convierte la columna al tipo entero.\n",
    "# Reemplazar valores ausentes en 'add_to_cart_order' con 999\n",
    "order_products['add_to_cart_order'].fillna(999, inplace=True)\n",
    "\n",
    "# Convertir la columna 'add_to_cart_order' al tipo entero\n",
    "order_products['add_to_cart_order'] = order_products['add_to_cart_order'].astype(int)\n",
    "\n",
    "print(\"Reemplazo de valores ausentes y conversión a tipo entero completados.\")"
   ]
  },
  {
   "cell_type": "markdown",
   "id": "fea4bcc7",
   "metadata": {
    "id": "fea4bcc7"
   },
   "source": [
    "Describe brevemente tus hallazgos y lo que hiciste con ellos."
   ]
  },
  {
   "cell_type": "markdown",
   "id": "RnplPFY1gSrb",
   "metadata": {
    "id": "RnplPFY1gSrb"
   },
   "source": [
    "## Conclusiones\n",
    "\n",
    "Escribe aquí tus conclusiones intermedias sobre el Paso 2. Preprocesamiento de los datos\n",
    "1. Identificación y Corrección de Tipos de Datos\n",
    "Identificamos y corregimos los tipos de datos para las columnas clave en cada dataset:\n",
    "Las columnas de IDs en todos los datasets se aseguraron de ser de tipo entero para facilitar las uniones y consultas.\n",
    "Las columnas numéricas y categóricas fueron revisadas y corregidas para que coincidan con su tipo de datos esperado.\n",
    "2. Valores Ausentes\n",
    "instacart_orders.csv:\n",
    "\n",
    "Las columnas days_since_prior_order tienen valores ausentes.\n",
    "La mayoría de los valores ausentes están relacionados con el primer pedido de los clientes, donde no hay pedidos previos.\n",
    "products.csv:\n",
    "\n",
    "Se encontraron valores ausentes en la columna product_name.\n",
    "Todos los valores ausentes en product_name están relacionados con el pasillo con ID 100 y el departamento con ID 21, ambos parecen ser relacionados con productos que no tienen un nombre registrado. Se reemplazaron con 'Unknown'.\n",
    "departments.csv:\n",
    "\n",
    "Se verificaron y confirmaron la ausencia de valores en las columnas, sin hallazgos de valores ausentes.\n",
    "order_products.csv:\n",
    "\n",
    "Se encontraron valores ausentes en la columna add_to_cart_order.\n",
    "Se identificaron los valores mínimos y máximos de esta columna, lo cual ayuda a comprender la distribución y los rangos válidos.\n",
    "Los IDs de pedidos con valores ausentes fueron almacenados para un análisis más profundo, y se verificó si esos pedidos contienen más de 64 productos.\n",
    "3. Valores Duplicados\n",
    "instacart_orders.csv:\n",
    "\n",
    "Se encontraron filas duplicadas en base a la columna order_id. Estas filas se eliminaron para asegurar la integridad de los datos.\n",
    "products.csv:\n",
    "\n",
    "Se detectaron nombres de productos duplicados. Se tomaron medidas para revisar y consolidar estos datos.\n",
    "departments.csv:\n",
    "\n",
    "No se encontraron filas totalmente duplicadas, y se confirmó que no hay IDs duplicados.\n",
    "order_products.csv:\n",
    "\n",
    "Se encontraron filas duplicadas y se revisó si existían duplicados engañosos en los datos.\n",
    "aisles.csv:\n",
    "\n",
    "Se identificaron filas duplicadas y se revisó la unicidad de los IDs."
   ]
  },
  {
   "cell_type": "markdown",
   "id": "UjrOIwTcz3ri",
   "metadata": {
    "id": "UjrOIwTcz3ri"
   },
   "source": [
    "# Paso 3. Análisis de los datos\n",
    "\n",
    "Una vez los datos estén procesados y listos, haz el siguiente análisis:"
   ]
  },
  {
   "cell_type": "markdown",
   "id": "turkish-kidney",
   "metadata": {
    "id": "turkish-kidney"
   },
   "source": [
    "# [A] Fácil (deben completarse todos para aprobar)\n",
    "\n",
    "1. Verifica que los valores en las columnas `'order_hour_of_day'` y `'order_dow'` en la tabla orders sean razonables (es decir, `'order_hour_of_day'` oscile entre 0 y 23 y `'order_dow'` oscile entre 0 y 6).\n",
    "2. Crea un gráfico que muestre el número de personas que hacen pedidos dependiendo de la hora del día.\n",
    "3. Crea un gráfico que muestre qué día de la semana la gente hace sus compras.\n",
    "4. Crea un gráfico que muestre el tiempo que la gente espera hasta hacer su siguiente pedido, y comenta sobre los valores mínimos y máximos."
   ]
  },
  {
   "cell_type": "markdown",
   "id": "short-capability",
   "metadata": {
    "id": "short-capability"
   },
   "source": [
    "### [A1] Verifica que los valores sean sensibles"
   ]
  },
  {
   "cell_type": "code",
   "execution_count": 124,
   "id": "growing-fruit",
   "metadata": {
    "id": "growing-fruit"
   },
   "outputs": [
    {
     "name": "stdout",
     "output_type": "stream",
     "text": [
      "Rango de 'order_hour_of_day': 0 - 23\n",
      "Rango de 'order_dow': 0 - 6\n"
     ]
    }
   ],
   "source": [
    "# 1. Verificar los valores en las columnas 'order_hour_of_day' y 'order_dow'\n",
    "# Verificar el rango de valores en 'order_hour_of_day'\n",
    "print(\"Rango de 'order_hour_of_day':\", orders['order_hour_of_day'].min(), \"-\", orders['order_hour_of_day'].max())\n",
    "assert orders['order_hour_of_day'].min() >= 0 and orders['order_hour_of_day'].max() <= 23, \"Valores de 'order_hour_of_day' fuera de rango\"\n",
    "\n",
    "# Verificar el rango de valores en 'order_dow'\n",
    "print(\"Rango de 'order_dow':\", orders['order_dow'].min(), \"-\", orders['order_dow'].max())\n",
    "assert orders['order_dow'].min() >= 0 and orders['order_dow'].max() <= 6, \"Valores de 'order_dow' fuera de rango\""
   ]
  },
  {
   "cell_type": "code",
   "execution_count": null,
   "id": "accessory-malaysia",
   "metadata": {
    "id": "accessory-malaysia"
   },
   "outputs": [],
   "source": []
  },
  {
   "cell_type": "markdown",
   "id": "hmR2GNQ6lCsX",
   "metadata": {
    "id": "hmR2GNQ6lCsX"
   },
   "source": [
    "Escribe aquí tus conclusiones"
   ]
  },
  {
   "cell_type": "markdown",
   "id": "a6743a70",
   "metadata": {
    "id": "a6743a70"
   },
   "source": [
    "### [A2] Para cada hora del día, ¿cuántas personas hacen órdenes?"
   ]
  },
  {
   "cell_type": "code",
   "execution_count": 125,
   "id": "a36cca27",
   "metadata": {
    "id": "a36cca27"
   },
   "outputs": [
    {
     "data": {
      "image/png": "[encoded data removed]",
      "text/plain": [
       "<Figure size 1200x600 with 1 Axes>"
      ]
     },
     "metadata": {},
     "output_type": "display_data"
    }
   ],
   "source": [
    "# 2. Crear un gráfico que muestre el número de personas que hacen pedidos dependiendo de la hora del día\n",
    "plt.figure(figsize=(12, 6))\n",
    "orders['order_hour_of_day'].hist(bins=24, edgecolor='black')\n",
    "plt.title('Número de Pedidos por Hora del Día')\n",
    "plt.xlabel('Hora del Día')\n",
    "plt.ylabel('Número de Pedidos')\n",
    "plt.xticks(range(24))\n",
    "plt.grid(True)\n",
    "plt.show()"
   ]
  },
  {
   "cell_type": "markdown",
   "id": "11270eed",
   "metadata": {
    "id": "11270eed"
   },
   "source": [
    "Escribe aquí tus conclusiones"
   ]
  },
  {
   "cell_type": "markdown",
   "id": "documented-command",
   "metadata": {
    "id": "documented-command"
   },
   "source": [
    "### [A3] ¿Qué día de la semana compran víveres las personas?"
   ]
  },
  {
   "cell_type": "code",
   "execution_count": 126,
   "id": "chief-digit",
   "metadata": {
    "id": "chief-digit"
   },
   "outputs": [
    {
     "data": {
      "image/png": "[encoded data removed]",
      "text/plain": [
       "<Figure size 1200x600 with 1 Axes>"
      ]
     },
     "metadata": {},
     "output_type": "display_data"
    }
   ],
   "source": [
    "# 3. Crear un gráfico que muestre qué día de la semana la gente hace sus compras\n",
    "plt.figure(figsize=(12, 6))\n",
    "orders['order_dow'].value_counts().sort_index().plot(kind='bar')\n",
    "plt.title('Número de Pedidos por Día de la Semana')\n",
    "plt.xlabel('Día de la Semana (0=Domingo, 6=Sábado)')\n",
    "plt.ylabel('Número de Pedidos')\n",
    "plt.xticks(range(7), ['Domingo', 'Lunes', 'Martes', 'Miércoles', 'Jueves', 'Viernes', 'Sábado'])\n",
    "plt.grid(True)\n",
    "plt.show()"
   ]
  },
  {
   "cell_type": "markdown",
   "id": "dominant-lightning",
   "metadata": {
    "id": "dominant-lightning"
   },
   "source": [
    "Escribe aquí tus conclusiones"
   ]
  },
  {
   "cell_type": "markdown",
   "id": "cutting-concert",
   "metadata": {
    "id": "cutting-concert"
   },
   "source": [
    "### [A4] ¿Cuánto tiempo esperan las personas hasta hacer otro pedido? Comenta sobre los valores mínimos y máximos."
   ]
  },
  {
   "cell_type": "code",
   "execution_count": 127,
   "id": "c231f523",
   "metadata": {
    "id": "c231f523"
   },
   "outputs": [
    {
     "data": {
      "image/png": "[encoded data removed]",
      "text/plain": [
       "<Figure size 1200x600 with 1 Axes>"
      ]
     },
     "metadata": {},
     "output_type": "display_data"
    },
    {
     "name": "stdout",
     "output_type": "stream",
     "text": [
      "Tiempo mínimo de espera: 0.0 días\n",
      "Tiempo máximo de espera: 30.0 días\n"
     ]
    }
   ],
   "source": [
    "# 4. Crear un gráfico que muestre el tiempo que la gente espera hasta hacer su siguiente pedido\n",
    "plt.figure(figsize=(12, 6))\n",
    "orders['days_since_prior_order'].hist(bins=30, edgecolor='black')\n",
    "plt.title('Tiempo de Espera hasta el Siguiente Pedido')\n",
    "plt.xlabel('Días desde el Pedido Anterior')\n",
    "plt.ylabel('Número de Pedidos')\n",
    "plt.grid(True)\n",
    "plt.show()\n",
    "\n",
    "# Comentar sobre los valores mínimos y máximos del tiempo de espera\n",
    "min_days = orders['days_since_prior_order'].min()\n",
    "max_days = orders['days_since_prior_order'].max()\n",
    "print(f\"Tiempo mínimo de espera: {min_days} días\")\n",
    "print(f\"Tiempo máximo de espera: {max_days} días\")"
   ]
  },
  {
   "cell_type": "markdown",
   "id": "discrete-vertex",
   "metadata": {
    "id": "discrete-vertex"
   },
   "source": [
    "Escribe aquí tus conclusiones"
   ]
  },
  {
   "cell_type": "markdown",
   "id": "tight-staff",
   "metadata": {
    "id": "tight-staff"
   },
   "source": [
    "# [B] Intermedio (deben completarse todos para aprobar)\n",
    "\n",
    "1. ¿Existe alguna diferencia entre las distribuciones `'order_hour_of_day'` de los miércoles y los sábados? Traza gráficos de barra de `'order_hour_of_day'` para ambos días en la misma figura y describe las diferencias que observes.\n",
    "2. Grafica la distribución para el número de órdenes que hacen los clientes (es decir, cuántos clientes hicieron solo 1 pedido, cuántos hicieron 2, cuántos 3, y así sucesivamente...).\n",
    "3. ¿Cuáles son los 20 principales productos que se piden con más frecuencia (muestra su identificación y nombre)?"
   ]
  },
  {
   "cell_type": "markdown",
   "id": "packed-classic",
   "metadata": {
    "id": "packed-classic"
   },
   "source": [
    "### [B1] Diferencia entre miércoles y sábados para  `'order_hour_of_day'`. Traza gráficos de barra para los dos días y describe las diferencias que veas."
   ]
  },
  {
   "cell_type": "code",
   "execution_count": 128,
   "id": "d89b8403",
   "metadata": {
    "id": "d89b8403"
   },
   "outputs": [
    {
     "data": {
      "image/png": "[encoded data removed]",
      "text/plain": [
       "<Figure size 1400x700 with 2 Axes>"
      ]
     },
     "metadata": {},
     "output_type": "display_data"
    }
   ],
   "source": [
    "# Filtrar los pedidos realizados los miércoles y sábados\n",
    "wednesday_orders = orders[orders['order_dow'] == 2]  # Miércoles es 2\n",
    "saturday_orders = orders[orders['order_dow'] == 6]  # Sábado es 6\n",
    "\n",
    "# Crear gráficos de barra de 'order_hour_of_day' para ambos días\n",
    "plt.figure(figsize=(14, 7))\n",
    "\n",
    "plt.subplot(1, 2, 1)\n",
    "wednesday_orders['order_hour_of_day'].hist(bins=24, edgecolor='black', color='blue', alpha=0.7)\n",
    "plt.title('Pedidos en Miércoles por Hora del Día')\n",
    "plt.xlabel('Hora del Día')\n",
    "plt.ylabel('Número de Pedidos')\n",
    "plt.xticks(range(24))\n",
    "plt.grid(True)\n",
    "\n",
    "plt.subplot(1, 2, 2)\n",
    "saturday_orders['order_hour_of_day'].hist(bins=24, edgecolor='black', color='orange', alpha=0.7)\n",
    "plt.title('Pedidos en Sábado por Hora del Día')\n",
    "plt.xlabel('Hora del Día')\n",
    "plt.ylabel('Número de Pedidos')\n",
    "plt.xticks(range(24))\n",
    "plt.grid(True)\n",
    "\n",
    "plt.tight_layout()\n",
    "plt.show()"
   ]
  },
  {
   "cell_type": "markdown",
   "id": "charitable-congo",
   "metadata": {
    "id": "charitable-congo"
   },
   "source": [
    "Escribe aquí tus conclusiones"
   ]
  },
  {
   "cell_type": "markdown",
   "id": "e3891143",
   "metadata": {
    "id": "e3891143"
   },
   "source": [
    "### [B2] ¿Cuál es la distribución para el número de pedidos por cliente?"
   ]
  },
  {
   "cell_type": "code",
   "execution_count": 129,
   "id": "d8c26c23",
   "metadata": {
    "id": "d8c26c23"
   },
   "outputs": [
    {
     "data": {
      "image/png": "[encoded data removed]",
      "text/plain": [
       "<Figure size 1200x600 with 1 Axes>"
      ]
     },
     "metadata": {},
     "output_type": "display_data"
    }
   ],
   "source": [
    "# Contar el número de pedidos por cliente\n",
    "orders_per_customer = orders.groupby('user_id').size()\n",
    "\n",
    "# Crear gráfico de la distribución del número de pedidos\n",
    "plt.figure(figsize=(12, 6))\n",
    "orders_per_customer.value_counts().sort_index().plot(kind='bar', color='green', edgecolor='black')\n",
    "plt.title('Distribución del Número de Órdenes por Cliente')\n",
    "plt.xlabel('Número de Órdenes')\n",
    "plt.ylabel('Número de Clientes')\n",
    "plt.grid(True)\n",
    "plt.show()"
   ]
  },
  {
   "cell_type": "markdown",
   "id": "d2eff7d5",
   "metadata": {
    "id": "d2eff7d5"
   },
   "source": [
    "Escribe aquí tus conclusiones"
   ]
  },
  {
   "cell_type": "markdown",
   "id": "54a0319c",
   "metadata": {
    "id": "54a0319c"
   },
   "source": [
    "### [B3] ¿Cuáles son los 20 productos más populares (muestra su ID y nombre)?"
   ]
  },
  {
   "cell_type": "code",
   "execution_count": 130,
   "id": "exterior-arizona",
   "metadata": {
    "id": "exterior-arizona",
    "scrolled": true
   },
   "outputs": [
    {
     "name": "stdout",
     "output_type": "stream",
     "text": [
      "    product_id              product_name  order_count\n",
      "0        24852                    Banana        66050\n",
      "1        13176    Bag of Organic Bananas        53297\n",
      "2        21137      Organic Strawberries        37039\n",
      "3        21903      Organic Baby Spinach        33971\n",
      "4        47209      Organic Hass Avocado        29773\n",
      "5        47766           Organic Avocado        24689\n",
      "6        47626               Large Lemon        21495\n",
      "7        16797              Strawberries        20018\n",
      "8        26209                     Limes        19690\n",
      "9        27845        Organic Whole Milk        19600\n",
      "10       27966       Organic Raspberries        19197\n",
      "11       22935      Organic Yellow Onion        15898\n",
      "12       24964            Organic Garlic        15292\n",
      "13       45007          Organic Zucchini        14584\n",
      "14       39275       Organic Blueberries        13879\n",
      "15       49683            Cucumber Kirby        13675\n",
      "16       28204        Organic Fuji Apple        12544\n",
      "17        5876             Organic Lemon        12232\n",
      "18        8277  Apple Honeycrisp Organic        11993\n",
      "19       40706    Organic Grape Tomatoes        11781\n"
     ]
    }
   ],
   "source": [
    "\n",
    "# Contar la frecuencia de cada producto en los pedidos\n",
    "product_counts = order_products['product_id'].value_counts()\n",
    "\n",
    "# Obtener los 20 productos más pedidos\n",
    "top_20_products = product_counts.head(20).reset_index()\n",
    "top_20_products.columns = ['product_id', 'order_count']\n",
    "\n",
    "# Unir con la tabla de productos para obtener nombres\n",
    "top_20_products_info = pd.merge(top_20_products, products[['product_id', 'product_name']], \n",
    "                                on='product_id')\n",
    "\n",
    "# Mostrar los resultados\n",
    "print(top_20_products_info[['product_id', 'product_name', 'order_count']])\n"
   ]
  },
  {
   "cell_type": "markdown",
   "id": "7df00f47",
   "metadata": {
    "id": "7df00f47"
   },
   "source": [
    "Escribe aquí tus conclusiones"
   ]
  },
  {
   "cell_type": "markdown",
   "id": "gross-theme",
   "metadata": {
    "id": "gross-theme"
   },
   "source": [
    "# [C] Difícil (deben completarse todos para aprobar)\n",
    "\n",
    "1. ¿Cuántos artículos suelen comprar las personas en un pedido? ¿Cómo es la distribución?\n",
    "2. ¿Cuáles son los 20 principales artículos que vuelven a pedirse con mayor frecuencia (muestra sus nombres e IDs de los productos)?\n",
    "3. Para cada producto, ¿cuál es la tasa de repetición del pedido (número de repeticiones de pedido/total de pedidos?\n",
    "4. Para cada cliente, ¿qué proporción de los productos que pidió ya los había pedido? Calcula la tasa de repetición de pedido para cada usuario en lugar de para cada producto.\n",
    "5. ¿Cuáles son los 20 principales artículos que la gente pone primero en sus carritos (muestra las IDs de los productos, sus nombres, y el número de veces en que fueron el primer artículo en añadirse al carrito)?"
   ]
  },
  {
   "cell_type": "markdown",
   "id": "romantic-deposit",
   "metadata": {
    "id": "romantic-deposit"
   },
   "source": [
    "### [C1] ¿Cuántos artículos compran normalmente las personas en un pedido? ¿Cómo es la distribución?"
   ]
  },
  {
   "cell_type": "code",
   "execution_count": 131,
   "id": "virtual-punch",
   "metadata": {
    "id": "virtual-punch"
   },
   "outputs": [
    {
     "name": "stdout",
     "output_type": "stream",
     "text": [
      "Estadísticas descriptivas del número de artículos por pedido:\n",
      "count    450046.000000\n",
      "mean         10.098983\n",
      "std           7.540206\n",
      "min           1.000000\n",
      "25%           5.000000\n",
      "50%           8.000000\n",
      "75%          14.000000\n",
      "max         127.000000\n",
      "dtype: float64\n"
     ]
    },
    {
     "data": {
      "image/png": "[encoded data removed]",
      "text/plain": [
       "<Figure size 1000x600 with 1 Axes>"
      ]
     },
     "metadata": {},
     "output_type": "display_data"
    }
   ],
   "source": [
    "# Contar el número de artículos por pedido\n",
    "items_per_order = order_products.groupby('order_id').size()\n",
    "\n",
    "# Mostrar estadísticas descriptivas y distribución\n",
    "print(\"Estadísticas descriptivas del número de artículos por pedido:\")\n",
    "print(items_per_order.describe())\n",
    "\n",
    "# Graficar la distribución\n",
    "import matplotlib.pyplot as plt\n",
    "\n",
    "plt.figure(figsize=(10, 6))\n",
    "plt.hist(items_per_order, bins=range(1, items_per_order.max() + 2), edgecolor='black')\n",
    "plt.title('Distribución del Número de Artículos por Pedido')\n",
    "plt.xlabel('Número de Artículos')\n",
    "plt.ylabel('Número de Pedidos')\n",
    "plt.show()"
   ]
  },
  {
   "cell_type": "markdown",
   "id": "designed-mortality",
   "metadata": {
    "id": "designed-mortality"
   },
   "source": [
    "Escribe aquí tus conclusiones"
   ]
  },
  {
   "cell_type": "markdown",
   "id": "5e6b5537",
   "metadata": {
    "id": "5e6b5537"
   },
   "source": [
    "### [C2] ¿Cuáles son los 20 principales artículos que vuelven a pedirse con mayor frecuencia (muestra sus nombres e IDs de los productos)?"
   ]
  },
  {
   "cell_type": "code",
   "execution_count": 132,
   "id": "9374e55a",
   "metadata": {
    "id": "9374e55a"
   },
   "outputs": [
    {
     "name": "stdout",
     "output_type": "stream",
     "text": [
      "    product_id              product_name  reorder_count\n",
      "0        24852                    Banana          55763\n",
      "1        13176    Bag of Organic Bananas          44450\n",
      "2        21137      Organic Strawberries          28639\n",
      "3        21903      Organic Baby Spinach          26233\n",
      "4        47209      Organic Hass Avocado          23629\n",
      "5        47766           Organic Avocado          18743\n",
      "6        27845        Organic Whole Milk          16251\n",
      "7        47626               Large Lemon          15044\n",
      "8        27966       Organic Raspberries          14748\n",
      "9        16797              Strawberries          13945\n",
      "10       26209                     Limes          13327\n",
      "11       22935      Organic Yellow Onion          11145\n",
      "12       24964            Organic Garlic          10411\n",
      "13       45007          Organic Zucchini          10076\n",
      "14       49683            Cucumber Kirby           9538\n",
      "15       28204        Organic Fuji Apple           8989\n",
      "16        8277  Apple Honeycrisp Organic           8836\n",
      "17       39275       Organic Blueberries           8799\n",
      "18        5876             Organic Lemon           8412\n",
      "19       49235       Organic Half & Half           8389\n"
     ]
    }
   ],
   "source": [
    "# Contar el número de veces que cada producto ha sido reordenado\n",
    "reordered_products = order_products[order_products['reordered'] == 1]\n",
    "reordered_counts = reordered_products['product_id'].value_counts()\n",
    "\n",
    "# Obtener los 20 artículos que se vuelven a pedir con mayor frecuencia\n",
    "top_20_reordered_products = reordered_counts.head(20).reset_index()\n",
    "top_20_reordered_products.columns = ['product_id', 'reorder_count']\n",
    "\n",
    "# Unir con la tabla de productos para obtener nombres\n",
    "top_20_reordered_products_info = pd.merge(top_20_reordered_products, products[['product_id', 'product_name']], \n",
    "                                          on='product_id')\n",
    "\n",
    "# Mostrar los resultados\n",
    "print(top_20_reordered_products_info[['product_id', 'product_name', 'reorder_count']])"
   ]
  },
  {
   "cell_type": "markdown",
   "id": "80e70c74",
   "metadata": {
    "id": "80e70c74"
   },
   "source": [
    "Escribe aquí tus conclusiones"
   ]
  },
  {
   "cell_type": "markdown",
   "id": "9d312b14",
   "metadata": {
    "id": "9d312b14"
   },
   "source": [
    "### [C3] Para cada producto, ¿cuál es la proporción de las veces que se pide y que se vuelve a pedir?"
   ]
  },
  {
   "cell_type": "code",
   "execution_count": 133,
   "id": "social-individual",
   "metadata": {
    "id": "social-individual"
   },
   "outputs": [
    {
     "name": "stdout",
     "output_type": "stream",
     "text": [
      "       product_id                                       product_name  \\\n",
      "0               1                         Chocolate Sandwich Cookies   \n",
      "1               2                                   All-Seasons Salt   \n",
      "2               3               Robust Golden Unsweetened Oolong Tea   \n",
      "3               4  Smart Ones Classic Favorites Mini Rigatoni Wit...   \n",
      "4               7                     Pure Coconut Water With Orange   \n",
      "...           ...                                                ...   \n",
      "45568       49690                      HIGH PERFORMANCE ENERGY DRINK   \n",
      "45569       49691                      ORIGINAL PANCAKE & WAFFLE MIX   \n",
      "45570       49692    ORGANIC INSTANT OATMEAL LIGHT MAPLE BROWN SUGAR   \n",
      "45571       49693                             SPRING WATER BODY WASH   \n",
      "45572       49694                            BURRITO- STEAK & CHEESE   \n",
      "\n",
      "       reorder_rate  \n",
      "0          0.564286  \n",
      "1               NaN  \n",
      "2          0.738095  \n",
      "3          0.510204  \n",
      "4          0.500000  \n",
      "...             ...  \n",
      "45568      0.800000  \n",
      "45569      0.430556  \n",
      "45570      0.416667  \n",
      "45571      0.440000  \n",
      "45572      0.333333  \n",
      "\n",
      "[45573 rows x 3 columns]\n"
     ]
    }
   ],
   "source": [
    "# Contar el número total de veces que cada producto ha sido pedido\n",
    "total_product_counts = order_products['product_id'].value_counts()\n",
    "\n",
    "# Calcular la tasa de repetición para cada producto\n",
    "reorder_rates = reordered_counts / total_product_counts\n",
    "reorder_rates = reorder_rates.reset_index()\n",
    "reorder_rates.columns = ['product_id', 'reorder_rate']\n",
    "\n",
    "# Unir con la tabla de productos para obtener nombres\n",
    "reorder_rates_info = pd.merge(reorder_rates, products[['product_id', 'product_name']], on='product_id')\n",
    "\n",
    "# Mostrar los resultados\n",
    "print(reorder_rates_info[['product_id', 'product_name', 'reorder_rate']])"
   ]
  },
  {
   "cell_type": "markdown",
   "id": "I10dEIAyldcO",
   "metadata": {
    "id": "I10dEIAyldcO"
   },
   "source": [
    "Escribe aquí tus conclusiones"
   ]
  },
  {
   "cell_type": "markdown",
   "id": "subject-boxing",
   "metadata": {
    "id": "subject-boxing"
   },
   "source": [
    "### [C4] Para cada cliente, ¿qué proporción de sus productos ya los había pedido?"
   ]
  },
  {
   "cell_type": "code",
   "execution_count": 136,
   "id": "8892e4b4",
   "metadata": {
    "id": "8892e4b4"
   },
   "outputs": [
    {
     "name": "stdout",
     "output_type": "stream",
     "text": [
      "Index(['order_id', 'user_id', 'order_number', 'order_dow', 'order_hour_of_day',\n",
      "       'days_since_prior_order'],\n",
      "      dtype='object')\n"
     ]
    },
    {
     "name": "stdout",
     "output_type": "stream",
     "text": [
      "Estadísticas descriptivas de la tasa de repetición de pedido por cliente:\n",
      "count    132991.000000\n",
      "mean          0.556751\n",
      "std           0.248833\n",
      "min           0.014925\n",
      "25%           0.363636\n",
      "50%           0.562500\n",
      "75%           0.750000\n",
      "max           1.000000\n",
      "Name: reorder_rate, dtype: float64\n"
     ]
    }
   ],
   "source": [
    "# Asegúrate de tener 'user_id' en el DataFrame 'orders'\n",
    "print(orders.columns)\n",
    "\n",
    "# Unir order_products con orders para obtener user_id\n",
    "merged_data = pd.merge(order_products, orders[['order_id', 'user_id']], on='order_id')\n",
    "\n",
    "# Filtrar los productos que han sido reordenados por cada cliente\n",
    "reordered_per_customer = merged_data[merged_data['reordered'] == 1]\n",
    "\n",
    "# Contar el número total de productos pedidos por cada cliente\n",
    "total_orders_per_customer = merged_data.groupby('user_id').size()\n",
    "\n",
    "# Contar los productos reordenados por cada cliente\n",
    "reordered_per_customer_count = reordered_per_customer.groupby('user_id').size()\n",
    "\n",
    "# Calcular la tasa de repetición de pedido para cada usuario\n",
    "reorder_rate_per_customer = reordered_per_customer_count / total_orders_per_customer\n",
    "reorder_rate_per_customer = reorder_rate_per_customer.reset_index()\n",
    "reorder_rate_per_customer.columns = ['user_id', 'reorder_rate']\n",
    "\n",
    "# Mostrar estadísticas descriptivas\n",
    "print(\"Estadísticas descriptivas de la tasa de repetición de pedido por cliente:\")\n",
    "print(reorder_rate_per_customer['reorder_rate'].describe())\n"
   ]
  },
  {
   "cell_type": "markdown",
   "id": "BgJSvXDsleXz",
   "metadata": {
    "id": "BgJSvXDsleXz"
   },
   "source": [
    "Escribe aquí tus conclusiones"
   ]
  },
  {
   "cell_type": "markdown",
   "id": "92d35137",
   "metadata": {
    "id": "92d35137"
   },
   "source": [
    "### [C5] ¿Cuáles son los 20 principales artículos que las personas ponen primero en sus carritos?"
   ]
  },
  {
   "cell_type": "code",
   "execution_count": 135,
   "id": "08e41ec2",
   "metadata": {
    "id": "08e41ec2"
   },
   "outputs": [
    {
     "name": "stdout",
     "output_type": "stream",
     "text": [
      "    product_id                 product_name  first_item_count\n",
      "0        24852                       Banana             15562\n",
      "1        13176       Bag of Organic Bananas             11026\n",
      "2        27845           Organic Whole Milk              4363\n",
      "3        21137         Organic Strawberries              3946\n",
      "4        47209         Organic Hass Avocado              3390\n",
      "5        21903         Organic Baby Spinach              3336\n",
      "6        47766              Organic Avocado              3044\n",
      "7        19660                 Spring Water              2336\n",
      "8        16797                 Strawberries              2308\n",
      "9        27966          Organic Raspberries              2024\n",
      "10       44632   Sparkling Water Grapefruit              1914\n",
      "11       49235          Organic Half & Half              1797\n",
      "12       47626                  Large Lemon              1737\n",
      "13         196                         Soda              1733\n",
      "14       38689     Organic Reduced Fat Milk              1397\n",
      "15       26209                        Limes              1370\n",
      "16       12341                Hass Avocados              1340\n",
      "17        5785  Organic Reduced Fat 2% Milk              1310\n",
      "18       27086                  Half & Half              1309\n",
      "19       43352                  Raspberries              1246\n"
     ]
    }
   ],
   "source": [
    "# Filtrar el primer artículo en cada pedido\n",
    "first_item_in_cart = order_products[order_products['add_to_cart_order'] == 1]\n",
    "\n",
    "# Contar la frecuencia de cada primer artículo en el carrito\n",
    "first_item_counts = first_item_in_cart['product_id'].value_counts()\n",
    "\n",
    "# Obtener los 20 principales artículos que fueron añadidos primero al carrito\n",
    "top_20_first_items = first_item_counts.head(20).reset_index()\n",
    "top_20_first_items.columns = ['product_id', 'first_item_count']\n",
    "\n",
    "# Unir con la tabla de productos para obtener nombres\n",
    "top_20_first_items_info = pd.merge(top_20_first_items, products[['product_id', 'product_name']], \n",
    "                                   on='product_id')\n",
    "\n",
    "# Mostrar los resultados\n",
    "print(top_20_first_items_info[['product_id', 'product_name', 'first_item_count']])"
   ]
  },
  {
   "cell_type": "markdown",
   "id": "28ce9872",
   "metadata": {
    "id": "28ce9872"
   },
   "source": [
    "Escribe aquí tus conclusiones"
   ]
  },
  {
   "cell_type": "markdown",
   "id": "uITbFCEoDosC",
   "metadata": {
    "id": "uITbFCEoDosC"
   },
   "source": [
    "### Conclusion general del proyecto:"
   ]
  },
  {
   "cell_type": "code",
   "execution_count": null,
   "id": "Nk-4GS7mDwqY",
   "metadata": {
    "id": "Nk-4GS7mDwqY"
   },
   "outputs": [],
   "source": []
  }
 ],
 "metadata": {
  "ExecuteTimeLog": [
   {
    "duration": 358,
    "start_time": "2024-06-12T09:23:21.554Z"
   },
   {
    "duration": 535,
    "start_time": "2024-06-12T09:23:24.031Z"
   },
   {
    "duration": 3812,
    "start_time": "2024-06-12T09:23:24.570Z"
   },
   {
    "duration": 8,
    "start_time": "2024-06-12T09:23:28.385Z"
   },
   {
    "duration": 6,
    "start_time": "2024-06-12T09:23:28.400Z"
   },
   {
    "duration": 24,
    "start_time": "2024-06-12T09:23:28.410Z"
   },
   {
    "duration": 11,
    "start_time": "2024-06-12T09:23:28.439Z"
   },
   {
    "duration": 9,
    "start_time": "2024-06-12T09:23:28.453Z"
   },
   {
    "duration": 3441,
    "start_time": "2024-06-12T09:25:09.240Z"
   },
   {
    "duration": 3405,
    "start_time": "2024-06-12T09:25:14.472Z"
   },
   {
    "duration": 24,
    "start_time": "2024-06-12T09:26:05.487Z"
   },
   {
    "duration": 3,
    "start_time": "2024-06-12T09:26:17.815Z"
   },
   {
    "duration": 3359,
    "start_time": "2024-06-12T09:26:18.016Z"
   },
   {
    "duration": 6,
    "start_time": "2024-06-12T09:26:21.378Z"
   },
   {
    "duration": 8,
    "start_time": "2024-06-12T09:26:21.388Z"
   },
   {
    "duration": 7,
    "start_time": "2024-06-12T09:26:21.400Z"
   },
   {
    "duration": 11,
    "start_time": "2024-06-12T09:26:21.432Z"
   },
   {
    "duration": 8,
    "start_time": "2024-06-12T09:26:21.446Z"
   },
   {
    "duration": 23,
    "start_time": "2024-06-12T09:26:21.681Z"
   },
   {
    "duration": 3387,
    "start_time": "2024-06-12T09:27:15.337Z"
   },
   {
    "duration": 30,
    "start_time": "2024-06-12T09:27:18.727Z"
   },
   {
    "duration": 3,
    "start_time": "2024-06-12T09:27:30.168Z"
   },
   {
    "duration": 4298,
    "start_time": "2024-06-12T09:27:30.326Z"
   },
   {
    "duration": 6,
    "start_time": "2024-06-12T09:27:34.632Z"
   },
   {
    "duration": 8,
    "start_time": "2024-06-12T09:27:34.641Z"
   },
   {
    "duration": 7,
    "start_time": "2024-06-12T09:27:34.655Z"
   },
   {
    "duration": 7,
    "start_time": "2024-06-12T09:27:34.665Z"
   },
   {
    "duration": 10,
    "start_time": "2024-06-12T09:27:34.675Z"
   },
   {
    "duration": 34,
    "start_time": "2024-06-12T09:27:34.732Z"
   },
   {
    "duration": 3,
    "start_time": "2024-06-12T09:33:09.628Z"
   },
   {
    "duration": 8,
    "start_time": "2024-06-12T09:34:57.736Z"
   },
   {
    "duration": 6,
    "start_time": "2024-06-12T09:36:04.064Z"
   },
   {
    "duration": 8,
    "start_time": "2024-06-12T09:36:05.374Z"
   },
   {
    "duration": 6,
    "start_time": "2024-06-12T09:36:09.271Z"
   },
   {
    "duration": 7,
    "start_time": "2024-06-12T09:36:10.091Z"
   },
   {
    "duration": 881,
    "start_time": "2024-06-12T09:37:21.782Z"
   },
   {
    "duration": 73,
    "start_time": "2024-06-12T09:39:18.445Z"
   },
   {
    "duration": 4160,
    "start_time": "2024-06-12T09:39:25.410Z"
   },
   {
    "duration": 6,
    "start_time": "2024-06-12T09:39:29.577Z"
   },
   {
    "duration": 6,
    "start_time": "2024-06-12T09:39:29.587Z"
   },
   {
    "duration": 35,
    "start_time": "2024-06-12T09:39:29.598Z"
   },
   {
    "duration": 6,
    "start_time": "2024-06-12T09:39:29.636Z"
   },
   {
    "duration": 6,
    "start_time": "2024-06-12T09:39:29.645Z"
   },
   {
    "duration": 334,
    "start_time": "2024-06-12T09:39:29.654Z"
   },
   {
    "duration": 173,
    "start_time": "2024-06-12T09:39:29.991Z"
   },
   {
    "duration": 416,
    "start_time": "2024-06-12T09:40:39.303Z"
   },
   {
    "duration": 3728,
    "start_time": "2024-06-12T09:40:39.722Z"
   },
   {
    "duration": 8,
    "start_time": "2024-06-12T09:40:43.452Z"
   },
   {
    "duration": 6,
    "start_time": "2024-06-12T09:40:43.465Z"
   },
   {
    "duration": 6,
    "start_time": "2024-06-12T09:40:43.474Z"
   },
   {
    "duration": 6,
    "start_time": "2024-06-12T09:40:43.485Z"
   },
   {
    "duration": 6,
    "start_time": "2024-06-12T09:40:43.533Z"
   },
   {
    "duration": 277,
    "start_time": "2024-06-12T09:40:43.542Z"
   },
   {
    "duration": 1157,
    "start_time": "2024-06-12T09:40:43.822Z"
   },
   {
    "duration": 0,
    "start_time": "2024-06-12T09:40:44.984Z"
   },
   {
    "duration": 0,
    "start_time": "2024-06-12T09:40:44.988Z"
   },
   {
    "duration": 0,
    "start_time": "2024-06-12T09:40:44.991Z"
   },
   {
    "duration": 0,
    "start_time": "2024-06-12T09:40:44.994Z"
   },
   {
    "duration": 0,
    "start_time": "2024-06-12T09:40:44.996Z"
   },
   {
    "duration": 0,
    "start_time": "2024-06-12T09:40:44.998Z"
   },
   {
    "duration": 0,
    "start_time": "2024-06-12T09:40:44.999Z"
   },
   {
    "duration": 0,
    "start_time": "2024-06-12T09:40:45.001Z"
   },
   {
    "duration": 0,
    "start_time": "2024-06-12T09:40:45.033Z"
   },
   {
    "duration": 0,
    "start_time": "2024-06-12T09:40:45.036Z"
   },
   {
    "duration": 0,
    "start_time": "2024-06-12T09:40:45.038Z"
   },
   {
    "duration": 0,
    "start_time": "2024-06-12T09:40:45.040Z"
   },
   {
    "duration": 0,
    "start_time": "2024-06-12T09:40:45.042Z"
   },
   {
    "duration": 0,
    "start_time": "2024-06-12T09:40:45.045Z"
   },
   {
    "duration": 0,
    "start_time": "2024-06-12T09:40:45.047Z"
   },
   {
    "duration": 0,
    "start_time": "2024-06-12T09:40:45.049Z"
   },
   {
    "duration": 0,
    "start_time": "2024-06-12T09:40:45.051Z"
   },
   {
    "duration": 0,
    "start_time": "2024-06-12T09:40:45.053Z"
   },
   {
    "duration": 0,
    "start_time": "2024-06-12T09:40:45.055Z"
   },
   {
    "duration": 0,
    "start_time": "2024-06-12T09:40:45.057Z"
   },
   {
    "duration": 0,
    "start_time": "2024-06-12T09:40:45.059Z"
   },
   {
    "duration": 0,
    "start_time": "2024-06-12T09:40:45.061Z"
   },
   {
    "duration": 0,
    "start_time": "2024-06-12T09:40:45.063Z"
   },
   {
    "duration": 0,
    "start_time": "2024-06-12T09:40:45.065Z"
   },
   {
    "duration": 0,
    "start_time": "2024-06-12T09:40:45.068Z"
   },
   {
    "duration": 73,
    "start_time": "2024-06-12T09:41:07.419Z"
   },
   {
    "duration": 73,
    "start_time": "2024-06-12T09:41:10.096Z"
   },
   {
    "duration": 450,
    "start_time": "2024-06-12T09:41:15.549Z"
   },
   {
    "duration": 3692,
    "start_time": "2024-06-12T09:41:16.003Z"
   },
   {
    "duration": 8,
    "start_time": "2024-06-12T09:41:19.698Z"
   },
   {
    "duration": 6,
    "start_time": "2024-06-12T09:41:19.712Z"
   },
   {
    "duration": 7,
    "start_time": "2024-06-12T09:41:19.734Z"
   },
   {
    "duration": 6,
    "start_time": "2024-06-12T09:41:19.744Z"
   },
   {
    "duration": 8,
    "start_time": "2024-06-12T09:41:19.752Z"
   },
   {
    "duration": 298,
    "start_time": "2024-06-12T09:41:19.762Z"
   },
   {
    "duration": 1152,
    "start_time": "2024-06-12T09:41:20.063Z"
   },
   {
    "duration": 0,
    "start_time": "2024-06-12T09:41:21.221Z"
   },
   {
    "duration": 0,
    "start_time": "2024-06-12T09:41:21.233Z"
   },
   {
    "duration": 0,
    "start_time": "2024-06-12T09:41:21.236Z"
   },
   {
    "duration": 0,
    "start_time": "2024-06-12T09:41:21.238Z"
   },
   {
    "duration": 0,
    "start_time": "2024-06-12T09:41:21.241Z"
   },
   {
    "duration": 0,
    "start_time": "2024-06-12T09:41:21.242Z"
   },
   {
    "duration": 0,
    "start_time": "2024-06-12T09:41:21.244Z"
   },
   {
    "duration": 0,
    "start_time": "2024-06-12T09:41:21.246Z"
   },
   {
    "duration": 0,
    "start_time": "2024-06-12T09:41:21.247Z"
   },
   {
    "duration": 1,
    "start_time": "2024-06-12T09:41:21.249Z"
   },
   {
    "duration": 0,
    "start_time": "2024-06-12T09:41:21.252Z"
   },
   {
    "duration": 0,
    "start_time": "2024-06-12T09:41:21.256Z"
   },
   {
    "duration": 0,
    "start_time": "2024-06-12T09:41:21.258Z"
   },
   {
    "duration": 0,
    "start_time": "2024-06-12T09:41:21.260Z"
   },
   {
    "duration": 0,
    "start_time": "2024-06-12T09:41:21.262Z"
   },
   {
    "duration": 0,
    "start_time": "2024-06-12T09:41:21.265Z"
   },
   {
    "duration": 0,
    "start_time": "2024-06-12T09:41:21.268Z"
   },
   {
    "duration": 0,
    "start_time": "2024-06-12T09:41:21.271Z"
   },
   {
    "duration": 0,
    "start_time": "2024-06-12T09:41:21.273Z"
   },
   {
    "duration": 0,
    "start_time": "2024-06-12T09:41:21.335Z"
   },
   {
    "duration": 0,
    "start_time": "2024-06-12T09:41:21.340Z"
   },
   {
    "duration": 0,
    "start_time": "2024-06-12T09:41:21.343Z"
   },
   {
    "duration": 0,
    "start_time": "2024-06-12T09:41:21.345Z"
   },
   {
    "duration": 0,
    "start_time": "2024-06-12T09:41:21.346Z"
   },
   {
    "duration": 0,
    "start_time": "2024-06-12T09:41:21.348Z"
   },
   {
    "duration": 512,
    "start_time": "2024-06-13T03:32:06.744Z"
   },
   {
    "duration": 4089,
    "start_time": "2024-06-13T03:32:07.261Z"
   },
   {
    "duration": 9,
    "start_time": "2024-06-13T03:32:11.353Z"
   },
   {
    "duration": 6,
    "start_time": "2024-06-13T03:32:11.366Z"
   },
   {
    "duration": 6,
    "start_time": "2024-06-13T03:32:11.376Z"
   },
   {
    "duration": 6,
    "start_time": "2024-06-13T03:32:11.413Z"
   },
   {
    "duration": 6,
    "start_time": "2024-06-13T03:32:11.422Z"
   },
   {
    "duration": 1174,
    "start_time": "2024-06-13T03:32:11.944Z"
   },
   {
    "duration": 13,
    "start_time": "2024-06-13T03:33:12.926Z"
   },
   {
    "duration": 3891,
    "start_time": "2024-06-13T03:33:33.383Z"
   },
   {
    "duration": 6,
    "start_time": "2024-06-13T03:33:37.277Z"
   },
   {
    "duration": 339,
    "start_time": "2024-06-14T07:18:16.787Z"
   },
   {
    "duration": 530,
    "start_time": "2024-06-14T07:18:26.286Z"
   },
   {
    "duration": 2149,
    "start_time": "2024-06-14T07:18:26.823Z"
   },
   {
    "duration": 14,
    "start_time": "2024-06-14T07:18:28.978Z"
   },
   {
    "duration": 22,
    "start_time": "2024-06-14T07:18:28.995Z"
   },
   {
    "duration": 8,
    "start_time": "2024-06-14T07:18:29.023Z"
   },
   {
    "duration": 9,
    "start_time": "2024-06-14T07:18:29.035Z"
   },
   {
    "duration": 9,
    "start_time": "2024-06-14T07:18:29.047Z"
   },
   {
    "duration": 272,
    "start_time": "2024-06-14T07:18:29.060Z"
   },
   {
    "duration": 17,
    "start_time": "2024-06-14T07:18:29.335Z"
   },
   {
    "duration": 226,
    "start_time": "2024-06-14T07:18:29.355Z"
   },
   {
    "duration": 188,
    "start_time": "2024-06-14T07:18:29.584Z"
   },
   {
    "duration": 4,
    "start_time": "2024-06-14T07:18:29.778Z"
   },
   {
    "duration": 5,
    "start_time": "2024-06-14T07:18:29.785Z"
   },
   {
    "duration": 5,
    "start_time": "2024-06-14T07:18:29.806Z"
   },
   {
    "duration": 4,
    "start_time": "2024-06-14T07:18:29.815Z"
   },
   {
    "duration": 4,
    "start_time": "2024-06-14T07:18:29.822Z"
   },
   {
    "duration": 6,
    "start_time": "2024-06-14T07:18:29.829Z"
   },
   {
    "duration": 6,
    "start_time": "2024-06-14T07:18:29.839Z"
   },
   {
    "duration": 57,
    "start_time": "2024-06-14T07:18:29.849Z"
   },
   {
    "duration": 5,
    "start_time": "2024-06-14T07:18:29.909Z"
   },
   {
    "duration": 4,
    "start_time": "2024-06-14T07:18:29.917Z"
   },
   {
    "duration": 5,
    "start_time": "2024-06-14T07:18:29.924Z"
   },
   {
    "duration": 3,
    "start_time": "2024-06-14T07:18:29.933Z"
   },
   {
    "duration": 6,
    "start_time": "2024-06-14T07:18:29.939Z"
   },
   {
    "duration": 5,
    "start_time": "2024-06-14T07:18:29.948Z"
   },
   {
    "duration": 3,
    "start_time": "2024-06-14T07:18:30.006Z"
   },
   {
    "duration": 4,
    "start_time": "2024-06-14T07:18:30.012Z"
   },
   {
    "duration": 3,
    "start_time": "2024-06-14T07:18:30.019Z"
   },
   {
    "duration": 4,
    "start_time": "2024-06-14T07:18:30.026Z"
   },
   {
    "duration": 3,
    "start_time": "2024-06-14T07:18:30.033Z"
   },
   {
    "duration": 4,
    "start_time": "2024-06-14T07:18:30.039Z"
   },
   {
    "duration": 4,
    "start_time": "2024-06-14T07:18:30.046Z"
   },
   {
    "duration": 3,
    "start_time": "2024-06-14T07:18:30.106Z"
   },
   {
    "duration": 4,
    "start_time": "2024-06-14T07:18:30.112Z"
   }
  ],
  "colab": {
   "provenance": []
  },
  "kernelspec": {
   "display_name": "Python 3 (ipykernel)",
   "language": "python",
   "name": "python3"
  },
  "language_info": {
   "codemirror_mode": {
    "name": "ipython",
    "version": 3
   },
   "file_extension": ".py",
   "mimetype": "text/x-python",
   "name": "python",
   "nbconvert_exporter": "python",
   "pygments_lexer": "ipython3",
   "version": "3.11.9"
  },
  "toc": {
   "base_numbering": 1,
   "nav_menu": {},
   "number_sections": true,
   "sideBar": true,
   "skip_h1_title": true,
   "title_cell": "Table of Contents",
   "title_sidebar": "Contents",
   "toc_cell": false,
   "toc_position": {},
   "toc_section_display": true,
   "toc_window_display": false
  },
  "vscode": {
   "interpreter": {
    "hash": "01a7be9ec63e704a62cefc5fe7a4756944464ee731be31632bdf42a4cb4688cf"
   }
  }
 },
 "nbformat": 4,
 "nbformat_minor": 5
}
