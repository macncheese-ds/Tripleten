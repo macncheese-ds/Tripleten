{
 "cells": [
  {
   "cell_type": "markdown",
   "metadata": {},
   "source": [
    "¡Hola Marcelo!\n",
    "\n",
    "Mi nombre es Facundo Lozano! Me alegra poder revisar tu proyecto hoy.\n",
    "\n",
    "Cuando vea un error la primera vez, simplemente lo señalaré. Te dejaré encontrarlo y arreglarlo tú mismo. Además, a lo largo del texto haré algunas observaciones sobre mejora en el código y también haré comentarios sobre tus percepciones sobre el tema. Pero si aún no puedes realizar esta tarea, te daré una pista más precisa en la próxima iteración y también algunos ejemplos prácticos. Estaré abierto a comentarios y discusiones sobre el tema.\n",
    "\n",
    "Encontrará mis comentarios a continuación: **no los mueva, modifique ni elimine**.\n",
    "\n",
    "Puedes encontrar mis comentarios en cuadros verdes, amarillos o rojos como este:\n",
    "\n",
    "<div class=\"alert alert-block alert-success\">\n",
    "<b>Comentario del revisor.</b> <a class=\"tocSkip\"></a>\n",
    "\n",
    "Exito. Todo se ha hecho de forma exitosa.\n",
    "</div>\n",
    "\n",
    "<div class=\"alert alert-block alert-warning\">\n",
    "<b>Comentario del revisor.</b> <a class=\"tocSkip\"></a>\n",
    "\n",
    "Observación. Algunas recomendaciones.\n",
    "</div>\n",
    "\n",
    "<div class=\"alert alert-block alert-danger\">\n",
    "\n",
    "<b>Comentario del revisor.</b> <a class=\"tocSkip\"></a>\n",
    "\n",
    "Necesita arreglos. Este apartado necesita algunas correcciones. El trabajo no puede ser aceptado con comentarios rojos. \n",
    "</div>"
   ]
  },
  {
   "cell_type": "markdown",
   "metadata": {},
   "source": [
    "Puedes responder utilizando esto:\n",
    "\n",
    "<div class=\"alert alert-block alert-info\">\n",
    "<b>Respuesta de estudiante.</b> <a class=\"tocSkip\"></a>\n",
    "</div> "
   ]
  },
  {
   "cell_type": "markdown",
   "metadata": {
    "id": "jrvwNQJi0P9l"
   },
   "source": [
    "Una empresa de comercio electrónico, Store 1, recientemente comenzó a recopilar datos sobre sus clientes. El objetivo final de Store 1 es comprender mejor el comportamiento de sus clientes y tomar decisiones basadas en datos para mejorar su experiencia online.\n",
    "\n",
    "Como parte del equipo de análisis, tu primera tarea es evaluar la calidad de una muestra de datos recopilados y prepararla para futuros análisis."
   ]
  },
  {
   "cell_type": "markdown",
   "metadata": {},
   "source": [
    "<div class=\"alert alert-block alert-danger\">\n",
    "<b>Review General. (Iteración 2) </b> <a class=\"tocSkip\"></a>\n",
    "\n",
    "Marcelo, aún seguimos afirmando la situación 1 que es incorrecta. Es de suma importancia comprender porque no lo es, te he dejado un comentario explicando el porque de esa situación. Por favor leelo y trata de justificar nuevamente tu respuesta. Una ves hecho eso podremos avanzar y aprobar tu proyecto.\n",
    "    \n",
    "    \n",
    "Saludos!"
   ]
  },
  {
   "cell_type": "markdown",
   "metadata": {},
   "source": [
    "<div class=\"alert alert-block alert-success\">\n",
    "<b>Review General. (Iteración 1) </b> <a class=\"tocSkip\"></a>\n",
    "\n",
    "Buenas Marcelo, quería tomarme este tiempo al inicio de tu proyecto para comentarte mis apreciaciones generales de esta iteración de tu entrega.\n",
    "\n",
    "Antes que nada quería darte la bienvenida al mundo de los datos, te deseo lo mejor y espero que consigas lograr tus objetivos. Personalmente me gustaría brindarte el siguiente consejo: \"Está bien equivocarse, es normal y es lo mejor que te puede pasar. Aprendemos de los errores y mejorarás en la programación ya que podrás descubrir cosas a medida que avances y son estas cosas las que te darán esa experiencia para ser un gran Data Scientist.\"\n",
    "    \n",
    "Ahora sí yendo a esta notebook. Te quería felicitar porque he notado un gran manejo de código y lógica durante todo el proyecto, lo has hecho muy bien Marcelo! Sin embargo, he encontrado un par de detalles que necesitan de tu correción, algo que seguro te demorará unos minutos.\n",
    "\n",
    "Espero tu respuesta para así en la próxima iteración aprobar tu proyecto.\n",
    "\n",
    "Y recuerda que estoy aquí para ayudarte por lo que no dudes en consultarme dejando tus comentarios como celdas azules.\n",
    "\n",
    "Saludos!\n",
    "\n",
    "\n",
    "\n",
    "</div>"
   ]
  },
  {
   "cell_type": "markdown",
   "metadata": {
    "id": "2utuFkVZ0P9p"
   },
   "source": [
    "# Cuestionario\n",
    "\n",
    "Store 1 tiene como objetivo garantizar la coherencia en la recopilación de datos. Como parte de esta iniciativa, se debe evaluar la calidad de los datos recopilados sobre los usuarios y las usuarias. Te han pedido que revises los datos recopilados y propongas cambios. A continuación verás datos sobre un usuario o una usuaria en particular; revisa los datos e identifica cualquier posible problema."
   ]
  },
  {
   "cell_type": "code",
   "execution_count": null,
   "metadata": {
    "id": "v4ldWAes0P9q"
   },
   "outputs": [],
   "source": [
    "user_id = '32415'\n",
    "user_name = ' mike_reed '\n",
    "user_age = 32.0\n",
    "fav_categories = ['ELECTRONICS', 'SPORT', 'BOOKS']"
   ]
  },
  {
   "cell_type": "markdown",
   "metadata": {
    "id": "v5J9NgXf0P9r"
   },
   "source": [
    "**Opciones:**\n",
    "\n",
    "1. El tipo de datos para `user_id` debe cambiarse de una cadena a un número entero.\n",
    "    \n",
    "2. La variable `user_name` contiene una cadena que tiene espacios innecesarios y un guion bajo entre el nombre y el apellido.\n",
    "    \n",
    "3. El tipo de datos de `user_age` es incorrecto.\n",
    "    \n",
    "4. La lista `fav_categories` contiene cadenas en mayúsculas. En su lugar, deberíamos convertir los valores de la lista a minúsculas."
   ]
  },
  {
   "cell_type": "markdown",
   "metadata": {
    "id": "dZRSLSQV0P9s"
   },
   "source": [
    "Escribe en la celda Markdown a continuación el número de las opciones que has identificado como problemas. Si has identificado varios problemas, sepáralos con comas. Por ejemplo, si crees que los números 1 y 3 son correctos, escribe 1, 3."
   ]
  },
  {
   "cell_type": "markdown",
   "metadata": {
    "id": "iCEVoi_A0P9s"
   },
   "source": [
    "2,3\n",
    "2= Los espacios al inicio y al final del nombre si son innecesarios y es mejor no tenerlos ya que pueden causar problemas cuando se intente usar ese datos, ademas de que el nombre se divide por un guion y no un espacio\n",
    "3= aunque no es un tipo de dato correcto seria preferible utilizar numeros enteros para la edad ( no es incorrecto siempre y cuando los decimales marquen 0 en la edad, de manera contraria si causaria un error)"
   ]
  },
  {
   "cell_type": "markdown",
   "metadata": {},
   "source": [
    "<div class=\"alert alert-block alert-danger\">\n",
    "\n",
    "<b>Comentario del revisor. (Iteración 3)</b> <a class=\"tocSkip\"></a>\n",
    "\n",
    "Aún seguimos afirmando que debemos utilizar números enteros, esto es incorrecto. ¿Reálmente sería necesario almacenarlos como enteros? ¿por qué razón facilitaría la manipulación si no debería existir relaciones más allá de identificar? , los strings ofrecen una mayor flexibilidad, legibilidad, facilidad de manipulación y compatibilidad con convenciones de código, incluso menor peso computacional. Te invito nuevamente a tratar de justificar tu respuesta, es de importancia comprender la situación uno en este proyecto.\n",
    "\n",
    "</div>"
   ]
  },
  {
   "cell_type": "markdown",
   "metadata": {},
   "source": [
    "<div class=\"alert alert-block alert-danger\">\n",
    "\n",
    "<b>Comentario del revisor. (Iteración 2)</b> <a class=\"tocSkip\"></a>\n",
    "\n",
    "Recuerda que la primera pregunta es incorrecta Marcelo, es de mucha importancia comprender situaciones de este tipo. ¿A caso deberíamos realizar comparaciones u operaciones con identificadores? ¿cuál es el rol de un identificador?\n",
    "\n",
    "</div>"
   ]
  },
  {
   "cell_type": "markdown",
   "metadata": {},
   "source": [
    "<div class=\"alert alert-block alert-danger\">\n",
    "\n",
    "<b>Comentario del revisor. (Iteración 1)</b> <a class=\"tocSkip\"></a>\n",
    "\n",
    "Felicitaciones Marcelo, sobre este cuestionario respondiste muy bien 2 preguntas. Sin embargo, la primera respuesta no es correcta y es un tema de importancia, piensa en lo siguiente y luego trata de justificar la primera situación con tu respuesta. ¿Cuál es la función de un identificador? ¿qué tipo de identificadores únicos existen?.\n",
    "</div>"
   ]
  },
  {
   "cell_type": "markdown",
   "metadata": {
    "id": "qKAtWDqu0P9t"
   },
   "source": [
    "# Ejercicio 1\n",
    "\n",
    "Vamos a implementar los cambios que identificamos. Primero, necesitamos corregir los problemas de la variable `user_name`. Como vimos, tiene espacios innecesarios y un guion bajo como separador entre el nombre y el apellido; tu objetivo es eliminar los espacios y luego reemplazar el guion bajo con el espacio."
   ]
  },
  {
   "cell_type": "code",
   "execution_count": 3,
   "metadata": {
    "id": "442z87Uq0P9t"
   },
   "outputs": [],
   "source": [
    "user_name = ' mike_reed '\n",
    "user_name = user_name.strip()\n",
    "user_name = user_name.replace('_', ' ')\n",
    "\n",
    "print(user_name)"
   ]
  },
  {
   "cell_type": "markdown",
   "metadata": {},
   "source": [
    "<div class=\"alert alert-block alert-success\">\n",
    "<b>Comentario del revisor. (Iteración 1) </b> <a class=\"tocSkip\"></a>\n",
    "\n",
    "Excelente! Muy bien, aplicaste correctamente ambos métodos. Si deseas puedes optimizar tu código (opcional) apilando ambos métodos en una misma línea de código.\n",
    "</div>"
   ]
  },
  {
   "cell_type": "markdown",
   "metadata": {
    "id": "g4YyN4WK0P9t"
   },
   "source": [
    "# Ejercicio 2\n",
    "\n",
    "Luego, debemos dividir el `user_name` (nombre de usuario o usuaria) actualizado en dos subcadenas para obtener una lista que contenga dos valores: la cadena para el nombre y la cadena para el apellido."
   ]
  },
  {
   "cell_type": "code",
   "execution_count": 4,
   "metadata": {
    "id": "Q1L1ARfY0P9u"
   },
   "outputs": [],
   "source": [
    "user_name = 'mike reed'\n",
    "name_split = user_name.split(' ')\n",
    "\n",
    "print(name_split)"
   ]
  },
  {
   "cell_type": "markdown",
   "metadata": {},
   "source": [
    "<div class=\"alert alert-block alert-success\">\n",
    "<b>Comentario del revisor. (Iteración 1) </b> <a class=\"tocSkip\"></a>\n",
    "\n",
    "Genial Marcelo! Aplicaste correctamente el método split(), esto nos brinda ahora el nombre y apellido para trabajar por separado. ¿Sabías que puedes utilizar este método separando bajo una secuencia en particular? Por ejemplo: split(\"_\") si fuese \"mike_reed\". \n",
    "</div>"
   ]
  },
  {
   "cell_type": "markdown",
   "metadata": {
    "id": "-VWZkZtc0P9u"
   },
   "source": [
    "# Ejercicio 3\n",
    "\n",
    "¡Genial! Ahora debemos trabajar con la variable `user_age`. Como ya mencionamos, esta tiene un tipo de datos incorrecto. Arreglemos este problema transformando el tipo de datos y mostrando el resultado final."
   ]
  },
  {
   "cell_type": "code",
   "execution_count": 5,
   "metadata": {
    "id": "WPpidP470P9u"
   },
   "outputs": [],
   "source": [
    "user_age = 32.0\n",
    "user_age = int(user_age)\n",
    "\n",
    "print(user_age)"
   ]
  },
  {
   "cell_type": "markdown",
   "metadata": {},
   "source": [
    "<div class=\"alert alert-block alert-success\">\n",
    "<b>Comentario del revisor. (Iteración 1) </b> <a class=\"tocSkip\"></a>\n",
    "\n",
    "Felicitaciones! Vienes genial, estos son los primeros pasos para ser una gran Data Scientist.\n",
    "</div>"
   ]
  },
  {
   "cell_type": "markdown",
   "metadata": {
    "id": "xdfgaKd60P9v"
   },
   "source": [
    "# Ejercicio 4\n",
    "\n",
    "Como sabemos, los datos no siempre son perfectos. Debemos considerar escenarios en los que el valor de `user_age` no se pueda convertir en un número entero. Para evitar que nuestro sistema se bloquee, debemos tomar medidas con anticipación.\n",
    "\n",
    "Escribe un código que intente convertir la variable `user_age` en un número entero y asigna el valor transformado a `user_age_int`. Si el intento falla, mostramos un mensaje pidiendo al usuario o la usuaria que proporcione su edad como un valor numérico con el mensaje: `Please provide your age as a numerical value.` (Proporcione su edad como un valor numérico.)"
   ]
  },
  {
   "cell_type": "code",
   "execution_count": 7,
   "metadata": {
    "id": "duI5zn_O0P9v"
   },
   "outputs": [],
   "source": [
    "user_age = 'treinta y dos' # aquí está la variable que almacena la edad como un string.\n",
    "\n",
    "try:\n",
    "    user_age = int(user_age)\n",
    "    print(user_age)\n",
    "\n",
    "except:\n",
    "    print('No se pudo convertir la edad a número entero')\n"
   ]
  },
  {
   "cell_type": "markdown",
   "metadata": {},
   "source": [
    "<div class=\"alert alert-block alert-success\">\n",
    "\n",
    "<b>Comentario del revisor. (Iteración 1)\n",
    "    \n",
    "    \n",
    "</b> <a class=\"tocSkip\">\n",
    "</a>\n",
    "Vienes haciendolo increíble, esto nos permite manejar posibles situaciones donde se den errores y de esa forma poder acceder a otro bloque de código en caso que dicho error ocurra. Un detalle que te podría interesar, existe un método **.input()** que te permite realizar tu pregunta y que al usuario le aparezca un bloque para ingresar su respuesta, de esa forma puedes guardar en tu variable el resultado del usuario.</div>"
   ]
  },
  {
   "cell_type": "markdown",
   "metadata": {
    "id": "Q04i6KQH0P9v"
   },
   "source": [
    "# Ejercicio 5\n",
    "\n",
    "Finalmente, considera que todas las categorías favoritas se almacenan en mayúsculas. Para llenar una nueva lista llamada `fav_categories_low` con las mismas categorías, pero en minúsculas, itera los valores en la lista `fav_categories`, modifícalos y agrega los nuevos valores a la lista `fav_categories_low`. Como siempre, muestra el resultado final."
   ]
  },
  {
   "cell_type": "code",
   "execution_count": 13,
   "metadata": {
    "id": "AtQg6ie10P9v"
   },
   "outputs": [],
   "source": [
    "fav_categories = ['ELECTRONICS', 'SPORT', 'BOOKS']\n",
    "fav_categories_low = []\n",
    "\n",
    "for items in fav_categories:\n",
    "    fav_categories_low.append(items.lower())\n",
    "\n",
    "# no elimines la siguiente declaración print\n",
    "print(fav_categories_low)"
   ]
  },
  {
   "cell_type": "markdown",
   "metadata": {},
   "source": [
    "<div class=\"alert alert-block alert-success\">\n",
    "<b> Comentario del revisor. (Iteración 1) </b> <a class=\"tocSkip\"></a>\n",
    "\n",
    "Genial! Celda perfecta, aplicaste dos métodos en una misma línea como **.append(.lower())** felicitaciones!\n",
    "</div>"
   ]
  },
  {
   "cell_type": "markdown",
   "metadata": {
    "id": "w8J0RSee0P9w"
   },
   "source": [
    "# Ejercicio 6\n",
    "\n",
    "Hemos obtenido información adicional sobre los hábitos de gasto de nuestros usuarios y usuarias, incluido el importe gastado en cada una de sus categorías favoritas. La gerencia está interesada en las siguientes métricas:\n",
    "\n",
    "- Importe total gastado por el usuario o la usuaria.\n",
    "- Importe mínimo gastado.\n",
    "- Importe máximo gastado.\n",
    "\n",
    "Vamos a calcular estos valores y mostrarlos en la pantalla:"
   ]
  },
  {
   "cell_type": "code",
   "execution_count": 14,
   "metadata": {
    "id": "BbhBAmcZ0P9w"
   },
   "outputs": [],
   "source": [
    "fav_categories_low = ['electronics', 'sport', 'books']\n",
    "spendings_per_category = [894, 213, 173]\n",
    "\n",
    "total_amount = sum(spendings_per_category)\n",
    "max_amount = max(spendings_per_category)\n",
    "min_amount = min(spendings_per_category)\n",
    "\n",
    "# no elimines la siguiente declaración print\n",
    "print(total_amount)\n",
    "print(max_amount)\n",
    "print(min_amount)"
   ]
  },
  {
   "cell_type": "markdown",
   "metadata": {},
   "source": [
    "<div class=\"alert alert-block alert-success\">\n",
    "<b> Comentario del revisor. (Iteración 1) </b> <a class=\"tocSkip\"></a>\n",
    "\n",
    "Muy bien resuelto! Aplicaste los métodos necesarios. Estos métodos son simples pero de suma importancia. Felicitaciones!\n",
    "</div>"
   ]
  },
  {
   "cell_type": "markdown",
   "metadata": {
    "id": "hyPGzOt60P9w"
   },
   "source": [
    "# Ejercicio 7\n",
    "\n",
    "La empresa quiere ofrecer descuentos a sus clientes leales. Los clientes y las clientas que realizan compras por un importe total mayor a $1500 se consideran leales y recibirán un descuento.\n",
    "\n",
    "Nuestro objetivo es crear un bucle `while` que compruebe el importe total gastado y se detenga al alcanzarlo. Para simular nuevas compras, la variable `new_purchase` genera un número entre 30 y 80 en cada iteración del bucle. Esto representa el importe de dinero gastado en una nueva compra y es lo que hay que sumar al total.\n",
    "\n",
    "Una vez que se alcance el importe objetivo y se termine el bucle `while`, se mostrará la cantidad final."
   ]
  },
  {
   "cell_type": "code",
   "execution_count": 39,
   "metadata": {
    "id": "FmpTfK7C0P9x"
   },
   "outputs": [],
   "source": [
    "from random import randint\n",
    "\n",
    "total_amount_spent = 1280\n",
    "target_amount = 1500\n",
    "\n",
    "while total_amount_spent < target_amount:\n",
    "\tnew_purchase = randint(30, 80) # generamos un número aleatorio de 30 a 80\n",
    "\ttotal_amount_spent += new_purchase # sumamos el nuevo gasto al total\n",
    "\n",
    "print(total_amount_spent)"
   ]
  },
  {
   "cell_type": "markdown",
   "metadata": {},
   "source": [
    "<div class=\"alert alert-block alert-success\">\n",
    "<b>Comentario del revisor. (Iteración 1) </b> <a class=\"tocSkip\"></a>\n",
    "\n",
    "Perfecto Marcelo! Pudiste implemtentar tanto el contador como el loop, estas lógicas son muy importantes ya que nos permiten desarollar a futuro un pensamiento orientado a solucionar problemas más complejos.\n",
    "</div>"
   ]
  },
  {
   "cell_type": "markdown",
   "metadata": {
    "id": "e9j2dOo60P9x"
   },
   "source": [
    "# Ejercicio 8\n",
    "\n",
    "Ahora tenemos toda la información sobre un cliente o una clienta de la forma que queremos que sea. La gerencia de una empresa nos pidió proponer una forma de resumir toda la información sobre un usuario o una usuaria. Tu objetivo es crear una cadena formateada que utilice información de las variables `user_id`, `user_name` y `user_age`.\n",
    "\n",
    "Esta es la cadena final que queremos crear: `User 32415 is mike who is 32 years old.` (El usuario 32415 es Mike, quien tiene 32 años)."
   ]
  },
  {
   "cell_type": "code",
   "execution_count": 45,
   "metadata": {
    "id": "2dzhjYbm0P9x"
   },
   "outputs": [],
   "source": [
    "user_id = '32415'\n",
    "user_name = ['mike', 'reed']\n",
    "user_age = 32\n",
    "\n",
    "user_info = f'User {user_id} is {user_name[0]} who is {user_age} years old'\n",
    "\n",
    "# no elimines la siguiente declaración print\n",
    "print(user_info)"
   ]
  },
  {
   "cell_type": "markdown",
   "metadata": {},
   "source": [
    "<div class=\"alert alert-block alert-success\">\n",
    "\n",
    "<b>Comentario del revisor. (Iteración 1)</b> <a class=\"tocSkip\"></a>\n",
    "\n",
    "Impecable! Así es como se debe realizar! Muy bien resuelto!.\n",
    "</div>"
   ]
  },
  {
   "cell_type": "markdown",
   "metadata": {
    "id": "hJ38hJYU0P9x"
   },
   "source": [
    "Como sabes, las empresas recopilan y almacenan datos de una forma particular. Store 1 desea almacenar toda la información sobre sus clientes y clientas en una tabla.\n",
    "\n",
    "| user_id | user_name | user_age | purchase_category | spending_per_category |\n",
    "| --- | --- | --- | --- | --- |\n",
    "| '32415' | 'mike', 'reed' | 32 | 'electronics', 'sport', 'books' | 894, 213, 173 |\n",
    "| '31980' | 'kate', 'morgan' | 24 | 'clothes', 'shoes' | 439, 390 |\n",
    "\n",
    "En términos técnicos, una tabla es simplemente una lista anidada que contiene una sublista para cada usuario o usuaria.\n",
    "\n",
    "Store 1 ha creado una tabla de este tipo para sus usuarios y usuarias. Se almacena en la variable `users`. Cada sublista contiene el ID del usuario o la usuaria, nombre y apellido, edad, categorías favoritas y el importe gastado en cada categoría."
   ]
  },
  {
   "cell_type": "markdown",
   "metadata": {
    "id": "J7IXD3Zv0P9x"
   },
   "source": [
    "# Ejercicio 9\n",
    "\n",
    "Para calcular los ingresos de la empresa, sigue estos pasos.\n",
    "\n",
    "1. Utiliza `for` para iterar sobre la lista `users`.\n",
    "2. Extrae la lista de gastos de cada usuario o usuaria y suma los valores.\n",
    "3. Actualiza el valor de los ingresos con el total de cada usuario o usuaria.\n",
    "\n",
    "Así obtendrás los ingresos totales de la empresa que mostrarás en la pantalla al final."
   ]
  },
  {
   "cell_type": "code",
   "execution_count": 46,
   "metadata": {
    "id": "d8jeNWXQ0P9y"
   },
   "outputs": [],
   "source": [
    "users = [\n",
    "\t  # este es el inicio de la primera sublista\n",
    "    ['32415', ['mike', 'reed'], 32, ['electronics', 'sport', 'books'],\n",
    "        [894, 213, 173]\n",
    "    ], # este es el final de la primera sublista\n",
    "\n",
    "    # este es el inicio de la segunda sublista\n",
    "    ['31980', ['kate', 'morgan'], 24, ['clothes', 'shoes'],\n",
    "        [439, 390]\n",
    "    ] # este es el final de la segunda sublista\n",
    "]\n",
    "\n",
    "revenue = 0\n",
    "\n",
    "for user in users:\n",
    "\tspendings_list = user[4]\n",
    "\ttotal_spendings = sum(spendings_list)\n",
    "\trevenue += total_spendings\n",
    "\n",
    "# no elimines la siguiente declaración print\n",
    "print(revenue)"
   ]
  },
  {
   "cell_type": "markdown",
   "metadata": {},
   "source": [
    "<div class=\"alert alert-block alert-success\">\n",
    "<b>Comentario del revisor. (Iteración 1) </b> <a class=\"tocSkip\"></a>\n",
    "\n",
    "Muy bien Marcelo, felicitaciones! Nuevamente una lógica tal vez un poco más compleja pero pudiste implementar bien el loop, el indexado y el contador. Vienes genial!\n",
    "</div>"
   ]
  },
  {
   "cell_type": "markdown",
   "metadata": {
    "id": "wR0om7Tk0P9y"
   },
   "source": [
    "# Ejercicio 10\n",
    "\n",
    "Recorre la lista de usuarios y usuarias que te hemos proporcionado y muestra los nombres de la clientela menor de 30 años."
   ]
  },
  {
   "cell_type": "code",
   "execution_count": 49,
   "metadata": {
    "id": "KVdthJm70P9y"
   },
   "outputs": [],
   "source": [
    "users = [\n",
    "    ['32415', ['mike', 'reed'], 32, ['electronics', 'sport', 'books'],\n",
    "     [894, 213, 173]],\n",
    "    ['31980', ['kate', 'morgan'], 24, ['clothes', 'books'], [439,\n",
    "     390]],\n",
    "    ['32156', ['john', 'doe'], 37, ['electronics', 'home', 'food'],\n",
    "     [459, 120, 99]],\n",
    "    ['32761', ['samantha', 'smith'], 29, ['clothes', 'electronics',\n",
    "     'beauty'], [299, 679, 85]],\n",
    "    ['32984', ['david', 'white'], 41, ['books', 'home', 'sport'], [234,\n",
    "     329, 243]],\n",
    "    ['33001', ['emily', 'brown'], 26, ['beauty', 'home', 'food'], [213,\n",
    "     659, 79]],\n",
    "    ['33767', ['maria', 'garcia'], 33, ['clothes', 'food', 'beauty'],\n",
    "     [499, 189, 63]],\n",
    "    ['33912', ['jose', 'martinez'], 22, ['sport', 'electronics', 'home'\n",
    "     ], [259, 549, 109]],\n",
    "    ['34009', ['lisa', 'wilson'], 35, ['home', 'books', 'clothes'],\n",
    "     [329, 189, 329]],\n",
    "    ['34278', ['james', 'lee'], 28, ['beauty', 'clothes', 'electronics'\n",
    "     ], [189, 299, 579]],\n",
    "    ]\n",
    "\n",
    "for user in users:\n",
    "    if user[2] <30:\n",
    "        print(user)"
   ]
  },
  {
   "cell_type": "markdown",
   "metadata": {},
   "source": [
    "<div class=\"alert alert-block alert-success\">\n",
    "<b>Comentario del revisor. (Iteración 1) </b> <a class=\"tocSkip\"></a>\n",
    "\n",
    "Excelente! Has implementado la solución necesaria, podríamos mejorarla indexando la lista user sobre los nombres. Muy bien hecho!\n",
    "\n",
    "</div>"
   ]
  },
  {
   "cell_type": "markdown",
   "metadata": {
    "id": "LBHWQenm0P9y"
   },
   "source": [
    "# Ejercicio 11\n",
    "\n",
    "Juntemos las tareas 9 y 10 e imprimamos los nombres de los usuarios y las usuarias que tengan menos de 30 años y un gasto total superior a 1000 dólares."
   ]
  },
  {
   "cell_type": "code",
   "execution_count": 2,
   "metadata": {
    "id": "HaQNXS-V0P9z"
   },
   "outputs": [],
   "source": [
    "users = [\n",
    "    ['32415', ['mike', 'reed'], 32, ['electronics', 'sport', 'books'],\n",
    "     [894, 213, 173]],\n",
    "    ['31980', ['kate', 'morgan'], 24, ['clothes', 'books'], [439,\n",
    "     390]],\n",
    "    ['32156', ['john', 'doe'], 37, ['electronics', 'home', 'food'],\n",
    "     [459, 120, 99]],\n",
    "    ['32761', ['samantha', 'smith'], 29, ['clothes', 'electronics',\n",
    "     'beauty'], [299, 679, 85]],\n",
    "    ['32984', ['david', 'white'], 41, ['books', 'home', 'sport'], [234,\n",
    "     329, 243]],\n",
    "    ['33001', ['emily', 'brown'], 26, ['beauty', 'home', 'food'], [213,\n",
    "     659, 79]],\n",
    "    ['33767', ['maria', 'garcia'], 33, ['clothes', 'food', 'beauty'],\n",
    "     [499, 189, 63]],\n",
    "    ['33912', ['jose', 'martinez'], 22, ['sport', 'electronics', 'home'\n",
    "     ], [259, 549, 109]],\n",
    "    ['34009', ['lisa', 'wilson'], 35, ['home', 'books', 'clothes'],\n",
    "     [329, 189, 329]],\n",
    "    ['34278', ['james', 'lee'], 28, ['beauty', 'clothes', 'electronics'\n",
    "     ], [189, 299, 579]],\n",
    "    ]\n",
    "\n",
    "\n",
    "for user in users:\n",
    "    total_spendings = sum(user[4])\n",
    "    if user[2] < 30 and total_spendings > 1000:\n",
    "        print(user)\n"
   ]
  },
  {
   "cell_type": "markdown",
   "metadata": {},
   "source": [
    "<div class=\"alert alert-block alert-warning\">\n",
    "<b>Comentario del revisor. (Iteración 1) </b> <a class=\"tocSkip\"></a>\n",
    "\n",
    "Bien resuelto Marcelo, resolviste lo solicitado! Sin embargo, me gustaría recomendarte una optimización en tu código, cuando escribimos condicionantes podemos aplicar más de uno utilizando la siguiente estructura **condición and condición**, de forma opcional te invito a adaptar este código implementando una doble condición.</div>\n"
   ]
  },
  {
   "cell_type": "markdown",
   "metadata": {
    "id": "yRozkK0R0P90"
   },
   "source": [
    "# Ejercicio 12\n",
    "\n",
    "Ahora vamos a mostrar el nombre y la edad de todos los usuarios y todas las usuarias que han comprado ropa. Imprime el nombre y la edad en la misma declaración print."
   ]
  },
  {
   "cell_type": "code",
   "execution_count": 4,
   "metadata": {
    "id": "mSIyHq1f0P90"
   },
   "outputs": [],
   "source": [
    "users = [\n",
    "    ['32415', ['mike', 'reed'], 32, ['electronics', 'sport', 'books'],\n",
    "     [894, 213, 173]],\n",
    "    ['31980', ['kate', 'morgan'], 24, ['clothes', 'books'], [439,\n",
    "     390]],\n",
    "    ['32156', ['john', 'doe'], 37, ['electronics', 'home', 'food'],\n",
    "     [459, 120, 99]],\n",
    "    ['32761', ['samantha', 'smith'], 29, ['clothes', 'electronics',\n",
    "     'beauty'], [299, 679, 85]],\n",
    "    ['32984', ['david', 'white'], 41, ['books', 'home', 'sport'], [234,\n",
    "     329, 243]],\n",
    "    ['33001', ['emily', 'brown'], 26, ['beauty', 'home', 'food'], [213,\n",
    "     659, 79]],\n",
    "    ['33767', ['maria', 'garcia'], 33, ['clothes', 'food', 'beauty'],\n",
    "     [499, 189, 63]],\n",
    "    ['33912', ['jose', 'martinez'], 22, ['sport', 'electronics', 'home'\n",
    "     ], [259, 549, 109]],\n",
    "    ['34009', ['lisa', 'wilson'], 35, ['home', 'books', 'clothes'],\n",
    "     [329, 189, 329]],\n",
    "    ['34278', ['james', 'lee'], 28, ['beauty', 'clothes', 'electronics'\n",
    "     ], [189, 299, 579]],\n",
    "    ]\n",
    "\n",
    "for user in users:\n",
    "    for category in user[3]:\n",
    "        if category == 'clothes':   \n",
    "            print(user[1][0], user[2])\n",
    "            break"
   ]
  },
  {
   "cell_type": "markdown",
   "metadata": {},
   "source": [
    "<div class=\"alert alert-block alert-success\">\n",
    "\n",
    "<b>Comentario del revisor. (Iteración 2)</b> <a class=\"tocSkip\"></a>\n",
    "\n",
    "Excelente Marcelo! Muy bien resuelto con la implementación del doble loop, el indexado y el condicionante. Muy bien hecho!\n",
    "</div>"
   ]
  },
  {
   "cell_type": "markdown",
   "metadata": {},
   "source": [
    "<div class=\"alert alert-block alert-warning\">\n",
    "\n",
    "<b>Comentario del revisor. (Iteración 1)</b> <a class=\"tocSkip\"></a>\n",
    "\n",
    "No te preocupes! Este ejercicio lo resolviste correctamente ya que has obtenido el resultado necesario. Sin embargo, el objetivo de este problema es poder implementar una lógica con un doble **for loop**. Te propongo hacer nuevamente el ejercicio intentado aplicar esta lógica que te comenté anteriormente.</div>"
   ]
  },
  {
   "cell_type": "markdown",
   "metadata": {
    "id": "Bq0_-hvu0P91"
   },
   "source": [
    "Me  atrase en el sprint pero logre realizar todas las actividades, espero esten bien y no haya problema por no mandar a revision "
   ]
  },
  {
   "cell_type": "code",
   "execution_count": null,
   "metadata": {},
   "outputs": [],
   "source": []
  }
 ],
 "metadata": {
  "colab": {
   "provenance": []
  },
  "kernelspec": {
   "display_name": "Python 3 (ipykernel)",
   "language": "python",
   "name": "python3"
  },
  "language_info": {
   "codemirror_mode": {
    "name": "ipython",
    "version": 3
   },
   "file_extension": ".py",
   "mimetype": "text/x-python",
   "name": "python",
   "nbconvert_exporter": "python",
   "pygments_lexer": "ipython3",
   "version": "3.9.19"
  },
  "toc": {
   "base_numbering": 1,
   "nav_menu": {},
   "number_sections": true,
   "sideBar": true,
   "skip_h1_title": true,
   "title_cell": "Table of Contents",
   "title_sidebar": "Contents",
   "toc_cell": false,
   "toc_position": {},
   "toc_section_display": true,
   "toc_window_display": false
  }
 },
 "nbformat": 4,
 "nbformat_minor": 1
}
